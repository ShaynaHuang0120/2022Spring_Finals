{
 "cells": [
  {
   "cell_type": "code",
   "execution_count": 1,
   "id": "1044645b",
   "metadata": {},
   "outputs": [],
   "source": [
    "import pandas as pd\n",
    "import matplotlib.pyplot as plt\n",
    "import numpy as np"
   ]
  },
  {
   "cell_type": "markdown",
   "source": [
    "# Constructor Influence in recent 10 years"
   ],
   "metadata": {
    "collapsed": false,
    "pycharm": {
     "name": "#%% md\n"
    }
   }
  },
  {
   "cell_type": "code",
   "execution_count": 59,
   "id": "96903930",
   "metadata": {},
   "outputs": [],
   "source": [
    "results = pd.read_csv('data/results.csv')\n",
    "races = pd.read_csv('data/races.csv')\n",
    "results['raceId'] = results['raceId'].astype(int)"
   ]
  },
  {
   "cell_type": "code",
   "execution_count": 60,
   "id": "72221582",
   "metadata": {},
   "outputs": [
    {
     "data": {
      "text/plain": "Index(['resultId', 'raceId', 'driverId', 'constructorId', 'number', 'grid',\n       'position', 'positionText', 'positionOrder', 'points', 'laps', 'time',\n       'milliseconds', 'fastestLap', 'rank', 'fastestLapTime',\n       'fastestLapSpeed', 'statusId'],\n      dtype='object')"
     },
     "execution_count": 60,
     "metadata": {},
     "output_type": "execute_result"
    }
   ],
   "source": [
    "results.columns"
   ]
  },
  {
   "cell_type": "code",
   "execution_count": 61,
   "id": "a78653c0",
   "metadata": {},
   "outputs": [
    {
     "data": {
      "text/plain": "array(['1', '2', '3', '4', '5', '6', '7', '8', '\\\\N', '9', '10', '11',\n       '12', '13', '14', '15', '16', '17', '18', '19', '20', '21', '22',\n       '23', '24', '25', '26', '27', '28', '29', '30', '31', '32', '33'],\n      dtype=object)"
     },
     "execution_count": 61,
     "metadata": {},
     "output_type": "execute_result"
    }
   ],
   "source": [
    "results['position'].unique()"
   ]
  },
  {
   "cell_type": "code",
   "execution_count": 64,
   "id": "3dc08494",
   "metadata": {},
   "outputs": [
    {
     "data": {
      "text/plain": "      raceId  year  round  circuitId                      name      date  \\\n858      860  2012      1          1     Australian Grand Prix  18/03/12   \n859      861  2012      2          2      Malaysian Grand Prix  25/03/12   \n860      862  2012      3         17        Chinese Grand Prix  15/04/12   \n861      863  2012      4          3        Bahrain Grand Prix  22/04/12   \n862      864  2012      5          4        Spanish Grand Prix  13/05/12   \n...      ...   ...    ...        ...                       ...       ...   \n1074    1092  2022     18         22       Japanese Grand Prix  09/10/22   \n1075    1093  2022     19         69  United States Grand Prix  23/10/22   \n1076    1094  2022     20         32    Mexico City Grand Prix  30/10/22   \n1077    1095  2022     21         18      Brazilian Grand Prix  13/11/22   \n1078    1096  2022     22         24      Abu Dhabi Grand Prix  20/11/22   \n\n          time                                                url  \n858    6:00:00  http://en.wikipedia.org/wiki/2012_Australian_G...  \n859    8:00:00  http://en.wikipedia.org/wiki/2012_Malaysian_Gr...  \n860    7:00:00  http://en.wikipedia.org/wiki/2012_Chinese_Gran...  \n861   12:00:00  http://en.wikipedia.org/wiki/2012_Bahrain_Gran...  \n862   12:00:00  http://en.wikipedia.org/wiki/2012_Spanish_Gran...  \n...        ...                                                ...  \n1074   5:00:00  http://en.wikipedia.org/wiki/2022_Japanese_Gra...  \n1075  19:00:00  http://en.wikipedia.org/wiki/2022_United_State...  \n1076  20:00:00  http://en.wikipedia.org/wiki/2022_Mexican_Gran...  \n1077  18:00:00  http://en.wikipedia.org/wiki/2022_Brazilian_Gr...  \n1078  13:00:00  http://en.wikipedia.org/wiki/2022_Abu_Dhabi_Gr...  \n\n[221 rows x 8 columns]",
      "text/html": "<div>\n<style scoped>\n    .dataframe tbody tr th:only-of-type {\n        vertical-align: middle;\n    }\n\n    .dataframe tbody tr th {\n        vertical-align: top;\n    }\n\n    .dataframe thead th {\n        text-align: right;\n    }\n</style>\n<table border=\"1\" class=\"dataframe\">\n  <thead>\n    <tr style=\"text-align: right;\">\n      <th></th>\n      <th>raceId</th>\n      <th>year</th>\n      <th>round</th>\n      <th>circuitId</th>\n      <th>name</th>\n      <th>date</th>\n      <th>time</th>\n      <th>url</th>\n    </tr>\n  </thead>\n  <tbody>\n    <tr>\n      <th>858</th>\n      <td>860</td>\n      <td>2012</td>\n      <td>1</td>\n      <td>1</td>\n      <td>Australian Grand Prix</td>\n      <td>18/03/12</td>\n      <td>6:00:00</td>\n      <td>http://en.wikipedia.org/wiki/2012_Australian_G...</td>\n    </tr>\n    <tr>\n      <th>859</th>\n      <td>861</td>\n      <td>2012</td>\n      <td>2</td>\n      <td>2</td>\n      <td>Malaysian Grand Prix</td>\n      <td>25/03/12</td>\n      <td>8:00:00</td>\n      <td>http://en.wikipedia.org/wiki/2012_Malaysian_Gr...</td>\n    </tr>\n    <tr>\n      <th>860</th>\n      <td>862</td>\n      <td>2012</td>\n      <td>3</td>\n      <td>17</td>\n      <td>Chinese Grand Prix</td>\n      <td>15/04/12</td>\n      <td>7:00:00</td>\n      <td>http://en.wikipedia.org/wiki/2012_Chinese_Gran...</td>\n    </tr>\n    <tr>\n      <th>861</th>\n      <td>863</td>\n      <td>2012</td>\n      <td>4</td>\n      <td>3</td>\n      <td>Bahrain Grand Prix</td>\n      <td>22/04/12</td>\n      <td>12:00:00</td>\n      <td>http://en.wikipedia.org/wiki/2012_Bahrain_Gran...</td>\n    </tr>\n    <tr>\n      <th>862</th>\n      <td>864</td>\n      <td>2012</td>\n      <td>5</td>\n      <td>4</td>\n      <td>Spanish Grand Prix</td>\n      <td>13/05/12</td>\n      <td>12:00:00</td>\n      <td>http://en.wikipedia.org/wiki/2012_Spanish_Gran...</td>\n    </tr>\n    <tr>\n      <th>...</th>\n      <td>...</td>\n      <td>...</td>\n      <td>...</td>\n      <td>...</td>\n      <td>...</td>\n      <td>...</td>\n      <td>...</td>\n      <td>...</td>\n    </tr>\n    <tr>\n      <th>1074</th>\n      <td>1092</td>\n      <td>2022</td>\n      <td>18</td>\n      <td>22</td>\n      <td>Japanese Grand Prix</td>\n      <td>09/10/22</td>\n      <td>5:00:00</td>\n      <td>http://en.wikipedia.org/wiki/2022_Japanese_Gra...</td>\n    </tr>\n    <tr>\n      <th>1075</th>\n      <td>1093</td>\n      <td>2022</td>\n      <td>19</td>\n      <td>69</td>\n      <td>United States Grand Prix</td>\n      <td>23/10/22</td>\n      <td>19:00:00</td>\n      <td>http://en.wikipedia.org/wiki/2022_United_State...</td>\n    </tr>\n    <tr>\n      <th>1076</th>\n      <td>1094</td>\n      <td>2022</td>\n      <td>20</td>\n      <td>32</td>\n      <td>Mexico City Grand Prix</td>\n      <td>30/10/22</td>\n      <td>20:00:00</td>\n      <td>http://en.wikipedia.org/wiki/2022_Mexican_Gran...</td>\n    </tr>\n    <tr>\n      <th>1077</th>\n      <td>1095</td>\n      <td>2022</td>\n      <td>21</td>\n      <td>18</td>\n      <td>Brazilian Grand Prix</td>\n      <td>13/11/22</td>\n      <td>18:00:00</td>\n      <td>http://en.wikipedia.org/wiki/2022_Brazilian_Gr...</td>\n    </tr>\n    <tr>\n      <th>1078</th>\n      <td>1096</td>\n      <td>2022</td>\n      <td>22</td>\n      <td>24</td>\n      <td>Abu Dhabi Grand Prix</td>\n      <td>20/11/22</td>\n      <td>13:00:00</td>\n      <td>http://en.wikipedia.org/wiki/2022_Abu_Dhabi_Gr...</td>\n    </tr>\n  </tbody>\n</table>\n<p>221 rows × 8 columns</p>\n</div>"
     },
     "execution_count": 64,
     "metadata": {},
     "output_type": "execute_result"
    }
   ],
   "source": [
    "races_latest10 = races[races['year']>=2012]\n",
    "races_latest10"
   ]
  },
  {
   "cell_type": "code",
   "execution_count": 69,
   "id": "6d3e1500",
   "metadata": {},
   "outputs": [],
   "source": [
    "results_latest10 = results[results['raceId']>=860]\n",
    "results_latest10_Winner = results_latest10[results_latest10['position']==1]"
   ]
  },
  {
   "cell_type": "code",
   "execution_count": 66,
   "id": "b2d7b0e3",
   "metadata": {},
   "outputs": [
    {
     "data": {
      "text/plain": "     constructorId constructorRef            name nationality  \\\n0                1        mclaren         McLaren     British   \n1                2     bmw_sauber      BMW Sauber      German   \n2                3       williams        Williams     British   \n3                4        renault         Renault      French   \n4                5     toro_rosso      Toro Rosso     Italian   \n..             ...            ...             ...         ...   \n206            209          manor  Manor Marussia     British   \n207            210           haas    Haas F1 Team    American   \n208            211   racing_point    Racing Point     British   \n209            213     alphatauri      AlphaTauri     Italian   \n210            214         alpine  Alpine F1 Team      French   \n\n                                                   url  \n0                 http://en.wikipedia.org/wiki/McLaren  \n1              http://en.wikipedia.org/wiki/BMW_Sauber  \n2    http://en.wikipedia.org/wiki/Williams_Grand_Pr...  \n3    http://en.wikipedia.org/wiki/Renault_in_Formul...  \n4     http://en.wikipedia.org/wiki/Scuderia_Toro_Rosso  \n..                                                 ...  \n206      http://en.wikipedia.org/wiki/Manor_Motorsport  \n207          http://en.wikipedia.org/wiki/Haas_F1_Team  \n208  http://en.wikipedia.org/wiki/Racing_Point_F1_Team  \n209   http://en.wikipedia.org/wiki/Scuderia_AlphaTauri  \n210        http://en.wikipedia.org/wiki/Alpine_F1_Team  \n\n[211 rows x 5 columns]",
      "text/html": "<div>\n<style scoped>\n    .dataframe tbody tr th:only-of-type {\n        vertical-align: middle;\n    }\n\n    .dataframe tbody tr th {\n        vertical-align: top;\n    }\n\n    .dataframe thead th {\n        text-align: right;\n    }\n</style>\n<table border=\"1\" class=\"dataframe\">\n  <thead>\n    <tr style=\"text-align: right;\">\n      <th></th>\n      <th>constructorId</th>\n      <th>constructorRef</th>\n      <th>name</th>\n      <th>nationality</th>\n      <th>url</th>\n    </tr>\n  </thead>\n  <tbody>\n    <tr>\n      <th>0</th>\n      <td>1</td>\n      <td>mclaren</td>\n      <td>McLaren</td>\n      <td>British</td>\n      <td>http://en.wikipedia.org/wiki/McLaren</td>\n    </tr>\n    <tr>\n      <th>1</th>\n      <td>2</td>\n      <td>bmw_sauber</td>\n      <td>BMW Sauber</td>\n      <td>German</td>\n      <td>http://en.wikipedia.org/wiki/BMW_Sauber</td>\n    </tr>\n    <tr>\n      <th>2</th>\n      <td>3</td>\n      <td>williams</td>\n      <td>Williams</td>\n      <td>British</td>\n      <td>http://en.wikipedia.org/wiki/Williams_Grand_Pr...</td>\n    </tr>\n    <tr>\n      <th>3</th>\n      <td>4</td>\n      <td>renault</td>\n      <td>Renault</td>\n      <td>French</td>\n      <td>http://en.wikipedia.org/wiki/Renault_in_Formul...</td>\n    </tr>\n    <tr>\n      <th>4</th>\n      <td>5</td>\n      <td>toro_rosso</td>\n      <td>Toro Rosso</td>\n      <td>Italian</td>\n      <td>http://en.wikipedia.org/wiki/Scuderia_Toro_Rosso</td>\n    </tr>\n    <tr>\n      <th>...</th>\n      <td>...</td>\n      <td>...</td>\n      <td>...</td>\n      <td>...</td>\n      <td>...</td>\n    </tr>\n    <tr>\n      <th>206</th>\n      <td>209</td>\n      <td>manor</td>\n      <td>Manor Marussia</td>\n      <td>British</td>\n      <td>http://en.wikipedia.org/wiki/Manor_Motorsport</td>\n    </tr>\n    <tr>\n      <th>207</th>\n      <td>210</td>\n      <td>haas</td>\n      <td>Haas F1 Team</td>\n      <td>American</td>\n      <td>http://en.wikipedia.org/wiki/Haas_F1_Team</td>\n    </tr>\n    <tr>\n      <th>208</th>\n      <td>211</td>\n      <td>racing_point</td>\n      <td>Racing Point</td>\n      <td>British</td>\n      <td>http://en.wikipedia.org/wiki/Racing_Point_F1_Team</td>\n    </tr>\n    <tr>\n      <th>209</th>\n      <td>213</td>\n      <td>alphatauri</td>\n      <td>AlphaTauri</td>\n      <td>Italian</td>\n      <td>http://en.wikipedia.org/wiki/Scuderia_AlphaTauri</td>\n    </tr>\n    <tr>\n      <th>210</th>\n      <td>214</td>\n      <td>alpine</td>\n      <td>Alpine F1 Team</td>\n      <td>French</td>\n      <td>http://en.wikipedia.org/wiki/Alpine_F1_Team</td>\n    </tr>\n  </tbody>\n</table>\n<p>211 rows × 5 columns</p>\n</div>"
     },
     "execution_count": 66,
     "metadata": {},
     "output_type": "execute_result"
    }
   ],
   "source": [
    "constructor = pd.read_csv('data/constructors.csv')\n",
    "constructor"
   ]
  },
  {
   "cell_type": "code",
   "execution_count": 67,
   "id": "21e07bfd",
   "metadata": {},
   "outputs": [
    {
     "data": {
      "text/plain": "131    115\n9       49\n6       24\n1        8\n208      2\n3        1\n213      1\n211      1\n214      1\nName: constructorId, dtype: int64"
     },
     "execution_count": 67,
     "metadata": {},
     "output_type": "execute_result"
    }
   ],
   "source": [
    "results_latest10_Winner['constructorId'].value_counts()"
   ]
  },
  {
   "cell_type": "code",
   "execution_count": 70,
   "id": "6775264a",
   "metadata": {
    "pycharm": {
     "name": "#%%\n"
    }
   },
   "outputs": [
    {
     "data": {
      "text/plain": "       resultId  raceId  driverId  constructorId number  grid  position  \\\n21229     21232     860        18              1      3     2         1   \n21253     21256     861         4              6      5     8         1   \n21277     21280     862         3            131      8     1         1   \n21301     21304     863        20              9      1     1         1   \n21325     21328     864       813              3     18     1         1   \n...         ...     ...       ...            ...    ...   ...       ...   \n25360     25366    1072         1            131     44     1         1   \n25380     25386    1073       830              9     33     1         1   \n25400     25406    1074       844              6     16     1         1   \n25420     25426    1075       830              9      1     4         1   \n25440     25446    1076       844              6     16     1         1   \n\n      positionText  positionOrder  points  laps         time milliseconds  \\\n21229            1              1    25.0    58  1:34:09.565      5649565   \n21253            1              1    25.0    56  2:44:51.812      9891812   \n21277            1              1    25.0    56  1:36:26.929      5786929   \n21301            1              1    25.0    57  1:35:10.990      5710990   \n21325            1              1    25.0    66  1:39:09.145      5949145   \n...            ...            ...     ...   ...          ...          ...   \n25360            1              1    26.0    50  2:06:15.118      7575118   \n25380            1              1    26.0    58  1:30:17.345      5417345   \n25400            1              1    26.0    57  1:37:33.584      5853584   \n25420            1              1    25.0    50  1:24:19.293      5059293   \n25440            1              1    26.0    58  1:27:46.548      5266548   \n\n      fastestLap rank fastestLapTime fastestLapSpeed  statusId  \n21229         56    1       1:29.187         214.053         1  \n21253         53    7       1:41.680         196.250         1  \n21277         40    8       1:40.967         194.356         1  \n21301         41    1       1:36.379         202.151         1  \n21325         26    6       1:27.906         190.635         1  \n...          ...  ...            ...             ...       ...  \n25360         47    1       1:30.734         244.962         1  \n25380         39    1       1:26.103         220.800         1  \n25400         51    1       1:34.570         206.018         1  \n25420         50    2       1:31.772         242.191         1  \n25440         58    1       1:20.260         236.740         1  \n\n[202 rows x 18 columns]",
      "text/html": "<div>\n<style scoped>\n    .dataframe tbody tr th:only-of-type {\n        vertical-align: middle;\n    }\n\n    .dataframe tbody tr th {\n        vertical-align: top;\n    }\n\n    .dataframe thead th {\n        text-align: right;\n    }\n</style>\n<table border=\"1\" class=\"dataframe\">\n  <thead>\n    <tr style=\"text-align: right;\">\n      <th></th>\n      <th>resultId</th>\n      <th>raceId</th>\n      <th>driverId</th>\n      <th>constructorId</th>\n      <th>number</th>\n      <th>grid</th>\n      <th>position</th>\n      <th>positionText</th>\n      <th>positionOrder</th>\n      <th>points</th>\n      <th>laps</th>\n      <th>time</th>\n      <th>milliseconds</th>\n      <th>fastestLap</th>\n      <th>rank</th>\n      <th>fastestLapTime</th>\n      <th>fastestLapSpeed</th>\n      <th>statusId</th>\n    </tr>\n  </thead>\n  <tbody>\n    <tr>\n      <th>21229</th>\n      <td>21232</td>\n      <td>860</td>\n      <td>18</td>\n      <td>1</td>\n      <td>3</td>\n      <td>2</td>\n      <td>1</td>\n      <td>1</td>\n      <td>1</td>\n      <td>25.0</td>\n      <td>58</td>\n      <td>1:34:09.565</td>\n      <td>5649565</td>\n      <td>56</td>\n      <td>1</td>\n      <td>1:29.187</td>\n      <td>214.053</td>\n      <td>1</td>\n    </tr>\n    <tr>\n      <th>21253</th>\n      <td>21256</td>\n      <td>861</td>\n      <td>4</td>\n      <td>6</td>\n      <td>5</td>\n      <td>8</td>\n      <td>1</td>\n      <td>1</td>\n      <td>1</td>\n      <td>25.0</td>\n      <td>56</td>\n      <td>2:44:51.812</td>\n      <td>9891812</td>\n      <td>53</td>\n      <td>7</td>\n      <td>1:41.680</td>\n      <td>196.250</td>\n      <td>1</td>\n    </tr>\n    <tr>\n      <th>21277</th>\n      <td>21280</td>\n      <td>862</td>\n      <td>3</td>\n      <td>131</td>\n      <td>8</td>\n      <td>1</td>\n      <td>1</td>\n      <td>1</td>\n      <td>1</td>\n      <td>25.0</td>\n      <td>56</td>\n      <td>1:36:26.929</td>\n      <td>5786929</td>\n      <td>40</td>\n      <td>8</td>\n      <td>1:40.967</td>\n      <td>194.356</td>\n      <td>1</td>\n    </tr>\n    <tr>\n      <th>21301</th>\n      <td>21304</td>\n      <td>863</td>\n      <td>20</td>\n      <td>9</td>\n      <td>1</td>\n      <td>1</td>\n      <td>1</td>\n      <td>1</td>\n      <td>1</td>\n      <td>25.0</td>\n      <td>57</td>\n      <td>1:35:10.990</td>\n      <td>5710990</td>\n      <td>41</td>\n      <td>1</td>\n      <td>1:36.379</td>\n      <td>202.151</td>\n      <td>1</td>\n    </tr>\n    <tr>\n      <th>21325</th>\n      <td>21328</td>\n      <td>864</td>\n      <td>813</td>\n      <td>3</td>\n      <td>18</td>\n      <td>1</td>\n      <td>1</td>\n      <td>1</td>\n      <td>1</td>\n      <td>25.0</td>\n      <td>66</td>\n      <td>1:39:09.145</td>\n      <td>5949145</td>\n      <td>26</td>\n      <td>6</td>\n      <td>1:27.906</td>\n      <td>190.635</td>\n      <td>1</td>\n    </tr>\n    <tr>\n      <th>...</th>\n      <td>...</td>\n      <td>...</td>\n      <td>...</td>\n      <td>...</td>\n      <td>...</td>\n      <td>...</td>\n      <td>...</td>\n      <td>...</td>\n      <td>...</td>\n      <td>...</td>\n      <td>...</td>\n      <td>...</td>\n      <td>...</td>\n      <td>...</td>\n      <td>...</td>\n      <td>...</td>\n      <td>...</td>\n      <td>...</td>\n    </tr>\n    <tr>\n      <th>25360</th>\n      <td>25366</td>\n      <td>1072</td>\n      <td>1</td>\n      <td>131</td>\n      <td>44</td>\n      <td>1</td>\n      <td>1</td>\n      <td>1</td>\n      <td>1</td>\n      <td>26.0</td>\n      <td>50</td>\n      <td>2:06:15.118</td>\n      <td>7575118</td>\n      <td>47</td>\n      <td>1</td>\n      <td>1:30.734</td>\n      <td>244.962</td>\n      <td>1</td>\n    </tr>\n    <tr>\n      <th>25380</th>\n      <td>25386</td>\n      <td>1073</td>\n      <td>830</td>\n      <td>9</td>\n      <td>33</td>\n      <td>1</td>\n      <td>1</td>\n      <td>1</td>\n      <td>1</td>\n      <td>26.0</td>\n      <td>58</td>\n      <td>1:30:17.345</td>\n      <td>5417345</td>\n      <td>39</td>\n      <td>1</td>\n      <td>1:26.103</td>\n      <td>220.800</td>\n      <td>1</td>\n    </tr>\n    <tr>\n      <th>25400</th>\n      <td>25406</td>\n      <td>1074</td>\n      <td>844</td>\n      <td>6</td>\n      <td>16</td>\n      <td>1</td>\n      <td>1</td>\n      <td>1</td>\n      <td>1</td>\n      <td>26.0</td>\n      <td>57</td>\n      <td>1:37:33.584</td>\n      <td>5853584</td>\n      <td>51</td>\n      <td>1</td>\n      <td>1:34.570</td>\n      <td>206.018</td>\n      <td>1</td>\n    </tr>\n    <tr>\n      <th>25420</th>\n      <td>25426</td>\n      <td>1075</td>\n      <td>830</td>\n      <td>9</td>\n      <td>1</td>\n      <td>4</td>\n      <td>1</td>\n      <td>1</td>\n      <td>1</td>\n      <td>25.0</td>\n      <td>50</td>\n      <td>1:24:19.293</td>\n      <td>5059293</td>\n      <td>50</td>\n      <td>2</td>\n      <td>1:31.772</td>\n      <td>242.191</td>\n      <td>1</td>\n    </tr>\n    <tr>\n      <th>25440</th>\n      <td>25446</td>\n      <td>1076</td>\n      <td>844</td>\n      <td>6</td>\n      <td>16</td>\n      <td>1</td>\n      <td>1</td>\n      <td>1</td>\n      <td>1</td>\n      <td>26.0</td>\n      <td>58</td>\n      <td>1:27:46.548</td>\n      <td>5266548</td>\n      <td>58</td>\n      <td>1</td>\n      <td>1:20.260</td>\n      <td>236.740</td>\n      <td>1</td>\n    </tr>\n  </tbody>\n</table>\n<p>202 rows × 18 columns</p>\n</div>"
     },
     "execution_count": 70,
     "metadata": {},
     "output_type": "execute_result"
    }
   ],
   "source": [
    "results_latest10_Winner"
   ]
  },
  {
   "cell_type": "code",
   "execution_count": null,
   "outputs": [],
   "source": [],
   "metadata": {
    "collapsed": false,
    "pycharm": {
     "name": "#%%\n"
    }
   }
  }
 ],
 "metadata": {
  "kernelspec": {
   "display_name": "Python 3",
   "language": "python",
   "name": "python3"
  },
  "language_info": {
   "codemirror_mode": {
    "name": "ipython",
    "version": 3
   },
   "file_extension": ".py",
   "mimetype": "text/x-python",
   "name": "python",
   "nbconvert_exporter": "python",
   "pygments_lexer": "ipython3",
   "version": "3.8.8"
  }
 },
 "nbformat": 4,
 "nbformat_minor": 5
}
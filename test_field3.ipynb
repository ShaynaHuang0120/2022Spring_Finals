{
 "cells": [
  {
   "cell_type": "markdown",
   "source": [
    "# Test Field"
   ],
   "metadata": {
    "collapsed": false,
    "pycharm": {
     "name": "#%% md\n"
    }
   }
  },
  {
   "cell_type": "code",
   "execution_count": 1,
   "metadata": {
    "collapsed": true
   },
   "outputs": [],
   "source": [
    "import datetime\n",
    "import re\n",
    "from typing import List\n",
    "\n",
    "import pandas as pd\n",
    "import numpy as np\n",
    "import matplotlib.pyplot as plt\n",
    "\n",
    "from scipy.stats import ttest_ind\n",
    "from scipy.stats import mannwhitneyu\n",
    "from sklearn.utils import resample"
   ]
  },
  {
   "cell_type": "code",
   "execution_count": 2,
   "outputs": [
    {
     "data": {
      "text/plain": "<module 'final_func' from '/Users/andrewmo/Documents/Docs - Jupiter/Projects/Class Individuals/2022Spring_Finals/final_func.py'>"
     },
     "execution_count": 2,
     "metadata": {},
     "output_type": "execute_result"
    }
   ],
   "source": [
    "import final_func as fn\n",
    "import importlib\n",
    "importlib.reload(fn)"
   ],
   "metadata": {
    "collapsed": false,
    "pycharm": {
     "name": "#%%\n"
    }
   }
  },
  {
   "cell_type": "code",
   "execution_count": 3,
   "outputs": [],
   "source": [
    "# Load data\n",
    "pit = pd.read_csv('data/pit_stops.csv')\n",
    "results = pd.read_csv('data/results.csv')\n",
    "status = pd.read_csv('data/status.csv')\n",
    "lap = pd.read_csv(\"data/lap_times.csv\")"
   ],
   "metadata": {
    "collapsed": false,
    "pycharm": {
     "name": "#%%\n"
    }
   }
  },
  {
   "cell_type": "code",
   "execution_count": 4,
   "outputs": [],
   "source": [
    "# Process the data files\n",
    "merge_df = fn.merge_data([pit, results, status])\n",
    "merge_df = fn.process_data(merge_df)\n",
    "df_dict = fn.pit_stop_group(merge_df)"
   ],
   "metadata": {
    "collapsed": false,
    "pycharm": {
     "name": "#%%\n"
    }
   }
  },
  {
   "cell_type": "code",
   "execution_count": 5,
   "outputs": [],
   "source": [
    "lap_df =fn.lap_data_process(results, lap)"
   ],
   "metadata": {
    "collapsed": false,
    "pycharm": {
     "name": "#%%\n"
    }
   }
  },
  {
   "cell_type": "code",
   "execution_count": 40,
   "outputs": [],
   "source": [
    "df = lap_df\n",
    "threshold=0.05\n",
    "\n",
    "rank_list = []\n",
    "gap_list = []\n",
    "df = df.assign(rank='', gap='')\n",
    "highest_rank = df['positionOrder'].max()\n",
    "position_list = df['positionOrder'].tolist()\n",
    "laptime_list = df['lap_time_STD'].tolist()\n",
    "\n",
    "for position in position_list:\n",
    "    if position <= (highest_rank / 2):\n",
    "        rank_list.append('High Rank')\n",
    "    else:\n",
    "        rank_list.append('Low Rank')\n",
    "for item in laptime_list:\n",
    "    if item <= 70:\n",
    "        if item <= 1:\n",
    "            div = 1\n",
    "        else:\n",
    "            div = (item-1)//5 + 1\n",
    "        gap_list.append(5*div)\n",
    "\n",
    "        if div == 0: print(item)\n",
    "    else:\n",
    "        gap_list.append('NA')"
   ],
   "metadata": {
    "collapsed": false,
    "pycharm": {
     "name": "#%%\n"
    }
   }
  },
  {
   "cell_type": "code",
   "execution_count": 41,
   "outputs": [
    {
     "data": {
      "text/plain": "<Figure size 432x288 with 1 Axes>",
      "image/png": "[encoded data removed]"
     },
     "metadata": {
      "needs_background": "light"
     },
     "output_type": "display_data"
    },
    {
     "name": "stdout",
     "output_type": "stream",
     "text": [
      "----------------------------------------------------------------------------------------\n",
      "P-value between high ranking drivers and low ranking drivers is 3.4344815744795804e-07.\n",
      "----------------------------------------------------------------------------------------\n",
      "Reject H0. There is a difference.\n"
     ]
    }
   ],
   "source": [
    "df['rank'] = rank_list\n",
    "df['gap'] = gap_list\n",
    "df = df[df['gap'] != \"NA\"]\n",
    "df_groupby = df.groupby(['rank', 'gap'], as_index=False)['driverId'].count()\n",
    "pivot = pd.pivot_table(data=df_groupby, index=[\"gap\"], columns=['rank'], aggfunc='sum', fill_value=0)\n",
    "pivot.plot(linewidth=4, alpha=0.7, color=['tab:blue', 'lightcoral'])\n",
    "plt.legend(labels=['High Rank', 'Low Rank'], bbox_to_anchor=(1.05, 1.0), loc='upper left')\n",
    "plt.ylabel('Number of Drivers')\n",
    "plt.xlabel('Lap time STD')\n",
    "plt.show()\n",
    "pvalue = mannwhitneyu(df[df['rank'] == \"High Rank\"]['lap_time_STD'],\n",
    "                      df[df['rank'] == \"Low Rank\"]['lap_time_STD']).pvalue\n",
    "print('-' * 88)\n",
    "print('P-value between high ranking drivers and low ranking drivers is {}.'.format(pvalue))\n",
    "print('-' * 88)\n",
    "if pvalue < threshold:\n",
    "    print(\"Reject H0.\", \"There is a difference.\")\n",
    "else:\n",
    "    print(\"H0 cannot be rejected\")"
   ],
   "metadata": {
    "collapsed": false,
    "pycharm": {
     "name": "#%%\n"
    }
   }
  },
  {
   "cell_type": "code",
   "execution_count": 32,
   "outputs": [
    {
     "data": {
      "text/plain": "14      25.0\n17      20.0\n11      20.0\n8       20.0\n3       20.0\n        ... \n9771    20.0\n9770    15.0\n9755    20.0\n9761    25.0\n9756    20.0\nName: gap, Length: 9664, dtype: object"
     },
     "execution_count": 32,
     "metadata": {},
     "output_type": "execute_result"
    }
   ],
   "source": [
    "df['gap']"
   ],
   "metadata": {
    "collapsed": false,
    "pycharm": {
     "name": "#%%\n"
    }
   }
  },
  {
   "cell_type": "code",
   "execution_count": null,
   "outputs": [],
   "source": [],
   "metadata": {
    "collapsed": false,
    "pycharm": {
     "name": "#%%\n"
    }
   }
  }
 ],
 "metadata": {
  "kernelspec": {
   "display_name": "Python 3",
   "language": "python",
   "name": "python3"
  },
  "language_info": {
   "codemirror_mode": {
    "name": "ipython",
    "version": 2
   },
   "file_extension": ".py",
   "mimetype": "text/x-python",
   "name": "python",
   "nbconvert_exporter": "python",
   "pygments_lexer": "ipython2",
   "version": "2.7.6"
  }
 },
 "nbformat": 4,
 "nbformat_minor": 0
}
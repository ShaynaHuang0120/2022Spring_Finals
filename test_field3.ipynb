{
 "cells": [
  {
   "cell_type": "markdown",
   "source": [
    "# Test Field"
   ],
   "metadata": {
    "collapsed": false,
    "pycharm": {
     "name": "#%% md\n"
    }
   }
  },
  {
   "cell_type": "code",
   "execution_count": 1,
   "metadata": {
    "collapsed": true
   },
   "outputs": [],
   "source": [
    "import datetime\n",
    "import re\n",
    "from typing import List\n",
    "\n",
    "import pandas as pd\n",
    "import numpy as np\n",
    "import matplotlib.pyplot as plt\n",
    "\n",
    "from scipy.stats import ttest_ind\n",
    "from scipy.stats import mannwhitneyu\n",
    "from sklearn.utils import resample"
   ]
  },
  {
   "cell_type": "code",
   "execution_count": 2,
   "outputs": [
    {
     "data": {
      "text/plain": "<module 'final_func' from '/Users/andrewmo/Documents/Docs - Jupiter/Projects/Class Individuals/2022Spring_Finals/final_func.py'>"
     },
     "execution_count": 2,
     "metadata": {},
     "output_type": "execute_result"
    }
   ],
   "source": [
    "import final_func as fn\n",
    "import importlib\n",
    "importlib.reload(fn)"
   ],
   "metadata": {
    "collapsed": false,
    "pycharm": {
     "name": "#%%\n"
    }
   }
  },
  {
   "cell_type": "code",
   "execution_count": 3,
   "outputs": [],
   "source": [
    "# Load data\n",
    "pit = pd.read_csv('data/pit_stops.csv')\n",
    "results = pd.read_csv('data/results.csv')\n",
    "status = pd.read_csv('data/status.csv')\n",
    "lap = pd.read_csv(\"data/lap_times.csv\")"
   ],
   "metadata": {
    "collapsed": false,
    "pycharm": {
     "name": "#%%\n"
    }
   }
  },
  {
   "cell_type": "code",
   "execution_count": 4,
   "outputs": [],
   "source": [
    "# Process the data files\n",
    "merge_df = fn.merge_data([pit, results, status])\n",
    "merge_df = fn.process_data(merge_df)\n",
    "df_dict = fn.pit_stop_group(merge_df)"
   ],
   "metadata": {
    "collapsed": false,
    "pycharm": {
     "name": "#%%\n"
    }
   }
  },
  {
   "cell_type": "code",
   "execution_count": 7,
   "outputs": [
    {
     "name": "stdout",
     "output_type": "stream",
     "text": [
      "Error: no common \"id\" columns found\n"
     ]
    },
    {
     "data": {
      "text/plain": "   df_Id  d1_col1\n0      1        3\n1      2        4",
      "text/html": "<div>\n<style scoped>\n    .dataframe tbody tr th:only-of-type {\n        vertical-align: middle;\n    }\n\n    .dataframe tbody tr th {\n        vertical-align: top;\n    }\n\n    .dataframe thead th {\n        text-align: right;\n    }\n</style>\n<table border=\"1\" class=\"dataframe\">\n  <thead>\n    <tr style=\"text-align: right;\">\n      <th></th>\n      <th>df_Id</th>\n      <th>d1_col1</th>\n    </tr>\n  </thead>\n  <tbody>\n    <tr>\n      <th>0</th>\n      <td>1</td>\n      <td>3</td>\n    </tr>\n    <tr>\n      <th>1</th>\n      <td>2</td>\n      <td>4</td>\n    </tr>\n  </tbody>\n</table>\n</div>"
     },
     "execution_count": 7,
     "metadata": {},
     "output_type": "execute_result"
    }
   ],
   "source": [
    "d1 = {'df_Id': [1, 2], 'd1_col1': [3, 4]}\n",
    "d2 = {'not_df_Id': [3, 2], 'd2_col1': [8, 9]}\n",
    "df1 = pd.DataFrame(data=d1)\n",
    "df2 = pd.DataFrame(data=d2)\n",
    "fn.merge_data([df1, df2])"
   ],
   "metadata": {
    "collapsed": false,
    "pycharm": {
     "name": "#%%\n"
    }
   }
  },
  {
   "cell_type": "code",
   "execution_count": 69,
   "outputs": [
    {
     "data": {
      "text/plain": "    raceId  driverId  stop  lap    time_1 duration  milliseconds_1  resultId  \\\n0      841       153     1    1  17:05:23   26.898           26898     20789   \n1      841       153     2   17  17:31:06   24.463           24463     20789   \n2      841       153     3   35  17:59:45   26.348           26348     20789   \n3      841        17     1   11  17:20:48   23.426           23426     20783   \n4      841        17     2   26  17:44:29   22.520           22520     20783   \n..     ...       ...   ...  ...       ...      ...             ...       ...   \n95     843         3     1   12  15:24:32   20.771           20771     20829   \n96     843         3     2   25  15:47:13   22.005           22005     20829   \n97     843         3     3   39  16:11:19   20.720           20720     20829   \n98     843        67     1   12  15:24:56   22.010           22010     20838   \n99     843        67     2   16  15:32:19   24.722           24722     20838   \n\n    constructorId number  ...  rank fastestLapTime fastestLapSpeed  statusId  \\\n0               5     19  ...    10       1:30.467         211.025        11   \n1               5     19  ...    10       1:30.467         211.025        11   \n2               5     19  ...    10       1:30.467         211.025        11   \n3               9      2  ...     3       1:29.600         213.066         1   \n4               9      2  ...     3       1:29.600         213.066         1   \n..            ...    ...  ...   ...            ...             ...       ...   \n95            131      8  ...     5       1:41.166         193.974         1   \n96            131      8  ...     5       1:41.166         193.974         1   \n97            131      8  ...     5       1:41.166         193.974         1   \n98              5     18  ...    11       1:41.696         192.963         1   \n99              5     18  ...    11       1:41.696         192.963         1   \n\n      status  total_laps total_stops  lap_prop abs_deviation  \\\n0     +1 Lap          58           3  0.017241      0.232759   \n1     +1 Lap          58           3  0.293103      0.206897   \n2     +1 Lap          58           3  0.603448      0.146552   \n3   Finished          58           3  0.189655      0.060345   \n4   Finished          58           3  0.448276      0.051724   \n..       ...         ...         ...       ...           ...   \n95  Finished          56           3  0.214286      0.035714   \n96  Finished          56           3  0.446429      0.053571   \n97  Finished          56           3  0.696429      0.053571   \n98  Finished          56           3  0.214286      0.035714   \n99  Finished          56           3  0.285714      0.214286   \n\n   abs_deviation_mean  \n0            0.195402  \n1            0.195402  \n2            0.195402  \n3            0.051724  \n4            0.051724  \n..                ...  \n95           0.047619  \n96           0.047619  \n97           0.047619  \n98           0.136905  \n99           0.136905  \n\n[100 rows x 29 columns]",
      "text/html": "<div>\n<style scoped>\n    .dataframe tbody tr th:only-of-type {\n        vertical-align: middle;\n    }\n\n    .dataframe tbody tr th {\n        vertical-align: top;\n    }\n\n    .dataframe thead th {\n        text-align: right;\n    }\n</style>\n<table border=\"1\" class=\"dataframe\">\n  <thead>\n    <tr style=\"text-align: right;\">\n      <th></th>\n      <th>raceId</th>\n      <th>driverId</th>\n      <th>stop</th>\n      <th>lap</th>\n      <th>time_1</th>\n      <th>duration</th>\n      <th>milliseconds_1</th>\n      <th>resultId</th>\n      <th>constructorId</th>\n      <th>number</th>\n      <th>...</th>\n      <th>rank</th>\n      <th>fastestLapTime</th>\n      <th>fastestLapSpeed</th>\n      <th>statusId</th>\n      <th>status</th>\n      <th>total_laps</th>\n      <th>total_stops</th>\n      <th>lap_prop</th>\n      <th>abs_deviation</th>\n      <th>abs_deviation_mean</th>\n    </tr>\n  </thead>\n  <tbody>\n    <tr>\n      <th>0</th>\n      <td>841</td>\n      <td>153</td>\n      <td>1</td>\n      <td>1</td>\n      <td>17:05:23</td>\n      <td>26.898</td>\n      <td>26898</td>\n      <td>20789</td>\n      <td>5</td>\n      <td>19</td>\n      <td>...</td>\n      <td>10</td>\n      <td>1:30.467</td>\n      <td>211.025</td>\n      <td>11</td>\n      <td>+1 Lap</td>\n      <td>58</td>\n      <td>3</td>\n      <td>0.017241</td>\n      <td>0.232759</td>\n      <td>0.195402</td>\n    </tr>\n    <tr>\n      <th>1</th>\n      <td>841</td>\n      <td>153</td>\n      <td>2</td>\n      <td>17</td>\n      <td>17:31:06</td>\n      <td>24.463</td>\n      <td>24463</td>\n      <td>20789</td>\n      <td>5</td>\n      <td>19</td>\n      <td>...</td>\n      <td>10</td>\n      <td>1:30.467</td>\n      <td>211.025</td>\n      <td>11</td>\n      <td>+1 Lap</td>\n      <td>58</td>\n      <td>3</td>\n      <td>0.293103</td>\n      <td>0.206897</td>\n      <td>0.195402</td>\n    </tr>\n    <tr>\n      <th>2</th>\n      <td>841</td>\n      <td>153</td>\n      <td>3</td>\n      <td>35</td>\n      <td>17:59:45</td>\n      <td>26.348</td>\n      <td>26348</td>\n      <td>20789</td>\n      <td>5</td>\n      <td>19</td>\n      <td>...</td>\n      <td>10</td>\n      <td>1:30.467</td>\n      <td>211.025</td>\n      <td>11</td>\n      <td>+1 Lap</td>\n      <td>58</td>\n      <td>3</td>\n      <td>0.603448</td>\n      <td>0.146552</td>\n      <td>0.195402</td>\n    </tr>\n    <tr>\n      <th>3</th>\n      <td>841</td>\n      <td>17</td>\n      <td>1</td>\n      <td>11</td>\n      <td>17:20:48</td>\n      <td>23.426</td>\n      <td>23426</td>\n      <td>20783</td>\n      <td>9</td>\n      <td>2</td>\n      <td>...</td>\n      <td>3</td>\n      <td>1:29.600</td>\n      <td>213.066</td>\n      <td>1</td>\n      <td>Finished</td>\n      <td>58</td>\n      <td>3</td>\n      <td>0.189655</td>\n      <td>0.060345</td>\n      <td>0.051724</td>\n    </tr>\n    <tr>\n      <th>4</th>\n      <td>841</td>\n      <td>17</td>\n      <td>2</td>\n      <td>26</td>\n      <td>17:44:29</td>\n      <td>22.520</td>\n      <td>22520</td>\n      <td>20783</td>\n      <td>9</td>\n      <td>2</td>\n      <td>...</td>\n      <td>3</td>\n      <td>1:29.600</td>\n      <td>213.066</td>\n      <td>1</td>\n      <td>Finished</td>\n      <td>58</td>\n      <td>3</td>\n      <td>0.448276</td>\n      <td>0.051724</td>\n      <td>0.051724</td>\n    </tr>\n    <tr>\n      <th>...</th>\n      <td>...</td>\n      <td>...</td>\n      <td>...</td>\n      <td>...</td>\n      <td>...</td>\n      <td>...</td>\n      <td>...</td>\n      <td>...</td>\n      <td>...</td>\n      <td>...</td>\n      <td>...</td>\n      <td>...</td>\n      <td>...</td>\n      <td>...</td>\n      <td>...</td>\n      <td>...</td>\n      <td>...</td>\n      <td>...</td>\n      <td>...</td>\n      <td>...</td>\n      <td>...</td>\n    </tr>\n    <tr>\n      <th>95</th>\n      <td>843</td>\n      <td>3</td>\n      <td>1</td>\n      <td>12</td>\n      <td>15:24:32</td>\n      <td>20.771</td>\n      <td>20771</td>\n      <td>20829</td>\n      <td>131</td>\n      <td>8</td>\n      <td>...</td>\n      <td>5</td>\n      <td>1:41.166</td>\n      <td>193.974</td>\n      <td>1</td>\n      <td>Finished</td>\n      <td>56</td>\n      <td>3</td>\n      <td>0.214286</td>\n      <td>0.035714</td>\n      <td>0.047619</td>\n    </tr>\n    <tr>\n      <th>96</th>\n      <td>843</td>\n      <td>3</td>\n      <td>2</td>\n      <td>25</td>\n      <td>15:47:13</td>\n      <td>22.005</td>\n      <td>22005</td>\n      <td>20829</td>\n      <td>131</td>\n      <td>8</td>\n      <td>...</td>\n      <td>5</td>\n      <td>1:41.166</td>\n      <td>193.974</td>\n      <td>1</td>\n      <td>Finished</td>\n      <td>56</td>\n      <td>3</td>\n      <td>0.446429</td>\n      <td>0.053571</td>\n      <td>0.047619</td>\n    </tr>\n    <tr>\n      <th>97</th>\n      <td>843</td>\n      <td>3</td>\n      <td>3</td>\n      <td>39</td>\n      <td>16:11:19</td>\n      <td>20.720</td>\n      <td>20720</td>\n      <td>20829</td>\n      <td>131</td>\n      <td>8</td>\n      <td>...</td>\n      <td>5</td>\n      <td>1:41.166</td>\n      <td>193.974</td>\n      <td>1</td>\n      <td>Finished</td>\n      <td>56</td>\n      <td>3</td>\n      <td>0.696429</td>\n      <td>0.053571</td>\n      <td>0.047619</td>\n    </tr>\n    <tr>\n      <th>98</th>\n      <td>843</td>\n      <td>67</td>\n      <td>1</td>\n      <td>12</td>\n      <td>15:24:56</td>\n      <td>22.010</td>\n      <td>22010</td>\n      <td>20838</td>\n      <td>5</td>\n      <td>18</td>\n      <td>...</td>\n      <td>11</td>\n      <td>1:41.696</td>\n      <td>192.963</td>\n      <td>1</td>\n      <td>Finished</td>\n      <td>56</td>\n      <td>3</td>\n      <td>0.214286</td>\n      <td>0.035714</td>\n      <td>0.136905</td>\n    </tr>\n    <tr>\n      <th>99</th>\n      <td>843</td>\n      <td>67</td>\n      <td>2</td>\n      <td>16</td>\n      <td>15:32:19</td>\n      <td>24.722</td>\n      <td>24722</td>\n      <td>20838</td>\n      <td>5</td>\n      <td>18</td>\n      <td>...</td>\n      <td>11</td>\n      <td>1:41.696</td>\n      <td>192.963</td>\n      <td>1</td>\n      <td>Finished</td>\n      <td>56</td>\n      <td>3</td>\n      <td>0.285714</td>\n      <td>0.214286</td>\n      <td>0.136905</td>\n    </tr>\n  </tbody>\n</table>\n<p>100 rows × 29 columns</p>\n</div>"
     },
     "execution_count": 69,
     "metadata": {},
     "output_type": "execute_result"
    }
   ],
   "source": [
    "merge_df[:100]"
   ],
   "metadata": {
    "collapsed": false,
    "pycharm": {
     "name": "#%%\n"
    }
   }
  },
  {
   "cell_type": "code",
   "execution_count": 37,
   "outputs": [],
   "source": [
    "df = pd.DataFrame({\"raceId\": [1]*5+[2]*4,\n",
    "                   \"driverId\": [1,1,1,2,3,4,4,5,5],\n",
    "                   \"positionOrder\": [1,1,1,2,3,1,1,5,5],\n",
    "                   \"stop\": [1,2,3,1,1,1,2,1,2],\n",
    "                   \"lap\": [2,5,8,5,5,3,6,3,6],\n",
    "                   \"laps\": [20]*9,\n",
    "                   \"statusId\": [1]*4+[2]+[1]*2+[11]*2})"
   ],
   "metadata": {
    "collapsed": false,
    "pycharm": {
     "name": "#%%\n"
    }
   }
  },
  {
   "cell_type": "code",
   "execution_count": 38,
   "outputs": [
    {
     "data": {
      "text/plain": "   raceId  driverId  positionOrder  stop  lap  laps  statusId\n0       1         1              1     1    2    20         1\n1       1         1              1     2    5    20         1\n2       1         1              1     3    8    20         1\n3       1         2              2     1    5    20         1\n4       1         3              3     1    5    20         2\n5       2         4              1     1    3    20         1\n6       2         4              1     2    6    20         1\n7       2         5              5     1    3    20        11\n8       2         5              5     2    6    20        11",
      "text/html": "<div>\n<style scoped>\n    .dataframe tbody tr th:only-of-type {\n        vertical-align: middle;\n    }\n\n    .dataframe tbody tr th {\n        vertical-align: top;\n    }\n\n    .dataframe thead th {\n        text-align: right;\n    }\n</style>\n<table border=\"1\" class=\"dataframe\">\n  <thead>\n    <tr style=\"text-align: right;\">\n      <th></th>\n      <th>raceId</th>\n      <th>driverId</th>\n      <th>positionOrder</th>\n      <th>stop</th>\n      <th>lap</th>\n      <th>laps</th>\n      <th>statusId</th>\n    </tr>\n  </thead>\n  <tbody>\n    <tr>\n      <th>0</th>\n      <td>1</td>\n      <td>1</td>\n      <td>1</td>\n      <td>1</td>\n      <td>2</td>\n      <td>20</td>\n      <td>1</td>\n    </tr>\n    <tr>\n      <th>1</th>\n      <td>1</td>\n      <td>1</td>\n      <td>1</td>\n      <td>2</td>\n      <td>5</td>\n      <td>20</td>\n      <td>1</td>\n    </tr>\n    <tr>\n      <th>2</th>\n      <td>1</td>\n      <td>1</td>\n      <td>1</td>\n      <td>3</td>\n      <td>8</td>\n      <td>20</td>\n      <td>1</td>\n    </tr>\n    <tr>\n      <th>3</th>\n      <td>1</td>\n      <td>2</td>\n      <td>2</td>\n      <td>1</td>\n      <td>5</td>\n      <td>20</td>\n      <td>1</td>\n    </tr>\n    <tr>\n      <th>4</th>\n      <td>1</td>\n      <td>3</td>\n      <td>3</td>\n      <td>1</td>\n      <td>5</td>\n      <td>20</td>\n      <td>2</td>\n    </tr>\n    <tr>\n      <th>5</th>\n      <td>2</td>\n      <td>4</td>\n      <td>1</td>\n      <td>1</td>\n      <td>3</td>\n      <td>20</td>\n      <td>1</td>\n    </tr>\n    <tr>\n      <th>6</th>\n      <td>2</td>\n      <td>4</td>\n      <td>1</td>\n      <td>2</td>\n      <td>6</td>\n      <td>20</td>\n      <td>1</td>\n    </tr>\n    <tr>\n      <th>7</th>\n      <td>2</td>\n      <td>5</td>\n      <td>5</td>\n      <td>1</td>\n      <td>3</td>\n      <td>20</td>\n      <td>11</td>\n    </tr>\n    <tr>\n      <th>8</th>\n      <td>2</td>\n      <td>5</td>\n      <td>5</td>\n      <td>2</td>\n      <td>6</td>\n      <td>20</td>\n      <td>11</td>\n    </tr>\n  </tbody>\n</table>\n</div>"
     },
     "execution_count": 38,
     "metadata": {},
     "output_type": "execute_result"
    }
   ],
   "source": [
    "df"
   ],
   "metadata": {
    "collapsed": false,
    "pycharm": {
     "name": "#%%\n"
    }
   }
  },
  {
   "cell_type": "code",
   "execution_count": 48,
   "outputs": [],
   "source": [
    "test_df = fn.process_data(df)"
   ],
   "metadata": {
    "collapsed": false,
    "pycharm": {
     "name": "#%%\n"
    }
   }
  },
  {
   "cell_type": "code",
   "execution_count": 49,
   "outputs": [],
   "source": [
    "df_dict = fn.pit_stop_group(test_df)"
   ],
   "metadata": {
    "collapsed": false,
    "pycharm": {
     "name": "#%%\n"
    }
   }
  },
  {
   "cell_type": "code",
   "execution_count": 59,
   "outputs": [],
   "source": [
    "df_front,df_back = fn.front_back_division(test_df)"
   ],
   "metadata": {
    "collapsed": false,
    "pycharm": {
     "name": "#%%\n"
    }
   }
  },
  {
   "cell_type": "code",
   "execution_count": 57,
   "outputs": [
    {
     "ename": "ValueError",
     "evalue": "high <= 0",
     "output_type": "error",
     "traceback": [
      "\u001B[0;31m---------------------------------------------------------------------------\u001B[0m",
      "\u001B[0;31mValueError\u001B[0m                                Traceback (most recent call last)",
      "Input \u001B[0;32mIn [57]\u001B[0m, in \u001B[0;36m<module>\u001B[0;34m\u001B[0m\n\u001B[0;32m----> 1\u001B[0m \u001B[43mfn\u001B[49m\u001B[38;5;241;43m.\u001B[39;49m\u001B[43mcomparison_plot\u001B[49m\u001B[43m(\u001B[49m\u001B[43mdf_front\u001B[49m\u001B[43m,\u001B[49m\u001B[43mdf_back\u001B[49m\u001B[43m)\u001B[49m\n",
      "File \u001B[0;32m~/Documents/Docs - Jupiter/Projects/Class Individuals/2022Spring_Finals/final_func.py:309\u001B[0m, in \u001B[0;36mcomparison_plot\u001B[0;34m(list_1, list_2, select_col, show_mean, show_description, show_divide, non_para, save_fig)\u001B[0m\n\u001B[1;32m    307\u001B[0m max_num_of_stops \u001B[38;5;241m=\u001B[39m \u001B[38;5;241m3\u001B[39m  \u001B[38;5;66;03m# consider only total pit stops = 1,2,3\u001B[39;00m\n\u001B[1;32m    308\u001B[0m \u001B[38;5;28;01mfor\u001B[39;00m ps_num \u001B[38;5;129;01min\u001B[39;00m \u001B[38;5;28mrange\u001B[39m(\u001B[38;5;241m1\u001B[39m, max_num_of_stops \u001B[38;5;241m+\u001B[39m \u001B[38;5;241m1\u001B[39m):\n\u001B[0;32m--> 309\u001B[0m     _df_tmp \u001B[38;5;241m=\u001B[39m _df_dict[ps_num]  \u001B[38;5;66;03m# get dataframe of total pit stop = ps_num\u001B[39;00m\n\u001B[1;32m    310\u001B[0m     \u001B[38;5;66;03m# _df_list: [<df: no.1 pit stop out of ps_num>, <df: no.2 pit stop out of ps_num>, ...]\u001B[39;00m\n\u001B[1;32m    311\u001B[0m     _df_list \u001B[38;5;241m=\u001B[39m [_df_tmp[_df_tmp[\u001B[38;5;124m'\u001B[39m\u001B[38;5;124mstop\u001B[39m\u001B[38;5;124m'\u001B[39m] \u001B[38;5;241m==\u001B[39m i][\u001B[38;5;124m'\u001B[39m\u001B[38;5;124mlap_prop\u001B[39m\u001B[38;5;124m'\u001B[39m] \u001B[38;5;28;01mfor\u001B[39;00m i \u001B[38;5;129;01min\u001B[39;00m \u001B[38;5;28mrange\u001B[39m(\u001B[38;5;241m1\u001B[39m, ps_num \u001B[38;5;241m+\u001B[39m \u001B[38;5;241m1\u001B[39m)]\n",
      "File \u001B[0;32m~/opt/anaconda3/envs/usual/lib/python3.8/site-packages/sklearn/utils/__init__.py:558\u001B[0m, in \u001B[0;36mresample\u001B[0;34m(replace, n_samples, random_state, stratify, *arrays)\u001B[0m\n\u001B[1;32m    556\u001B[0m \u001B[38;5;28;01mif\u001B[39;00m stratify \u001B[38;5;129;01mis\u001B[39;00m \u001B[38;5;28;01mNone\u001B[39;00m:\n\u001B[1;32m    557\u001B[0m     \u001B[38;5;28;01mif\u001B[39;00m replace:\n\u001B[0;32m--> 558\u001B[0m         indices \u001B[38;5;241m=\u001B[39m \u001B[43mrandom_state\u001B[49m\u001B[38;5;241;43m.\u001B[39;49m\u001B[43mrandint\u001B[49m\u001B[43m(\u001B[49m\u001B[38;5;241;43m0\u001B[39;49m\u001B[43m,\u001B[49m\u001B[43m \u001B[49m\u001B[43mn_samples\u001B[49m\u001B[43m,\u001B[49m\u001B[43m \u001B[49m\u001B[43msize\u001B[49m\u001B[38;5;241;43m=\u001B[39;49m\u001B[43m(\u001B[49m\u001B[43mmax_n_samples\u001B[49m\u001B[43m,\u001B[49m\u001B[43m)\u001B[49m\u001B[43m)\u001B[49m\n\u001B[1;32m    559\u001B[0m     \u001B[38;5;28;01melse\u001B[39;00m:\n\u001B[1;32m    560\u001B[0m         indices \u001B[38;5;241m=\u001B[39m np\u001B[38;5;241m.\u001B[39marange(n_samples)\n",
      "File \u001B[0;32mmtrand.pyx:748\u001B[0m, in \u001B[0;36mnumpy.random.mtrand.RandomState.randint\u001B[0;34m()\u001B[0m\n",
      "File \u001B[0;32m_bounded_integers.pyx:1247\u001B[0m, in \u001B[0;36mnumpy.random._bounded_integers._rand_int64\u001B[0;34m()\u001B[0m\n",
      "\u001B[0;31mValueError\u001B[0m: high <= 0"
     ]
    }
   ],
   "source": [
    "fn.comparison_plot(df_front,df_back)"
   ],
   "metadata": {
    "collapsed": false,
    "pycharm": {
     "name": "#%%\n"
    }
   }
  },
  {
   "cell_type": "code",
   "execution_count": 67,
   "outputs": [
    {
     "data": {
      "text/plain": "[Empty DataFrame\n Columns: [stop, lap_prop]\n Index: [],\n Empty DataFrame\n Columns: [stop, lap_prop]\n Index: [],\n Empty DataFrame\n Columns: [stop, lap_prop]\n Index: [],\n Empty DataFrame\n Columns: [stop, lap_prop]\n Index: [],\n Empty DataFrame\n Columns: [stop, lap_prop]\n Index: [],\n Empty DataFrame\n Columns: [stop, lap_prop]\n Index: []]"
     },
     "execution_count": 67,
     "metadata": {},
     "output_type": "execute_result"
    }
   ],
   "source": [
    "df_back"
   ],
   "metadata": {
    "collapsed": false,
    "pycharm": {
     "name": "#%%\n"
    }
   }
  },
  {
   "cell_type": "code",
   "execution_count": null,
   "outputs": [],
   "source": [],
   "metadata": {
    "collapsed": false,
    "pycharm": {
     "name": "#%%\n"
    }
   }
  }
 ],
 "metadata": {
  "kernelspec": {
   "display_name": "Python 3",
   "language": "python",
   "name": "python3"
  },
  "language_info": {
   "codemirror_mode": {
    "name": "ipython",
    "version": 2
   },
   "file_extension": ".py",
   "mimetype": "text/x-python",
   "name": "python",
   "nbconvert_exporter": "python",
   "pygments_lexer": "ipython2",
   "version": "2.7.6"
  }
 },
 "nbformat": 4,
 "nbformat_minor": 0
}
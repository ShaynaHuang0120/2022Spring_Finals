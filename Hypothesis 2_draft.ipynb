{
 "cells": [
  {
   "cell_type": "code",
   "execution_count": 115,
   "metadata": {
    "collapsed": true
   },
   "outputs": [],
   "source": [
    "import pandas as pd\n",
    "import numpy as np\n",
    "import matplotlib.pyplot as plt"
   ]
  },
  {
   "cell_type": "code",
   "execution_count": 69,
   "outputs": [],
   "source": [
    "# Load data\n",
    "pit = pd.read_csv('dataset/pit_stops.csv')\n",
    "results = pd.read_csv('dataset/results.csv')\n",
    "status = pd.read_csv('dataset/status.csv')\n",
    "race = pd.read_csv('dataset/races.csv')"
   ],
   "metadata": {
    "collapsed": false,
    "pycharm": {
     "name": "#%%\n"
    }
   }
  },
  {
   "cell_type": "code",
   "execution_count": 77,
   "outputs": [],
   "source": [
    "# Merge tables\n",
    "select_col = ['raceId','year','round','circuitId','name','date']\n",
    "merge_df = pd.merge(pit, race[select_col], on='raceId', how='left')\n",
    "select_col = ['raceId','driverId','positionOrder', 'laps', 'time','statusId']\n",
    "merge_df = pd.merge(merge_df,results[select_col], on=['raceId','driverId'], how = 'left', suffixes=('_pit', '_result'))\n",
    "merge_df = pd.merge(merge_df, status, on='statusId', how='left')"
   ],
   "metadata": {
    "collapsed": false,
    "pycharm": {
     "name": "#%%\n"
    }
   }
  },
  {
   "cell_type": "markdown",
   "source": [
    "Meaning of merge_df column: Status\n",
    "\n",
    "+1 lap means that you have been overtaken by the race leader and that they are behind the race by 1 lap. So if the race has 30 laps , they are timed for 29 laps only hence +1.\n",
    "\n",
    "If the winner is able to do it twice , it will be shown as +2 so on ..."
   ],
   "metadata": {
    "collapsed": false
   }
  },
  {
   "cell_type": "code",
   "execution_count": 78,
   "outputs": [],
   "source": [
    "# Filter records by their Status values (keep only finished and +? laps)\n",
    "status_select = [1, 11, 12, 13, 14, 15, 16, 17, 18, 19]\n",
    "merge_df.drop(merge_df[~merge_df['statusId'].isin(status_select)].index, inplace=True)"
   ],
   "metadata": {
    "collapsed": false,
    "pycharm": {
     "name": "#%%\n"
    }
   }
  },
  {
   "cell_type": "code",
   "execution_count": 79,
   "outputs": [],
   "source": [
    "# Get total stops & laps for each race record\n",
    "total_laps = merge_df[(merge_df['positionOrder'] == 1) & (merge_df['stop'] == 1)].reset_index(drop=True)[['raceId', 'laps']]\n",
    "total_laps.columns = [str(total_laps.columns[0]), 'total_laps']\n",
    "total_stops = merge_df.groupby(by=['raceId', 'driverId'], as_index=False)['stop'].max()\n",
    "total_stops.columns = list(total_stops.columns[:2]) + ['total_stops']\n",
    "\n",
    "merge_df = pd.merge(merge_df, total_laps, on='raceId')\n",
    "merge_df = pd.merge(merge_df, total_stops, on=['raceId', 'driverId'])"
   ],
   "metadata": {
    "collapsed": false,
    "pycharm": {
     "name": "#%%\n"
    }
   }
  },
  {
   "cell_type": "code",
   "execution_count": 87,
   "outputs": [],
   "source": [
    "# Get the proportion of laps completed for each pit stop\n",
    "merge_df['lap_prop'] = merge_df.apply(lambda x: x['lap']/x['total_laps'], axis=1)"
   ],
   "metadata": {
    "collapsed": false,
    "pycharm": {
     "name": "#%%\n"
    }
   }
  },
  {
   "cell_type": "code",
   "execution_count": 103,
   "outputs": [],
   "source": [
    "def group_by_stop_num(df):\n",
    "    pit_stop_max = df['total_stops'].max()\n",
    "    df_dict = {}\n",
    "    for i in range(1, pit_stop_max+1):\n",
    "        df_dict[i] = df[df['total_stops']==i][['stop','lap_prop']]\n",
    "    return df_dict"
   ],
   "metadata": {
    "collapsed": false,
    "pycharm": {
     "name": "#%%\n"
    }
   }
  },
  {
   "cell_type": "code",
   "execution_count": 104,
   "outputs": [],
   "source": [
    "df_dict = group_by_stop_num(merge_df)"
   ],
   "metadata": {
    "collapsed": false,
    "pycharm": {
     "name": "#%%\n"
    }
   }
  },
  {
   "cell_type": "code",
   "execution_count": 134,
   "outputs": [
    {
     "data": {
      "text/plain": "0.8382847533632287"
     },
     "execution_count": 134,
     "metadata": {},
     "output_type": "execute_result"
    }
   ],
   "source": [
    "len(merge_df[merge_df['total_stops'].isin([1,2,3])]['lap_prop'])/len(merge_df['lap_prop'])"
   ],
   "metadata": {
    "collapsed": false,
    "pycharm": {
     "name": "#%%\n"
    }
   }
  },
  {
   "cell_type": "markdown",
   "source": [
    "We only select the rows that pit stopped 1, 2, or 3 times, which take up 84% of our data."
   ],
   "metadata": {
    "collapsed": false
   }
  },
  {
   "cell_type": "code",
   "execution_count": 143,
   "outputs": [
    {
     "data": {
      "text/plain": "0.254"
     },
     "execution_count": 143,
     "metadata": {},
     "output_type": "execute_result"
    }
   ],
   "source": [
    "round(0.2542151, ndigits=3)"
   ],
   "metadata": {
    "collapsed": false,
    "pycharm": {
     "name": "#%%\n"
    }
   }
  },
  {
   "cell_type": "code",
   "execution_count": 161,
   "outputs": [
    {
     "name": "stdout",
     "output_type": "stream",
     "text": [
      "////////////////////////////////////////////////////////////////////////////////////////\n",
      "Total Pit Stops:  1\n",
      "No.  1  pit stop: \n",
      "    mean =  0.408  standard deviation =  0.147\n",
      "    Around 65.7% of values are within 1 standard deviation of the mean\n",
      "    Around 95.7% of values are within 2 standard deviations of the mean\n"
     ]
    },
    {
     "data": {
      "text/plain": "<Figure size 864x576 with 1 Axes>",
      "image/png": "[encoded data removed]"
     },
     "metadata": {
      "needs_background": "light"
     },
     "output_type": "display_data"
    },
    {
     "name": "stdout",
     "output_type": "stream",
     "text": [
      "////////////////////////////////////////////////////////////////////////////////////////\n",
      "Total Pit Stops:  2\n",
      "No.  1  pit stop: \n",
      "    mean =  0.25  standard deviation =  0.113\n",
      "    Around 71.0% of values are within 1 standard deviation of the mean\n",
      "    Around 91.9% of values are within 2 standard deviations of the mean\n",
      "No.  2  pit stop: \n",
      "    mean =  0.618  standard deviation =  0.127\n",
      "    Around 71.6% of values are within 1 standard deviation of the mean\n",
      "    Around 94.1% of values are within 2 standard deviations of the mean\n"
     ]
    },
    {
     "data": {
      "text/plain": "<Figure size 864x576 with 1 Axes>",
      "image/png": "[encoded data removed]"
     },
     "metadata": {
      "needs_background": "light"
     },
     "output_type": "display_data"
    },
    {
     "name": "stdout",
     "output_type": "stream",
     "text": [
      "////////////////////////////////////////////////////////////////////////////////////////\n",
      "Total Pit Stops:  3\n",
      "No.  1  pit stop: \n",
      "    mean =  0.175  standard deviation =  0.095\n",
      "    Around 68.1% of values are within 1 standard deviation of the mean\n",
      "    Around 97.0% of values are within 2 standard deviations of the mean\n",
      "No.  2  pit stop: \n",
      "    mean =  0.43  standard deviation =  0.126\n",
      "    Around 72.7% of values are within 1 standard deviation of the mean\n",
      "    Around 94.4% of values are within 2 standard deviations of the mean\n",
      "No.  3  pit stop: \n",
      "    mean =  0.706  standard deviation =  0.11\n",
      "    Around 74.4% of values are within 1 standard deviation of the mean\n",
      "    Around 93.4% of values are within 2 standard deviations of the mean\n"
     ]
    },
    {
     "data": {
      "text/plain": "<Figure size 864x576 with 1 Axes>",
      "image/png": "[encoded data removed]"
     },
     "metadata": {
      "needs_background": "light"
     },
     "output_type": "display_data"
    }
   ],
   "source": [
    "bins = np.linspace(0,1,30)\n",
    "color_bin = ['tab:blue', 'tab:orange', 'tab:red']\n",
    "color_bin2 = ['cyan', 'yellow', 'lavender']\n",
    "\n",
    "max_num_of_stops = 3\n",
    "for ps_num in range(1, max_num_of_stops+1):\n",
    "    plt.figure(figsize=(12,8))\n",
    "    df_tmp = df_dict[ps_num]\n",
    "    df_list = [df_tmp[df_tmp['stop'] == i]['lap_prop'] for i in range(1, ps_num+1)]\n",
    "    # plt.hist(df_list, bins, label=[str(i) for i in range(1,ps_num+1)])\n",
    "\n",
    "    plot_count = 0\n",
    "    print('////////////////////////////////////////////////////////////////////////////////////////')\n",
    "    print('Total Pit Stops: ', ps_num)\n",
    "    for df in df_list:\n",
    "        plt.hist(df, bins, alpha=1, color=color_bin[plot_count])\n",
    "        df_mean = round(df.mean(), ndigits=3)\n",
    "        df_std = round(df.std(), ndigits=3)\n",
    "        plt.axvline(x=df_mean, color=color_bin2[plot_count])\n",
    "        plot_count += 1\n",
    "        print('No. ', plot_count, ' pit stop: ')\n",
    "        print('    mean = ', df_mean, ' standard deviation = ', df_std)\n",
    "        perc_1 = len(df[(df <= df_mean + df_std) & (df >= df_mean - df_std)])/len(df)\n",
    "        perc_2 = len(df[(df <= df_mean + 2*df_std) & (df >= df_mean - 2*df_std)])/len(df)\n",
    "        perc_1 = round(100*perc_1, ndigits=1)\n",
    "        perc_2 = round(100*perc_2, ndigits=1)\n",
    "        print(f'    Around {perc_1}% of values are within 1 standard deviation of the mean')\n",
    "        print(f'    Around {perc_2}% of values are within 2 standard deviations of the mean')\n",
    "    plt.show()\n"
   ],
   "metadata": {
    "collapsed": false,
    "pycharm": {
     "name": "#%%\n"
    }
   }
  },
  {
   "cell_type": "code",
   "execution_count": null,
   "outputs": [],
   "source": [],
   "metadata": {
    "collapsed": false,
    "pycharm": {
     "name": "#%%\n"
    }
   }
  }
 ],
 "metadata": {
  "kernelspec": {
   "display_name": "Python 3",
   "language": "python",
   "name": "python3"
  },
  "language_info": {
   "codemirror_mode": {
    "name": "ipython",
    "version": 2
   },
   "file_extension": ".py",
   "mimetype": "text/x-python",
   "name": "python",
   "nbconvert_exporter": "python",
   "pygments_lexer": "ipython2",
   "version": "2.7.6"
  }
 },
 "nbformat": 4,
 "nbformat_minor": 0
}
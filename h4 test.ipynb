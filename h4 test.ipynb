{
 "cells": [
  {
   "cell_type": "code",
   "execution_count": 59,
   "outputs": [],
   "source": [
    "import pandas as pd\n",
    "import numpy as np\n",
    "import matplotlib.pyplot as plt\n",
    "import final_func as fn\n",
    "from sklearn.utils import resample\n",
    "from scipy.stats import mannwhitneyu"
   ],
   "metadata": {
    "collapsed": false,
    "pycharm": {
     "name": "#%%\n"
    }
   }
  },
  {
   "cell_type": "code",
   "execution_count": 2,
   "outputs": [],
   "source": [
    "# Load data\n",
    "result = pd.read_csv(\"data/results.csv\")\n",
    "lap = pd.read_csv(\"data/lap_times.csv\")"
   ],
   "metadata": {
    "collapsed": false,
    "pycharm": {
     "name": "#%%\n"
    }
   }
  },
  {
   "cell_type": "code",
   "execution_count": 3,
   "outputs": [
    {
     "data": {
      "text/plain": "        raceId  driverId  lap  position      time  milliseconds\n0          841        20    1         1  1:38.109         98109\n1          841        20    2         1  1:33.006         93006\n2          841        20    3         1  1:32.713         92713\n3          841        20    4         1  1:32.803         92803\n4          841        20    5         1  1:32.342         92342\n...        ...       ...  ...       ...       ...           ...\n517568    1076       848   54         7  1:22.589         82589\n517569    1076       848   55         7  1:22.758         82758\n517570    1076       848   56         7  1:22.658         82658\n517571    1076       848   57         9  1:38.438         98438\n517572    1076       848   58        10  1:27.465         87465\n\n[517573 rows x 6 columns]",
      "text/html": "<div>\n<style scoped>\n    .dataframe tbody tr th:only-of-type {\n        vertical-align: middle;\n    }\n\n    .dataframe tbody tr th {\n        vertical-align: top;\n    }\n\n    .dataframe thead th {\n        text-align: right;\n    }\n</style>\n<table border=\"1\" class=\"dataframe\">\n  <thead>\n    <tr style=\"text-align: right;\">\n      <th></th>\n      <th>raceId</th>\n      <th>driverId</th>\n      <th>lap</th>\n      <th>position</th>\n      <th>time</th>\n      <th>milliseconds</th>\n    </tr>\n  </thead>\n  <tbody>\n    <tr>\n      <th>0</th>\n      <td>841</td>\n      <td>20</td>\n      <td>1</td>\n      <td>1</td>\n      <td>1:38.109</td>\n      <td>98109</td>\n    </tr>\n    <tr>\n      <th>1</th>\n      <td>841</td>\n      <td>20</td>\n      <td>2</td>\n      <td>1</td>\n      <td>1:33.006</td>\n      <td>93006</td>\n    </tr>\n    <tr>\n      <th>2</th>\n      <td>841</td>\n      <td>20</td>\n      <td>3</td>\n      <td>1</td>\n      <td>1:32.713</td>\n      <td>92713</td>\n    </tr>\n    <tr>\n      <th>3</th>\n      <td>841</td>\n      <td>20</td>\n      <td>4</td>\n      <td>1</td>\n      <td>1:32.803</td>\n      <td>92803</td>\n    </tr>\n    <tr>\n      <th>4</th>\n      <td>841</td>\n      <td>20</td>\n      <td>5</td>\n      <td>1</td>\n      <td>1:32.342</td>\n      <td>92342</td>\n    </tr>\n    <tr>\n      <th>...</th>\n      <td>...</td>\n      <td>...</td>\n      <td>...</td>\n      <td>...</td>\n      <td>...</td>\n      <td>...</td>\n    </tr>\n    <tr>\n      <th>517568</th>\n      <td>1076</td>\n      <td>848</td>\n      <td>54</td>\n      <td>7</td>\n      <td>1:22.589</td>\n      <td>82589</td>\n    </tr>\n    <tr>\n      <th>517569</th>\n      <td>1076</td>\n      <td>848</td>\n      <td>55</td>\n      <td>7</td>\n      <td>1:22.758</td>\n      <td>82758</td>\n    </tr>\n    <tr>\n      <th>517570</th>\n      <td>1076</td>\n      <td>848</td>\n      <td>56</td>\n      <td>7</td>\n      <td>1:22.658</td>\n      <td>82658</td>\n    </tr>\n    <tr>\n      <th>517571</th>\n      <td>1076</td>\n      <td>848</td>\n      <td>57</td>\n      <td>9</td>\n      <td>1:38.438</td>\n      <td>98438</td>\n    </tr>\n    <tr>\n      <th>517572</th>\n      <td>1076</td>\n      <td>848</td>\n      <td>58</td>\n      <td>10</td>\n      <td>1:27.465</td>\n      <td>87465</td>\n    </tr>\n  </tbody>\n</table>\n<p>517573 rows × 6 columns</p>\n</div>"
     },
     "execution_count": 3,
     "metadata": {},
     "output_type": "execute_result"
    }
   ],
   "source": [
    "lap"
   ],
   "metadata": {
    "collapsed": false,
    "pycharm": {
     "name": "#%%\n"
    }
   }
  },
  {
   "cell_type": "code",
   "execution_count": 2,
   "outputs": [],
   "source": [
    "def data_process(df: pd.DataFrame, lap_df: pd.DataFrame) -> pd.DataFrame:\n",
    "    # df.rename(columns = {'position':'final position'}, inplace = True)\n",
    "    position_df = df[[\"raceId\", \"driverId\", \"positionOrder\"]]\n",
    "    joined_table = lap.merge(position_df, on=[\"raceId\", \"driverId\"], how=\"left\")\n",
    "    joined_table[\"time\"] = joined_table[\"time\"].str.split(':')\n",
    "    # new df from the column of lists\n",
    "    split_df = pd.DataFrame(joined_table[\"time\"].tolist(), columns=['lap_minutes', 'lap_seconds', 'none'])\n",
    "    # concat df and split_df\n",
    "    joined_table = pd.concat([joined_table, split_df], axis=1)\n",
    "    joined_table[\"positionOrder\"] = joined_table[\"positionOrder\"].astype(int)\n",
    "    joined_table[\"lap_minutes\"] = joined_table[\"lap_minutes\"].astype(int)\n",
    "    joined_table[\"lap_second\"] = joined_table[\"lap_minutes\"].astype(float)\n",
    "    #since most of the time spend for each lap is below 5 minutes, we assumed that the time spent greater than 5 minutes should be caused by accidents rather than strategy. Thus, we focus on lap with time spend less than 6 minutes.\n",
    "    li = [1, 2, 3, 4, 5]\n",
    "    df_filtered = joined_table[joined_table['lap_minutes'].isin(li)]\n",
    "    df_filtered[\"lap_time\"] = \" \"\n",
    "    sec = []\n",
    "    for time_list in df_filtered[\"time\"]:\n",
    "        if time_list[0] == \"1\":\n",
    "            second = 60 + float(time_list[1])\n",
    "            sec.append(second)\n",
    "        elif time_list[0] == \"2\":\n",
    "            second = 120 + float(time_list[1])\n",
    "            sec.append(second)\n",
    "        elif time_list[0] == \"3\":\n",
    "            second = 180 + float(time_list[1])\n",
    "            sec.append(second)\n",
    "        elif time_list[0] == \"4\":\n",
    "            second = 240 + float(time_list[1])\n",
    "            sec.append(second)\n",
    "        elif time_list[0] == \"5\":\n",
    "            second = 300 + float(time_list[1])\n",
    "            sec.append(second)\n",
    "    df_filtered[\"lap_time\"] = sec\n",
    "    df_group = df_filtered.groupby([\"raceId\", \"driverId\", 'positionOrder'], as_index=False)[\"lap_time\"].std()\n",
    "    # df_group = df_filtered.groupby(['positionOrder'], as_index=False)[\"lap_time\"].std()\n",
    "    df_group.sort_values(by=['positionOrder'], inplace=True)\n",
    "    df_group.rename(columns={'lap_time': 'lap_time_STD'}, inplace=True)\n",
    "    return df_group\n"
   ],
   "metadata": {
    "collapsed": false,
    "pycharm": {
     "name": "#%%\n"
    }
   }
  },
  {
   "cell_type": "code",
   "execution_count": 3,
   "outputs": [],
   "source": [
    "\n",
    "def barchart_lapspeed(df: pd.DataFrame) -> plt:\n",
    "    df2 = df.groupby(['positionOrder'], as_index=False)[\"lap_time_STD\"].mean()\n",
    "    df2.plot.bar(x='positionOrder', y='lap_time_STD', fontsize='9')\n",
    "    plt.xlabel('Position', fontsize='12', rotation=1)\n",
    "    plt.ylabel('Mean of lap time STD', fontsize='12')\n",
    "    plt.xticks(rotation=1)\n",
    "    plt.title('Distribution of lap time by rank', fontsize='12')\n",
    "    plt.show()\n",
    "\n"
   ],
   "metadata": {
    "collapsed": false,
    "pycharm": {
     "name": "#%%\n"
    }
   }
  },
  {
   "cell_type": "code",
   "execution_count": 4,
   "outputs": [
    {
     "ename": "NameError",
     "evalue": "name 'data_process' is not defined",
     "output_type": "error",
     "traceback": [
      "\u001B[0;31m---------------------------------------------------------------------------\u001B[0m",
      "\u001B[0;31mNameError\u001B[0m                                 Traceback (most recent call last)",
      "\u001B[0;32m<ipython-input-4-8d91e50d0b84>\u001B[0m in \u001B[0;36m<module>\u001B[0;34m\u001B[0m\n\u001B[1;32m      1\u001B[0m \u001B[0;31m# Process the data files\u001B[0m\u001B[0;34m\u001B[0m\u001B[0;34m\u001B[0m\u001B[0;34m\u001B[0m\u001B[0m\n\u001B[0;32m----> 2\u001B[0;31m \u001B[0mdf_group\u001B[0m \u001B[0;34m=\u001B[0m \u001B[0mdata_process\u001B[0m\u001B[0;34m(\u001B[0m\u001B[0mresult\u001B[0m\u001B[0;34m,\u001B[0m \u001B[0mlap\u001B[0m\u001B[0;34m)\u001B[0m\u001B[0;34m\u001B[0m\u001B[0;34m\u001B[0m\u001B[0m\n\u001B[0m\u001B[1;32m      3\u001B[0m \u001B[0mbarchart_lapspeed\u001B[0m\u001B[0;34m(\u001B[0m\u001B[0mdf_group\u001B[0m\u001B[0;34m)\u001B[0m\u001B[0;34m\u001B[0m\u001B[0;34m\u001B[0m\u001B[0m\n",
      "\u001B[0;31mNameError\u001B[0m: name 'data_process' is not defined"
     ]
    }
   ],
   "source": [
    "# Process the data files\n",
    "df_group = data_process(result, lap)\n",
    "barchart_lapspeed(df_group)"
   ],
   "metadata": {
    "collapsed": false,
    "pycharm": {
     "name": "#%%\n"
    }
   }
  },
  {
   "cell_type": "code",
   "execution_count": 5,
   "outputs": [
    {
     "name": "stdout",
     "output_type": "stream",
     "text": [
      "0\n"
     ]
    }
   ],
   "source": [
    "item = 0\n",
    "print((item-1)//5 +1)"
   ],
   "metadata": {
    "collapsed": false,
    "pycharm": {
     "name": "#%%\n"
    }
   }
  },
  {
   "cell_type": "code",
   "execution_count": 11,
   "outputs": [],
   "source": [
    "def lap_data_process(df: pd.DataFrame, lap_df: pd.DataFrame) -> pd.DataFrame:\n",
    "    position_df = df[[\"raceId\", \"driverId\", \"positionOrder\"]]\n",
    "    joined_table = lap_df.merge(position_df, on=[\"raceId\", \"driverId\"], how=\"left\")\n",
    "    joined_table[\"milliseconds\"] = joined_table[\"milliseconds\"].astype(int)\n",
    "    # since most of the time spend for each lap is below 5 minutes, we assumed that the time spent greater than 5\n",
    "    # minutes should be caused by accidents rather than strategy. Thus, we focus on lap with time spend less than 6\n",
    "    # minutes.\n",
    "    joined_table= joined_table.loc[joined_table['milliseconds']<=360000]\n",
    "    joined_table['lap_second']= joined_table['milliseconds'] /1000\n",
    "    df_group = joined_table.groupby([\"raceId\", \"driverId\", 'positionOrder'], as_index=False)['lap_second'].std()\n",
    "    df_group.sort_values(by=['raceId', 'positionOrder'], inplace=True)\n",
    "    df_group.rename(columns={'lap_second': 'lap_time_STD'}, inplace=True)\n",
    "    return df_group"
   ],
   "metadata": {
    "collapsed": false,
    "pycharm": {
     "name": "#%%\n"
    }
   }
  },
  {
   "cell_type": "code",
   "execution_count": 12,
   "outputs": [
    {
     "data": {
      "text/plain": "      raceId  driverId  positionOrder  lap_time_STD\n14         1        18              1     21.739206\n17         1        22              2     16.828341\n11         1        15              3     16.254860\n8          1        10              4     16.013240\n3          1         4              5     16.337007\n...      ...       ...            ...           ...\n9770    1076       849             16     15.691930\n9755    1076         4             17     18.466064\n9761    1076       830             18     22.873014\n9756    1076        20             19     16.703554\n9762    1076       832             20           NaN\n\n[9774 rows x 4 columns]",
      "text/html": "<div>\n<style scoped>\n    .dataframe tbody tr th:only-of-type {\n        vertical-align: middle;\n    }\n\n    .dataframe tbody tr th {\n        vertical-align: top;\n    }\n\n    .dataframe thead th {\n        text-align: right;\n    }\n</style>\n<table border=\"1\" class=\"dataframe\">\n  <thead>\n    <tr style=\"text-align: right;\">\n      <th></th>\n      <th>raceId</th>\n      <th>driverId</th>\n      <th>positionOrder</th>\n      <th>lap_time_STD</th>\n    </tr>\n  </thead>\n  <tbody>\n    <tr>\n      <th>14</th>\n      <td>1</td>\n      <td>18</td>\n      <td>1</td>\n      <td>21.739206</td>\n    </tr>\n    <tr>\n      <th>17</th>\n      <td>1</td>\n      <td>22</td>\n      <td>2</td>\n      <td>16.828341</td>\n    </tr>\n    <tr>\n      <th>11</th>\n      <td>1</td>\n      <td>15</td>\n      <td>3</td>\n      <td>16.254860</td>\n    </tr>\n    <tr>\n      <th>8</th>\n      <td>1</td>\n      <td>10</td>\n      <td>4</td>\n      <td>16.013240</td>\n    </tr>\n    <tr>\n      <th>3</th>\n      <td>1</td>\n      <td>4</td>\n      <td>5</td>\n      <td>16.337007</td>\n    </tr>\n    <tr>\n      <th>...</th>\n      <td>...</td>\n      <td>...</td>\n      <td>...</td>\n      <td>...</td>\n    </tr>\n    <tr>\n      <th>9770</th>\n      <td>1076</td>\n      <td>849</td>\n      <td>16</td>\n      <td>15.691930</td>\n    </tr>\n    <tr>\n      <th>9755</th>\n      <td>1076</td>\n      <td>4</td>\n      <td>17</td>\n      <td>18.466064</td>\n    </tr>\n    <tr>\n      <th>9761</th>\n      <td>1076</td>\n      <td>830</td>\n      <td>18</td>\n      <td>22.873014</td>\n    </tr>\n    <tr>\n      <th>9756</th>\n      <td>1076</td>\n      <td>20</td>\n      <td>19</td>\n      <td>16.703554</td>\n    </tr>\n    <tr>\n      <th>9762</th>\n      <td>1076</td>\n      <td>832</td>\n      <td>20</td>\n      <td>NaN</td>\n    </tr>\n  </tbody>\n</table>\n<p>9774 rows × 4 columns</p>\n</div>"
     },
     "execution_count": 12,
     "metadata": {},
     "output_type": "execute_result"
    }
   ],
   "source": [
    "lap_df =lap_data_process(result, lap)\n",
    "lap_df"
   ],
   "metadata": {
    "collapsed": false,
    "pycharm": {
     "name": "#%%\n"
    }
   }
  },
  {
   "cell_type": "code",
   "execution_count": 13,
   "outputs": [
    {
     "data": {
      "text/plain": "<Figure size 432x288 with 1 Axes>",
      "image/png": "[encoded data removed]"
     },
     "metadata": {
      "needs_background": "light"
     },
     "output_type": "display_data"
    }
   ],
   "source": [
    "fn.barchart_lapspeed(lap_df)"
   ],
   "metadata": {
    "collapsed": false,
    "pycharm": {
     "name": "#%%\n"
    }
   }
  },
  {
   "cell_type": "code",
   "execution_count": null,
   "outputs": [],
   "source": [],
   "metadata": {
    "collapsed": false,
    "pycharm": {
     "name": "#%%\n"
    }
   }
  },
  {
   "cell_type": "code",
   "execution_count": 81,
   "outputs": [],
   "source": [
    "def rank_df_plt(df: pd.DataFrame, top_num = 5, threshold = 0.05):\n",
    "    print('H0: There is no significant difference in the distribution of lap times STD between the ranking of drivers.')\n",
    "    rank_list = []\n",
    "    df = df.assign(rank='')\n",
    "    position_list = df['positionOrder'].tolist()\n",
    "\n",
    "    for position in position_list:\n",
    "        if position <= top_num:\n",
    "            rank_list.append('High Rank')\n",
    "        else:\n",
    "            rank_list.append('Low Rank')\n",
    "\n",
    "    df['rank'] = rank_list\n",
    "    df_high = df.loc[df['rank'] == 'High Rank']['lap_time_STD']\n",
    "    df_low = resample(df.loc[df['rank'] == 'High Rank']['lap_time_STD'], replace=True, n_samples=len(df_high), random_state=123)\n",
    "    bins = np.linspace(0, 40, 20)\n",
    "    color_bin = ['tab:blue', 'tab:orange', 'tab:red']\n",
    "    plt.hist(df_low, bins, alpha=0.8, color=color_bin[2], label='Lower Ranking')\n",
    "    plt.hist(df_high, bins, alpha=0.8, color=color_bin[0], label='Higher Ranking')\n",
    "    plt.title(f'Frequency Distribution of Lap time STD')\n",
    "    plt.ylabel('Record Frequency')\n",
    "    plt.xlabel('Lap time STD')\n",
    "    plt.legend(loc=\"upper right\")\n",
    "    plt.show()\n",
    "    pvalue = mannwhitneyu(df_high,df_low).pvalue\n",
    "    print('-' * 88)\n",
    "    print('P-value between high ranking drivers and low ranking drivers is {}.'.format(pvalue))\n",
    "    print('-' * 88)\n",
    "    if pvalue < threshold:\n",
    "        print(\"Reject H0.\", \"There is a difference.\")\n",
    "    else:\n",
    "        print(\"H0 cannot be rejected\")"
   ],
   "metadata": {
    "collapsed": false,
    "pycharm": {
     "name": "#%%\n"
    }
   }
  },
  {
   "cell_type": "code",
   "execution_count": 82,
   "outputs": [
    {
     "name": "stdout",
     "output_type": "stream",
     "text": [
      "H0: There is no significant difference in the distribution of lap times STD between the ranking of drivers.\n"
     ]
    },
    {
     "data": {
      "text/plain": "<Figure size 432x288 with 1 Axes>",
      "image/png": "[encoded data removed]"
     },
     "metadata": {
      "needs_background": "light"
     },
     "output_type": "display_data"
    },
    {
     "name": "stdout",
     "output_type": "stream",
     "text": [
      "----------------------------------------------------------------------------------------\n",
      "P-value between high ranking drivers and low ranking drivers is 0.30846789394625385.\n",
      "----------------------------------------------------------------------------------------\n",
      "H0 cannot be rejected\n"
     ]
    }
   ],
   "source": [
    "rank_df_plt(lap_df)"
   ],
   "metadata": {
    "collapsed": false,
    "pycharm": {
     "name": "#%%\n"
    }
   }
  },
  {
   "cell_type": "code",
   "execution_count": null,
   "outputs": [],
   "source": [],
   "metadata": {
    "collapsed": false,
    "pycharm": {
     "name": "#%%\n"
    }
   }
  }
 ],
 "metadata": {
  "kernelspec": {
   "display_name": "Python 3",
   "language": "python",
   "name": "python3"
  },
  "language_info": {
   "codemirror_mode": {
    "name": "ipython",
    "version": 2
   },
   "file_extension": ".py",
   "mimetype": "text/x-python",
   "name": "python",
   "nbconvert_exporter": "python",
   "pygments_lexer": "ipython2",
   "version": "2.7.6"
  }
 },
 "nbformat": 4,
 "nbformat_minor": 0
}
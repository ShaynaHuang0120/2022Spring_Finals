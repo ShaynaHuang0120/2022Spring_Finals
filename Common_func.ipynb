{
 "cells": [
  {
   "cell_type": "markdown",
   "source": [
    "# Common Functions' Test Field"
   ],
   "metadata": {
    "collapsed": false,
    "pycharm": {
     "name": "#%% md\n"
    }
   }
  },
  {
   "cell_type": "code",
   "execution_count": 27,
   "metadata": {
    "collapsed": true
   },
   "outputs": [],
   "source": [
    "import pandas as pd\n",
    "import numpy as np\n",
    "import re\n",
    "from typing import List"
   ]
  },
  {
   "cell_type": "code",
   "execution_count": 92,
   "outputs": [],
   "source": [
    "def merge_data(_df_list: List[pd.DataFrame]) -> pd.DataFrame:\n",
    "    \"\"\"\n",
    "    merges the dataframes according to their primary/foreign keys\n",
    "    :param _df_list: list of dataframes to be merged\n",
    "    :return: the merged dataframe\n",
    "    \"\"\"\n",
    "    # set up internal parameters\n",
    "    suffixes = ['_1', '_2']\n",
    "    r = re.compile('\\w*Id')\n",
    "\n",
    "    # set up variables based on input\n",
    "    num = len(_df_list)  # length of the list\n",
    "    to_select = list(range(1,num))  # list of indexes of dataframe to be merged\n",
    "    remaining = set(range(1,num))  # set of remaining indexes of dataframes yet to be merged\n",
    "\n",
    "    # get all the '<something>id' columns for each dataframe\n",
    "    id_list = [set(filter(r.match, table)) for table in _df_list]\n",
    "    # set up the merged dataframe, 'mg_df'\n",
    "    mg_df = _df_list[0]\n",
    "    mg_id = id_list[0]  # set the id set of the merged dataframe as the first dataframe's id set\n",
    "\n",
    "    # start merging dataframes\n",
    "    while True:\n",
    "        merge_flag = 0  # flag indicating if a while-true run has merged any new dataframe\n",
    "        for index in to_select:\n",
    "            intersect = mg_id.intersection(id_list[index])\n",
    "            all_col_intersect = set(mg_df.columns).intersection(set(_df_list[index].columns))\n",
    "            # iterate through the remaining dataframe\n",
    "            # and merge those with common id(s)\n",
    "            if (index in remaining) and intersect:\n",
    "                if all_col_intersect == intersect:\n",
    "                    mg_df = pd.merge(mg_df, _df_list[index], on=list(intersect), how='left')\n",
    "                else:\n",
    "                    # if there are other common columns than the ids, set suffixes\n",
    "                    mg_df = pd.merge(mg_df, _df_list[index], on=list(intersect), how='left', suffixes=suffixes)\n",
    "                # add the new ids into the total id set of the merged dataframe\n",
    "                mg_id = mg_id.union(set(id_list[index]))\n",
    "                remaining.remove(index)  # remove the index of the added dataframe\n",
    "                merge_flag = 1\n",
    "        if not remaining:\n",
    "            break  # break if there is no more dataframe to be added\n",
    "        if not merge_flag:  # if no new dataframe was merged in this while-true run\n",
    "            print('Error: no common \"id\" columns found')\n",
    "            break  # breaks\n",
    "    return mg_df"
   ],
   "metadata": {
    "collapsed": false,
    "pycharm": {
     "name": "#%%\n"
    }
   }
  },
  {
   "cell_type": "code",
   "execution_count": 93,
   "outputs": [],
   "source": [
    "def process_data(mg_df: pd.DataFrame, normal_status=True) -> pd.DataFrame:\n",
    "    \"\"\"\n",
    "    process the data for analysis:\n",
    "    1. filter normal status\n",
    "    2. add total laps for each record\n",
    "    3. add total pit stops for each record\n",
    "    4. calculate the proportion of lap when the driver pit for each pit record\n",
    "    5. calculate how far the lap proportion deviates from the ideal even distribution for each pit record\n",
    "    :param mg_df: the merged dataframe\n",
    "    :param normal_status: if filter the dataframe with records that are finished or +? laps away from the finished\n",
    "    :return: the processed dataframe\n",
    "    \"\"\"\n",
    "    # 1. filtering normal status\n",
    "    if normal_status:\n",
    "        _status_select = [1, 11, 12, 13, 14, 15, 16, 17, 18, 19]\n",
    "        mg_df.drop(mg_df[~mg_df['statusId'].isin(_status_select)].index, inplace=True)\n",
    "    # 2&3. add total laps & total pit stops for each record\n",
    "    _total_laps = mg_df[(mg_df['positionOrder'] == 1) & (mg_df['stop'] == 1)].reset_index(drop=True)[['raceId', 'laps']]\n",
    "    _total_laps.columns = [str(_total_laps.columns[0]), 'total_laps']\n",
    "    _total_stops = mg_df.groupby(by=['raceId', 'driverId'], as_index=False)['stop'].max()\n",
    "    _total_stops.columns = list(_total_stops.columns[:2]) + ['total_stops']\n",
    "    # 4. calculate the proportion of lap when the driver pit for each pit record\n",
    "    mg_df = pd.merge(mg_df, _total_laps, on='raceId')\n",
    "    mg_df = pd.merge(mg_df, _total_stops, on=['raceId', 'driverId'])\n",
    "    # 5. calculate how far the lap proportion deviates from the ideal even distribution for each pit record\n",
    "    mg_df['lap_prop'] = mg_df.apply(lambda x: x['lap']/x['total_laps'], axis=1)\n",
    "    mg_df['abs_err'] = mg_df.apply(lambda x: abs(x['stop']/(x['total_stops']+1) - x['lap_prop']), axis=1)\n",
    "    return mg_df"
   ],
   "metadata": {
    "collapsed": false,
    "pycharm": {
     "name": "#%%\n"
    }
   }
  },
  {
   "cell_type": "code",
   "execution_count": 86,
   "outputs": [],
   "source": [
    "# Load data\n",
    "pit = pd.read_csv('data/pit_stops.csv')\n",
    "results = pd.read_csv('data/results.csv')\n",
    "status = pd.read_csv('data/status.csv')"
   ],
   "metadata": {
    "collapsed": false,
    "pycharm": {
     "name": "#%%\n"
    }
   }
  },
  {
   "cell_type": "code",
   "execution_count": null,
   "outputs": [],
   "source": [],
   "metadata": {
    "collapsed": false,
    "pycharm": {
     "name": "#%%\n"
    }
   }
  }
 ],
 "metadata": {
  "kernelspec": {
   "display_name": "Python 3",
   "language": "python",
   "name": "python3"
  },
  "language_info": {
   "codemirror_mode": {
    "name": "ipython",
    "version": 2
   },
   "file_extension": ".py",
   "mimetype": "text/x-python",
   "name": "python",
   "nbconvert_exporter": "python",
   "pygments_lexer": "ipython2",
   "version": "2.7.6"
  }
 },
 "nbformat": 4,
 "nbformat_minor": 0
}
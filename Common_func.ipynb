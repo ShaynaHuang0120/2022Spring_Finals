{
 "cells": [
  {
   "cell_type": "code",
   "execution_count": 4,
   "metadata": {
    "collapsed": true
   },
   "outputs": [],
   "source": [
    "import pandas as pd\n",
    "import numpy as np\n",
    "from typing import List"
   ]
  },
  {
   "cell_type": "code",
   "execution_count": null,
   "outputs": [],
   "source": [
    "def merge_data(_df_list: List[pd.DataFrame]) -> pd.DataFrame:\n",
    "    \"\"\"\n",
    "    merges the data files\n",
    "    :param _df_list:\n",
    "    :return:\n",
    "    \"\"\"\n",
    "    num = len(_df_list)\n",
    "    to_select = list(range(1,num))\n",
    "    for i\n",
    "\n",
    "    return mg_df"
   ],
   "metadata": {
    "collapsed": false,
    "pycharm": {
     "name": "#%%\n"
    }
   }
  },
  {
   "cell_type": "code",
   "execution_count": 2,
   "outputs": [],
   "source": [
    "# Load data\n",
    "pit = pd.read_csv('data/pit_stops.csv')\n",
    "results = pd.read_csv('data/results.csv')\n",
    "status = pd.read_csv('data/status.csv')"
   ],
   "metadata": {
    "collapsed": false,
    "pycharm": {
     "name": "#%%\n"
    }
   }
  },
  {
   "cell_type": "code",
   "execution_count": 6,
   "outputs": [],
   "source": [
    "def merge_tables(_pit: pd.DataFrame, _results: pd.DataFrame, _status: pd.DataFrame) -> pd.DataFrame:\n",
    "    \"\"\"\n",
    "    merges the data files\n",
    "    :param _pit:\n",
    "    :param _results:\n",
    "    :param _status:\n",
    "    :return:\n",
    "    \"\"\"\n",
    "    mg_df = pd.merge(_pit, _results, on=['raceId','driverId'], how = 'left', suffixes=('_pit', '_result'))\n",
    "    mg_df = pd.merge(mg_df, _status, on='statusId', how='left')\n",
    "    return mg_df"
   ],
   "metadata": {
    "collapsed": false,
    "pycharm": {
     "name": "#%%\n"
    }
   }
  },
  {
   "cell_type": "code",
   "execution_count": 17,
   "outputs": [],
   "source": [
    "df_merge = merge_tables(pit, results, status)"
   ],
   "metadata": {
    "collapsed": false,
    "pycharm": {
     "name": "#%%\n"
    }
   }
  },
  {
   "cell_type": "code",
   "execution_count": 10,
   "outputs": [
    {
     "data": {
      "text/plain": "       raceId  driverId  stop   lap      time duration  milliseconds  \\\n0       841.0     153.0   1.0   1.0  17:05:23   26.898       26898.0   \n1       841.0      30.0   1.0   1.0  17:05:52   25.021       25021.0   \n2       841.0      17.0   1.0  11.0  17:20:48   23.426       23426.0   \n3       841.0       4.0   1.0  12.0  17:22:34   23.251       23251.0   \n4       841.0      13.0   1.0  13.0  17:24:10   23.842       23842.0   \n...       ...       ...   ...   ...       ...      ...           ...   \n25455     NaN       NaN   NaN   NaN       NaN      NaN           NaN   \n25456     NaN       NaN   NaN   NaN       NaN      NaN           NaN   \n25457     NaN       NaN   NaN   NaN       NaN      NaN           NaN   \n25458     NaN       NaN   NaN   NaN       NaN      NaN           NaN   \n25459     NaN       NaN   NaN   NaN       NaN      NaN           NaN   \n\n       resultId  raceId  driverId  ...  laps         time  milliseconds  \\\n0             1      18         1  ...    58  1:34:50.616       5690616   \n1             2      18         2  ...    58       +5.478       5696094   \n2             3      18         3  ...    58       +8.163       5698779   \n3             4      18         4  ...    58      +17.181       5707797   \n4             5      18         5  ...    58      +18.014       5708630   \n...         ...     ...       ...  ...   ...          ...           ...   \n25455     25461    1076       849  ...    57           \\N            \\N   \n25456     25462    1076         4  ...    57           \\N            \\N   \n25457     25463    1076       830  ...    38           \\N            \\N   \n25458     25464    1076        20  ...    22           \\N            \\N   \n25459     25465    1076       832  ...     1           \\N            \\N   \n\n      fastestLap rank  fastestLapTime  fastestLapSpeed statusId statusId  \\\n0             39    2        1:27.452          218.300        1      1.0   \n1             41    3        1:27.739          217.586        1      2.0   \n2             41    5        1:28.090          216.719        1      3.0   \n3             58    7        1:28.603          215.464        1      4.0   \n4             43    1        1:27.418          218.385        1      5.0   \n...          ...  ...             ...              ...      ...      ...   \n25455         49   18        1:23.882          226.518       11      NaN   \n25456         57    2        1:20.846          235.024       11      NaN   \n25457         37    6        1:21.677          232.633        9      NaN   \n25458         17   19        1:25.189          223.042        3      NaN   \n25459         \\N    0              \\N               \\N       20      NaN   \n\n             status  \n0          Finished  \n1      Disqualified  \n2          Accident  \n3         Collision  \n4            Engine  \n...             ...  \n25455           NaN  \n25456           NaN  \n25457           NaN  \n25458           NaN  \n25459           NaN  \n\n[25460 rows x 27 columns]",
      "text/html": "<div>\n<style scoped>\n    .dataframe tbody tr th:only-of-type {\n        vertical-align: middle;\n    }\n\n    .dataframe tbody tr th {\n        vertical-align: top;\n    }\n\n    .dataframe thead th {\n        text-align: right;\n    }\n</style>\n<table border=\"1\" class=\"dataframe\">\n  <thead>\n    <tr style=\"text-align: right;\">\n      <th></th>\n      <th>raceId</th>\n      <th>driverId</th>\n      <th>stop</th>\n      <th>lap</th>\n      <th>time</th>\n      <th>duration</th>\n      <th>milliseconds</th>\n      <th>resultId</th>\n      <th>raceId</th>\n      <th>driverId</th>\n      <th>...</th>\n      <th>laps</th>\n      <th>time</th>\n      <th>milliseconds</th>\n      <th>fastestLap</th>\n      <th>rank</th>\n      <th>fastestLapTime</th>\n      <th>fastestLapSpeed</th>\n      <th>statusId</th>\n      <th>statusId</th>\n      <th>status</th>\n    </tr>\n  </thead>\n  <tbody>\n    <tr>\n      <th>0</th>\n      <td>841.0</td>\n      <td>153.0</td>\n      <td>1.0</td>\n      <td>1.0</td>\n      <td>17:05:23</td>\n      <td>26.898</td>\n      <td>26898.0</td>\n      <td>1</td>\n      <td>18</td>\n      <td>1</td>\n      <td>...</td>\n      <td>58</td>\n      <td>1:34:50.616</td>\n      <td>5690616</td>\n      <td>39</td>\n      <td>2</td>\n      <td>1:27.452</td>\n      <td>218.300</td>\n      <td>1</td>\n      <td>1.0</td>\n      <td>Finished</td>\n    </tr>\n    <tr>\n      <th>1</th>\n      <td>841.0</td>\n      <td>30.0</td>\n      <td>1.0</td>\n      <td>1.0</td>\n      <td>17:05:52</td>\n      <td>25.021</td>\n      <td>25021.0</td>\n      <td>2</td>\n      <td>18</td>\n      <td>2</td>\n      <td>...</td>\n      <td>58</td>\n      <td>+5.478</td>\n      <td>5696094</td>\n      <td>41</td>\n      <td>3</td>\n      <td>1:27.739</td>\n      <td>217.586</td>\n      <td>1</td>\n      <td>2.0</td>\n      <td>Disqualified</td>\n    </tr>\n    <tr>\n      <th>2</th>\n      <td>841.0</td>\n      <td>17.0</td>\n      <td>1.0</td>\n      <td>11.0</td>\n      <td>17:20:48</td>\n      <td>23.426</td>\n      <td>23426.0</td>\n      <td>3</td>\n      <td>18</td>\n      <td>3</td>\n      <td>...</td>\n      <td>58</td>\n      <td>+8.163</td>\n      <td>5698779</td>\n      <td>41</td>\n      <td>5</td>\n      <td>1:28.090</td>\n      <td>216.719</td>\n      <td>1</td>\n      <td>3.0</td>\n      <td>Accident</td>\n    </tr>\n    <tr>\n      <th>3</th>\n      <td>841.0</td>\n      <td>4.0</td>\n      <td>1.0</td>\n      <td>12.0</td>\n      <td>17:22:34</td>\n      <td>23.251</td>\n      <td>23251.0</td>\n      <td>4</td>\n      <td>18</td>\n      <td>4</td>\n      <td>...</td>\n      <td>58</td>\n      <td>+17.181</td>\n      <td>5707797</td>\n      <td>58</td>\n      <td>7</td>\n      <td>1:28.603</td>\n      <td>215.464</td>\n      <td>1</td>\n      <td>4.0</td>\n      <td>Collision</td>\n    </tr>\n    <tr>\n      <th>4</th>\n      <td>841.0</td>\n      <td>13.0</td>\n      <td>1.0</td>\n      <td>13.0</td>\n      <td>17:24:10</td>\n      <td>23.842</td>\n      <td>23842.0</td>\n      <td>5</td>\n      <td>18</td>\n      <td>5</td>\n      <td>...</td>\n      <td>58</td>\n      <td>+18.014</td>\n      <td>5708630</td>\n      <td>43</td>\n      <td>1</td>\n      <td>1:27.418</td>\n      <td>218.385</td>\n      <td>1</td>\n      <td>5.0</td>\n      <td>Engine</td>\n    </tr>\n    <tr>\n      <th>...</th>\n      <td>...</td>\n      <td>...</td>\n      <td>...</td>\n      <td>...</td>\n      <td>...</td>\n      <td>...</td>\n      <td>...</td>\n      <td>...</td>\n      <td>...</td>\n      <td>...</td>\n      <td>...</td>\n      <td>...</td>\n      <td>...</td>\n      <td>...</td>\n      <td>...</td>\n      <td>...</td>\n      <td>...</td>\n      <td>...</td>\n      <td>...</td>\n      <td>...</td>\n      <td>...</td>\n    </tr>\n    <tr>\n      <th>25455</th>\n      <td>NaN</td>\n      <td>NaN</td>\n      <td>NaN</td>\n      <td>NaN</td>\n      <td>NaN</td>\n      <td>NaN</td>\n      <td>NaN</td>\n      <td>25461</td>\n      <td>1076</td>\n      <td>849</td>\n      <td>...</td>\n      <td>57</td>\n      <td>\\N</td>\n      <td>\\N</td>\n      <td>49</td>\n      <td>18</td>\n      <td>1:23.882</td>\n      <td>226.518</td>\n      <td>11</td>\n      <td>NaN</td>\n      <td>NaN</td>\n    </tr>\n    <tr>\n      <th>25456</th>\n      <td>NaN</td>\n      <td>NaN</td>\n      <td>NaN</td>\n      <td>NaN</td>\n      <td>NaN</td>\n      <td>NaN</td>\n      <td>NaN</td>\n      <td>25462</td>\n      <td>1076</td>\n      <td>4</td>\n      <td>...</td>\n      <td>57</td>\n      <td>\\N</td>\n      <td>\\N</td>\n      <td>57</td>\n      <td>2</td>\n      <td>1:20.846</td>\n      <td>235.024</td>\n      <td>11</td>\n      <td>NaN</td>\n      <td>NaN</td>\n    </tr>\n    <tr>\n      <th>25457</th>\n      <td>NaN</td>\n      <td>NaN</td>\n      <td>NaN</td>\n      <td>NaN</td>\n      <td>NaN</td>\n      <td>NaN</td>\n      <td>NaN</td>\n      <td>25463</td>\n      <td>1076</td>\n      <td>830</td>\n      <td>...</td>\n      <td>38</td>\n      <td>\\N</td>\n      <td>\\N</td>\n      <td>37</td>\n      <td>6</td>\n      <td>1:21.677</td>\n      <td>232.633</td>\n      <td>9</td>\n      <td>NaN</td>\n      <td>NaN</td>\n    </tr>\n    <tr>\n      <th>25458</th>\n      <td>NaN</td>\n      <td>NaN</td>\n      <td>NaN</td>\n      <td>NaN</td>\n      <td>NaN</td>\n      <td>NaN</td>\n      <td>NaN</td>\n      <td>25464</td>\n      <td>1076</td>\n      <td>20</td>\n      <td>...</td>\n      <td>22</td>\n      <td>\\N</td>\n      <td>\\N</td>\n      <td>17</td>\n      <td>19</td>\n      <td>1:25.189</td>\n      <td>223.042</td>\n      <td>3</td>\n      <td>NaN</td>\n      <td>NaN</td>\n    </tr>\n    <tr>\n      <th>25459</th>\n      <td>NaN</td>\n      <td>NaN</td>\n      <td>NaN</td>\n      <td>NaN</td>\n      <td>NaN</td>\n      <td>NaN</td>\n      <td>NaN</td>\n      <td>25465</td>\n      <td>1076</td>\n      <td>832</td>\n      <td>...</td>\n      <td>1</td>\n      <td>\\N</td>\n      <td>\\N</td>\n      <td>\\N</td>\n      <td>0</td>\n      <td>\\N</td>\n      <td>\\N</td>\n      <td>20</td>\n      <td>NaN</td>\n      <td>NaN</td>\n    </tr>\n  </tbody>\n</table>\n<p>25460 rows × 27 columns</p>\n</div>"
     },
     "execution_count": 10,
     "metadata": {},
     "output_type": "execute_result"
    }
   ],
   "source": [
    "pd.concat([pit,results,status], join='outer', axis=1)"
   ],
   "metadata": {
    "collapsed": false,
    "pycharm": {
     "name": "#%%\n"
    }
   }
  },
  {
   "cell_type": "code",
   "execution_count": 14,
   "outputs": [],
   "source": [
    "df_tmp = pd.merge(pit, results, on=['raceId','driverId'], how = 'left', suffixes=('_pit', '_result'))"
   ],
   "metadata": {
    "collapsed": false,
    "pycharm": {
     "name": "#%%\n"
    }
   }
  },
  {
   "cell_type": "code",
   "execution_count": 16,
   "outputs": [],
   "source": [
    "df_mg_tmp = pd.concat([df_tmp, status], join='outer', axis=1)"
   ],
   "metadata": {
    "collapsed": false,
    "pycharm": {
     "name": "#%%\n"
    }
   }
  }
 ],
 "metadata": {
  "kernelspec": {
   "display_name": "Python 3",
   "language": "python",
   "name": "python3"
  },
  "language_info": {
   "codemirror_mode": {
    "name": "ipython",
    "version": 2
   },
   "file_extension": ".py",
   "mimetype": "text/x-python",
   "name": "python",
   "nbconvert_exporter": "python",
   "pygments_lexer": "ipython2",
   "version": "2.7.6"
  }
 },
 "nbformat": 4,
 "nbformat_minor": 0
}
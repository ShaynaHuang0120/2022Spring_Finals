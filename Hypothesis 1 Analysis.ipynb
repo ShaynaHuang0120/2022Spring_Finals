{
 "cells": [
  {
   "cell_type": "code",
   "execution_count": 31,
   "outputs": [],
   "source": [
    "import pandas as pd\n",
    "import numpy as np\n",
    "import matplotlib.pyplot as plt\n",
    "from scipy.stats import ttest_ind\n",
    "from scipy.stats import kstest\n",
    "from scipy.stats import mannwhitneyu\n",
    "from sklearn.utils import resample"
   ],
   "metadata": {
    "collapsed": false,
    "pycharm": {
     "name": "#%%\n"
    }
   }
  },
  {
   "cell_type": "code",
   "execution_count": 17,
   "outputs": [],
   "source": [
    "def merge_tables(_pit: pd.DataFrame, _results: pd.DataFrame, _status: pd.DataFrame) -> pd.DataFrame:\n",
    "    \"\"\"\n",
    "    merges the data files\n",
    "    :param _pit:\n",
    "    :param _results:\n",
    "    :param _status:\n",
    "    :return:\n",
    "    \"\"\"\n",
    "    _select_col = ['raceId','driverId','positionOrder', 'laps', 'time','statusId']\n",
    "    mg_df = pd.merge(_pit, _results[_select_col], on=['raceId','driverId'], how = 'left', suffixes=('_pit', '_result'))\n",
    "    mg_df = pd.merge(mg_df, _status, on='statusId', how='left')\n",
    "\n",
    "    _status_select = [1, 11, 12, 13, 14, 15, 16, 17, 18, 19]\n",
    "    mg_df.drop(mg_df[~mg_df['statusId'].isin(_status_select)].index, inplace=True)\n",
    "    return mg_df\n",
    "\n",
    "\n",
    "def process_laps_stops(mg_df: pd.DataFrame) -> pd.DataFrame:\n",
    "    _total_laps = mg_df[(mg_df['positionOrder'] == 1) & (mg_df['stop'] == 1)].reset_index(drop=True)[['raceId', 'laps']]\n",
    "    _total_laps.columns = [str(_total_laps.columns[0]), 'total_laps']\n",
    "    _total_stops = mg_df.groupby(by=['raceId', 'driverId'], as_index=False)['stop'].max()\n",
    "    _total_stops.columns = list(_total_stops.columns[:2]) + ['total_stops']\n",
    "\n",
    "    mg_df = pd.merge(mg_df, _total_laps, on='raceId')\n",
    "    mg_df = pd.merge(mg_df, _total_stops, on=['raceId', 'driverId'])\n",
    "    mg_df['lap_prop'] = mg_df.apply(lambda x: x['lap']/x['total_laps'], axis=1)\n",
    "    mg_df['abs_err'] = mg_df.apply(lambda x: abs(x['stop']/(x['total_stops']+1) - x['lap_prop']), axis=1)\n",
    "    return mg_df\n",
    "\n",
    "\n",
    "def get_err_mean(mg_df: pd.DataFrame):\n",
    "    avg_err = pd.DataFrame(mg_df.groupby(['raceId', 'driverId'])['abs_err'].mean())\n",
    "    avg_err = avg_err.add_suffix('_mean').reset_index()\n",
    "    select_columns = ['raceId', 'driverId', 'positionOrder', 'abs_err_mean']\n",
    "    test_df = mg_df.merge(avg_err, on=['raceId', 'driverId'])[select_columns]\n",
    "    test_df = test_df.drop_duplicates()\n",
    "    top_number = 5\n",
    "    _df_front = test_df[test_df['positionOrder'] <= top_number]['abs_err_mean']\n",
    "    _df_back = test_df[test_df['positionOrder'] > top_number]['abs_err_mean']\n",
    "    return _df_front, _df_back\n",
    "\n",
    "\n",
    "def group_by_stop_num(df: pd.DataFrame) -> dict:\n",
    "    pit_stop_max = df['total_stops'].max()\n",
    "    _df_dict = {}\n",
    "    for i in range(1, pit_stop_max+1):\n",
    "        _df_dict[i] = df[df['total_stops']==i][['stop','positionOrder','lap_prop']]\n",
    "    return _df_dict\n",
    "\n",
    "\n",
    "def df_to_list(mg_df: pd.DataFrame, select_col='lap_prop', max_pit = 3, top_num = 5):\n",
    "    df_front = []\n",
    "    df_back = []\n",
    "    for i in range(1, max_pit+1):\n",
    "        df_tmp = mg_df[mg_df['total_stops']==i]\n",
    "        for j in range(1, i+1):\n",
    "            df_select = df_tmp[df_tmp['stop']==j]\n",
    "            df_front.append(df_select[df_select['positionOrder'] <= top_num][['stop', select_col]])\n",
    "            df_back.append(df_select[df_select['positionOrder'] > top_num][['stop', select_col]])\n",
    "    return df_front, df_back\n",
    "\n",
    "\n",
    "def comparison_plot(list_1: [pd.DataFrame], list_2: [pd.DataFrame], select_col='lap_prop',\n",
    "                    show_mean=True, show_description=True, divide=True, non_para=False, save_fig=False):\n",
    "    \"\"\"\n",
    "    d\n",
    "    :param non_para:\n",
    "    :param divide:\n",
    "    :param select_col:\n",
    "    :param list_1:\n",
    "    :param list_2:\n",
    "    :param save_fig:\n",
    "    :param show_description:\n",
    "    :param show_mean:\n",
    "    :return:\n",
    "    \"\"\"\n",
    "    bins = np.linspace(0,1,50)\n",
    "    color_bin = ['tab:blue', 'tab:orange', 'tab:red']\n",
    "    color_bin2 = ['deepskyblue', 'crimson', 'lavender']\n",
    "\n",
    "    plot_index = [[1,1], [2,1], [2,2], [3,1], [3,2], [3,3]]\n",
    "    plot_num = 6\n",
    "\n",
    "    for _i in range(plot_num):\n",
    "        _total = plot_index[_i][0]  # total pit stops\n",
    "        _pit = plot_index[_i][1]  # pit stop number\n",
    "        df_f = list_1[_i][select_col]  # front\n",
    "        df_b = resample(list_2[_i][select_col],\n",
    "                        replace=True, n_samples=len(df_f), random_state=123)  # back\n",
    "\n",
    "        plt.figure(figsize=(12,6))\n",
    "        plt.hist(df_b, bins, alpha=0.8, color=color_bin[2])\n",
    "        plt.hist(df_f, bins, alpha=0.8, color=color_bin[0])\n",
    "\n",
    "        df_f_mean = round(df_f.mean(), ndigits=3)\n",
    "        df_b_mean = round(df_b.mean(), ndigits=3)\n",
    "        if show_mean:\n",
    "            plt.axvline(x=df_f_mean, color=color_bin2[0], linewidth=4)\n",
    "            plt.axvline(x=df_b_mean, color=color_bin2[1], linewidth=4)\n",
    "            if divide: plt.axvline(x=_pit/(_total+1), color='gold', linewidth=4)\n",
    "        if show_description:\n",
    "            if not non_para:\n",
    "                p_value = ttest_ind(df_f, df_b).pvalue\n",
    "            else:\n",
    "                p_value = kstest(df_f, df_b).pvalue\n",
    "            print(f'Total Pits: {_total}, no.{_pit} pit, p value={p_value}')\n",
    "\n",
    "        if save_fig: plt.savefig(f'image/hypo3/distribution_{_total}_{_pit}.png', transparent=False)\n",
    "        plt.show()\n",
    "\n",
    "\n",
    "def err_mean_plot(_df_front: pd.DataFrame, _df_back: pd.DataFrame, save_fig=False):\n",
    "    df_f = _df_front\n",
    "    df_b = resample(_df_back, replace=True, n_samples=len(df_f), random_state=123)\n",
    "\n",
    "    bins = np.linspace(0,1,50)\n",
    "    color_bin = ['tab:blue', 'tab:orange', 'tab:red']\n",
    "    color_bin2 = ['deepskyblue', 'crimson', 'lavender']\n",
    "\n",
    "    plt.figure(figsize=(12,6))\n",
    "    plt.hist(df_b, bins, alpha=0.8, color=color_bin[2])\n",
    "    plt.hist(df_f, bins, alpha=0.8, color=color_bin[0])\n",
    "\n",
    "    df_f_mean = round(df_f.mean(), ndigits=3)\n",
    "    df_b_mean = round(df_b.mean(), ndigits=3)\n",
    "\n",
    "    plt.axvline(x=df_f_mean, color=color_bin2[0], linewidth=4)\n",
    "    plt.axvline(x=df_b_mean, color=color_bin2[1], linewidth=4)\n",
    "\n",
    "    p_value = kstest(df_f, df_b).pvalue\n",
    "    print(f'KS test p value={p_value}')\n",
    "\n",
    "    if save_fig: plt.savefig(f'image/hypo3/err_mean.png', transparent=False)\n",
    "    plt.show()"
   ],
   "metadata": {
    "collapsed": false,
    "pycharm": {
     "name": "#%%\n"
    }
   }
  },
  {
   "cell_type": "code",
   "execution_count": 18,
   "outputs": [],
   "source": [
    "# Load data\n",
    "pit = pd.read_csv('data/pit_stops.csv')\n",
    "results = pd.read_csv('data/results.csv')\n",
    "status = pd.read_csv('data/status.csv')"
   ],
   "metadata": {
    "collapsed": false,
    "pycharm": {
     "name": "#%%\n"
    }
   }
  },
  {
   "cell_type": "code",
   "execution_count": 19,
   "outputs": [],
   "source": [
    "# Process the data files\n",
    "merge_df = merge_tables(pit, results, status)\n",
    "merge_df = process_laps_stops(merge_df)\n",
    "df_dict = group_by_stop_num(merge_df)"
   ],
   "metadata": {
    "collapsed": false,
    "pycharm": {
     "name": "#%%\n"
    }
   }
  },
  {
   "cell_type": "code",
   "execution_count": 20,
   "outputs": [
    {
     "data": {
      "text/plain": "      raceId  driverId  stop  lap  time_pit duration  milliseconds  \\\n0        841       153     1    1  17:05:23   26.898         26898   \n1        841       153     2   17  17:31:06   24.463         24463   \n2        841       153     3   35  17:59:45   26.348         26348   \n3        841        17     1   11  17:20:48   23.426         23426   \n4        841        17     2   26  17:44:29   22.520         22520   \n...      ...       ...   ...  ...       ...      ...           ...   \n7913    1076       847     1   23  15:38:51   18.479         18479   \n7914    1076         4     1   39  16:05:24   18.796         18796   \n7915    1076         4     2   53  16:25:28   18.394         18394   \n7916    1076       825     1   39  16:05:30   19.111         19111   \n7917    1076       848     1   57  16:30:33   19.845         19845   \n\n      positionOrder  laps time_result  statusId    status  total_laps  \\\n0                11    57          \\N        11    +1 Lap          58   \n1                11    57          \\N        11    +1 Lap          58   \n2                11    57          \\N        11    +1 Lap          58   \n3                 5    58     +38.171         1  Finished          58   \n4                 5    58     +38.171         1  Finished          58   \n...             ...   ...         ...       ...       ...         ...   \n7913              3    58     +25.593         1  Finished          58   \n7914             17    57          \\N        11    +1 Lap          58   \n7915             17    57          \\N        11    +1 Lap          58   \n7916             14    57          \\N        11    +1 Lap          58   \n7917             10    58   +1:19.382         1  Finished          58   \n\n      total_stops  lap_prop   abs_err  \n0               3  0.017241  0.232759  \n1               3  0.293103  0.206897  \n2               3  0.603448  0.146552  \n3               3  0.189655  0.060345  \n4               3  0.448276  0.051724  \n...           ...       ...       ...  \n7913            1  0.396552  0.103448  \n7914            2  0.672414  0.339080  \n7915            2  0.913793  0.247126  \n7916            1  0.672414  0.172414  \n7917            1  0.982759  0.482759  \n\n[7918 rows x 16 columns]",
      "text/html": "<div>\n<style scoped>\n    .dataframe tbody tr th:only-of-type {\n        vertical-align: middle;\n    }\n\n    .dataframe tbody tr th {\n        vertical-align: top;\n    }\n\n    .dataframe thead th {\n        text-align: right;\n    }\n</style>\n<table border=\"1\" class=\"dataframe\">\n  <thead>\n    <tr style=\"text-align: right;\">\n      <th></th>\n      <th>raceId</th>\n      <th>driverId</th>\n      <th>stop</th>\n      <th>lap</th>\n      <th>time_pit</th>\n      <th>duration</th>\n      <th>milliseconds</th>\n      <th>positionOrder</th>\n      <th>laps</th>\n      <th>time_result</th>\n      <th>statusId</th>\n      <th>status</th>\n      <th>total_laps</th>\n      <th>total_stops</th>\n      <th>lap_prop</th>\n      <th>abs_err</th>\n    </tr>\n  </thead>\n  <tbody>\n    <tr>\n      <th>0</th>\n      <td>841</td>\n      <td>153</td>\n      <td>1</td>\n      <td>1</td>\n      <td>17:05:23</td>\n      <td>26.898</td>\n      <td>26898</td>\n      <td>11</td>\n      <td>57</td>\n      <td>\\N</td>\n      <td>11</td>\n      <td>+1 Lap</td>\n      <td>58</td>\n      <td>3</td>\n      <td>0.017241</td>\n      <td>0.232759</td>\n    </tr>\n    <tr>\n      <th>1</th>\n      <td>841</td>\n      <td>153</td>\n      <td>2</td>\n      <td>17</td>\n      <td>17:31:06</td>\n      <td>24.463</td>\n      <td>24463</td>\n      <td>11</td>\n      <td>57</td>\n      <td>\\N</td>\n      <td>11</td>\n      <td>+1 Lap</td>\n      <td>58</td>\n      <td>3</td>\n      <td>0.293103</td>\n      <td>0.206897</td>\n    </tr>\n    <tr>\n      <th>2</th>\n      <td>841</td>\n      <td>153</td>\n      <td>3</td>\n      <td>35</td>\n      <td>17:59:45</td>\n      <td>26.348</td>\n      <td>26348</td>\n      <td>11</td>\n      <td>57</td>\n      <td>\\N</td>\n      <td>11</td>\n      <td>+1 Lap</td>\n      <td>58</td>\n      <td>3</td>\n      <td>0.603448</td>\n      <td>0.146552</td>\n    </tr>\n    <tr>\n      <th>3</th>\n      <td>841</td>\n      <td>17</td>\n      <td>1</td>\n      <td>11</td>\n      <td>17:20:48</td>\n      <td>23.426</td>\n      <td>23426</td>\n      <td>5</td>\n      <td>58</td>\n      <td>+38.171</td>\n      <td>1</td>\n      <td>Finished</td>\n      <td>58</td>\n      <td>3</td>\n      <td>0.189655</td>\n      <td>0.060345</td>\n    </tr>\n    <tr>\n      <th>4</th>\n      <td>841</td>\n      <td>17</td>\n      <td>2</td>\n      <td>26</td>\n      <td>17:44:29</td>\n      <td>22.520</td>\n      <td>22520</td>\n      <td>5</td>\n      <td>58</td>\n      <td>+38.171</td>\n      <td>1</td>\n      <td>Finished</td>\n      <td>58</td>\n      <td>3</td>\n      <td>0.448276</td>\n      <td>0.051724</td>\n    </tr>\n    <tr>\n      <th>...</th>\n      <td>...</td>\n      <td>...</td>\n      <td>...</td>\n      <td>...</td>\n      <td>...</td>\n      <td>...</td>\n      <td>...</td>\n      <td>...</td>\n      <td>...</td>\n      <td>...</td>\n      <td>...</td>\n      <td>...</td>\n      <td>...</td>\n      <td>...</td>\n      <td>...</td>\n      <td>...</td>\n    </tr>\n    <tr>\n      <th>7913</th>\n      <td>1076</td>\n      <td>847</td>\n      <td>1</td>\n      <td>23</td>\n      <td>15:38:51</td>\n      <td>18.479</td>\n      <td>18479</td>\n      <td>3</td>\n      <td>58</td>\n      <td>+25.593</td>\n      <td>1</td>\n      <td>Finished</td>\n      <td>58</td>\n      <td>1</td>\n      <td>0.396552</td>\n      <td>0.103448</td>\n    </tr>\n    <tr>\n      <th>7914</th>\n      <td>1076</td>\n      <td>4</td>\n      <td>1</td>\n      <td>39</td>\n      <td>16:05:24</td>\n      <td>18.796</td>\n      <td>18796</td>\n      <td>17</td>\n      <td>57</td>\n      <td>\\N</td>\n      <td>11</td>\n      <td>+1 Lap</td>\n      <td>58</td>\n      <td>2</td>\n      <td>0.672414</td>\n      <td>0.339080</td>\n    </tr>\n    <tr>\n      <th>7915</th>\n      <td>1076</td>\n      <td>4</td>\n      <td>2</td>\n      <td>53</td>\n      <td>16:25:28</td>\n      <td>18.394</td>\n      <td>18394</td>\n      <td>17</td>\n      <td>57</td>\n      <td>\\N</td>\n      <td>11</td>\n      <td>+1 Lap</td>\n      <td>58</td>\n      <td>2</td>\n      <td>0.913793</td>\n      <td>0.247126</td>\n    </tr>\n    <tr>\n      <th>7916</th>\n      <td>1076</td>\n      <td>825</td>\n      <td>1</td>\n      <td>39</td>\n      <td>16:05:30</td>\n      <td>19.111</td>\n      <td>19111</td>\n      <td>14</td>\n      <td>57</td>\n      <td>\\N</td>\n      <td>11</td>\n      <td>+1 Lap</td>\n      <td>58</td>\n      <td>1</td>\n      <td>0.672414</td>\n      <td>0.172414</td>\n    </tr>\n    <tr>\n      <th>7917</th>\n      <td>1076</td>\n      <td>848</td>\n      <td>1</td>\n      <td>57</td>\n      <td>16:30:33</td>\n      <td>19.845</td>\n      <td>19845</td>\n      <td>10</td>\n      <td>58</td>\n      <td>+1:19.382</td>\n      <td>1</td>\n      <td>Finished</td>\n      <td>58</td>\n      <td>1</td>\n      <td>0.982759</td>\n      <td>0.482759</td>\n    </tr>\n  </tbody>\n</table>\n<p>7918 rows × 16 columns</p>\n</div>"
     },
     "execution_count": 20,
     "metadata": {},
     "output_type": "execute_result"
    }
   ],
   "source": [
    "merge_df"
   ],
   "metadata": {
    "collapsed": false,
    "pycharm": {
     "name": "#%%\n"
    }
   }
  },
  {
   "cell_type": "code",
   "execution_count": 27,
   "outputs": [],
   "source": [
    "rank_list = [df_dict[i]['positionOrder'] for i in range(1,4)]"
   ],
   "metadata": {
    "collapsed": false,
    "pycharm": {
     "name": "#%%\n"
    }
   }
  },
  {
   "cell_type": "code",
   "execution_count": 32,
   "outputs": [
    {
     "data": {
      "text/plain": "MannwhitneyuResult(statistic=1629878.5, pvalue=7.2111508478847934e-06)"
     },
     "execution_count": 32,
     "metadata": {},
     "output_type": "execute_result"
    }
   ],
   "source": [
    "mannwhitneyu(rank_list[0], rank_list[1])"
   ],
   "metadata": {
    "collapsed": false,
    "pycharm": {
     "name": "#%%\n"
    }
   }
  },
  {
   "cell_type": "code",
   "execution_count": 33,
   "outputs": [
    {
     "data": {
      "text/plain": "MannwhitneyuResult(statistic=1157671.5, pvalue=4.758075330042359e-19)"
     },
     "execution_count": 33,
     "metadata": {},
     "output_type": "execute_result"
    }
   ],
   "source": [
    "mannwhitneyu(rank_list[0], rank_list[2])"
   ],
   "metadata": {
    "collapsed": false,
    "pycharm": {
     "name": "#%%\n"
    }
   }
  },
  {
   "cell_type": "code",
   "execution_count": 34,
   "outputs": [
    {
     "data": {
      "text/plain": "MannwhitneyuResult(statistic=3285969.5, pvalue=1.3113144352403548e-09)"
     },
     "execution_count": 34,
     "metadata": {},
     "output_type": "execute_result"
    }
   ],
   "source": [
    "mannwhitneyu(rank_list[1], rank_list[2])"
   ],
   "metadata": {
    "collapsed": false,
    "pycharm": {
     "name": "#%%\n"
    }
   }
  },
  {
   "cell_type": "code",
   "execution_count": 36,
   "outputs": [
    {
     "data": {
      "text/plain": "8.521591871295513"
     },
     "execution_count": 36,
     "metadata": {},
     "output_type": "execute_result"
    }
   ],
   "source": [
    "rank_list[0].mean()"
   ],
   "metadata": {
    "collapsed": false,
    "pycharm": {
     "name": "#%%\n"
    }
   }
  },
  {
   "cell_type": "code",
   "execution_count": 37,
   "outputs": [
    {
     "data": {
      "text/plain": "9.334433806536811"
     },
     "execution_count": 37,
     "metadata": {},
     "output_type": "execute_result"
    }
   ],
   "source": [
    "rank_list[1].mean()"
   ],
   "metadata": {
    "collapsed": false,
    "pycharm": {
     "name": "#%%\n"
    }
   }
  },
  {
   "cell_type": "code",
   "execution_count": 38,
   "outputs": [
    {
     "data": {
      "text/plain": "10.248853689037098"
     },
     "execution_count": 38,
     "metadata": {},
     "output_type": "execute_result"
    }
   ],
   "source": [
    "rank_list[2].mean()"
   ],
   "metadata": {
    "collapsed": false,
    "pycharm": {
     "name": "#%%\n"
    }
   }
  },
  {
   "cell_type": "code",
   "execution_count": null,
   "outputs": [],
   "source": [],
   "metadata": {
    "collapsed": false,
    "pycharm": {
     "name": "#%%\n"
    }
   }
  }
 ],
 "metadata": {
  "kernelspec": {
   "display_name": "Python 3",
   "language": "python",
   "name": "python3"
  },
  "language_info": {
   "codemirror_mode": {
    "name": "ipython",
    "version": 2
   },
   "file_extension": ".py",
   "mimetype": "text/x-python",
   "name": "python",
   "nbconvert_exporter": "python",
   "pygments_lexer": "ipython2",
   "version": "2.7.6"
  }
 },
 "nbformat": 4,
 "nbformat_minor": 0
}
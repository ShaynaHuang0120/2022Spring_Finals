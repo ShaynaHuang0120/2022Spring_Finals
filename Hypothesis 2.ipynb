{
 "cells": [
  {
   "cell_type": "code",
   "execution_count": 11,
   "metadata": {
    "collapsed": true
   },
   "outputs": [],
   "source": [
    "import pandas as pd\n",
    "import numpy as np\n",
    "import matplotlib.pyplot as plt\n",
    "from scipy.stats import ttest_ind\n",
    "import re\n",
    "from typing import List"
   ]
  },
  {
   "cell_type": "code",
   "execution_count": 14,
   "outputs": [],
   "source": [
    "def merge_data(_df_list: List[pd.DataFrame]) -> pd.DataFrame:\n",
    "    \"\"\"\n",
    "    merges the dataframes according to their primary/foreign keys\n",
    "    :param _df_list: list of dataframes to be merged\n",
    "    :return: the merged dataframe\n",
    "    \"\"\"\n",
    "    # set up internal parameters\n",
    "    suffixes = ['_1', '_2']\n",
    "    r = re.compile('\\w*Id')\n",
    "\n",
    "    # set up variables based on input\n",
    "    num = len(_df_list)  # length of the list\n",
    "    to_select = list(range(1,num))  # list of indexes of dataframe to be merged\n",
    "    remaining = set(range(1,num))  # set of remaining indexes of dataframes yet to be merged\n",
    "\n",
    "    # get all the '<something>id' columns for each dataframe\n",
    "    id_list = [set(filter(r.match, table)) for table in _df_list]\n",
    "    # set up the merged dataframe, 'mg_df'\n",
    "    mg_df = _df_list[0]\n",
    "    mg_id = id_list[0]  # set the id set of the merged dataframe as the first dataframe's id set\n",
    "\n",
    "    # start merging dataframes\n",
    "    while True:\n",
    "        merge_flag = 0  # flag indicating if a while-true run has merged any new dataframe\n",
    "        for index in to_select:\n",
    "            intersect = mg_id.intersection(id_list[index])\n",
    "            all_col_intersect = set(mg_df.columns).intersection(set(_df_list[index].columns))\n",
    "            # iterate through the remaining dataframe\n",
    "            # and merge those with common id(s)\n",
    "            if (index in remaining) and intersect:\n",
    "                if all_col_intersect == intersect:\n",
    "                    mg_df = pd.merge(mg_df, _df_list[index], on=list(intersect), how='left')\n",
    "                else:\n",
    "                    # if there are other common columns than the ids, set suffixes\n",
    "                    mg_df = pd.merge(mg_df, _df_list[index], on=list(intersect), how='left', suffixes=suffixes)\n",
    "                # add the new ids into the total id set of the merged dataframe\n",
    "                mg_id = mg_id.union(set(id_list[index]))\n",
    "                remaining.remove(index)  # remove the index of the added dataframe\n",
    "                merge_flag = 1\n",
    "        if not remaining:\n",
    "            break  # break if there is no more dataframe to be added\n",
    "        if not merge_flag:  # if no new dataframe was merged in this while-true run\n",
    "            print('Error: no common \"id\" columns found')\n",
    "            break  # breaks\n",
    "    return mg_df\n",
    "\n",
    "\n",
    "def process_data(mg_df: pd.DataFrame, normal_status=True) -> pd.DataFrame:\n",
    "    \"\"\"\n",
    "    process the data for analysis:\n",
    "    1. filter normal status\n",
    "    2. add total laps for each record\n",
    "    3. add total pit stops for each record\n",
    "    4. calculate the proportion of lap when the driver pit for each pit record\n",
    "    5. calculate how far the lap proportion deviates from the ideal even distribution for each pit record\n",
    "    :param mg_df: the merged dataframe\n",
    "    :param normal_status: if filter the dataframe with records that are finished or +? laps away from the finished\n",
    "    :return: the processed dataframe\n",
    "    \"\"\"\n",
    "    # 1. filtering normal status\n",
    "    if normal_status:\n",
    "        _status_select = [1, 11, 12, 13, 14, 15, 16, 17, 18, 19]\n",
    "        mg_df.drop(mg_df[~mg_df['statusId'].isin(_status_select)].index, inplace=True)\n",
    "    # 2&3. add total laps & total pit stops for each record\n",
    "    _total_laps = mg_df[(mg_df['positionOrder'] == 1) & (mg_df['stop'] == 1)].reset_index(drop=True)[['raceId', 'laps']]\n",
    "    _total_laps.columns = [str(_total_laps.columns[0]), 'total_laps']\n",
    "    _total_stops = mg_df.groupby(by=['raceId', 'driverId'], as_index=False)['stop'].max()\n",
    "    _total_stops.columns = list(_total_stops.columns[:2]) + ['total_stops']\n",
    "    # 4. calculate the proportion of lap when the driver pit for each pit record\n",
    "    mg_df = pd.merge(mg_df, _total_laps, on='raceId')\n",
    "    mg_df = pd.merge(mg_df, _total_stops, on=['raceId', 'driverId'])\n",
    "    # 5. calculate how far the lap proportion deviates from the ideal even distribution for each pit record\n",
    "    mg_df['lap_prop'] = mg_df.apply(lambda x: x['lap']/x['total_laps'], axis=1)\n",
    "    mg_df['abs_err'] = mg_df.apply(lambda x: abs(x['stop']/(x['total_stops']+1) - x['lap_prop']), axis=1)\n",
    "    return mg_df\n",
    "\n",
    "\n",
    "def pit_stop_group(df: pd.DataFrame) -> dict:\n",
    "    \"\"\"\n",
    "    group the records by the total number of pit stops of each racing record\n",
    "    :param df: the merged and processed dataframe\n",
    "    :return: a dictionary with total pit numbers as keys and dataframe of records as values\n",
    "    \"\"\"\n",
    "    max_num = df['total_stops'].max()\n",
    "    _df_dict = {}\n",
    "    for i in range(1, max_num+1):\n",
    "        _df_dict[i] = df[df['total_stops']==i][['stop','positionOrder','lap_prop']]\n",
    "    return _df_dict\n",
    "\n",
    "\n",
    "def distribution_plot(_df_dict: dict, show_mean=True, show_description=True, save_fig=False):\n",
    "    \"\"\"\n",
    "    d\n",
    "    :param save_fig:\n",
    "    :param show_description:\n",
    "    :param show_mean:\n",
    "    :param _df_dict:\n",
    "    :return:\n",
    "    \"\"\"\n",
    "    bins = np.linspace(0,1,50)\n",
    "    color_bin = ['tab:blue', 'tab:orange', 'lightcoral']\n",
    "    color_bin2 = ['deepskyblue', 'gold', 'crimson']\n",
    "    max_num_of_stops = 3\n",
    "\n",
    "    for ps_num in range(1, max_num_of_stops+1):\n",
    "        plt.figure(figsize=(8,6))\n",
    "        _df_tmp = _df_dict[ps_num]\n",
    "        _df_list = [_df_tmp[_df_tmp['stop'] == i]['lap_prop'] for i in range(1, ps_num+1)]\n",
    "        plot_count = 0\n",
    "        if show_description: print('////////////////////////////////////////////////////////////////////////////////////////')\n",
    "        print('Total Pit Stops: ', ps_num)\n",
    "        for df in _df_list:\n",
    "            plt.hist(df, bins, alpha=0.7, color=color_bin[plot_count])\n",
    "            df_mean = round(df.mean(), ndigits=3)\n",
    "            df_std = round(df.std(), ndigits=3)\n",
    "            if show_mean: plt.axvline(x=df_mean, color=color_bin2[plot_count], linewidth=4)\n",
    "            plot_count += 1\n",
    "            if not show_description: continue\n",
    "            print('No. ', plot_count, ' pit stop: ', 'mean = ', df_mean, ' std = ', df_std)\n",
    "            perc_1 = len(df[(df <= df_mean + df_std) & (df >= df_mean - df_std)])/len(df)\n",
    "            perc_2 = len(df[(df <= df_mean + 2*df_std) & (df >= df_mean - 2*df_std)])/len(df)\n",
    "            perc_1 = round(100*perc_1, ndigits=1)\n",
    "            perc_2 = round(100*perc_2, ndigits=1)\n",
    "            print(f'    {perc_1}% within mean ± 1 std')\n",
    "            print(f'    {perc_2}% within mean ± 2 std')\n",
    "        if save_fig: plt.savefig(f'image/hypo2/distribution_{ps_num}.png')\n",
    "        plt.show()"
   ],
   "metadata": {
    "collapsed": false,
    "pycharm": {
     "name": "#%%\n"
    }
   }
  },
  {
   "cell_type": "code",
   "execution_count": 15,
   "outputs": [],
   "source": [
    "# Load data\n",
    "pit = pd.read_csv('data/pit_stops.csv')\n",
    "results = pd.read_csv('data/results.csv')\n",
    "status = pd.read_csv('data/status.csv')"
   ],
   "metadata": {
    "collapsed": false,
    "pycharm": {
     "name": "#%%\n"
    }
   }
  },
  {
   "cell_type": "code",
   "execution_count": 17,
   "outputs": [],
   "source": [
    "# Process the data files\n",
    "merge_df = merge_data([pit, results, status])\n",
    "merge_df = process_data(merge_df)\n",
    "df_dict = pit_stop_group(merge_df)"
   ],
   "metadata": {
    "collapsed": false,
    "pycharm": {
     "name": "#%%\n"
    }
   }
  },
  {
   "cell_type": "code",
   "execution_count": 18,
   "outputs": [
    {
     "data": {
      "text/plain": "      raceId  driverId  stop  lap    time_1 duration  milliseconds_1  \\\n0        841       153     1    1  17:05:23   26.898           26898   \n1        841       153     2   17  17:31:06   24.463           24463   \n2        841       153     3   35  17:59:45   26.348           26348   \n3        841        17     1   11  17:20:48   23.426           23426   \n4        841        17     2   26  17:44:29   22.520           22520   \n...      ...       ...   ...  ...       ...      ...             ...   \n7913    1076       847     1   23  15:38:51   18.479           18479   \n7914    1076         4     1   39  16:05:24   18.796           18796   \n7915    1076         4     2   53  16:25:28   18.394           18394   \n7916    1076       825     1   39  16:05:30   19.111           19111   \n7917    1076       848     1   57  16:30:33   19.845           19845   \n\n      resultId  constructorId number  ...  fastestLap rank fastestLapTime  \\\n0        20789              5     19  ...          41   10       1:30.467   \n1        20789              5     19  ...          41   10       1:30.467   \n2        20789              5     19  ...          41   10       1:30.467   \n3        20783              9      2  ...          50    3       1:29.600   \n4        20783              9      2  ...          50    3       1:29.600   \n...        ...            ...    ...  ...         ...  ...            ...   \n7913     25448            131     63  ...          53    4       1:21.495   \n7914     25462            214     14  ...          57    2       1:20.846   \n7915     25462            214     14  ...          57    2       1:20.846   \n7916     25459            210     20  ...          44   15       1:23.071   \n7917     25455              3     23  ...          54   12       1:22.589   \n\n      fastestLapSpeed  statusId    status total_laps total_stops  lap_prop  \\\n0             211.025        11    +1 Lap         58           3  0.017241   \n1             211.025        11    +1 Lap         58           3  0.293103   \n2             211.025        11    +1 Lap         58           3  0.603448   \n3             213.066         1  Finished         58           3  0.189655   \n4             213.066         1  Finished         58           3  0.448276   \n...               ...       ...       ...        ...         ...       ...   \n7913          233.152         1  Finished         58           1  0.396552   \n7914          235.024        11    +1 Lap         58           2  0.672414   \n7915          235.024        11    +1 Lap         58           2  0.913793   \n7916          228.729        11    +1 Lap         58           1  0.672414   \n7917          230.064         1  Finished         58           1  0.982759   \n\n       abs_err  \n0     0.232759  \n1     0.206897  \n2     0.146552  \n3     0.060345  \n4     0.051724  \n...        ...  \n7913  0.103448  \n7914  0.339080  \n7915  0.247126  \n7916  0.172414  \n7917  0.482759  \n\n[7918 rows x 28 columns]",
      "text/html": "<div>\n<style scoped>\n    .dataframe tbody tr th:only-of-type {\n        vertical-align: middle;\n    }\n\n    .dataframe tbody tr th {\n        vertical-align: top;\n    }\n\n    .dataframe thead th {\n        text-align: right;\n    }\n</style>\n<table border=\"1\" class=\"dataframe\">\n  <thead>\n    <tr style=\"text-align: right;\">\n      <th></th>\n      <th>raceId</th>\n      <th>driverId</th>\n      <th>stop</th>\n      <th>lap</th>\n      <th>time_1</th>\n      <th>duration</th>\n      <th>milliseconds_1</th>\n      <th>resultId</th>\n      <th>constructorId</th>\n      <th>number</th>\n      <th>...</th>\n      <th>fastestLap</th>\n      <th>rank</th>\n      <th>fastestLapTime</th>\n      <th>fastestLapSpeed</th>\n      <th>statusId</th>\n      <th>status</th>\n      <th>total_laps</th>\n      <th>total_stops</th>\n      <th>lap_prop</th>\n      <th>abs_err</th>\n    </tr>\n  </thead>\n  <tbody>\n    <tr>\n      <th>0</th>\n      <td>841</td>\n      <td>153</td>\n      <td>1</td>\n      <td>1</td>\n      <td>17:05:23</td>\n      <td>26.898</td>\n      <td>26898</td>\n      <td>20789</td>\n      <td>5</td>\n      <td>19</td>\n      <td>...</td>\n      <td>41</td>\n      <td>10</td>\n      <td>1:30.467</td>\n      <td>211.025</td>\n      <td>11</td>\n      <td>+1 Lap</td>\n      <td>58</td>\n      <td>3</td>\n      <td>0.017241</td>\n      <td>0.232759</td>\n    </tr>\n    <tr>\n      <th>1</th>\n      <td>841</td>\n      <td>153</td>\n      <td>2</td>\n      <td>17</td>\n      <td>17:31:06</td>\n      <td>24.463</td>\n      <td>24463</td>\n      <td>20789</td>\n      <td>5</td>\n      <td>19</td>\n      <td>...</td>\n      <td>41</td>\n      <td>10</td>\n      <td>1:30.467</td>\n      <td>211.025</td>\n      <td>11</td>\n      <td>+1 Lap</td>\n      <td>58</td>\n      <td>3</td>\n      <td>0.293103</td>\n      <td>0.206897</td>\n    </tr>\n    <tr>\n      <th>2</th>\n      <td>841</td>\n      <td>153</td>\n      <td>3</td>\n      <td>35</td>\n      <td>17:59:45</td>\n      <td>26.348</td>\n      <td>26348</td>\n      <td>20789</td>\n      <td>5</td>\n      <td>19</td>\n      <td>...</td>\n      <td>41</td>\n      <td>10</td>\n      <td>1:30.467</td>\n      <td>211.025</td>\n      <td>11</td>\n      <td>+1 Lap</td>\n      <td>58</td>\n      <td>3</td>\n      <td>0.603448</td>\n      <td>0.146552</td>\n    </tr>\n    <tr>\n      <th>3</th>\n      <td>841</td>\n      <td>17</td>\n      <td>1</td>\n      <td>11</td>\n      <td>17:20:48</td>\n      <td>23.426</td>\n      <td>23426</td>\n      <td>20783</td>\n      <td>9</td>\n      <td>2</td>\n      <td>...</td>\n      <td>50</td>\n      <td>3</td>\n      <td>1:29.600</td>\n      <td>213.066</td>\n      <td>1</td>\n      <td>Finished</td>\n      <td>58</td>\n      <td>3</td>\n      <td>0.189655</td>\n      <td>0.060345</td>\n    </tr>\n    <tr>\n      <th>4</th>\n      <td>841</td>\n      <td>17</td>\n      <td>2</td>\n      <td>26</td>\n      <td>17:44:29</td>\n      <td>22.520</td>\n      <td>22520</td>\n      <td>20783</td>\n      <td>9</td>\n      <td>2</td>\n      <td>...</td>\n      <td>50</td>\n      <td>3</td>\n      <td>1:29.600</td>\n      <td>213.066</td>\n      <td>1</td>\n      <td>Finished</td>\n      <td>58</td>\n      <td>3</td>\n      <td>0.448276</td>\n      <td>0.051724</td>\n    </tr>\n    <tr>\n      <th>...</th>\n      <td>...</td>\n      <td>...</td>\n      <td>...</td>\n      <td>...</td>\n      <td>...</td>\n      <td>...</td>\n      <td>...</td>\n      <td>...</td>\n      <td>...</td>\n      <td>...</td>\n      <td>...</td>\n      <td>...</td>\n      <td>...</td>\n      <td>...</td>\n      <td>...</td>\n      <td>...</td>\n      <td>...</td>\n      <td>...</td>\n      <td>...</td>\n      <td>...</td>\n      <td>...</td>\n    </tr>\n    <tr>\n      <th>7913</th>\n      <td>1076</td>\n      <td>847</td>\n      <td>1</td>\n      <td>23</td>\n      <td>15:38:51</td>\n      <td>18.479</td>\n      <td>18479</td>\n      <td>25448</td>\n      <td>131</td>\n      <td>63</td>\n      <td>...</td>\n      <td>53</td>\n      <td>4</td>\n      <td>1:21.495</td>\n      <td>233.152</td>\n      <td>1</td>\n      <td>Finished</td>\n      <td>58</td>\n      <td>1</td>\n      <td>0.396552</td>\n      <td>0.103448</td>\n    </tr>\n    <tr>\n      <th>7914</th>\n      <td>1076</td>\n      <td>4</td>\n      <td>1</td>\n      <td>39</td>\n      <td>16:05:24</td>\n      <td>18.796</td>\n      <td>18796</td>\n      <td>25462</td>\n      <td>214</td>\n      <td>14</td>\n      <td>...</td>\n      <td>57</td>\n      <td>2</td>\n      <td>1:20.846</td>\n      <td>235.024</td>\n      <td>11</td>\n      <td>+1 Lap</td>\n      <td>58</td>\n      <td>2</td>\n      <td>0.672414</td>\n      <td>0.339080</td>\n    </tr>\n    <tr>\n      <th>7915</th>\n      <td>1076</td>\n      <td>4</td>\n      <td>2</td>\n      <td>53</td>\n      <td>16:25:28</td>\n      <td>18.394</td>\n      <td>18394</td>\n      <td>25462</td>\n      <td>214</td>\n      <td>14</td>\n      <td>...</td>\n      <td>57</td>\n      <td>2</td>\n      <td>1:20.846</td>\n      <td>235.024</td>\n      <td>11</td>\n      <td>+1 Lap</td>\n      <td>58</td>\n      <td>2</td>\n      <td>0.913793</td>\n      <td>0.247126</td>\n    </tr>\n    <tr>\n      <th>7916</th>\n      <td>1076</td>\n      <td>825</td>\n      <td>1</td>\n      <td>39</td>\n      <td>16:05:30</td>\n      <td>19.111</td>\n      <td>19111</td>\n      <td>25459</td>\n      <td>210</td>\n      <td>20</td>\n      <td>...</td>\n      <td>44</td>\n      <td>15</td>\n      <td>1:23.071</td>\n      <td>228.729</td>\n      <td>11</td>\n      <td>+1 Lap</td>\n      <td>58</td>\n      <td>1</td>\n      <td>0.672414</td>\n      <td>0.172414</td>\n    </tr>\n    <tr>\n      <th>7917</th>\n      <td>1076</td>\n      <td>848</td>\n      <td>1</td>\n      <td>57</td>\n      <td>16:30:33</td>\n      <td>19.845</td>\n      <td>19845</td>\n      <td>25455</td>\n      <td>3</td>\n      <td>23</td>\n      <td>...</td>\n      <td>54</td>\n      <td>12</td>\n      <td>1:22.589</td>\n      <td>230.064</td>\n      <td>1</td>\n      <td>Finished</td>\n      <td>58</td>\n      <td>1</td>\n      <td>0.982759</td>\n      <td>0.482759</td>\n    </tr>\n  </tbody>\n</table>\n<p>7918 rows × 28 columns</p>\n</div>"
     },
     "execution_count": 18,
     "metadata": {},
     "output_type": "execute_result"
    }
   ],
   "source": [
    "merge_df"
   ],
   "metadata": {
    "collapsed": false,
    "pycharm": {
     "name": "#%%\n"
    }
   }
  },
  {
   "cell_type": "code",
   "execution_count": 19,
   "outputs": [],
   "source": [
    "# Plot distribution of Pit Stops, grouped by total number of pit stops\n",
    "# distribution_plot(df_dict, show_mean=False, show_description=False)"
   ],
   "metadata": {
    "collapsed": false,
    "pycharm": {
     "name": "#%%\n"
    }
   }
  },
  {
   "cell_type": "code",
   "execution_count": 20,
   "outputs": [
    {
     "name": "stdout",
     "output_type": "stream",
     "text": [
      "////////////////////////////////////////////////////////////////////////////////////////\n",
      "Total Pit Stops:  1\n",
      "No.  1  pit stop:  mean =  0.416  std =  0.147\n",
      "    66.9% within mean ± 1 std\n",
      "    95.7% within mean ± 2 std\n"
     ]
    },
    {
     "data": {
      "text/plain": "<Figure size 576x432 with 1 Axes>",
      "image/png": "[encoded data removed]"
     },
     "metadata": {
      "needs_background": "light"
     },
     "output_type": "display_data"
    },
    {
     "name": "stdout",
     "output_type": "stream",
     "text": [
      "////////////////////////////////////////////////////////////////////////////////////////\n",
      "Total Pit Stops:  2\n",
      "No.  1  pit stop:  mean =  0.252  std =  0.118\n",
      "    71.7% within mean ± 1 std\n",
      "    95.8% within mean ± 2 std\n",
      "No.  2  pit stop:  mean =  0.62  std =  0.134\n",
      "    72.9% within mean ± 1 std\n",
      "    93.1% within mean ± 2 std\n"
     ]
    },
    {
     "data": {
      "text/plain": "<Figure size 576x432 with 1 Axes>",
      "image/png": "[encoded data removed]"
     },
     "metadata": {
      "needs_background": "light"
     },
     "output_type": "display_data"
    },
    {
     "name": "stdout",
     "output_type": "stream",
     "text": [
      "////////////////////////////////////////////////////////////////////////////////////////\n",
      "Total Pit Stops:  3\n",
      "No.  1  pit stop:  mean =  0.174  std =  0.098\n",
      "    66.6% within mean ± 1 std\n",
      "    97.5% within mean ± 2 std\n",
      "No.  2  pit stop:  mean =  0.427  std =  0.155\n",
      "    74.4% within mean ± 1 std\n",
      "    92.6% within mean ± 2 std\n",
      "No.  3  pit stop:  mean =  0.698  std =  0.13\n",
      "    74.9% within mean ± 1 std\n",
      "    93.9% within mean ± 2 std\n"
     ]
    },
    {
     "data": {
      "text/plain": "<Figure size 576x432 with 1 Axes>",
      "image/png": "[encoded data removed]"
     },
     "metadata": {
      "needs_background": "light"
     },
     "output_type": "display_data"
    }
   ],
   "source": [
    "# Adding description for the distribution plot\n",
    "distribution_plot(df_dict, save_fig=True)"
   ],
   "metadata": {
    "collapsed": false,
    "pycharm": {
     "name": "#%%\n"
    }
   }
  },
  {
   "cell_type": "code",
   "execution_count": 21,
   "outputs": [],
   "source": [
    "# Run T Tests on the data group pairs\n",
    "df_list = []\n",
    "for ps_num in range(1,4):\n",
    "    df_tmp = df_dict[ps_num]\n",
    "    df_list += [df_tmp[df_tmp['stop'] == i]['lap_prop'] for i in range(1, ps_num+1)]"
   ],
   "metadata": {
    "collapsed": false,
    "pycharm": {
     "name": "#%%\n"
    }
   }
  },
  {
   "cell_type": "code",
   "execution_count": 22,
   "outputs": [
    {
     "name": "stdout",
     "output_type": "stream",
     "text": [
      "2 pits, p value of T test: 0.0 < alpha = 0.05\n"
     ]
    }
   ],
   "source": [
    "p2 = ttest_ind(df_list[1], df_list[2]).pvalue\n",
    "print('2 pits, p value of T test:', p2, '< alpha = 0.05')"
   ],
   "metadata": {
    "collapsed": false,
    "pycharm": {
     "name": "#%%\n"
    }
   }
  },
  {
   "cell_type": "code",
   "execution_count": 23,
   "outputs": [
    {
     "name": "stdout",
     "output_type": "stream",
     "text": [
      "3 pits, max p value of T test: 5.142138068782536e-225 < alpha = 0.05\n"
     ]
    }
   ],
   "source": [
    "p3_1 = ttest_ind(df_list[3], df_list[4]).pvalue\n",
    "p3_2 = ttest_ind(df_list[3], df_list[5]).pvalue\n",
    "p3_3 = ttest_ind(df_list[4], df_list[5]).pvalue\n",
    "print('3 pits, max p value of T test:', max(p3_1, p3_2, p3_3), '< alpha = 0.05')"
   ],
   "metadata": {
    "collapsed": false,
    "pycharm": {
     "name": "#%%\n"
    }
   }
  },
  {
   "cell_type": "code",
   "execution_count": 40,
   "outputs": [],
   "source": [],
   "metadata": {
    "collapsed": false,
    "pycharm": {
     "name": "#%%\n"
    }
   }
  }
 ],
 "metadata": {
  "kernelspec": {
   "display_name": "Python 3",
   "language": "python",
   "name": "python3"
  },
  "language_info": {
   "codemirror_mode": {
    "name": "ipython",
    "version": 2
   },
   "file_extension": ".py",
   "mimetype": "text/x-python",
   "name": "python",
   "nbconvert_exporter": "python",
   "pygments_lexer": "ipython2",
   "version": "2.7.6"
  }
 },
 "nbformat": 4,
 "nbformat_minor": 0
}
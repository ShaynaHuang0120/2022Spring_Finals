{
 "cells": [
  {
   "cell_type": "code",
   "execution_count": 18,
   "metadata": {
    "collapsed": true
   },
   "outputs": [],
   "source": [
    "import pandas as pd"
   ]
  },
  {
   "cell_type": "code",
   "execution_count": 19,
   "outputs": [],
   "source": [
    "pit = pd.read_csv('dataset/pit_stops.csv')\n",
    "results = pd.read_csv('dataset/results.csv')\n",
    "status = pd.read_csv('dataset/status.csv')\n",
    "race = pd.read_csv('dataset/races.csv')\n",
    "circuit = pd.read_csv('dataset/circuits.csv')\n",
    "driver = pd.read_csv('dataset/drivers.csv')"
   ],
   "metadata": {
    "collapsed": false,
    "pycharm": {
     "name": "#%%\n"
    }
   }
  },
  {
   "cell_type": "code",
   "execution_count": 20,
   "outputs": [],
   "source": [
    "# Merge tables\n",
    "select_col = ['raceId','year','round','circuitId','name','date']\n",
    "merge_df = pd.merge(pit, race[select_col], on='raceId', how='left')\n",
    "select_col = ['raceId','driverId','positionOrder', 'laps', 'time','statusId']\n",
    "merge_df = pd.merge(merge_df,results[select_col], on=['raceId','driverId'], how = 'left', suffixes=('_pit', '_result'))\n",
    "merge_df = pd.merge(merge_df, status, on='statusId', how='left')\n",
    "merge_df = pd.merge(merge_df, driver[['driverId', 'driverRef']], on = 'driverId', how='left')"
   ],
   "metadata": {
    "collapsed": false,
    "pycharm": {
     "name": "#%%\n"
    }
   }
  },
  {
   "cell_type": "code",
   "execution_count": 21,
   "outputs": [
    {
     "data": {
      "text/plain": "      raceId  driverId  stop  lap  time_pit duration  milliseconds  year  \\\n0        841       153     1    1  17:05:23   26.898         26898  2011   \n1        841        30     1    1  17:05:52   25.021         25021  2011   \n2        841        17     1   11  17:20:48   23.426         23426  2011   \n3        841         4     1   12  17:22:34   23.251         23251  2011   \n4        841        13     1   13  17:24:10   23.842         23842  2011   \n...      ...       ...   ...  ...       ...      ...           ...   ...   \n8065    1052       832     2   37  19:09:53   24.341         24341  2021   \n8066    1052       815     3   38  19:11:20   24.191         24191  2021   \n8067    1052       830     2   39  19:12:13   23.848         23848  2021   \n8068    1052       842     3   39  19:13:55   24.983         24983  2021   \n8069    1052       822     3   54  19:36:21   24.566         24566  2021   \n\n      round  circuitId                   name        date  positionOrder  \\\n0         1          1  Australian Grand Prix  2011-03-27             11   \n1         1          1  Australian Grand Prix  2011-03-27             19   \n2         1          1  Australian Grand Prix  2011-03-27              5   \n3         1          1  Australian Grand Prix  2011-03-27              4   \n4         1          1  Australian Grand Prix  2011-03-27              7   \n...     ...        ...                    ...         ...            ...   \n8065      1          3     Bahrain Grand Prix  2021-03-28              8   \n8066      1          3     Bahrain Grand Prix  2021-03-28              5   \n8067      1          3     Bahrain Grand Prix  2021-03-28              2   \n8068      1          3     Bahrain Grand Prix  2021-03-28             17   \n8069      1          3     Bahrain Grand Prix  2021-03-28              3   \n\n      laps time_result  statusId     status           driverRef  \n0       57          \\N        11     +1 Lap         alguersuari  \n1       19          \\N         4  Collision  michael_schumacher  \n2       58     +38.171         1   Finished              webber  \n3       58     +31.772         1   Finished              alonso  \n4       58   +1:25.186         1   Finished               massa  \n...    ...         ...       ...        ...                 ...  \n8065    56     +67.100         1   Finished               sainz  \n8066    56     +52.047         1   Finished               perez  \n8067    56      +0.745         1   Finished      max_verstappen  \n8068    52          \\N        31    Retired               gasly  \n8069    56     +37.383         1   Finished              bottas  \n\n[8070 rows x 18 columns]",
      "text/html": "<div>\n<style scoped>\n    .dataframe tbody tr th:only-of-type {\n        vertical-align: middle;\n    }\n\n    .dataframe tbody tr th {\n        vertical-align: top;\n    }\n\n    .dataframe thead th {\n        text-align: right;\n    }\n</style>\n<table border=\"1\" class=\"dataframe\">\n  <thead>\n    <tr style=\"text-align: right;\">\n      <th></th>\n      <th>raceId</th>\n      <th>driverId</th>\n      <th>stop</th>\n      <th>lap</th>\n      <th>time_pit</th>\n      <th>duration</th>\n      <th>milliseconds</th>\n      <th>year</th>\n      <th>round</th>\n      <th>circuitId</th>\n      <th>name</th>\n      <th>date</th>\n      <th>positionOrder</th>\n      <th>laps</th>\n      <th>time_result</th>\n      <th>statusId</th>\n      <th>status</th>\n      <th>driverRef</th>\n    </tr>\n  </thead>\n  <tbody>\n    <tr>\n      <th>0</th>\n      <td>841</td>\n      <td>153</td>\n      <td>1</td>\n      <td>1</td>\n      <td>17:05:23</td>\n      <td>26.898</td>\n      <td>26898</td>\n      <td>2011</td>\n      <td>1</td>\n      <td>1</td>\n      <td>Australian Grand Prix</td>\n      <td>2011-03-27</td>\n      <td>11</td>\n      <td>57</td>\n      <td>\\N</td>\n      <td>11</td>\n      <td>+1 Lap</td>\n      <td>alguersuari</td>\n    </tr>\n    <tr>\n      <th>1</th>\n      <td>841</td>\n      <td>30</td>\n      <td>1</td>\n      <td>1</td>\n      <td>17:05:52</td>\n      <td>25.021</td>\n      <td>25021</td>\n      <td>2011</td>\n      <td>1</td>\n      <td>1</td>\n      <td>Australian Grand Prix</td>\n      <td>2011-03-27</td>\n      <td>19</td>\n      <td>19</td>\n      <td>\\N</td>\n      <td>4</td>\n      <td>Collision</td>\n      <td>michael_schumacher</td>\n    </tr>\n    <tr>\n      <th>2</th>\n      <td>841</td>\n      <td>17</td>\n      <td>1</td>\n      <td>11</td>\n      <td>17:20:48</td>\n      <td>23.426</td>\n      <td>23426</td>\n      <td>2011</td>\n      <td>1</td>\n      <td>1</td>\n      <td>Australian Grand Prix</td>\n      <td>2011-03-27</td>\n      <td>5</td>\n      <td>58</td>\n      <td>+38.171</td>\n      <td>1</td>\n      <td>Finished</td>\n      <td>webber</td>\n    </tr>\n    <tr>\n      <th>3</th>\n      <td>841</td>\n      <td>4</td>\n      <td>1</td>\n      <td>12</td>\n      <td>17:22:34</td>\n      <td>23.251</td>\n      <td>23251</td>\n      <td>2011</td>\n      <td>1</td>\n      <td>1</td>\n      <td>Australian Grand Prix</td>\n      <td>2011-03-27</td>\n      <td>4</td>\n      <td>58</td>\n      <td>+31.772</td>\n      <td>1</td>\n      <td>Finished</td>\n      <td>alonso</td>\n    </tr>\n    <tr>\n      <th>4</th>\n      <td>841</td>\n      <td>13</td>\n      <td>1</td>\n      <td>13</td>\n      <td>17:24:10</td>\n      <td>23.842</td>\n      <td>23842</td>\n      <td>2011</td>\n      <td>1</td>\n      <td>1</td>\n      <td>Australian Grand Prix</td>\n      <td>2011-03-27</td>\n      <td>7</td>\n      <td>58</td>\n      <td>+1:25.186</td>\n      <td>1</td>\n      <td>Finished</td>\n      <td>massa</td>\n    </tr>\n    <tr>\n      <th>...</th>\n      <td>...</td>\n      <td>...</td>\n      <td>...</td>\n      <td>...</td>\n      <td>...</td>\n      <td>...</td>\n      <td>...</td>\n      <td>...</td>\n      <td>...</td>\n      <td>...</td>\n      <td>...</td>\n      <td>...</td>\n      <td>...</td>\n      <td>...</td>\n      <td>...</td>\n      <td>...</td>\n      <td>...</td>\n      <td>...</td>\n    </tr>\n    <tr>\n      <th>8065</th>\n      <td>1052</td>\n      <td>832</td>\n      <td>2</td>\n      <td>37</td>\n      <td>19:09:53</td>\n      <td>24.341</td>\n      <td>24341</td>\n      <td>2021</td>\n      <td>1</td>\n      <td>3</td>\n      <td>Bahrain Grand Prix</td>\n      <td>2021-03-28</td>\n      <td>8</td>\n      <td>56</td>\n      <td>+67.100</td>\n      <td>1</td>\n      <td>Finished</td>\n      <td>sainz</td>\n    </tr>\n    <tr>\n      <th>8066</th>\n      <td>1052</td>\n      <td>815</td>\n      <td>3</td>\n      <td>38</td>\n      <td>19:11:20</td>\n      <td>24.191</td>\n      <td>24191</td>\n      <td>2021</td>\n      <td>1</td>\n      <td>3</td>\n      <td>Bahrain Grand Prix</td>\n      <td>2021-03-28</td>\n      <td>5</td>\n      <td>56</td>\n      <td>+52.047</td>\n      <td>1</td>\n      <td>Finished</td>\n      <td>perez</td>\n    </tr>\n    <tr>\n      <th>8067</th>\n      <td>1052</td>\n      <td>830</td>\n      <td>2</td>\n      <td>39</td>\n      <td>19:12:13</td>\n      <td>23.848</td>\n      <td>23848</td>\n      <td>2021</td>\n      <td>1</td>\n      <td>3</td>\n      <td>Bahrain Grand Prix</td>\n      <td>2021-03-28</td>\n      <td>2</td>\n      <td>56</td>\n      <td>+0.745</td>\n      <td>1</td>\n      <td>Finished</td>\n      <td>max_verstappen</td>\n    </tr>\n    <tr>\n      <th>8068</th>\n      <td>1052</td>\n      <td>842</td>\n      <td>3</td>\n      <td>39</td>\n      <td>19:13:55</td>\n      <td>24.983</td>\n      <td>24983</td>\n      <td>2021</td>\n      <td>1</td>\n      <td>3</td>\n      <td>Bahrain Grand Prix</td>\n      <td>2021-03-28</td>\n      <td>17</td>\n      <td>52</td>\n      <td>\\N</td>\n      <td>31</td>\n      <td>Retired</td>\n      <td>gasly</td>\n    </tr>\n    <tr>\n      <th>8069</th>\n      <td>1052</td>\n      <td>822</td>\n      <td>3</td>\n      <td>54</td>\n      <td>19:36:21</td>\n      <td>24.566</td>\n      <td>24566</td>\n      <td>2021</td>\n      <td>1</td>\n      <td>3</td>\n      <td>Bahrain Grand Prix</td>\n      <td>2021-03-28</td>\n      <td>3</td>\n      <td>56</td>\n      <td>+37.383</td>\n      <td>1</td>\n      <td>Finished</td>\n      <td>bottas</td>\n    </tr>\n  </tbody>\n</table>\n<p>8070 rows × 18 columns</p>\n</div>"
     },
     "execution_count": 21,
     "metadata": {},
     "output_type": "execute_result"
    }
   ],
   "source": [
    "merge_df"
   ],
   "metadata": {
    "collapsed": false,
    "pycharm": {
     "name": "#%%\n"
    }
   }
  },
  {
   "cell_type": "code",
   "execution_count": 14,
   "outputs": [
    {
     "data": {
      "text/plain": "status        statusId\nFinished      1           4234\n+1 Lap        11          2181\n+2 Laps       12           541\nCollision     4            117\nAccident      3            112\n                          ... \nOil pressure  51             1\nThrottle      37             1\nDamage        137            1\nIllness       139            1\nRadiator      21             1\nLength: 63, dtype: int64"
     },
     "execution_count": 14,
     "metadata": {},
     "output_type": "execute_result"
    }
   ],
   "source": [
    "merge_df.groupby(['status', 'statusId']).size().sort_values(ascending=False)"
   ],
   "metadata": {
    "collapsed": false,
    "pycharm": {
     "name": "#%%\n"
    }
   }
  },
  {
   "cell_type": "code",
   "execution_count": 22,
   "outputs": [],
   "source": [
    "# Select Status\n",
    "status_select = [1, 11, 12, 13, 14, 15, 16, 17, 18, 19]\n",
    "merge_df.drop(merge_df[~merge_df['statusId'].isin(status_select)].index, inplace=True)"
   ],
   "metadata": {
    "collapsed": false,
    "pycharm": {
     "name": "#%%\n"
    }
   }
  },
  {
   "cell_type": "code",
   "execution_count": 23,
   "outputs": [
    {
     "data": {
      "text/plain": "      raceId  driverId  stop  lap  time_pit duration  milliseconds  year  \\\n0        841       153     1    1  17:05:23   26.898         26898  2011   \n2        841        17     1   11  17:20:48   23.426         23426  2011   \n3        841         4     1   12  17:22:34   23.251         23251  2011   \n4        841        13     1   13  17:24:10   23.842         23842  2011   \n6        841        20     1   14  17:25:17   22.603         22603  2011   \n...      ...       ...   ...  ...       ...      ...           ...   ...   \n8064    1052       847     2   36  19:08:48   24.248         24248  2021   \n8065    1052       832     2   37  19:09:53   24.341         24341  2021   \n8066    1052       815     3   38  19:11:20   24.191         24191  2021   \n8067    1052       830     2   39  19:12:13   23.848         23848  2021   \n8069    1052       822     3   54  19:36:21   24.566         24566  2021   \n\n      round  circuitId                   name        date  positionOrder  \\\n0         1          1  Australian Grand Prix  2011-03-27             11   \n2         1          1  Australian Grand Prix  2011-03-27              5   \n3         1          1  Australian Grand Prix  2011-03-27              4   \n4         1          1  Australian Grand Prix  2011-03-27              7   \n6         1          1  Australian Grand Prix  2011-03-27              1   \n...     ...        ...                    ...         ...            ...   \n8064      1          3     Bahrain Grand Prix  2021-03-28             14   \n8065      1          3     Bahrain Grand Prix  2021-03-28              8   \n8066      1          3     Bahrain Grand Prix  2021-03-28              5   \n8067      1          3     Bahrain Grand Prix  2021-03-28              2   \n8069      1          3     Bahrain Grand Prix  2021-03-28              3   \n\n      laps  time_result  statusId    status       driverRef  \n0       57           \\N        11    +1 Lap     alguersuari  \n2       58      +38.171         1  Finished          webber  \n3       58      +31.772         1  Finished          alonso  \n4       58    +1:25.186         1  Finished           massa  \n6       58  1:29:30.259         1  Finished          vettel  \n...    ...          ...       ...       ...             ...  \n8064    55           \\N        11    +1 Lap         russell  \n8065    56      +67.100         1  Finished           sainz  \n8066    56      +52.047         1  Finished           perez  \n8067    56       +0.745         1  Finished  max_verstappen  \n8069    56      +37.383         1  Finished          bottas  \n\n[7136 rows x 18 columns]",
      "text/html": "<div>\n<style scoped>\n    .dataframe tbody tr th:only-of-type {\n        vertical-align: middle;\n    }\n\n    .dataframe tbody tr th {\n        vertical-align: top;\n    }\n\n    .dataframe thead th {\n        text-align: right;\n    }\n</style>\n<table border=\"1\" class=\"dataframe\">\n  <thead>\n    <tr style=\"text-align: right;\">\n      <th></th>\n      <th>raceId</th>\n      <th>driverId</th>\n      <th>stop</th>\n      <th>lap</th>\n      <th>time_pit</th>\n      <th>duration</th>\n      <th>milliseconds</th>\n      <th>year</th>\n      <th>round</th>\n      <th>circuitId</th>\n      <th>name</th>\n      <th>date</th>\n      <th>positionOrder</th>\n      <th>laps</th>\n      <th>time_result</th>\n      <th>statusId</th>\n      <th>status</th>\n      <th>driverRef</th>\n    </tr>\n  </thead>\n  <tbody>\n    <tr>\n      <th>0</th>\n      <td>841</td>\n      <td>153</td>\n      <td>1</td>\n      <td>1</td>\n      <td>17:05:23</td>\n      <td>26.898</td>\n      <td>26898</td>\n      <td>2011</td>\n      <td>1</td>\n      <td>1</td>\n      <td>Australian Grand Prix</td>\n      <td>2011-03-27</td>\n      <td>11</td>\n      <td>57</td>\n      <td>\\N</td>\n      <td>11</td>\n      <td>+1 Lap</td>\n      <td>alguersuari</td>\n    </tr>\n    <tr>\n      <th>2</th>\n      <td>841</td>\n      <td>17</td>\n      <td>1</td>\n      <td>11</td>\n      <td>17:20:48</td>\n      <td>23.426</td>\n      <td>23426</td>\n      <td>2011</td>\n      <td>1</td>\n      <td>1</td>\n      <td>Australian Grand Prix</td>\n      <td>2011-03-27</td>\n      <td>5</td>\n      <td>58</td>\n      <td>+38.171</td>\n      <td>1</td>\n      <td>Finished</td>\n      <td>webber</td>\n    </tr>\n    <tr>\n      <th>3</th>\n      <td>841</td>\n      <td>4</td>\n      <td>1</td>\n      <td>12</td>\n      <td>17:22:34</td>\n      <td>23.251</td>\n      <td>23251</td>\n      <td>2011</td>\n      <td>1</td>\n      <td>1</td>\n      <td>Australian Grand Prix</td>\n      <td>2011-03-27</td>\n      <td>4</td>\n      <td>58</td>\n      <td>+31.772</td>\n      <td>1</td>\n      <td>Finished</td>\n      <td>alonso</td>\n    </tr>\n    <tr>\n      <th>4</th>\n      <td>841</td>\n      <td>13</td>\n      <td>1</td>\n      <td>13</td>\n      <td>17:24:10</td>\n      <td>23.842</td>\n      <td>23842</td>\n      <td>2011</td>\n      <td>1</td>\n      <td>1</td>\n      <td>Australian Grand Prix</td>\n      <td>2011-03-27</td>\n      <td>7</td>\n      <td>58</td>\n      <td>+1:25.186</td>\n      <td>1</td>\n      <td>Finished</td>\n      <td>massa</td>\n    </tr>\n    <tr>\n      <th>6</th>\n      <td>841</td>\n      <td>20</td>\n      <td>1</td>\n      <td>14</td>\n      <td>17:25:17</td>\n      <td>22.603</td>\n      <td>22603</td>\n      <td>2011</td>\n      <td>1</td>\n      <td>1</td>\n      <td>Australian Grand Prix</td>\n      <td>2011-03-27</td>\n      <td>1</td>\n      <td>58</td>\n      <td>1:29:30.259</td>\n      <td>1</td>\n      <td>Finished</td>\n      <td>vettel</td>\n    </tr>\n    <tr>\n      <th>...</th>\n      <td>...</td>\n      <td>...</td>\n      <td>...</td>\n      <td>...</td>\n      <td>...</td>\n      <td>...</td>\n      <td>...</td>\n      <td>...</td>\n      <td>...</td>\n      <td>...</td>\n      <td>...</td>\n      <td>...</td>\n      <td>...</td>\n      <td>...</td>\n      <td>...</td>\n      <td>...</td>\n      <td>...</td>\n      <td>...</td>\n    </tr>\n    <tr>\n      <th>8064</th>\n      <td>1052</td>\n      <td>847</td>\n      <td>2</td>\n      <td>36</td>\n      <td>19:08:48</td>\n      <td>24.248</td>\n      <td>24248</td>\n      <td>2021</td>\n      <td>1</td>\n      <td>3</td>\n      <td>Bahrain Grand Prix</td>\n      <td>2021-03-28</td>\n      <td>14</td>\n      <td>55</td>\n      <td>\\N</td>\n      <td>11</td>\n      <td>+1 Lap</td>\n      <td>russell</td>\n    </tr>\n    <tr>\n      <th>8065</th>\n      <td>1052</td>\n      <td>832</td>\n      <td>2</td>\n      <td>37</td>\n      <td>19:09:53</td>\n      <td>24.341</td>\n      <td>24341</td>\n      <td>2021</td>\n      <td>1</td>\n      <td>3</td>\n      <td>Bahrain Grand Prix</td>\n      <td>2021-03-28</td>\n      <td>8</td>\n      <td>56</td>\n      <td>+67.100</td>\n      <td>1</td>\n      <td>Finished</td>\n      <td>sainz</td>\n    </tr>\n    <tr>\n      <th>8066</th>\n      <td>1052</td>\n      <td>815</td>\n      <td>3</td>\n      <td>38</td>\n      <td>19:11:20</td>\n      <td>24.191</td>\n      <td>24191</td>\n      <td>2021</td>\n      <td>1</td>\n      <td>3</td>\n      <td>Bahrain Grand Prix</td>\n      <td>2021-03-28</td>\n      <td>5</td>\n      <td>56</td>\n      <td>+52.047</td>\n      <td>1</td>\n      <td>Finished</td>\n      <td>perez</td>\n    </tr>\n    <tr>\n      <th>8067</th>\n      <td>1052</td>\n      <td>830</td>\n      <td>2</td>\n      <td>39</td>\n      <td>19:12:13</td>\n      <td>23.848</td>\n      <td>23848</td>\n      <td>2021</td>\n      <td>1</td>\n      <td>3</td>\n      <td>Bahrain Grand Prix</td>\n      <td>2021-03-28</td>\n      <td>2</td>\n      <td>56</td>\n      <td>+0.745</td>\n      <td>1</td>\n      <td>Finished</td>\n      <td>max_verstappen</td>\n    </tr>\n    <tr>\n      <th>8069</th>\n      <td>1052</td>\n      <td>822</td>\n      <td>3</td>\n      <td>54</td>\n      <td>19:36:21</td>\n      <td>24.566</td>\n      <td>24566</td>\n      <td>2021</td>\n      <td>1</td>\n      <td>3</td>\n      <td>Bahrain Grand Prix</td>\n      <td>2021-03-28</td>\n      <td>3</td>\n      <td>56</td>\n      <td>+37.383</td>\n      <td>1</td>\n      <td>Finished</td>\n      <td>bottas</td>\n    </tr>\n  </tbody>\n</table>\n<p>7136 rows × 18 columns</p>\n</div>"
     },
     "execution_count": 23,
     "metadata": {},
     "output_type": "execute_result"
    }
   ],
   "source": [
    "merge_df"
   ],
   "metadata": {
    "collapsed": false,
    "pycharm": {
     "name": "#%%\n"
    }
   }
  },
  {
   "cell_type": "code",
   "execution_count": 24,
   "outputs": [
    {
     "data": {
      "text/plain": "Finished    4234\n+1 Lap      2181\n+2 Laps      541\n+3 Laps      106\n+4 Laps       39\n+5 Laps       27\n+8 Laps        5\n+6 Laps        2\n+9 Laps        1\nName: status, dtype: int64"
     },
     "execution_count": 24,
     "metadata": {},
     "output_type": "execute_result"
    }
   ],
   "source": [
    "merge_df.status.value_counts()"
   ],
   "metadata": {
    "collapsed": false,
    "pycharm": {
     "name": "#%%\n"
    }
   }
  },
  {
   "cell_type": "code",
   "execution_count": null,
   "outputs": [],
   "source": [],
   "metadata": {
    "collapsed": false,
    "pycharm": {
     "name": "#%%\n"
    }
   }
  }
 ],
 "metadata": {
  "kernelspec": {
   "display_name": "Python 3",
   "language": "python",
   "name": "python3"
  },
  "language_info": {
   "codemirror_mode": {
    "name": "ipython",
    "version": 2
   },
   "file_extension": ".py",
   "mimetype": "text/x-python",
   "name": "python",
   "nbconvert_exporter": "python",
   "pygments_lexer": "ipython2",
   "version": "2.7.6"
  }
 },
 "nbformat": 4,
 "nbformat_minor": 0
}
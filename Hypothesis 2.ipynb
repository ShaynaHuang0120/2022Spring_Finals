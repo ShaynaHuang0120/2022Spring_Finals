{
 "cells": [
  {
   "cell_type": "code",
   "execution_count": 75,
   "metadata": {
    "collapsed": true
   },
   "outputs": [],
   "source": [
    "import pandas as pd\n",
    "import matplotlib.pyplot as plt\n",
    "from scipy.stats import shapiro\n",
    "from scipy.stats import binom_test"
   ]
  },
  {
   "cell_type": "code",
   "execution_count": 19,
   "outputs": [],
   "source": [
    "pit = pd.read_csv('dataset/pit_stops.csv')\n",
    "results = pd.read_csv('dataset/results.csv')\n",
    "status = pd.read_csv('dataset/status.csv')\n",
    "race = pd.read_csv('dataset/races.csv')\n",
    "circuit = pd.read_csv('dataset/circuits.csv')\n",
    "driver = pd.read_csv('dataset/drivers.csv')"
   ],
   "metadata": {
    "collapsed": false,
    "pycharm": {
     "name": "#%%\n"
    }
   }
  },
  {
   "cell_type": "code",
   "execution_count": 20,
   "outputs": [],
   "source": [
    "# Merge tables\n",
    "select_col = ['raceId','year','round','circuitId','name','date']\n",
    "merge_df = pd.merge(pit, race[select_col], on='raceId', how='left')\n",
    "select_col = ['raceId','driverId','positionOrder', 'laps', 'time','statusId']\n",
    "merge_df = pd.merge(merge_df,results[select_col], on=['raceId','driverId'], how = 'left', suffixes=('_pit', '_result'))\n",
    "merge_df = pd.merge(merge_df, status, on='statusId', how='left')\n",
    "merge_df = pd.merge(merge_df, driver[['driverId', 'driverRef']], on = 'driverId', how='left')"
   ],
   "metadata": {
    "collapsed": false,
    "pycharm": {
     "name": "#%%\n"
    }
   }
  },
  {
   "cell_type": "code",
   "execution_count": 21,
   "outputs": [
    {
     "data": {
      "text/plain": "      raceId  driverId  stop  lap  time_pit duration  milliseconds  year  \\\n0        841       153     1    1  17:05:23   26.898         26898  2011   \n1        841        30     1    1  17:05:52   25.021         25021  2011   \n2        841        17     1   11  17:20:48   23.426         23426  2011   \n3        841         4     1   12  17:22:34   23.251         23251  2011   \n4        841        13     1   13  17:24:10   23.842         23842  2011   \n...      ...       ...   ...  ...       ...      ...           ...   ...   \n8065    1052       832     2   37  19:09:53   24.341         24341  2021   \n8066    1052       815     3   38  19:11:20   24.191         24191  2021   \n8067    1052       830     2   39  19:12:13   23.848         23848  2021   \n8068    1052       842     3   39  19:13:55   24.983         24983  2021   \n8069    1052       822     3   54  19:36:21   24.566         24566  2021   \n\n      round  circuitId                   name        date  positionOrder  \\\n0         1          1  Australian Grand Prix  2011-03-27             11   \n1         1          1  Australian Grand Prix  2011-03-27             19   \n2         1          1  Australian Grand Prix  2011-03-27              5   \n3         1          1  Australian Grand Prix  2011-03-27              4   \n4         1          1  Australian Grand Prix  2011-03-27              7   \n...     ...        ...                    ...         ...            ...   \n8065      1          3     Bahrain Grand Prix  2021-03-28              8   \n8066      1          3     Bahrain Grand Prix  2021-03-28              5   \n8067      1          3     Bahrain Grand Prix  2021-03-28              2   \n8068      1          3     Bahrain Grand Prix  2021-03-28             17   \n8069      1          3     Bahrain Grand Prix  2021-03-28              3   \n\n      laps time_result  statusId     status           driverRef  \n0       57          \\N        11     +1 Lap         alguersuari  \n1       19          \\N         4  Collision  michael_schumacher  \n2       58     +38.171         1   Finished              webber  \n3       58     +31.772         1   Finished              alonso  \n4       58   +1:25.186         1   Finished               massa  \n...    ...         ...       ...        ...                 ...  \n8065    56     +67.100         1   Finished               sainz  \n8066    56     +52.047         1   Finished               perez  \n8067    56      +0.745         1   Finished      max_verstappen  \n8068    52          \\N        31    Retired               gasly  \n8069    56     +37.383         1   Finished              bottas  \n\n[8070 rows x 18 columns]",
      "text/html": "<div>\n<style scoped>\n    .dataframe tbody tr th:only-of-type {\n        vertical-align: middle;\n    }\n\n    .dataframe tbody tr th {\n        vertical-align: top;\n    }\n\n    .dataframe thead th {\n        text-align: right;\n    }\n</style>\n<table border=\"1\" class=\"dataframe\">\n  <thead>\n    <tr style=\"text-align: right;\">\n      <th></th>\n      <th>raceId</th>\n      <th>driverId</th>\n      <th>stop</th>\n      <th>lap</th>\n      <th>time_pit</th>\n      <th>duration</th>\n      <th>milliseconds</th>\n      <th>year</th>\n      <th>round</th>\n      <th>circuitId</th>\n      <th>name</th>\n      <th>date</th>\n      <th>positionOrder</th>\n      <th>laps</th>\n      <th>time_result</th>\n      <th>statusId</th>\n      <th>status</th>\n      <th>driverRef</th>\n    </tr>\n  </thead>\n  <tbody>\n    <tr>\n      <th>0</th>\n      <td>841</td>\n      <td>153</td>\n      <td>1</td>\n      <td>1</td>\n      <td>17:05:23</td>\n      <td>26.898</td>\n      <td>26898</td>\n      <td>2011</td>\n      <td>1</td>\n      <td>1</td>\n      <td>Australian Grand Prix</td>\n      <td>2011-03-27</td>\n      <td>11</td>\n      <td>57</td>\n      <td>\\N</td>\n      <td>11</td>\n      <td>+1 Lap</td>\n      <td>alguersuari</td>\n    </tr>\n    <tr>\n      <th>1</th>\n      <td>841</td>\n      <td>30</td>\n      <td>1</td>\n      <td>1</td>\n      <td>17:05:52</td>\n      <td>25.021</td>\n      <td>25021</td>\n      <td>2011</td>\n      <td>1</td>\n      <td>1</td>\n      <td>Australian Grand Prix</td>\n      <td>2011-03-27</td>\n      <td>19</td>\n      <td>19</td>\n      <td>\\N</td>\n      <td>4</td>\n      <td>Collision</td>\n      <td>michael_schumacher</td>\n    </tr>\n    <tr>\n      <th>2</th>\n      <td>841</td>\n      <td>17</td>\n      <td>1</td>\n      <td>11</td>\n      <td>17:20:48</td>\n      <td>23.426</td>\n      <td>23426</td>\n      <td>2011</td>\n      <td>1</td>\n      <td>1</td>\n      <td>Australian Grand Prix</td>\n      <td>2011-03-27</td>\n      <td>5</td>\n      <td>58</td>\n      <td>+38.171</td>\n      <td>1</td>\n      <td>Finished</td>\n      <td>webber</td>\n    </tr>\n    <tr>\n      <th>3</th>\n      <td>841</td>\n      <td>4</td>\n      <td>1</td>\n      <td>12</td>\n      <td>17:22:34</td>\n      <td>23.251</td>\n      <td>23251</td>\n      <td>2011</td>\n      <td>1</td>\n      <td>1</td>\n      <td>Australian Grand Prix</td>\n      <td>2011-03-27</td>\n      <td>4</td>\n      <td>58</td>\n      <td>+31.772</td>\n      <td>1</td>\n      <td>Finished</td>\n      <td>alonso</td>\n    </tr>\n    <tr>\n      <th>4</th>\n      <td>841</td>\n      <td>13</td>\n      <td>1</td>\n      <td>13</td>\n      <td>17:24:10</td>\n      <td>23.842</td>\n      <td>23842</td>\n      <td>2011</td>\n      <td>1</td>\n      <td>1</td>\n      <td>Australian Grand Prix</td>\n      <td>2011-03-27</td>\n      <td>7</td>\n      <td>58</td>\n      <td>+1:25.186</td>\n      <td>1</td>\n      <td>Finished</td>\n      <td>massa</td>\n    </tr>\n    <tr>\n      <th>...</th>\n      <td>...</td>\n      <td>...</td>\n      <td>...</td>\n      <td>...</td>\n      <td>...</td>\n      <td>...</td>\n      <td>...</td>\n      <td>...</td>\n      <td>...</td>\n      <td>...</td>\n      <td>...</td>\n      <td>...</td>\n      <td>...</td>\n      <td>...</td>\n      <td>...</td>\n      <td>...</td>\n      <td>...</td>\n      <td>...</td>\n    </tr>\n    <tr>\n      <th>8065</th>\n      <td>1052</td>\n      <td>832</td>\n      <td>2</td>\n      <td>37</td>\n      <td>19:09:53</td>\n      <td>24.341</td>\n      <td>24341</td>\n      <td>2021</td>\n      <td>1</td>\n      <td>3</td>\n      <td>Bahrain Grand Prix</td>\n      <td>2021-03-28</td>\n      <td>8</td>\n      <td>56</td>\n      <td>+67.100</td>\n      <td>1</td>\n      <td>Finished</td>\n      <td>sainz</td>\n    </tr>\n    <tr>\n      <th>8066</th>\n      <td>1052</td>\n      <td>815</td>\n      <td>3</td>\n      <td>38</td>\n      <td>19:11:20</td>\n      <td>24.191</td>\n      <td>24191</td>\n      <td>2021</td>\n      <td>1</td>\n      <td>3</td>\n      <td>Bahrain Grand Prix</td>\n      <td>2021-03-28</td>\n      <td>5</td>\n      <td>56</td>\n      <td>+52.047</td>\n      <td>1</td>\n      <td>Finished</td>\n      <td>perez</td>\n    </tr>\n    <tr>\n      <th>8067</th>\n      <td>1052</td>\n      <td>830</td>\n      <td>2</td>\n      <td>39</td>\n      <td>19:12:13</td>\n      <td>23.848</td>\n      <td>23848</td>\n      <td>2021</td>\n      <td>1</td>\n      <td>3</td>\n      <td>Bahrain Grand Prix</td>\n      <td>2021-03-28</td>\n      <td>2</td>\n      <td>56</td>\n      <td>+0.745</td>\n      <td>1</td>\n      <td>Finished</td>\n      <td>max_verstappen</td>\n    </tr>\n    <tr>\n      <th>8068</th>\n      <td>1052</td>\n      <td>842</td>\n      <td>3</td>\n      <td>39</td>\n      <td>19:13:55</td>\n      <td>24.983</td>\n      <td>24983</td>\n      <td>2021</td>\n      <td>1</td>\n      <td>3</td>\n      <td>Bahrain Grand Prix</td>\n      <td>2021-03-28</td>\n      <td>17</td>\n      <td>52</td>\n      <td>\\N</td>\n      <td>31</td>\n      <td>Retired</td>\n      <td>gasly</td>\n    </tr>\n    <tr>\n      <th>8069</th>\n      <td>1052</td>\n      <td>822</td>\n      <td>3</td>\n      <td>54</td>\n      <td>19:36:21</td>\n      <td>24.566</td>\n      <td>24566</td>\n      <td>2021</td>\n      <td>1</td>\n      <td>3</td>\n      <td>Bahrain Grand Prix</td>\n      <td>2021-03-28</td>\n      <td>3</td>\n      <td>56</td>\n      <td>+37.383</td>\n      <td>1</td>\n      <td>Finished</td>\n      <td>bottas</td>\n    </tr>\n  </tbody>\n</table>\n<p>8070 rows × 18 columns</p>\n</div>"
     },
     "execution_count": 21,
     "metadata": {},
     "output_type": "execute_result"
    }
   ],
   "source": [
    "merge_df"
   ],
   "metadata": {
    "collapsed": false,
    "pycharm": {
     "name": "#%%\n"
    }
   }
  },
  {
   "cell_type": "code",
   "execution_count": 22,
   "outputs": [],
   "source": [
    "# Select Status\n",
    "status_select = [1, 11, 12, 13, 14, 15, 16, 17, 18, 19]\n",
    "merge_df.drop(merge_df[~merge_df['statusId'].isin(status_select)].index, inplace=True)"
   ],
   "metadata": {
    "collapsed": false,
    "pycharm": {
     "name": "#%%\n"
    }
   }
  },
  {
   "cell_type": "code",
   "execution_count": 23,
   "outputs": [
    {
     "data": {
      "text/plain": "      raceId  driverId  stop  lap  time_pit duration  milliseconds  year  \\\n0        841       153     1    1  17:05:23   26.898         26898  2011   \n2        841        17     1   11  17:20:48   23.426         23426  2011   \n3        841         4     1   12  17:22:34   23.251         23251  2011   \n4        841        13     1   13  17:24:10   23.842         23842  2011   \n6        841        20     1   14  17:25:17   22.603         22603  2011   \n...      ...       ...   ...  ...       ...      ...           ...   ...   \n8064    1052       847     2   36  19:08:48   24.248         24248  2021   \n8065    1052       832     2   37  19:09:53   24.341         24341  2021   \n8066    1052       815     3   38  19:11:20   24.191         24191  2021   \n8067    1052       830     2   39  19:12:13   23.848         23848  2021   \n8069    1052       822     3   54  19:36:21   24.566         24566  2021   \n\n      round  circuitId                   name        date  positionOrder  \\\n0         1          1  Australian Grand Prix  2011-03-27             11   \n2         1          1  Australian Grand Prix  2011-03-27              5   \n3         1          1  Australian Grand Prix  2011-03-27              4   \n4         1          1  Australian Grand Prix  2011-03-27              7   \n6         1          1  Australian Grand Prix  2011-03-27              1   \n...     ...        ...                    ...         ...            ...   \n8064      1          3     Bahrain Grand Prix  2021-03-28             14   \n8065      1          3     Bahrain Grand Prix  2021-03-28              8   \n8066      1          3     Bahrain Grand Prix  2021-03-28              5   \n8067      1          3     Bahrain Grand Prix  2021-03-28              2   \n8069      1          3     Bahrain Grand Prix  2021-03-28              3   \n\n      laps  time_result  statusId    status       driverRef  \n0       57           \\N        11    +1 Lap     alguersuari  \n2       58      +38.171         1  Finished          webber  \n3       58      +31.772         1  Finished          alonso  \n4       58    +1:25.186         1  Finished           massa  \n6       58  1:29:30.259         1  Finished          vettel  \n...    ...          ...       ...       ...             ...  \n8064    55           \\N        11    +1 Lap         russell  \n8065    56      +67.100         1  Finished           sainz  \n8066    56      +52.047         1  Finished           perez  \n8067    56       +0.745         1  Finished  max_verstappen  \n8069    56      +37.383         1  Finished          bottas  \n\n[7136 rows x 18 columns]",
      "text/html": "<div>\n<style scoped>\n    .dataframe tbody tr th:only-of-type {\n        vertical-align: middle;\n    }\n\n    .dataframe tbody tr th {\n        vertical-align: top;\n    }\n\n    .dataframe thead th {\n        text-align: right;\n    }\n</style>\n<table border=\"1\" class=\"dataframe\">\n  <thead>\n    <tr style=\"text-align: right;\">\n      <th></th>\n      <th>raceId</th>\n      <th>driverId</th>\n      <th>stop</th>\n      <th>lap</th>\n      <th>time_pit</th>\n      <th>duration</th>\n      <th>milliseconds</th>\n      <th>year</th>\n      <th>round</th>\n      <th>circuitId</th>\n      <th>name</th>\n      <th>date</th>\n      <th>positionOrder</th>\n      <th>laps</th>\n      <th>time_result</th>\n      <th>statusId</th>\n      <th>status</th>\n      <th>driverRef</th>\n    </tr>\n  </thead>\n  <tbody>\n    <tr>\n      <th>0</th>\n      <td>841</td>\n      <td>153</td>\n      <td>1</td>\n      <td>1</td>\n      <td>17:05:23</td>\n      <td>26.898</td>\n      <td>26898</td>\n      <td>2011</td>\n      <td>1</td>\n      <td>1</td>\n      <td>Australian Grand Prix</td>\n      <td>2011-03-27</td>\n      <td>11</td>\n      <td>57</td>\n      <td>\\N</td>\n      <td>11</td>\n      <td>+1 Lap</td>\n      <td>alguersuari</td>\n    </tr>\n    <tr>\n      <th>2</th>\n      <td>841</td>\n      <td>17</td>\n      <td>1</td>\n      <td>11</td>\n      <td>17:20:48</td>\n      <td>23.426</td>\n      <td>23426</td>\n      <td>2011</td>\n      <td>1</td>\n      <td>1</td>\n      <td>Australian Grand Prix</td>\n      <td>2011-03-27</td>\n      <td>5</td>\n      <td>58</td>\n      <td>+38.171</td>\n      <td>1</td>\n      <td>Finished</td>\n      <td>webber</td>\n    </tr>\n    <tr>\n      <th>3</th>\n      <td>841</td>\n      <td>4</td>\n      <td>1</td>\n      <td>12</td>\n      <td>17:22:34</td>\n      <td>23.251</td>\n      <td>23251</td>\n      <td>2011</td>\n      <td>1</td>\n      <td>1</td>\n      <td>Australian Grand Prix</td>\n      <td>2011-03-27</td>\n      <td>4</td>\n      <td>58</td>\n      <td>+31.772</td>\n      <td>1</td>\n      <td>Finished</td>\n      <td>alonso</td>\n    </tr>\n    <tr>\n      <th>4</th>\n      <td>841</td>\n      <td>13</td>\n      <td>1</td>\n      <td>13</td>\n      <td>17:24:10</td>\n      <td>23.842</td>\n      <td>23842</td>\n      <td>2011</td>\n      <td>1</td>\n      <td>1</td>\n      <td>Australian Grand Prix</td>\n      <td>2011-03-27</td>\n      <td>7</td>\n      <td>58</td>\n      <td>+1:25.186</td>\n      <td>1</td>\n      <td>Finished</td>\n      <td>massa</td>\n    </tr>\n    <tr>\n      <th>6</th>\n      <td>841</td>\n      <td>20</td>\n      <td>1</td>\n      <td>14</td>\n      <td>17:25:17</td>\n      <td>22.603</td>\n      <td>22603</td>\n      <td>2011</td>\n      <td>1</td>\n      <td>1</td>\n      <td>Australian Grand Prix</td>\n      <td>2011-03-27</td>\n      <td>1</td>\n      <td>58</td>\n      <td>1:29:30.259</td>\n      <td>1</td>\n      <td>Finished</td>\n      <td>vettel</td>\n    </tr>\n    <tr>\n      <th>...</th>\n      <td>...</td>\n      <td>...</td>\n      <td>...</td>\n      <td>...</td>\n      <td>...</td>\n      <td>...</td>\n      <td>...</td>\n      <td>...</td>\n      <td>...</td>\n      <td>...</td>\n      <td>...</td>\n      <td>...</td>\n      <td>...</td>\n      <td>...</td>\n      <td>...</td>\n      <td>...</td>\n      <td>...</td>\n      <td>...</td>\n    </tr>\n    <tr>\n      <th>8064</th>\n      <td>1052</td>\n      <td>847</td>\n      <td>2</td>\n      <td>36</td>\n      <td>19:08:48</td>\n      <td>24.248</td>\n      <td>24248</td>\n      <td>2021</td>\n      <td>1</td>\n      <td>3</td>\n      <td>Bahrain Grand Prix</td>\n      <td>2021-03-28</td>\n      <td>14</td>\n      <td>55</td>\n      <td>\\N</td>\n      <td>11</td>\n      <td>+1 Lap</td>\n      <td>russell</td>\n    </tr>\n    <tr>\n      <th>8065</th>\n      <td>1052</td>\n      <td>832</td>\n      <td>2</td>\n      <td>37</td>\n      <td>19:09:53</td>\n      <td>24.341</td>\n      <td>24341</td>\n      <td>2021</td>\n      <td>1</td>\n      <td>3</td>\n      <td>Bahrain Grand Prix</td>\n      <td>2021-03-28</td>\n      <td>8</td>\n      <td>56</td>\n      <td>+67.100</td>\n      <td>1</td>\n      <td>Finished</td>\n      <td>sainz</td>\n    </tr>\n    <tr>\n      <th>8066</th>\n      <td>1052</td>\n      <td>815</td>\n      <td>3</td>\n      <td>38</td>\n      <td>19:11:20</td>\n      <td>24.191</td>\n      <td>24191</td>\n      <td>2021</td>\n      <td>1</td>\n      <td>3</td>\n      <td>Bahrain Grand Prix</td>\n      <td>2021-03-28</td>\n      <td>5</td>\n      <td>56</td>\n      <td>+52.047</td>\n      <td>1</td>\n      <td>Finished</td>\n      <td>perez</td>\n    </tr>\n    <tr>\n      <th>8067</th>\n      <td>1052</td>\n      <td>830</td>\n      <td>2</td>\n      <td>39</td>\n      <td>19:12:13</td>\n      <td>23.848</td>\n      <td>23848</td>\n      <td>2021</td>\n      <td>1</td>\n      <td>3</td>\n      <td>Bahrain Grand Prix</td>\n      <td>2021-03-28</td>\n      <td>2</td>\n      <td>56</td>\n      <td>+0.745</td>\n      <td>1</td>\n      <td>Finished</td>\n      <td>max_verstappen</td>\n    </tr>\n    <tr>\n      <th>8069</th>\n      <td>1052</td>\n      <td>822</td>\n      <td>3</td>\n      <td>54</td>\n      <td>19:36:21</td>\n      <td>24.566</td>\n      <td>24566</td>\n      <td>2021</td>\n      <td>1</td>\n      <td>3</td>\n      <td>Bahrain Grand Prix</td>\n      <td>2021-03-28</td>\n      <td>3</td>\n      <td>56</td>\n      <td>+37.383</td>\n      <td>1</td>\n      <td>Finished</td>\n      <td>bottas</td>\n    </tr>\n  </tbody>\n</table>\n<p>7136 rows × 18 columns</p>\n</div>"
     },
     "execution_count": 23,
     "metadata": {},
     "output_type": "execute_result"
    }
   ],
   "source": [
    "merge_df"
   ],
   "metadata": {
    "collapsed": false,
    "pycharm": {
     "name": "#%%\n"
    }
   }
  },
  {
   "cell_type": "markdown",
   "source": [
    "Status Meaning\n",
    "\n",
    "+1 lap means that you have been overtaken by the race leader and that they are behind the race by 1 lap. So if the race has 30 laps , they are timed for 29 laps only hence +1.\n",
    "\n",
    "If the winner is able to do it twice , it will be shown as +2 so on ..."
   ],
   "metadata": {
    "collapsed": false,
    "pycharm": {
     "name": "#%% md\n"
    }
   }
  },
  {
   "cell_type": "code",
   "execution_count": 24,
   "outputs": [
    {
     "data": {
      "text/plain": "Finished    4234\n+1 Lap      2181\n+2 Laps      541\n+3 Laps      106\n+4 Laps       39\n+5 Laps       27\n+8 Laps        5\n+6 Laps        2\n+9 Laps        1\nName: status, dtype: int64"
     },
     "execution_count": 24,
     "metadata": {},
     "output_type": "execute_result"
    }
   ],
   "source": [
    "merge_df.status.value_counts()"
   ],
   "metadata": {
    "collapsed": false,
    "pycharm": {
     "name": "#%%\n"
    }
   }
  },
  {
   "cell_type": "code",
   "execution_count": 34,
   "outputs": [
    {
     "data": {
      "text/plain": "153    3\n17     3\n4      3\n13     3\n18     3\n20     2\n814    2\n816    2\n67     2\n2      2\n1      2\n808    2\n16     2\n15     2\n10     1\nName: driverId, dtype: int64"
     },
     "execution_count": 34,
     "metadata": {},
     "output_type": "execute_result"
    }
   ],
   "source": [
    "merge_df[merge_df['raceId'] == 841]['driverId'].value_counts()"
   ],
   "metadata": {
    "collapsed": false,
    "pycharm": {
     "name": "#%%\n"
    }
   }
  },
  {
   "cell_type": "code",
   "execution_count": 35,
   "outputs": [
    {
     "data": {
      "text/plain": "    raceId  driverId  stop  lap  time_pit duration  milliseconds  year  round  \\\n21     841        10     1   18  17:33:02   23.792         23792  2011      1   \n\n    circuitId                   name        date  positionOrder  laps  \\\n21          1  Australian Grand Prix  2011-03-27             15    49   \n\n   time_result  statusId   status driverRef  \n21          \\N        19  +9 Laps     glock  ",
      "text/html": "<div>\n<style scoped>\n    .dataframe tbody tr th:only-of-type {\n        vertical-align: middle;\n    }\n\n    .dataframe tbody tr th {\n        vertical-align: top;\n    }\n\n    .dataframe thead th {\n        text-align: right;\n    }\n</style>\n<table border=\"1\" class=\"dataframe\">\n  <thead>\n    <tr style=\"text-align: right;\">\n      <th></th>\n      <th>raceId</th>\n      <th>driverId</th>\n      <th>stop</th>\n      <th>lap</th>\n      <th>time_pit</th>\n      <th>duration</th>\n      <th>milliseconds</th>\n      <th>year</th>\n      <th>round</th>\n      <th>circuitId</th>\n      <th>name</th>\n      <th>date</th>\n      <th>positionOrder</th>\n      <th>laps</th>\n      <th>time_result</th>\n      <th>statusId</th>\n      <th>status</th>\n      <th>driverRef</th>\n    </tr>\n  </thead>\n  <tbody>\n    <tr>\n      <th>21</th>\n      <td>841</td>\n      <td>10</td>\n      <td>1</td>\n      <td>18</td>\n      <td>17:33:02</td>\n      <td>23.792</td>\n      <td>23792</td>\n      <td>2011</td>\n      <td>1</td>\n      <td>1</td>\n      <td>Australian Grand Prix</td>\n      <td>2011-03-27</td>\n      <td>15</td>\n      <td>49</td>\n      <td>\\N</td>\n      <td>19</td>\n      <td>+9 Laps</td>\n      <td>glock</td>\n    </tr>\n  </tbody>\n</table>\n</div>"
     },
     "execution_count": 35,
     "metadata": {},
     "output_type": "execute_result"
    }
   ],
   "source": [
    "merge_df[merge_df['raceId'] == 841][merge_df[merge_df['raceId'] == 841]['driverId'] == 10]"
   ],
   "metadata": {
    "collapsed": false,
    "pycharm": {
     "name": "#%%\n"
    }
   }
  },
  {
   "cell_type": "code",
   "execution_count": 39,
   "outputs": [
    {
     "data": {
      "text/plain": "     raceId  year  laps\n0       841  2011    58\n1       842  2011    56\n2       843  2011    56\n3       844  2011    58\n4       845  2011    66\n..      ...   ...   ...\n192    1044  2020    58\n193    1045  2020    57\n194    1046  2020    87\n195    1047  2020    55\n196    1052  2021    56\n\n[197 rows x 3 columns]",
      "text/html": "<div>\n<style scoped>\n    .dataframe tbody tr th:only-of-type {\n        vertical-align: middle;\n    }\n\n    .dataframe tbody tr th {\n        vertical-align: top;\n    }\n\n    .dataframe thead th {\n        text-align: right;\n    }\n</style>\n<table border=\"1\" class=\"dataframe\">\n  <thead>\n    <tr style=\"text-align: right;\">\n      <th></th>\n      <th>raceId</th>\n      <th>year</th>\n      <th>laps</th>\n    </tr>\n  </thead>\n  <tbody>\n    <tr>\n      <th>0</th>\n      <td>841</td>\n      <td>2011</td>\n      <td>58</td>\n    </tr>\n    <tr>\n      <th>1</th>\n      <td>842</td>\n      <td>2011</td>\n      <td>56</td>\n    </tr>\n    <tr>\n      <th>2</th>\n      <td>843</td>\n      <td>2011</td>\n      <td>56</td>\n    </tr>\n    <tr>\n      <th>3</th>\n      <td>844</td>\n      <td>2011</td>\n      <td>58</td>\n    </tr>\n    <tr>\n      <th>4</th>\n      <td>845</td>\n      <td>2011</td>\n      <td>66</td>\n    </tr>\n    <tr>\n      <th>...</th>\n      <td>...</td>\n      <td>...</td>\n      <td>...</td>\n    </tr>\n    <tr>\n      <th>192</th>\n      <td>1044</td>\n      <td>2020</td>\n      <td>58</td>\n    </tr>\n    <tr>\n      <th>193</th>\n      <td>1045</td>\n      <td>2020</td>\n      <td>57</td>\n    </tr>\n    <tr>\n      <th>194</th>\n      <td>1046</td>\n      <td>2020</td>\n      <td>87</td>\n    </tr>\n    <tr>\n      <th>195</th>\n      <td>1047</td>\n      <td>2020</td>\n      <td>55</td>\n    </tr>\n    <tr>\n      <th>196</th>\n      <td>1052</td>\n      <td>2021</td>\n      <td>56</td>\n    </tr>\n  </tbody>\n</table>\n<p>197 rows × 3 columns</p>\n</div>"
     },
     "execution_count": 39,
     "metadata": {},
     "output_type": "execute_result"
    }
   ],
   "source": [
    "# get the maximum number of laps in each race\n",
    "race_lap = merge_df[(merge_df['positionOrder'] == 1) & (merge_df['stop'] == 1)].reset_index(drop=True)[['raceId', 'year', 'laps']]\n",
    "race_lap"
   ],
   "metadata": {
    "collapsed": false,
    "pycharm": {
     "name": "#%%\n"
    }
   }
  },
  {
   "cell_type": "code",
   "execution_count": 42,
   "outputs": [
    {
     "data": {
      "text/plain": "      raceId  driverId  stop  lap\n0        841         1     2   36\n1        841         2     2   30\n2        841         4     3   42\n3        841        10     1   18\n4        841        13     3   48\n...      ...       ...   ...  ...\n3402    1052       844     2   32\n3403    1052       846     2   33\n3404    1052       847     2   36\n3405    1052       852     2   33\n3406    1052       854     2   33\n\n[3407 rows x 4 columns]",
      "text/html": "<div>\n<style scoped>\n    .dataframe tbody tr th:only-of-type {\n        vertical-align: middle;\n    }\n\n    .dataframe tbody tr th {\n        vertical-align: top;\n    }\n\n    .dataframe thead th {\n        text-align: right;\n    }\n</style>\n<table border=\"1\" class=\"dataframe\">\n  <thead>\n    <tr style=\"text-align: right;\">\n      <th></th>\n      <th>raceId</th>\n      <th>driverId</th>\n      <th>stop</th>\n      <th>lap</th>\n    </tr>\n  </thead>\n  <tbody>\n    <tr>\n      <th>0</th>\n      <td>841</td>\n      <td>1</td>\n      <td>2</td>\n      <td>36</td>\n    </tr>\n    <tr>\n      <th>1</th>\n      <td>841</td>\n      <td>2</td>\n      <td>2</td>\n      <td>30</td>\n    </tr>\n    <tr>\n      <th>2</th>\n      <td>841</td>\n      <td>4</td>\n      <td>3</td>\n      <td>42</td>\n    </tr>\n    <tr>\n      <th>3</th>\n      <td>841</td>\n      <td>10</td>\n      <td>1</td>\n      <td>18</td>\n    </tr>\n    <tr>\n      <th>4</th>\n      <td>841</td>\n      <td>13</td>\n      <td>3</td>\n      <td>48</td>\n    </tr>\n    <tr>\n      <th>...</th>\n      <td>...</td>\n      <td>...</td>\n      <td>...</td>\n      <td>...</td>\n    </tr>\n    <tr>\n      <th>3402</th>\n      <td>1052</td>\n      <td>844</td>\n      <td>2</td>\n      <td>32</td>\n    </tr>\n    <tr>\n      <th>3403</th>\n      <td>1052</td>\n      <td>846</td>\n      <td>2</td>\n      <td>33</td>\n    </tr>\n    <tr>\n      <th>3404</th>\n      <td>1052</td>\n      <td>847</td>\n      <td>2</td>\n      <td>36</td>\n    </tr>\n    <tr>\n      <th>3405</th>\n      <td>1052</td>\n      <td>852</td>\n      <td>2</td>\n      <td>33</td>\n    </tr>\n    <tr>\n      <th>3406</th>\n      <td>1052</td>\n      <td>854</td>\n      <td>2</td>\n      <td>33</td>\n    </tr>\n  </tbody>\n</table>\n<p>3407 rows × 4 columns</p>\n</div>"
     },
     "execution_count": 42,
     "metadata": {},
     "output_type": "execute_result"
    }
   ],
   "source": [
    "# divide the pit stop times per race by driver (rank 1 in each race to find max laps)\n",
    "pit_stop = merge_df.groupby(by=['raceId', 'driverId'], as_index=False)[['stop', 'lap']].max()\n",
    "pit_stop"
   ],
   "metadata": {
    "collapsed": false,
    "pycharm": {
     "name": "#%%\n"
    }
   }
  },
  {
   "cell_type": "code",
   "execution_count": 44,
   "outputs": [],
   "source": [
    "def count_proportion(df_pit: pd.DataFrame, df_race: pd.DataFrame, decimal: int) -> pd.DataFrame:\n",
    "    \"\"\"\n",
    "    add column with the proportion during the total laps in each race\n",
    "    :param decimal:\n",
    "    :param df_pit: pit dataframe\n",
    "    :param df_race: race dataframe\n",
    "    :return:\n",
    "    >>> df = pd.DataFrame({\"raceId\":[1,2,3], \"lap\":[25, 15, 29]})\n",
    "    >>> race = pd.DataFrame({\"raceId\":[1,2,3], \"laps\":[50, 60, 58]})\n",
    "    >>> count_proportion(df,race, 2)\n",
    "       raceId  lap  laps  proportion\n",
    "    0       1   25    50        0.50\n",
    "    1       2   15    60        0.25\n",
    "    2       3   29    58        0.50\n",
    "    \"\"\"\n",
    "    df_new = df_pit.merge(df_race[['raceId', 'laps']], on='raceId', how='left', suffixes=('_once', '_total'))\n",
    "    df_new['proportion'] = round(df_new['lap'] / df_new['laps'], decimal)\n",
    "    return df_new"
   ],
   "metadata": {
    "collapsed": false,
    "pycharm": {
     "name": "#%%\n"
    }
   }
  },
  {
   "cell_type": "code",
   "execution_count": 45,
   "outputs": [
    {
     "data": {
      "text/plain": "      raceId  driverId  stop  lap  laps  proportion\n0        841        10     1   18    58         0.3\n1        843        39     1   23    56         0.4\n2        846        20     1   16    78         0.2\n3        846        24     1   32    78         0.4\n4        846       155     1   34    78         0.4\n...      ...       ...   ...  ...   ...         ...\n1019    1047       844     1   22    55         0.4\n1020    1047       846     1   10    55         0.2\n1021    1047       847     1   10    55         0.2\n1022    1047       848     1   10    55         0.2\n1023    1052        20     1   24    56         0.4\n\n[1024 rows x 6 columns]",
      "text/html": "<div>\n<style scoped>\n    .dataframe tbody tr th:only-of-type {\n        vertical-align: middle;\n    }\n\n    .dataframe tbody tr th {\n        vertical-align: top;\n    }\n\n    .dataframe thead th {\n        text-align: right;\n    }\n</style>\n<table border=\"1\" class=\"dataframe\">\n  <thead>\n    <tr style=\"text-align: right;\">\n      <th></th>\n      <th>raceId</th>\n      <th>driverId</th>\n      <th>stop</th>\n      <th>lap</th>\n      <th>laps</th>\n      <th>proportion</th>\n    </tr>\n  </thead>\n  <tbody>\n    <tr>\n      <th>0</th>\n      <td>841</td>\n      <td>10</td>\n      <td>1</td>\n      <td>18</td>\n      <td>58</td>\n      <td>0.3</td>\n    </tr>\n    <tr>\n      <th>1</th>\n      <td>843</td>\n      <td>39</td>\n      <td>1</td>\n      <td>23</td>\n      <td>56</td>\n      <td>0.4</td>\n    </tr>\n    <tr>\n      <th>2</th>\n      <td>846</td>\n      <td>20</td>\n      <td>1</td>\n      <td>16</td>\n      <td>78</td>\n      <td>0.2</td>\n    </tr>\n    <tr>\n      <th>3</th>\n      <td>846</td>\n      <td>24</td>\n      <td>1</td>\n      <td>32</td>\n      <td>78</td>\n      <td>0.4</td>\n    </tr>\n    <tr>\n      <th>4</th>\n      <td>846</td>\n      <td>155</td>\n      <td>1</td>\n      <td>34</td>\n      <td>78</td>\n      <td>0.4</td>\n    </tr>\n    <tr>\n      <th>...</th>\n      <td>...</td>\n      <td>...</td>\n      <td>...</td>\n      <td>...</td>\n      <td>...</td>\n      <td>...</td>\n    </tr>\n    <tr>\n      <th>1019</th>\n      <td>1047</td>\n      <td>844</td>\n      <td>1</td>\n      <td>22</td>\n      <td>55</td>\n      <td>0.4</td>\n    </tr>\n    <tr>\n      <th>1020</th>\n      <td>1047</td>\n      <td>846</td>\n      <td>1</td>\n      <td>10</td>\n      <td>55</td>\n      <td>0.2</td>\n    </tr>\n    <tr>\n      <th>1021</th>\n      <td>1047</td>\n      <td>847</td>\n      <td>1</td>\n      <td>10</td>\n      <td>55</td>\n      <td>0.2</td>\n    </tr>\n    <tr>\n      <th>1022</th>\n      <td>1047</td>\n      <td>848</td>\n      <td>1</td>\n      <td>10</td>\n      <td>55</td>\n      <td>0.2</td>\n    </tr>\n    <tr>\n      <th>1023</th>\n      <td>1052</td>\n      <td>20</td>\n      <td>1</td>\n      <td>24</td>\n      <td>56</td>\n      <td>0.4</td>\n    </tr>\n  </tbody>\n</table>\n<p>1024 rows × 6 columns</p>\n</div>"
     },
     "execution_count": 45,
     "metadata": {},
     "output_type": "execute_result"
    }
   ],
   "source": [
    "# 1 pit stop\n",
    "pit_once = pit_stop[pit_stop['stop']==1]\n",
    "\n",
    "pit_once_temp = count_proportion(pit_once, race_lap, 1)\n",
    "pit_once_temp"
   ],
   "metadata": {
    "collapsed": false,
    "pycharm": {
     "name": "#%%\n"
    }
   }
  },
  {
   "cell_type": "code",
   "execution_count": 46,
   "outputs": [
    {
     "data": {
      "text/plain": "      raceId  driverId  stop  lap  laps  proportion\n0        841         1     1   16    58        0.28\n1        841         1     2   36    58        0.62\n2        841         2     1   15    58        0.26\n3        841         2     2   30    58        0.52\n4        841        15     1   16    58        0.28\n...      ...       ...   ...  ...   ...         ...\n2776    1052       847     2   36    56        0.64\n2777    1052       852     1   15    56        0.27\n2778    1052       852     2   33    56        0.59\n2779    1052       854     1   14    56        0.25\n2780    1052       854     2   33    56        0.59\n\n[2781 rows x 6 columns]",
      "text/html": "<div>\n<style scoped>\n    .dataframe tbody tr th:only-of-type {\n        vertical-align: middle;\n    }\n\n    .dataframe tbody tr th {\n        vertical-align: top;\n    }\n\n    .dataframe thead th {\n        text-align: right;\n    }\n</style>\n<table border=\"1\" class=\"dataframe\">\n  <thead>\n    <tr style=\"text-align: right;\">\n      <th></th>\n      <th>raceId</th>\n      <th>driverId</th>\n      <th>stop</th>\n      <th>lap</th>\n      <th>laps</th>\n      <th>proportion</th>\n    </tr>\n  </thead>\n  <tbody>\n    <tr>\n      <th>0</th>\n      <td>841</td>\n      <td>1</td>\n      <td>1</td>\n      <td>16</td>\n      <td>58</td>\n      <td>0.28</td>\n    </tr>\n    <tr>\n      <th>1</th>\n      <td>841</td>\n      <td>1</td>\n      <td>2</td>\n      <td>36</td>\n      <td>58</td>\n      <td>0.62</td>\n    </tr>\n    <tr>\n      <th>2</th>\n      <td>841</td>\n      <td>2</td>\n      <td>1</td>\n      <td>15</td>\n      <td>58</td>\n      <td>0.26</td>\n    </tr>\n    <tr>\n      <th>3</th>\n      <td>841</td>\n      <td>2</td>\n      <td>2</td>\n      <td>30</td>\n      <td>58</td>\n      <td>0.52</td>\n    </tr>\n    <tr>\n      <th>4</th>\n      <td>841</td>\n      <td>15</td>\n      <td>1</td>\n      <td>16</td>\n      <td>58</td>\n      <td>0.28</td>\n    </tr>\n    <tr>\n      <th>...</th>\n      <td>...</td>\n      <td>...</td>\n      <td>...</td>\n      <td>...</td>\n      <td>...</td>\n      <td>...</td>\n    </tr>\n    <tr>\n      <th>2776</th>\n      <td>1052</td>\n      <td>847</td>\n      <td>2</td>\n      <td>36</td>\n      <td>56</td>\n      <td>0.64</td>\n    </tr>\n    <tr>\n      <th>2777</th>\n      <td>1052</td>\n      <td>852</td>\n      <td>1</td>\n      <td>15</td>\n      <td>56</td>\n      <td>0.27</td>\n    </tr>\n    <tr>\n      <th>2778</th>\n      <td>1052</td>\n      <td>852</td>\n      <td>2</td>\n      <td>33</td>\n      <td>56</td>\n      <td>0.59</td>\n    </tr>\n    <tr>\n      <th>2779</th>\n      <td>1052</td>\n      <td>854</td>\n      <td>1</td>\n      <td>14</td>\n      <td>56</td>\n      <td>0.25</td>\n    </tr>\n    <tr>\n      <th>2780</th>\n      <td>1052</td>\n      <td>854</td>\n      <td>2</td>\n      <td>33</td>\n      <td>56</td>\n      <td>0.59</td>\n    </tr>\n  </tbody>\n</table>\n<p>2781 rows × 6 columns</p>\n</div>"
     },
     "execution_count": 46,
     "metadata": {},
     "output_type": "execute_result"
    }
   ],
   "source": [
    "# 2 pit stop\n",
    "pit_twice = pit_stop[pit_stop['stop']==2]\n",
    "# back to merge_df df to get the first pit stop data\n",
    "pit_twice= pd.merge(pit_twice[['raceId', 'driverId']],merge_df[['raceId', 'driverId', 'stop', 'lap']], on=['raceId', 'driverId'], how = 'left')\n",
    "# then we have all data with pit stop twice\n",
    "pit_twice_temp = count_proportion(pit_twice, race_lap, 2)\n",
    "pit_twice_temp"
   ],
   "metadata": {
    "collapsed": false,
    "pycharm": {
     "name": "#%%\n"
    }
   }
  },
  {
   "cell_type": "code",
   "execution_count": 47,
   "outputs": [
    {
     "data": {
      "text/plain": "      raceId  driverId  stop  lap  laps  proportion\n0        841         4     1   12    58        0.21\n1        841         4     2   27    58        0.47\n2        841         4     3   42    58        0.72\n3        841        13     1   13    58        0.22\n4        841        13     2   31    58        0.53\n...      ...       ...   ...  ...   ...         ...\n2172    1052       815     2   19    56        0.34\n2173    1052       815     3   38    56        0.68\n2174    1052       822     1   16    56        0.29\n2175    1052       822     2   30    56        0.54\n2176    1052       822     3   54    56        0.96\n\n[2177 rows x 6 columns]",
      "text/html": "<div>\n<style scoped>\n    .dataframe tbody tr th:only-of-type {\n        vertical-align: middle;\n    }\n\n    .dataframe tbody tr th {\n        vertical-align: top;\n    }\n\n    .dataframe thead th {\n        text-align: right;\n    }\n</style>\n<table border=\"1\" class=\"dataframe\">\n  <thead>\n    <tr style=\"text-align: right;\">\n      <th></th>\n      <th>raceId</th>\n      <th>driverId</th>\n      <th>stop</th>\n      <th>lap</th>\n      <th>laps</th>\n      <th>proportion</th>\n    </tr>\n  </thead>\n  <tbody>\n    <tr>\n      <th>0</th>\n      <td>841</td>\n      <td>4</td>\n      <td>1</td>\n      <td>12</td>\n      <td>58</td>\n      <td>0.21</td>\n    </tr>\n    <tr>\n      <th>1</th>\n      <td>841</td>\n      <td>4</td>\n      <td>2</td>\n      <td>27</td>\n      <td>58</td>\n      <td>0.47</td>\n    </tr>\n    <tr>\n      <th>2</th>\n      <td>841</td>\n      <td>4</td>\n      <td>3</td>\n      <td>42</td>\n      <td>58</td>\n      <td>0.72</td>\n    </tr>\n    <tr>\n      <th>3</th>\n      <td>841</td>\n      <td>13</td>\n      <td>1</td>\n      <td>13</td>\n      <td>58</td>\n      <td>0.22</td>\n    </tr>\n    <tr>\n      <th>4</th>\n      <td>841</td>\n      <td>13</td>\n      <td>2</td>\n      <td>31</td>\n      <td>58</td>\n      <td>0.53</td>\n    </tr>\n    <tr>\n      <th>...</th>\n      <td>...</td>\n      <td>...</td>\n      <td>...</td>\n      <td>...</td>\n      <td>...</td>\n      <td>...</td>\n    </tr>\n    <tr>\n      <th>2172</th>\n      <td>1052</td>\n      <td>815</td>\n      <td>2</td>\n      <td>19</td>\n      <td>56</td>\n      <td>0.34</td>\n    </tr>\n    <tr>\n      <th>2173</th>\n      <td>1052</td>\n      <td>815</td>\n      <td>3</td>\n      <td>38</td>\n      <td>56</td>\n      <td>0.68</td>\n    </tr>\n    <tr>\n      <th>2174</th>\n      <td>1052</td>\n      <td>822</td>\n      <td>1</td>\n      <td>16</td>\n      <td>56</td>\n      <td>0.29</td>\n    </tr>\n    <tr>\n      <th>2175</th>\n      <td>1052</td>\n      <td>822</td>\n      <td>2</td>\n      <td>30</td>\n      <td>56</td>\n      <td>0.54</td>\n    </tr>\n    <tr>\n      <th>2176</th>\n      <td>1052</td>\n      <td>822</td>\n      <td>3</td>\n      <td>54</td>\n      <td>56</td>\n      <td>0.96</td>\n    </tr>\n  </tbody>\n</table>\n<p>2177 rows × 6 columns</p>\n</div>"
     },
     "execution_count": 47,
     "metadata": {},
     "output_type": "execute_result"
    }
   ],
   "source": [
    "# 3 pit stops and each stop or proportion\n",
    "pit_third = pit_stop[pit_stop['stop']==3]\n",
    "pit_third= pd.merge(pit_third[['raceId', 'driverId']],merge_df[['raceId', 'driverId', 'stop', 'lap']], on=['raceId', 'driverId'], how = 'left')\n",
    "pit_third_temp = count_proportion(pit_third, race_lap, 2)\n",
    "pit_third_temp"
   ],
   "metadata": {
    "collapsed": false,
    "pycharm": {
     "name": "#%%\n"
    }
   }
  },
  {
   "cell_type": "code",
   "execution_count": 48,
   "outputs": [
    {
     "data": {
      "text/plain": "     raceId  driverId  stop  lap  laps  proportion\n0       842         1     1   12    56        0.21\n1       842         1     2   24    56        0.43\n2       842         1     3   37    56        0.66\n3       842         1     4   52    56        0.93\n4       842         4     1   14    56        0.25\n..      ...       ...   ...  ...   ...         ...\n751    1045       830     4   46    57        0.81\n752    1046       847     1   45    87        0.52\n753    1046       847     2   62    87        0.71\n754    1046       847     3   63    87        0.72\n755    1046       847     4   78    87        0.90\n\n[756 rows x 6 columns]",
      "text/html": "<div>\n<style scoped>\n    .dataframe tbody tr th:only-of-type {\n        vertical-align: middle;\n    }\n\n    .dataframe tbody tr th {\n        vertical-align: top;\n    }\n\n    .dataframe thead th {\n        text-align: right;\n    }\n</style>\n<table border=\"1\" class=\"dataframe\">\n  <thead>\n    <tr style=\"text-align: right;\">\n      <th></th>\n      <th>raceId</th>\n      <th>driverId</th>\n      <th>stop</th>\n      <th>lap</th>\n      <th>laps</th>\n      <th>proportion</th>\n    </tr>\n  </thead>\n  <tbody>\n    <tr>\n      <th>0</th>\n      <td>842</td>\n      <td>1</td>\n      <td>1</td>\n      <td>12</td>\n      <td>56</td>\n      <td>0.21</td>\n    </tr>\n    <tr>\n      <th>1</th>\n      <td>842</td>\n      <td>1</td>\n      <td>2</td>\n      <td>24</td>\n      <td>56</td>\n      <td>0.43</td>\n    </tr>\n    <tr>\n      <th>2</th>\n      <td>842</td>\n      <td>1</td>\n      <td>3</td>\n      <td>37</td>\n      <td>56</td>\n      <td>0.66</td>\n    </tr>\n    <tr>\n      <th>3</th>\n      <td>842</td>\n      <td>1</td>\n      <td>4</td>\n      <td>52</td>\n      <td>56</td>\n      <td>0.93</td>\n    </tr>\n    <tr>\n      <th>4</th>\n      <td>842</td>\n      <td>4</td>\n      <td>1</td>\n      <td>14</td>\n      <td>56</td>\n      <td>0.25</td>\n    </tr>\n    <tr>\n      <th>...</th>\n      <td>...</td>\n      <td>...</td>\n      <td>...</td>\n      <td>...</td>\n      <td>...</td>\n      <td>...</td>\n    </tr>\n    <tr>\n      <th>751</th>\n      <td>1045</td>\n      <td>830</td>\n      <td>4</td>\n      <td>46</td>\n      <td>57</td>\n      <td>0.81</td>\n    </tr>\n    <tr>\n      <th>752</th>\n      <td>1046</td>\n      <td>847</td>\n      <td>1</td>\n      <td>45</td>\n      <td>87</td>\n      <td>0.52</td>\n    </tr>\n    <tr>\n      <th>753</th>\n      <td>1046</td>\n      <td>847</td>\n      <td>2</td>\n      <td>62</td>\n      <td>87</td>\n      <td>0.71</td>\n    </tr>\n    <tr>\n      <th>754</th>\n      <td>1046</td>\n      <td>847</td>\n      <td>3</td>\n      <td>63</td>\n      <td>87</td>\n      <td>0.72</td>\n    </tr>\n    <tr>\n      <th>755</th>\n      <td>1046</td>\n      <td>847</td>\n      <td>4</td>\n      <td>78</td>\n      <td>87</td>\n      <td>0.90</td>\n    </tr>\n  </tbody>\n</table>\n<p>756 rows × 6 columns</p>\n</div>"
     },
     "execution_count": 48,
     "metadata": {},
     "output_type": "execute_result"
    }
   ],
   "source": [
    "# 4 pit stops and each stop or proportion\n",
    "pit_four = pit_stop[pit_stop['stop']==4]\n",
    "pit_four= pd.merge(pit_four[['raceId', 'driverId']],merge_df[['raceId', 'driverId', 'stop', 'lap']], on=['raceId', 'driverId'], how = 'left')\n",
    "pit_four_temp = count_proportion(pit_four, race_lap, 2)\n",
    "pit_four_temp"
   ],
   "metadata": {
    "collapsed": false,
    "pycharm": {
     "name": "#%%\n"
    }
   }
  },
  {
   "cell_type": "code",
   "execution_count": 67,
   "outputs": [
    {
     "data": {
      "text/plain": "<AxesSubplot:>"
     },
     "execution_count": 67,
     "metadata": {},
     "output_type": "execute_result"
    },
    {
     "data": {
      "text/plain": "<Figure size 432x288 with 1 Axes>",
      "image/png": "[encoded data removed]"
     },
     "metadata": {
      "needs_background": "light"
     },
     "output_type": "display_data"
    }
   ],
   "source": [
    "pit_once_temp.proportion.value_counts().sort_index().plot.bar()"
   ],
   "metadata": {
    "collapsed": false,
    "pycharm": {
     "name": "#%%\n"
    }
   }
  },
  {
   "cell_type": "code",
   "execution_count": 70,
   "outputs": [
    {
     "data": {
      "text/plain": "0       0.28\n2       0.26\n4       0.28\n6       0.28\n8       0.24\n        ... \n2771    0.21\n2773    0.21\n2775    0.23\n2777    0.27\n2779    0.25\nName: proportion, Length: 1390, dtype: float64"
     },
     "execution_count": 70,
     "metadata": {},
     "output_type": "execute_result"
    }
   ],
   "source": [
    "pit_twice_temp[pit_twice_temp['stop'] == 1].proportion"
   ],
   "metadata": {
    "collapsed": false,
    "pycharm": {
     "name": "#%%\n"
    }
   }
  },
  {
   "cell_type": "code",
   "execution_count": 71,
   "outputs": [],
   "source": [
    "import seaborn as sns"
   ],
   "metadata": {
    "collapsed": false,
    "pycharm": {
     "name": "#%%\n"
    }
   }
  },
  {
   "cell_type": "code",
   "execution_count": 72,
   "outputs": [
    {
     "data": {
      "text/plain": "<AxesSubplot:xlabel='proportion', ylabel='Count'>"
     },
     "execution_count": 72,
     "metadata": {},
     "output_type": "execute_result"
    },
    {
     "data": {
      "text/plain": "<Figure size 1440x432 with 1 Axes>",
      "image/png": "[encoded data removed]"
     },
     "metadata": {
      "needs_background": "light"
     },
     "output_type": "display_data"
    }
   ],
   "source": [
    "plt.figure(figsize=(20,6))\n",
    "\n",
    "plt.subplot(121)\n",
    "sns.histplot(pit_once_temp.proportion,kde=True, color='red')"
   ],
   "metadata": {
    "collapsed": false,
    "pycharm": {
     "name": "#%%\n"
    }
   }
  },
  {
   "cell_type": "code",
   "execution_count": 77,
   "outputs": [
    {
     "data": {
      "text/plain": "0       0.3\n1       0.4\n2       0.2\n3       0.4\n4       0.4\n       ... \n1019    0.4\n1020    0.2\n1021    0.2\n1022    0.2\n1023    0.4\nName: proportion, Length: 1024, dtype: float64"
     },
     "execution_count": 77,
     "metadata": {},
     "output_type": "execute_result"
    }
   ],
   "source": [
    "pit_once_temp.proportion"
   ],
   "metadata": {
    "collapsed": false,
    "pycharm": {
     "name": "#%%\n"
    }
   }
  },
  {
   "cell_type": "code",
   "execution_count": 55,
   "outputs": [
    {
     "data": {
      "text/plain": "ShapiroResult(statistic=0.9542100429534912, pvalue=2.4285948338301763e-17)"
     },
     "execution_count": 55,
     "metadata": {},
     "output_type": "execute_result"
    }
   ],
   "source": [
    "shapiro(pit_once_temp.proportion)"
   ],
   "metadata": {
    "collapsed": false,
    "pycharm": {
     "name": "#%%\n"
    }
   }
  },
  {
   "cell_type": "code",
   "execution_count": 69,
   "outputs": [
    {
     "data": {
      "text/plain": "ShapiroResult(statistic=0.9835994243621826, pvalue=1.854452875982293e-11)"
     },
     "execution_count": 69,
     "metadata": {},
     "output_type": "execute_result"
    }
   ],
   "source": [
    "shapiro(pit_twice_temp[pit_twice_temp['stop'] == 1].proportion)"
   ],
   "metadata": {
    "collapsed": false,
    "pycharm": {
     "name": "#%%\n"
    }
   }
  },
  {
   "cell_type": "code",
   "execution_count": 51,
   "outputs": [],
   "source": [
    "def plot_line_chart(df: pd.DataFrame, stop: int, plot_title):\n",
    "    \"\"\"\n",
    "    This function the x and y co-ordinates to plot a line graph\n",
    "    :param df: input dataframe ready for plotting\n",
    "    :param stop: pit stop times\n",
    "    :param plot_title: title for the line graph\n",
    "    :return: plt\n",
    "    \"\"\"\n",
    "    fig, ax = plt.subplots(figsize=(10, 5))\n",
    "    if stop == 1:\n",
    "        df.plot(x='proportion', y='laps', ax=ax)\n",
    "    elif stop >= 2:\n",
    "        # first stop\n",
    "        x1 = df[df['stop'] == 1]['proportion']\n",
    "        y1 = df[df['stop'] == 1]['laps']\n",
    "        plt.plot(x1, y1, label='first time')\n",
    "        # second stop\n",
    "        x2 = df[df['stop'] == 2]['proportion']\n",
    "        y2 = df[df['stop'] == 2]['laps']\n",
    "        plt.plot(x2, y2, label='second time')\n",
    "        if stop >= 3:\n",
    "            ax.set_ylim([0, 100])\n",
    "            x3 = df[df['stop'] == 3]['proportion']\n",
    "            y3 = df[df['stop'] == 3]['laps']\n",
    "            # plotting the line 3 points\n",
    "            plt.plot(x3, y3, label='third time')\n",
    "            if stop == 4:\n",
    "                ax.set_ylim([0, 100])\n",
    "                x4 = df[df['stop'] == 4]['proportion']\n",
    "                y4 = df[df['stop'] == 4]['laps']\n",
    "                # plotting the line 4 points\n",
    "                plt.plot(x4, y4, label='forth time')\n",
    "    ax.set(xlabel='Proportion of total laps',\n",
    "           ylabel='Race Count',\n",
    "           title=plot_title)\n",
    "    plt.legend()"
   ],
   "metadata": {
    "collapsed": false,
    "pycharm": {
     "name": "#%%\n"
    }
   }
  },
  {
   "cell_type": "code",
   "execution_count": 52,
   "outputs": [
    {
     "data": {
      "text/plain": "<Figure size 720x360 with 1 Axes>",
      "image/png": "[encoded data removed]"
     },
     "metadata": {
      "needs_background": "light"
     },
     "output_type": "display_data"
    }
   ],
   "source": [
    "# plot for pit stop once\n",
    "pit_once_plot = pit_once_temp.groupby(by=['proportion']).count().reset_index()\n",
    "plot_line_chart(pit_once_plot, 1, 'One Pit Stop')"
   ],
   "metadata": {
    "collapsed": false,
    "pycharm": {
     "name": "#%%\n"
    }
   }
  },
  {
   "cell_type": "code",
   "execution_count": null,
   "outputs": [],
   "source": [],
   "metadata": {
    "collapsed": false,
    "pycharm": {
     "name": "#%%\n"
    }
   }
  }
 ],
 "metadata": {
  "kernelspec": {
   "display_name": "Python 3",
   "language": "python",
   "name": "python3"
  },
  "language_info": {
   "codemirror_mode": {
    "name": "ipython",
    "version": 2
   },
   "file_extension": ".py",
   "mimetype": "text/x-python",
   "name": "python",
   "nbconvert_exporter": "python",
   "pygments_lexer": "ipython2",
   "version": "2.7.6"
  }
 },
 "nbformat": 4,
 "nbformat_minor": 0
}
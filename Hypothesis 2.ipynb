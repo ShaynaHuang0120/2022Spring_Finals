{
 "cells": [
  {
   "cell_type": "code",
   "execution_count": 32,
   "metadata": {
    "collapsed": true
   },
   "outputs": [],
   "source": [
    "import pandas as pd\n",
    "import numpy as np\n",
    "import matplotlib.pyplot as plt\n",
    "from scipy.stats import ttest_ind"
   ]
  },
  {
   "cell_type": "code",
   "execution_count": 33,
   "outputs": [],
   "source": [
    "def merge_tables(_pit: pd.DataFrame, _results: pd.DataFrame, _status: pd.DataFrame) -> pd.DataFrame:\n",
    "    \"\"\"\n",
    "    merges the data files\n",
    "    :param _pit:\n",
    "    :param _results:\n",
    "    :param _status:\n",
    "    :return:\n",
    "    \"\"\"\n",
    "    _select_col = ['raceId','driverId','positionOrder', 'laps', 'time','statusId']\n",
    "    mg_df = pd.merge(_pit, _results[_select_col], on=['raceId','driverId'], how = 'left', suffixes=('_pit', '_result'))\n",
    "    mg_df = pd.merge(mg_df, _status, on='statusId', how='left')\n",
    "\n",
    "    _status_select = [1, 11, 12, 13, 14, 15, 16, 17, 18, 19]\n",
    "    mg_df.drop(mg_df[~mg_df['statusId'].isin(_status_select)].index, inplace=True)\n",
    "    return mg_df\n",
    "\n",
    "\n",
    "def process_laps_stops(mg_df: pd.DataFrame) -> pd.DataFrame:\n",
    "    _total_laps = mg_df[(mg_df['positionOrder'] == 1) & (mg_df['stop'] == 1)].reset_index(drop=True)[['raceId', 'laps']]\n",
    "    _total_laps.columns = [str(_total_laps.columns[0]), 'total_laps']\n",
    "    _total_stops = mg_df.groupby(by=['raceId', 'driverId'], as_index=False)['stop'].max()\n",
    "    _total_stops.columns = list(_total_stops.columns[:2]) + ['total_stops']\n",
    "\n",
    "    mg_df = pd.merge(mg_df, _total_laps, on='raceId')\n",
    "    mg_df = pd.merge(mg_df, _total_stops, on=['raceId', 'driverId'])\n",
    "    mg_df['lap_prop'] = mg_df.apply(lambda x: x['lap']/x['total_laps'], axis=1)\n",
    "\n",
    "    return mg_df\n",
    "\n",
    "\n",
    "def group_by_stop_num(df: pd.DataFrame) -> dict:\n",
    "    pit_stop_max = df['total_stops'].max()\n",
    "    _df_dict = {}\n",
    "    for i in range(1, pit_stop_max+1):\n",
    "        _df_dict[i] = df[df['total_stops']==i][['stop','lap_prop']]\n",
    "    return _df_dict\n",
    "\n",
    "\n",
    "def distribution_plot(_df_dict: dict, show_mean=True, show_description=True, save_fig=False):\n",
    "    \"\"\"\n",
    "    d\n",
    "    :param save_fig:\n",
    "    :param show_description:\n",
    "    :param show_mean:\n",
    "    :param _df_dict:\n",
    "    :return:\n",
    "    \"\"\"\n",
    "    bins = np.linspace(0,1,50)\n",
    "    color_bin = ['tab:blue', 'tab:orange', 'lightcoral']\n",
    "    color_bin2 = ['deepskyblue', 'gold', 'crimson']\n",
    "    max_num_of_stops = 3\n",
    "\n",
    "    for ps_num in range(1, max_num_of_stops+1):\n",
    "        plt.figure(figsize=(8,6))\n",
    "        _df_tmp = _df_dict[ps_num]\n",
    "        _df_list = [_df_tmp[_df_tmp['stop'] == i]['lap_prop'] for i in range(1, ps_num+1)]\n",
    "        plot_count = 0\n",
    "        if show_description: print('////////////////////////////////////////////////////////////////////////////////////////')\n",
    "        print('Total Pit Stops: ', ps_num)\n",
    "        for df in _df_list:\n",
    "            plt.hist(df, bins, alpha=0.7, color=color_bin[plot_count])\n",
    "            df_mean = round(df.mean(), ndigits=3)\n",
    "            df_std = round(df.std(), ndigits=3)\n",
    "            if show_mean: plt.axvline(x=df_mean, color=color_bin2[plot_count], linewidth=4)\n",
    "            plot_count += 1\n",
    "            if not show_description: continue\n",
    "            print('No. ', plot_count, ' pit stop: ', 'mean = ', df_mean, ' std = ', df_std)\n",
    "            perc_1 = len(df[(df <= df_mean + df_std) & (df >= df_mean - df_std)])/len(df)\n",
    "            perc_2 = len(df[(df <= df_mean + 2*df_std) & (df >= df_mean - 2*df_std)])/len(df)\n",
    "            perc_1 = round(100*perc_1, ndigits=1)\n",
    "            perc_2 = round(100*perc_2, ndigits=1)\n",
    "            print(f'    {perc_1}% within mean ± 1 std')\n",
    "            print(f'    {perc_2}% within mean ± 2 std')\n",
    "        if save_fig: plt.savefig(f'image/hypo2/distribution_{ps_num}.png')\n",
    "        plt.show()"
   ],
   "metadata": {
    "collapsed": false,
    "pycharm": {
     "name": "#%%\n"
    }
   }
  },
  {
   "cell_type": "code",
   "execution_count": 34,
   "outputs": [],
   "source": [
    "# Load data\n",
    "pit = pd.read_csv('data/pit_stops.csv')\n",
    "results = pd.read_csv('data/results.csv')\n",
    "status = pd.read_csv('data/status.csv')"
   ],
   "metadata": {
    "collapsed": false,
    "pycharm": {
     "name": "#%%\n"
    }
   }
  },
  {
   "cell_type": "code",
   "execution_count": 35,
   "outputs": [],
   "source": [
    "# Process the data files\n",
    "merge_df = merge_tables(pit, results, status)\n",
    "merge_df = process_laps_stops(merge_df)\n",
    "df_dict = group_by_stop_num(merge_df)"
   ],
   "metadata": {
    "collapsed": false,
    "pycharm": {
     "name": "#%%\n"
    }
   }
  },
  {
   "cell_type": "code",
   "execution_count": 36,
   "outputs": [],
   "source": [
    "# Plot distribution of Pit Stops, grouped by total number of pit stops\n",
    "# distribution_plot(df_dict, show_mean=False, show_description=False)"
   ],
   "metadata": {
    "collapsed": false,
    "pycharm": {
     "name": "#%%\n"
    }
   }
  },
  {
   "cell_type": "code",
   "execution_count": 37,
   "outputs": [
    {
     "name": "stdout",
     "output_type": "stream",
     "text": [
      "////////////////////////////////////////////////////////////////////////////////////////\n",
      "Total Pit Stops:  1\n",
      "No.  1  pit stop:  mean =  0.416  std =  0.147\n",
      "    66.9% within mean ± 1 std\n",
      "    95.7% within mean ± 2 std\n"
     ]
    },
    {
     "data": {
      "text/plain": "<Figure size 576x432 with 1 Axes>",
      "image/png": "[encoded data removed]"
     },
     "metadata": {
      "needs_background": "light"
     },
     "output_type": "display_data"
    },
    {
     "name": "stdout",
     "output_type": "stream",
     "text": [
      "////////////////////////////////////////////////////////////////////////////////////////\n",
      "Total Pit Stops:  2\n",
      "No.  1  pit stop:  mean =  0.252  std =  0.118\n",
      "    71.7% within mean ± 1 std\n",
      "    95.8% within mean ± 2 std\n",
      "No.  2  pit stop:  mean =  0.62  std =  0.134\n",
      "    72.9% within mean ± 1 std\n",
      "    93.1% within mean ± 2 std\n"
     ]
    },
    {
     "data": {
      "text/plain": "<Figure size 576x432 with 1 Axes>",
      "image/png": "[encoded data removed]"
     },
     "metadata": {
      "needs_background": "light"
     },
     "output_type": "display_data"
    },
    {
     "name": "stdout",
     "output_type": "stream",
     "text": [
      "////////////////////////////////////////////////////////////////////////////////////////\n",
      "Total Pit Stops:  3\n",
      "No.  1  pit stop:  mean =  0.174  std =  0.098\n",
      "    66.6% within mean ± 1 std\n",
      "    97.5% within mean ± 2 std\n",
      "No.  2  pit stop:  mean =  0.427  std =  0.155\n",
      "    74.4% within mean ± 1 std\n",
      "    92.6% within mean ± 2 std\n",
      "No.  3  pit stop:  mean =  0.698  std =  0.13\n",
      "    74.9% within mean ± 1 std\n",
      "    93.9% within mean ± 2 std\n"
     ]
    },
    {
     "data": {
      "text/plain": "<Figure size 576x432 with 1 Axes>",
      "image/png": "[encoded data removed]"
     },
     "metadata": {
      "needs_background": "light"
     },
     "output_type": "display_data"
    }
   ],
   "source": [
    "# Adding description for the distribution plot\n",
    "distribution_plot(df_dict, save_fig=True)"
   ],
   "metadata": {
    "collapsed": false,
    "pycharm": {
     "name": "#%%\n"
    }
   }
  },
  {
   "cell_type": "code",
   "execution_count": 38,
   "outputs": [],
   "source": [
    "# Run T Tests on the data group pairs\n",
    "df_list = []\n",
    "for ps_num in range(1,4):\n",
    "    df_tmp = df_dict[ps_num]\n",
    "    df_list += [df_tmp[df_tmp['stop'] == i]['lap_prop'] for i in range(1, ps_num+1)]"
   ],
   "metadata": {
    "collapsed": false,
    "pycharm": {
     "name": "#%%\n"
    }
   }
  },
  {
   "cell_type": "code",
   "execution_count": 39,
   "outputs": [
    {
     "name": "stdout",
     "output_type": "stream",
     "text": [
      "2 pits, p value of T test: 0.0 < alpha = 0.05\n"
     ]
    }
   ],
   "source": [
    "p2 = ttest_ind(df_list[1], df_list[2]).pvalue\n",
    "print('2 pits, p value of T test:', p2, '< alpha = 0.05')"
   ],
   "metadata": {
    "collapsed": false,
    "pycharm": {
     "name": "#%%\n"
    }
   }
  },
  {
   "cell_type": "code",
   "execution_count": 40,
   "outputs": [
    {
     "name": "stdout",
     "output_type": "stream",
     "text": [
      "3 pits, max p value of T test: 5.142138068782536e-225 < alpha = 0.05\n"
     ]
    }
   ],
   "source": [
    "p3_1 = ttest_ind(df_list[3], df_list[4]).pvalue\n",
    "p3_2 = ttest_ind(df_list[3], df_list[5]).pvalue\n",
    "p3_3 = ttest_ind(df_list[4], df_list[5]).pvalue\n",
    "print('3 pits, max p value of T test:', max(p3_1, p3_2, p3_3), '< alpha = 0.05')"
   ],
   "metadata": {
    "collapsed": false,
    "pycharm": {
     "name": "#%%\n"
    }
   }
  },
  {
   "cell_type": "code",
   "execution_count": 40,
   "outputs": [],
   "source": [],
   "metadata": {
    "collapsed": false,
    "pycharm": {
     "name": "#%%\n"
    }
   }
  }
 ],
 "metadata": {
  "kernelspec": {
   "display_name": "Python 3",
   "language": "python",
   "name": "python3"
  },
  "language_info": {
   "codemirror_mode": {
    "name": "ipython",
    "version": 2
   },
   "file_extension": ".py",
   "mimetype": "text/x-python",
   "name": "python",
   "nbconvert_exporter": "python",
   "pygments_lexer": "ipython2",
   "version": "2.7.6"
  }
 },
 "nbformat": 4,
 "nbformat_minor": 0
}
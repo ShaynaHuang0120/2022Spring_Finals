{
 "cells": [
  {
   "cell_type": "code",
   "execution_count": 11,
   "metadata": {
    "collapsed": true
   },
   "outputs": [],
   "source": [
    "import pandas as pd\n",
    "import numpy as np\n",
    "import matplotlib.pyplot as plt\n",
    "from scipy.stats import ttest_ind\n",
    "import re\n",
    "from typing import List"
   ]
  },
  {
   "cell_type": "code",
   "execution_count": 12,
   "outputs": [],
   "source": [
    "def merge_data(_df_list: List[pd.DataFrame]) -> pd.DataFrame:\n",
    "    \"\"\"\n",
    "    merges the dataframes according to their primary/foreign keys\n",
    "    :param _df_list: list of dataframes to be merged\n",
    "    :return: the merged dataframe\n",
    "    \"\"\"\n",
    "    # set up internal parameters\n",
    "    suffixes = ['_1', '_2']\n",
    "    r = re.compile('\\w*Id')\n",
    "\n",
    "    # set up variables based on input\n",
    "    num = len(_df_list)  # length of the list\n",
    "    to_select = list(range(1,num))  # list of indexes of dataframe to be merged\n",
    "    remaining = set(range(1,num))  # set of remaining indexes of dataframes yet to be merged\n",
    "\n",
    "    # get all the '<something>id' columns for each dataframe\n",
    "    id_list = [set(filter(r.match, table)) for table in _df_list]\n",
    "    # set up the merged dataframe, 'mg_df'\n",
    "    mg_df = _df_list[0]\n",
    "    mg_id = id_list[0]  # set the id set of the merged dataframe as the first dataframe's id set\n",
    "\n",
    "    # start merging dataframes\n",
    "    while True:\n",
    "        merge_flag = 0  # flag indicating if a while-true run has merged any new dataframe\n",
    "        for index in to_select:\n",
    "            intersect = mg_id.intersection(id_list[index])\n",
    "            all_col_intersect = set(mg_df.columns).intersection(set(_df_list[index].columns))\n",
    "            # iterate through the remaining dataframe\n",
    "            # and merge those with common id(s)\n",
    "            if (index in remaining) and intersect:\n",
    "                if all_col_intersect == intersect:\n",
    "                    mg_df = pd.merge(mg_df, _df_list[index], on=list(intersect), how='left')\n",
    "                else:\n",
    "                    # if there are other common columns than the ids, set suffixes\n",
    "                    mg_df = pd.merge(mg_df, _df_list[index], on=list(intersect), how='left', suffixes=suffixes)\n",
    "                # add the new ids into the total id set of the merged dataframe\n",
    "                mg_id = mg_id.union(set(id_list[index]))\n",
    "                remaining.remove(index)  # remove the index of the added dataframe\n",
    "                merge_flag = 1\n",
    "        if not remaining:\n",
    "            break  # break if there is no more dataframe to be added\n",
    "        if not merge_flag:  # if no new dataframe was merged in this while-true run\n",
    "            print('Error: no common \"id\" columns found')\n",
    "            break  # breaks\n",
    "    return mg_df\n",
    "\n",
    "\n",
    "def process_data(mg_df: pd.DataFrame, normal_status=True) -> pd.DataFrame:\n",
    "    \"\"\"\n",
    "    process the data for analysis:\n",
    "    1. filter normal status\n",
    "    2. add total laps for each record\n",
    "    3. add total pit stops for each record\n",
    "    4. calculate the proportion of lap when the driver pit for each pit record\n",
    "    5. calculate how far the lap proportion deviates from the ideal even distribution for each pit record\n",
    "    :param mg_df: the merged dataframe\n",
    "    :param normal_status: if filter the dataframe with records that are finished or +? laps away from the finished\n",
    "    :return: the processed dataframe\n",
    "    \"\"\"\n",
    "    # 1. filtering normal status\n",
    "    if normal_status:\n",
    "        _status_select = [1, 11, 12, 13, 14, 15, 16, 17, 18, 19]\n",
    "        mg_df.drop(mg_df[~mg_df['statusId'].isin(_status_select)].index, inplace=True)\n",
    "    # 2&3. add total laps & total pit stops for each record\n",
    "    _total_laps = mg_df[(mg_df['positionOrder'] == 1) & (mg_df['stop'] == 1)].reset_index(drop=True)[['raceId', 'laps']]\n",
    "    _total_laps.columns = [str(_total_laps.columns[0]), 'total_laps']\n",
    "    _total_stops = mg_df.groupby(by=['raceId', 'driverId'], as_index=False)['stop'].max()\n",
    "    _total_stops.columns = list(_total_stops.columns[:2]) + ['total_stops']\n",
    "    # 4. calculate the proportion of lap when the driver pit for each pit record\n",
    "    mg_df = pd.merge(mg_df, _total_laps, on='raceId')\n",
    "    mg_df = pd.merge(mg_df, _total_stops, on=['raceId', 'driverId'])\n",
    "    # 5. calculate how far the lap proportion deviates from the ideal even distribution for each pit record\n",
    "    mg_df['lap_prop'] = mg_df.apply(lambda x: x['lap']/x['total_laps'], axis=1)\n",
    "    mg_df['abs_err'] = mg_df.apply(lambda x: abs(x['stop']/(x['total_stops']+1) - x['lap_prop']), axis=1)\n",
    "    return mg_df\n",
    "\n",
    "\n",
    "def group_by_stop_num(df: pd.DataFrame) -> dict:\n",
    "    pit_stop_max = df['total_stops'].max()\n",
    "    _df_dict = {}\n",
    "    for i in range(1, pit_stop_max+1):\n",
    "        _df_dict[i] = df[df['total_stops']==i][['stop','lap_prop']]\n",
    "    return _df_dict\n",
    "\n",
    "\n",
    "def distribution_plot(_df_dict: dict, show_mean=True, show_description=True, save_fig=False):\n",
    "    \"\"\"\n",
    "    d\n",
    "    :param save_fig:\n",
    "    :param show_description:\n",
    "    :param show_mean:\n",
    "    :param _df_dict:\n",
    "    :return:\n",
    "    \"\"\"\n",
    "    bins = np.linspace(0,1,50)\n",
    "    color_bin = ['tab:blue', 'tab:orange', 'lightcoral']\n",
    "    color_bin2 = ['deepskyblue', 'gold', 'crimson']\n",
    "    max_num_of_stops = 3\n",
    "\n",
    "    for ps_num in range(1, max_num_of_stops+1):\n",
    "        plt.figure(figsize=(8,6))\n",
    "        _df_tmp = _df_dict[ps_num]\n",
    "        _df_list = [_df_tmp[_df_tmp['stop'] == i]['lap_prop'] for i in range(1, ps_num+1)]\n",
    "        plot_count = 0\n",
    "        if show_description: print('////////////////////////////////////////////////////////////////////////////////////////')\n",
    "        print('Total Pit Stops: ', ps_num)\n",
    "        for df in _df_list:\n",
    "            plt.hist(df, bins, alpha=0.7, color=color_bin[plot_count])\n",
    "            df_mean = round(df.mean(), ndigits=3)\n",
    "            df_std = round(df.std(), ndigits=3)\n",
    "            if show_mean: plt.axvline(x=df_mean, color=color_bin2[plot_count], linewidth=4)\n",
    "            plot_count += 1\n",
    "            if not show_description: continue\n",
    "            print('No. ', plot_count, ' pit stop: ', 'mean = ', df_mean, ' std = ', df_std)\n",
    "            perc_1 = len(df[(df <= df_mean + df_std) & (df >= df_mean - df_std)])/len(df)\n",
    "            perc_2 = len(df[(df <= df_mean + 2*df_std) & (df >= df_mean - 2*df_std)])/len(df)\n",
    "            perc_1 = round(100*perc_1, ndigits=1)\n",
    "            perc_2 = round(100*perc_2, ndigits=1)\n",
    "            print(f'    {perc_1}% within mean ± 1 std')\n",
    "            print(f'    {perc_2}% within mean ± 2 std')\n",
    "        if save_fig: plt.savefig(f'image/hypo2/distribution_{ps_num}.png')\n",
    "        plt.show()"
   ],
   "metadata": {
    "collapsed": false,
    "pycharm": {
     "name": "#%%\n"
    }
   }
  },
  {
   "cell_type": "code",
   "execution_count": 4,
   "outputs": [],
   "source": [
    "# Load data\n",
    "pit = pd.read_csv('data/pit_stops.csv')\n",
    "results = pd.read_csv('data/results.csv')\n",
    "status = pd.read_csv('data/status.csv')"
   ],
   "metadata": {
    "collapsed": false,
    "pycharm": {
     "name": "#%%\n"
    }
   }
  },
  {
   "cell_type": "code",
   "execution_count": 13,
   "outputs": [],
   "source": [
    "# Process the data files\n",
    "merge_df = merge_data([pit, results, status])\n",
    "merge_df = process_data(merge_df)\n",
    "df_dict = group_by_stop_num(merge_df)"
   ],
   "metadata": {
    "collapsed": false,
    "pycharm": {
     "name": "#%%\n"
    }
   }
  },
  {
   "cell_type": "code",
   "execution_count": 6,
   "outputs": [
    {
     "data": {
      "text/plain": "      raceId  driverId  stop  lap    time_1 duration  milliseconds_1  \\\n0        841       153     1    1  17:05:23   26.898           26898   \n1        841       153     2   17  17:31:06   24.463           24463   \n2        841       153     3   35  17:59:45   26.348           26348   \n3        841        30     1    1  17:05:52   25.021           25021   \n4        841        30     2   17  17:32:08   23.988           23988   \n...      ...       ...   ...  ...       ...      ...             ...   \n8923    1076       847     1   23  15:38:51   18.479           18479   \n8924    1076         4     1   39  16:05:24   18.796           18796   \n8925    1076         4     2   53  16:25:28   18.394           18394   \n8926    1076       825     1   39  16:05:30   19.111           19111   \n8927    1076       848     1   57  16:30:33   19.845           19845   \n\n      resultId  constructorId number  ...  milliseconds_2 fastestLap rank  \\\n0        20789              5     19  ...              \\N         41   10   \n1        20789              5     19  ...              \\N         41   10   \n2        20789              5     19  ...              \\N         41   10   \n3        20797            131      7  ...              \\N         13   21   \n4        20797            131      7  ...              \\N         13   21   \n...        ...            ...    ...  ...             ...        ...  ...   \n8923     25448            131     63  ...         5292141         53    4   \n8924     25462            214     14  ...              \\N         57    2   \n8925     25462            214     14  ...              \\N         57    2   \n8926     25459            210     20  ...              \\N         44   15   \n8927     25455              3     23  ...         5345930         54   12   \n\n      fastestLapTime  fastestLapSpeed  statusId     status total_laps  \\\n0           1:30.467          211.025        11     +1 Lap         58   \n1           1:30.467          211.025        11     +1 Lap         58   \n2           1:30.467          211.025        11     +1 Lap         58   \n3           1:35.319          200.283         4  Collision         58   \n4           1:35.319          200.283         4  Collision         58   \n...              ...              ...       ...        ...        ...   \n8923        1:21.495          233.152         1   Finished         58   \n8924        1:20.846          235.024        11     +1 Lap         58   \n8925        1:20.846          235.024        11     +1 Lap         58   \n8926        1:23.071          228.729        11     +1 Lap         58   \n8927        1:22.589          230.064         1   Finished         58   \n\n     total_stops  lap_prop  \n0              3  0.017241  \n1              3  0.293103  \n2              3  0.603448  \n3              2  0.017241  \n4              2  0.293103  \n...          ...       ...  \n8923           1  0.396552  \n8924           2  0.672414  \n8925           2  0.913793  \n8926           1  0.672414  \n8927           1  0.982759  \n\n[8928 rows x 27 columns]",
      "text/html": "<div>\n<style scoped>\n    .dataframe tbody tr th:only-of-type {\n        vertical-align: middle;\n    }\n\n    .dataframe tbody tr th {\n        vertical-align: top;\n    }\n\n    .dataframe thead th {\n        text-align: right;\n    }\n</style>\n<table border=\"1\" class=\"dataframe\">\n  <thead>\n    <tr style=\"text-align: right;\">\n      <th></th>\n      <th>raceId</th>\n      <th>driverId</th>\n      <th>stop</th>\n      <th>lap</th>\n      <th>time_1</th>\n      <th>duration</th>\n      <th>milliseconds_1</th>\n      <th>resultId</th>\n      <th>constructorId</th>\n      <th>number</th>\n      <th>...</th>\n      <th>milliseconds_2</th>\n      <th>fastestLap</th>\n      <th>rank</th>\n      <th>fastestLapTime</th>\n      <th>fastestLapSpeed</th>\n      <th>statusId</th>\n      <th>status</th>\n      <th>total_laps</th>\n      <th>total_stops</th>\n      <th>lap_prop</th>\n    </tr>\n  </thead>\n  <tbody>\n    <tr>\n      <th>0</th>\n      <td>841</td>\n      <td>153</td>\n      <td>1</td>\n      <td>1</td>\n      <td>17:05:23</td>\n      <td>26.898</td>\n      <td>26898</td>\n      <td>20789</td>\n      <td>5</td>\n      <td>19</td>\n      <td>...</td>\n      <td>\\N</td>\n      <td>41</td>\n      <td>10</td>\n      <td>1:30.467</td>\n      <td>211.025</td>\n      <td>11</td>\n      <td>+1 Lap</td>\n      <td>58</td>\n      <td>3</td>\n      <td>0.017241</td>\n    </tr>\n    <tr>\n      <th>1</th>\n      <td>841</td>\n      <td>153</td>\n      <td>2</td>\n      <td>17</td>\n      <td>17:31:06</td>\n      <td>24.463</td>\n      <td>24463</td>\n      <td>20789</td>\n      <td>5</td>\n      <td>19</td>\n      <td>...</td>\n      <td>\\N</td>\n      <td>41</td>\n      <td>10</td>\n      <td>1:30.467</td>\n      <td>211.025</td>\n      <td>11</td>\n      <td>+1 Lap</td>\n      <td>58</td>\n      <td>3</td>\n      <td>0.293103</td>\n    </tr>\n    <tr>\n      <th>2</th>\n      <td>841</td>\n      <td>153</td>\n      <td>3</td>\n      <td>35</td>\n      <td>17:59:45</td>\n      <td>26.348</td>\n      <td>26348</td>\n      <td>20789</td>\n      <td>5</td>\n      <td>19</td>\n      <td>...</td>\n      <td>\\N</td>\n      <td>41</td>\n      <td>10</td>\n      <td>1:30.467</td>\n      <td>211.025</td>\n      <td>11</td>\n      <td>+1 Lap</td>\n      <td>58</td>\n      <td>3</td>\n      <td>0.603448</td>\n    </tr>\n    <tr>\n      <th>3</th>\n      <td>841</td>\n      <td>30</td>\n      <td>1</td>\n      <td>1</td>\n      <td>17:05:52</td>\n      <td>25.021</td>\n      <td>25021</td>\n      <td>20797</td>\n      <td>131</td>\n      <td>7</td>\n      <td>...</td>\n      <td>\\N</td>\n      <td>13</td>\n      <td>21</td>\n      <td>1:35.319</td>\n      <td>200.283</td>\n      <td>4</td>\n      <td>Collision</td>\n      <td>58</td>\n      <td>2</td>\n      <td>0.017241</td>\n    </tr>\n    <tr>\n      <th>4</th>\n      <td>841</td>\n      <td>30</td>\n      <td>2</td>\n      <td>17</td>\n      <td>17:32:08</td>\n      <td>23.988</td>\n      <td>23988</td>\n      <td>20797</td>\n      <td>131</td>\n      <td>7</td>\n      <td>...</td>\n      <td>\\N</td>\n      <td>13</td>\n      <td>21</td>\n      <td>1:35.319</td>\n      <td>200.283</td>\n      <td>4</td>\n      <td>Collision</td>\n      <td>58</td>\n      <td>2</td>\n      <td>0.293103</td>\n    </tr>\n    <tr>\n      <th>...</th>\n      <td>...</td>\n      <td>...</td>\n      <td>...</td>\n      <td>...</td>\n      <td>...</td>\n      <td>...</td>\n      <td>...</td>\n      <td>...</td>\n      <td>...</td>\n      <td>...</td>\n      <td>...</td>\n      <td>...</td>\n      <td>...</td>\n      <td>...</td>\n      <td>...</td>\n      <td>...</td>\n      <td>...</td>\n      <td>...</td>\n      <td>...</td>\n      <td>...</td>\n      <td>...</td>\n    </tr>\n    <tr>\n      <th>8923</th>\n      <td>1076</td>\n      <td>847</td>\n      <td>1</td>\n      <td>23</td>\n      <td>15:38:51</td>\n      <td>18.479</td>\n      <td>18479</td>\n      <td>25448</td>\n      <td>131</td>\n      <td>63</td>\n      <td>...</td>\n      <td>5292141</td>\n      <td>53</td>\n      <td>4</td>\n      <td>1:21.495</td>\n      <td>233.152</td>\n      <td>1</td>\n      <td>Finished</td>\n      <td>58</td>\n      <td>1</td>\n      <td>0.396552</td>\n    </tr>\n    <tr>\n      <th>8924</th>\n      <td>1076</td>\n      <td>4</td>\n      <td>1</td>\n      <td>39</td>\n      <td>16:05:24</td>\n      <td>18.796</td>\n      <td>18796</td>\n      <td>25462</td>\n      <td>214</td>\n      <td>14</td>\n      <td>...</td>\n      <td>\\N</td>\n      <td>57</td>\n      <td>2</td>\n      <td>1:20.846</td>\n      <td>235.024</td>\n      <td>11</td>\n      <td>+1 Lap</td>\n      <td>58</td>\n      <td>2</td>\n      <td>0.672414</td>\n    </tr>\n    <tr>\n      <th>8925</th>\n      <td>1076</td>\n      <td>4</td>\n      <td>2</td>\n      <td>53</td>\n      <td>16:25:28</td>\n      <td>18.394</td>\n      <td>18394</td>\n      <td>25462</td>\n      <td>214</td>\n      <td>14</td>\n      <td>...</td>\n      <td>\\N</td>\n      <td>57</td>\n      <td>2</td>\n      <td>1:20.846</td>\n      <td>235.024</td>\n      <td>11</td>\n      <td>+1 Lap</td>\n      <td>58</td>\n      <td>2</td>\n      <td>0.913793</td>\n    </tr>\n    <tr>\n      <th>8926</th>\n      <td>1076</td>\n      <td>825</td>\n      <td>1</td>\n      <td>39</td>\n      <td>16:05:30</td>\n      <td>19.111</td>\n      <td>19111</td>\n      <td>25459</td>\n      <td>210</td>\n      <td>20</td>\n      <td>...</td>\n      <td>\\N</td>\n      <td>44</td>\n      <td>15</td>\n      <td>1:23.071</td>\n      <td>228.729</td>\n      <td>11</td>\n      <td>+1 Lap</td>\n      <td>58</td>\n      <td>1</td>\n      <td>0.672414</td>\n    </tr>\n    <tr>\n      <th>8927</th>\n      <td>1076</td>\n      <td>848</td>\n      <td>1</td>\n      <td>57</td>\n      <td>16:30:33</td>\n      <td>19.845</td>\n      <td>19845</td>\n      <td>25455</td>\n      <td>3</td>\n      <td>23</td>\n      <td>...</td>\n      <td>5345930</td>\n      <td>54</td>\n      <td>12</td>\n      <td>1:22.589</td>\n      <td>230.064</td>\n      <td>1</td>\n      <td>Finished</td>\n      <td>58</td>\n      <td>1</td>\n      <td>0.982759</td>\n    </tr>\n  </tbody>\n</table>\n<p>8928 rows × 27 columns</p>\n</div>"
     },
     "execution_count": 6,
     "metadata": {},
     "output_type": "execute_result"
    }
   ],
   "source": [
    "merge_df"
   ],
   "metadata": {
    "collapsed": false,
    "pycharm": {
     "name": "#%%\n"
    }
   }
  },
  {
   "cell_type": "code",
   "execution_count": 36,
   "outputs": [],
   "source": [
    "# Plot distribution of Pit Stops, grouped by total number of pit stops\n",
    "# distribution_plot(df_dict, show_mean=False, show_description=False)"
   ],
   "metadata": {
    "collapsed": false,
    "pycharm": {
     "name": "#%%\n"
    }
   }
  },
  {
   "cell_type": "code",
   "execution_count": 7,
   "outputs": [
    {
     "name": "stdout",
     "output_type": "stream",
     "text": [
      "////////////////////////////////////////////////////////////////////////////////////////\n",
      "Total Pit Stops:  1\n",
      "No.  1  pit stop:  mean =  0.392  std =  0.161\n",
      "    67.6% within mean ± 1 std\n",
      "    94.0% within mean ± 2 std\n"
     ]
    },
    {
     "data": {
      "text/plain": "<Figure size 576x432 with 1 Axes>",
      "image/png": "[encoded data removed]"
     },
     "metadata": {
      "needs_background": "light"
     },
     "output_type": "display_data"
    },
    {
     "name": "stdout",
     "output_type": "stream",
     "text": [
      "////////////////////////////////////////////////////////////////////////////////////////\n",
      "Total Pit Stops:  2\n",
      "No.  1  pit stop:  mean =  0.247  std =  0.12\n",
      "    72.0% within mean ± 1 std\n",
      "    97.1% within mean ± 2 std\n",
      "No.  2  pit stop:  mean =  0.608  std =  0.144\n",
      "    73.5% within mean ± 1 std\n",
      "    93.0% within mean ± 2 std\n"
     ]
    },
    {
     "data": {
      "text/plain": "<Figure size 576x432 with 1 Axes>",
      "image/png": "[encoded data removed]"
     },
     "metadata": {
      "needs_background": "light"
     },
     "output_type": "display_data"
    },
    {
     "name": "stdout",
     "output_type": "stream",
     "text": [
      "////////////////////////////////////////////////////////////////////////////////////////\n",
      "Total Pit Stops:  3\n",
      "No.  1  pit stop:  mean =  0.172  std =  0.099\n",
      "    65.9% within mean ± 1 std\n",
      "    97.5% within mean ± 2 std\n",
      "No.  2  pit stop:  mean =  0.422  std =  0.157\n",
      "    74.6% within mean ± 1 std\n",
      "    92.9% within mean ± 2 std\n",
      "No.  3  pit stop:  mean =  0.688  std =  0.138\n",
      "    74.9% within mean ± 1 std\n",
      "    94.7% within mean ± 2 std\n"
     ]
    },
    {
     "data": {
      "text/plain": "<Figure size 576x432 with 1 Axes>",
      "image/png": "[encoded data removed]"
     },
     "metadata": {
      "needs_background": "light"
     },
     "output_type": "display_data"
    }
   ],
   "source": [
    "# Adding description for the distribution plot\n",
    "distribution_plot(df_dict, save_fig=True)"
   ],
   "metadata": {
    "collapsed": false,
    "pycharm": {
     "name": "#%%\n"
    }
   }
  },
  {
   "cell_type": "code",
   "execution_count": 8,
   "outputs": [],
   "source": [
    "# Run T Tests on the data group pairs\n",
    "df_list = []\n",
    "for ps_num in range(1,4):\n",
    "    df_tmp = df_dict[ps_num]\n",
    "    df_list += [df_tmp[df_tmp['stop'] == i]['lap_prop'] for i in range(1, ps_num+1)]"
   ],
   "metadata": {
    "collapsed": false,
    "pycharm": {
     "name": "#%%\n"
    }
   }
  },
  {
   "cell_type": "code",
   "execution_count": 9,
   "outputs": [
    {
     "name": "stdout",
     "output_type": "stream",
     "text": [
      "2 pits, p value of T test: 0.0 < alpha = 0.05\n"
     ]
    }
   ],
   "source": [
    "p2 = ttest_ind(df_list[1], df_list[2]).pvalue\n",
    "print('2 pits, p value of T test:', p2, '< alpha = 0.05')"
   ],
   "metadata": {
    "collapsed": false,
    "pycharm": {
     "name": "#%%\n"
    }
   }
  },
  {
   "cell_type": "code",
   "execution_count": 10,
   "outputs": [
    {
     "name": "stdout",
     "output_type": "stream",
     "text": [
      "3 pits, max p value of T test: 1.6162903150620528e-230 < alpha = 0.05\n"
     ]
    }
   ],
   "source": [
    "p3_1 = ttest_ind(df_list[3], df_list[4]).pvalue\n",
    "p3_2 = ttest_ind(df_list[3], df_list[5]).pvalue\n",
    "p3_3 = ttest_ind(df_list[4], df_list[5]).pvalue\n",
    "print('3 pits, max p value of T test:', max(p3_1, p3_2, p3_3), '< alpha = 0.05')"
   ],
   "metadata": {
    "collapsed": false,
    "pycharm": {
     "name": "#%%\n"
    }
   }
  },
  {
   "cell_type": "code",
   "execution_count": 40,
   "outputs": [],
   "source": [],
   "metadata": {
    "collapsed": false,
    "pycharm": {
     "name": "#%%\n"
    }
   }
  }
 ],
 "metadata": {
  "kernelspec": {
   "display_name": "Python 3",
   "language": "python",
   "name": "python3"
  },
  "language_info": {
   "codemirror_mode": {
    "name": "ipython",
    "version": 2
   },
   "file_extension": ".py",
   "mimetype": "text/x-python",
   "name": "python",
   "nbconvert_exporter": "python",
   "pygments_lexer": "ipython2",
   "version": "2.7.6"
  }
 },
 "nbformat": 4,
 "nbformat_minor": 0
}
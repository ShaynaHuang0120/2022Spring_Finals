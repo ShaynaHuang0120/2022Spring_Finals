{
 "cells": [
  {
   "cell_type": "code",
   "execution_count": 10,
   "metadata": {
    "collapsed": true
   },
   "outputs": [],
   "source": [
    "import pandas as pd\n",
    "import matplotlib.pyplot as plt"
   ]
  },
  {
   "cell_type": "code",
   "execution_count": 11,
   "outputs": [
    {
     "data": {
      "text/plain": "       resultId  raceId  driverId  constructorId number  grid position  \\\n20776     20779     841        20              9      1     1        1   \n\n      positionText  positionOrder  points  laps         time milliseconds  \\\n20776            1              1    25.0    58  1:29:30.259      5370259   \n\n      fastestLap rank fastestLapTime fastestLapSpeed  statusId  \n20776         44    4       1:29.844         212.488         1  ",
      "text/html": "<div>\n<style scoped>\n    .dataframe tbody tr th:only-of-type {\n        vertical-align: middle;\n    }\n\n    .dataframe tbody tr th {\n        vertical-align: top;\n    }\n\n    .dataframe thead th {\n        text-align: right;\n    }\n</style>\n<table border=\"1\" class=\"dataframe\">\n  <thead>\n    <tr style=\"text-align: right;\">\n      <th></th>\n      <th>resultId</th>\n      <th>raceId</th>\n      <th>driverId</th>\n      <th>constructorId</th>\n      <th>number</th>\n      <th>grid</th>\n      <th>position</th>\n      <th>positionText</th>\n      <th>positionOrder</th>\n      <th>points</th>\n      <th>laps</th>\n      <th>time</th>\n      <th>milliseconds</th>\n      <th>fastestLap</th>\n      <th>rank</th>\n      <th>fastestLapTime</th>\n      <th>fastestLapSpeed</th>\n      <th>statusId</th>\n    </tr>\n  </thead>\n  <tbody>\n    <tr>\n      <th>20776</th>\n      <td>20779</td>\n      <td>841</td>\n      <td>20</td>\n      <td>9</td>\n      <td>1</td>\n      <td>1</td>\n      <td>1</td>\n      <td>1</td>\n      <td>1</td>\n      <td>25.0</td>\n      <td>58</td>\n      <td>1:29:30.259</td>\n      <td>5370259</td>\n      <td>44</td>\n      <td>4</td>\n      <td>1:29.844</td>\n      <td>212.488</td>\n      <td>1</td>\n    </tr>\n  </tbody>\n</table>\n</div>"
     },
     "execution_count": 11,
     "metadata": {},
     "output_type": "execute_result"
    }
   ],
   "source": [
    "result = pd.read_csv(\"data/results.csv\")\n",
    "result.loc[(result[\"raceId\"]==841)&(result[\"driverId\"] ==20)]"
   ],
   "metadata": {
    "collapsed": false,
    "pycharm": {
     "name": "#%%\n"
    }
   }
  },
  {
   "cell_type": "code",
   "execution_count": 17,
   "outputs": [
    {
     "name": "stderr",
     "output_type": "stream",
     "text": [
      "<ipython-input-17-b775203d31f0>:6: SettingWithCopyWarning: \n",
      "A value is trying to be set on a copy of a slice from a DataFrame.\n",
      "Try using .loc[row_indexer,col_indexer] = value instead\n",
      "\n",
      "See the caveats in the documentation: https://pandas.pydata.org/pandas-docs/stable/user_guide/indexing.html#returning-a-view-versus-a-copy\n",
      "  lap2[\"time\"]= lap2[\"time\"].str.split(':')\n",
      "<ipython-input-17-b775203d31f0>:7: SettingWithCopyWarning: \n",
      "A value is trying to be set on a copy of a slice from a DataFrame.\n",
      "Try using .loc[row_indexer,col_indexer] = value instead\n",
      "\n",
      "See the caveats in the documentation: https://pandas.pydata.org/pandas-docs/stable/user_guide/indexing.html#returning-a-view-versus-a-copy\n",
      "  lap2[\"lap_minutes\"] = \" \"\n",
      "<ipython-input-17-b775203d31f0>:25: SettingWithCopyWarning: \n",
      "A value is trying to be set on a copy of a slice from a DataFrame.\n",
      "Try using .loc[row_indexer,col_indexer] = value instead\n",
      "\n",
      "See the caveats in the documentation: https://pandas.pydata.org/pandas-docs/stable/user_guide/indexing.html#returning-a-view-versus-a-copy\n",
      "  lap2[\"lap_minutes\"] = min\n",
      "<ipython-input-17-b775203d31f0>:28: SettingWithCopyWarning: \n",
      "A value is trying to be set on a copy of a slice from a DataFrame.\n",
      "Try using .loc[row_indexer,col_indexer] = value instead\n",
      "\n",
      "See the caveats in the documentation: https://pandas.pydata.org/pandas-docs/stable/user_guide/indexing.html#returning-a-view-versus-a-copy\n",
      "  lap4[\"final position\"] = lap4[\"final position\"].astype(int)\n",
      "<ipython-input-17-b775203d31f0>:29: SettingWithCopyWarning: \n",
      "A value is trying to be set on a copy of a slice from a DataFrame\n",
      "\n",
      "See the caveats in the documentation: https://pandas.pydata.org/pandas-docs/stable/user_guide/indexing.html#returning-a-view-versus-a-copy\n",
      "  lap4.sort_values(by=['final position'], inplace=True)\n",
      "/Users/pigggy/opt/anaconda3/lib/python3.8/site-packages/pandas/core/frame.py:4441: SettingWithCopyWarning: \n",
      "A value is trying to be set on a copy of a slice from a DataFrame\n",
      "\n",
      "See the caveats in the documentation: https://pandas.pydata.org/pandas-docs/stable/user_guide/indexing.html#returning-a-view-versus-a-copy\n",
      "  return super().rename(\n"
     ]
    },
    {
     "data": {
      "text/plain": "<Figure size 432x288 with 1 Axes>",
      "image/png": "[encoded data removed]"
     },
     "metadata": {
      "needs_background": "light"
     },
     "output_type": "display_data"
    },
    {
     "data": {
      "text/plain": "    raceId  driverId  final position  lap_minutes_STD\n11     841        20               1         4.293405\n0      841         1               2         4.264972\n17     841       808               3         4.632051\n3      841         4               4         5.332322\n9      841        17               5         5.334411\n10     841        18               6         5.108007\n6      841        13               7         5.274966\n14     841        67               8         4.972540\n8      841        16               9         4.820189\n19     841       814              10         4.751044\n15     841       153              11         7.263741\n1      841         2              12         4.608748\n7      841        15              13         5.482538\n21     841       816              14         5.509391",
      "text/html": "<div>\n<style scoped>\n    .dataframe tbody tr th:only-of-type {\n        vertical-align: middle;\n    }\n\n    .dataframe tbody tr th {\n        vertical-align: top;\n    }\n\n    .dataframe thead th {\n        text-align: right;\n    }\n</style>\n<table border=\"1\" class=\"dataframe\">\n  <thead>\n    <tr style=\"text-align: right;\">\n      <th></th>\n      <th>raceId</th>\n      <th>driverId</th>\n      <th>final position</th>\n      <th>lap_minutes_STD</th>\n    </tr>\n  </thead>\n  <tbody>\n    <tr>\n      <th>11</th>\n      <td>841</td>\n      <td>20</td>\n      <td>1</td>\n      <td>4.293405</td>\n    </tr>\n    <tr>\n      <th>0</th>\n      <td>841</td>\n      <td>1</td>\n      <td>2</td>\n      <td>4.264972</td>\n    </tr>\n    <tr>\n      <th>17</th>\n      <td>841</td>\n      <td>808</td>\n      <td>3</td>\n      <td>4.632051</td>\n    </tr>\n    <tr>\n      <th>3</th>\n      <td>841</td>\n      <td>4</td>\n      <td>4</td>\n      <td>5.332322</td>\n    </tr>\n    <tr>\n      <th>9</th>\n      <td>841</td>\n      <td>17</td>\n      <td>5</td>\n      <td>5.334411</td>\n    </tr>\n    <tr>\n      <th>10</th>\n      <td>841</td>\n      <td>18</td>\n      <td>6</td>\n      <td>5.108007</td>\n    </tr>\n    <tr>\n      <th>6</th>\n      <td>841</td>\n      <td>13</td>\n      <td>7</td>\n      <td>5.274966</td>\n    </tr>\n    <tr>\n      <th>14</th>\n      <td>841</td>\n      <td>67</td>\n      <td>8</td>\n      <td>4.972540</td>\n    </tr>\n    <tr>\n      <th>8</th>\n      <td>841</td>\n      <td>16</td>\n      <td>9</td>\n      <td>4.820189</td>\n    </tr>\n    <tr>\n      <th>19</th>\n      <td>841</td>\n      <td>814</td>\n      <td>10</td>\n      <td>4.751044</td>\n    </tr>\n    <tr>\n      <th>15</th>\n      <td>841</td>\n      <td>153</td>\n      <td>11</td>\n      <td>7.263741</td>\n    </tr>\n    <tr>\n      <th>1</th>\n      <td>841</td>\n      <td>2</td>\n      <td>12</td>\n      <td>4.608748</td>\n    </tr>\n    <tr>\n      <th>7</th>\n      <td>841</td>\n      <td>15</td>\n      <td>13</td>\n      <td>5.482538</td>\n    </tr>\n    <tr>\n      <th>21</th>\n      <td>841</td>\n      <td>816</td>\n      <td>14</td>\n      <td>5.509391</td>\n    </tr>\n  </tbody>\n</table>\n</div>"
     },
     "execution_count": 17,
     "metadata": {},
     "output_type": "execute_result"
    }
   ],
   "source": [
    "lap = pd.read_csv(\"data/lap_times.csv\")\n",
    "result.rename(columns = {'position':'final position'}, inplace = True)\n",
    "result2 = result[[\"raceId\", \"driverId\", \"final position\"]]\n",
    "joined_table = lap.merge(result2, on = [\"raceId\", \"driverId\"], how = \"left\")\n",
    "lap2 = joined_table.loc[(lap[\"raceId\"]==841)]\n",
    "lap2[\"time\"]= lap2[\"time\"].str.split(':')\n",
    "lap2[\"lap_minutes\"] = \" \"\n",
    "min = []\n",
    "for time_list in lap2[\"time\"]:\n",
    "    if time_list[0] == \"1\":\n",
    "        minute = 60 + float(time_list[1])\n",
    "        min.append(minute)\n",
    "    elif time_list[0] == \"2\":\n",
    "        minute = 120 + float(time_list[1])\n",
    "        min.append(minute)\n",
    "    elif time_list[0] == \"3\":\n",
    "        minute = 180 + float(time_list[1])\n",
    "        min.append(minute)\n",
    "    elif time_list[0] == \"4\":\n",
    "        minute = 240 + float(time_list[1])\n",
    "        min.append(minute)\n",
    "    elif time_list[0] == \"11\":\n",
    "        minute = 660 + float(time_list[1])\n",
    "        min.append(minute)\n",
    "lap2[\"lap_minutes\"] = min\n",
    "lap3 = lap2.groupby([\"raceId\",\"driverId\",'final position'], as_index=False)[\"lap_minutes\"].std()\n",
    "lap4 =lap3.loc[lap3['final position'] != '\\\\N']\n",
    "lap4[\"final position\"] = lap4[\"final position\"].astype(int)\n",
    "lap4.sort_values(by=['final position'], inplace=True)\n",
    "lap4.rename(columns = {'lap_minutes':'lap_minutes_STD'}, inplace = True)\n",
    "lap4.plot.bar(x='final position', y='lap_minutes_STD', fontsize='9')\n",
    "plt.show()\n",
    "lap4\n",
    "    # .reset_index(name=\"lap_minutes_Std\")"
   ],
   "metadata": {
    "collapsed": false,
    "pycharm": {
     "name": "#%%\n"
    }
   }
  },
  {
   "cell_type": "code",
   "execution_count": 13,
   "outputs": [
    {
     "data": {
      "text/plain": "       resultId  raceId  driverId  constructorId number  grid position  \\\n20776     20779     841        20              9      1     1        1   \n\n      positionText  positionOrder  points  laps         time milliseconds  \\\n20776            1              1    25.0    58  1:29:30.259      5370259   \n\n      fastestLap rank fastestLapTime fastestLapSpeed  statusId  \n20776         44    4       1:29.844         212.488         1  ",
      "text/html": "<div>\n<style scoped>\n    .dataframe tbody tr th:only-of-type {\n        vertical-align: middle;\n    }\n\n    .dataframe tbody tr th {\n        vertical-align: top;\n    }\n\n    .dataframe thead th {\n        text-align: right;\n    }\n</style>\n<table border=\"1\" class=\"dataframe\">\n  <thead>\n    <tr style=\"text-align: right;\">\n      <th></th>\n      <th>resultId</th>\n      <th>raceId</th>\n      <th>driverId</th>\n      <th>constructorId</th>\n      <th>number</th>\n      <th>grid</th>\n      <th>position</th>\n      <th>positionText</th>\n      <th>positionOrder</th>\n      <th>points</th>\n      <th>laps</th>\n      <th>time</th>\n      <th>milliseconds</th>\n      <th>fastestLap</th>\n      <th>rank</th>\n      <th>fastestLapTime</th>\n      <th>fastestLapSpeed</th>\n      <th>statusId</th>\n    </tr>\n  </thead>\n  <tbody>\n    <tr>\n      <th>20776</th>\n      <td>20779</td>\n      <td>841</td>\n      <td>20</td>\n      <td>9</td>\n      <td>1</td>\n      <td>1</td>\n      <td>1</td>\n      <td>1</td>\n      <td>1</td>\n      <td>25.0</td>\n      <td>58</td>\n      <td>1:29:30.259</td>\n      <td>5370259</td>\n      <td>44</td>\n      <td>4</td>\n      <td>1:29.844</td>\n      <td>212.488</td>\n      <td>1</td>\n    </tr>\n  </tbody>\n</table>\n</div>"
     },
     "execution_count": 13,
     "metadata": {},
     "output_type": "execute_result"
    }
   ],
   "source": [
    "sprint= pd.read_csv(\"data/results.csv\")\n",
    "sprint.loc[(sprint[\"raceId\"]==841)&(sprint[\"driverId\"] ==20)]"
   ],
   "metadata": {
    "collapsed": false,
    "pycharm": {
     "name": "#%%\n"
    }
   }
  },
  {
   "cell_type": "code",
   "execution_count": 13,
   "outputs": [],
   "source": [],
   "metadata": {
    "collapsed": false,
    "pycharm": {
     "name": "#%%\n"
    }
   }
  }
 ],
 "metadata": {
  "kernelspec": {
   "display_name": "Python 3",
   "language": "python",
   "name": "python3"
  },
  "language_info": {
   "codemirror_mode": {
    "name": "ipython",
    "version": 2
   },
   "file_extension": ".py",
   "mimetype": "text/x-python",
   "name": "python",
   "nbconvert_exporter": "python",
   "pygments_lexer": "ipython2",
   "version": "2.7.6"
  }
 },
 "nbformat": 4,
 "nbformat_minor": 0
}
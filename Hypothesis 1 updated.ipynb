{
 "cells": [
  {
   "cell_type": "code",
   "execution_count": 123,
   "metadata": {
    "collapsed": true
   },
   "outputs": [],
   "source": [
    "import datetime\n",
    "import re\n",
    "from typing import List\n",
    "\n",
    "import pandas as pd\n",
    "import numpy as np\n",
    "import matplotlib.pyplot as plt\n",
    "\n",
    "from scipy.stats import ttest_ind\n",
    "from scipy.stats import mannwhitneyu\n",
    "from sklearn.utils import resample"
   ]
  },
  {
   "cell_type": "code",
   "execution_count": 124,
   "outputs": [],
   "source": [
    "# general purpose: merge_data, process_data, pit_stop_group\n",
    "def merge_data(_df_list: List[pd.DataFrame]) -> pd.DataFrame:\n",
    "    \"\"\"\n",
    "    merges the dataframes according to their primary/foreign keys\n",
    "    :param _df_list: list of dataframes to be merged\n",
    "    :return: the merged dataframe\n",
    "    \"\"\"\n",
    "    # set up internal parameters\n",
    "    suffixes = ['_1', '_2']\n",
    "    r = re.compile('\\w*Id')\n",
    "\n",
    "    # set up variables based on input\n",
    "    num = len(_df_list)  # length of the list\n",
    "    to_select = list(range(1, num))  # list of indexes of dataframe to be merged\n",
    "    remaining = set(range(1, num))  # set of remaining indexes of dataframes yet to be merged\n",
    "\n",
    "    # get all the '<something>id' columns for each dataframe\n",
    "    id_list = [set(filter(r.match, table)) for table in _df_list]\n",
    "    # set up the merged dataframe, 'mg_df'\n",
    "    mg_df = _df_list[0]\n",
    "    mg_id = id_list[0]  # set the id set of the merged dataframe as the first dataframe's id set\n",
    "\n",
    "    # start merging dataframes\n",
    "    while True:\n",
    "        merge_flag = 0  # flag indicating if a while-true run has merged any new dataframe\n",
    "        for index in to_select:\n",
    "            intersect = mg_id.intersection(id_list[index])\n",
    "            all_col_intersect = set(mg_df.columns).intersection(set(_df_list[index].columns))\n",
    "            # iterate through the remaining dataframe\n",
    "            # and merge those with common id(s)\n",
    "            if (index in remaining) and intersect:\n",
    "                if all_col_intersect == intersect:\n",
    "                    mg_df = pd.merge(mg_df, _df_list[index], on=list(intersect), how='left')\n",
    "                else:\n",
    "                    # if there are other common columns than the ids, set suffixes\n",
    "                    mg_df = pd.merge(mg_df, _df_list[index], on=list(intersect), how='left', suffixes=suffixes)\n",
    "                # add the new ids into the total id set of the merged dataframe\n",
    "                mg_id = mg_id.union(set(id_list[index]))\n",
    "                remaining.remove(index)  # remove the index of the added dataframe\n",
    "                merge_flag = 1\n",
    "        if not remaining:\n",
    "            break  # break if there is no more dataframe to be added\n",
    "        if not merge_flag:  # if no new dataframe was merged in this while-true run\n",
    "            print('Error: no common \"id\" columns found')\n",
    "            break  # breaks\n",
    "    return mg_df"
   ],
   "metadata": {
    "collapsed": false,
    "pycharm": {
     "name": "#%%\n"
    }
   }
  },
  {
   "cell_type": "code",
   "execution_count": 125,
   "outputs": [],
   "source": [
    "def process_data(mg_df: pd.DataFrame, normal_status=True) -> pd.DataFrame:\n",
    "    \"\"\"\n",
    "    process the data for analysis:\n",
    "    1. filter normal status\n",
    "    2. add total laps for each record\n",
    "    3. add total pit stops for each record\n",
    "    4. calculate the proportion of lap when the driver pit for each pit record\n",
    "    5. calculate how far the lap proportion deviates from the ideal even distribution for each pit record\n",
    "    :param mg_df: the merged dataframe\n",
    "    :param normal_status: if filter the dataframe with records that are finished or +? laps away from the finished\n",
    "    :return: the processed dataframe\n",
    "    \"\"\"\n",
    "    # 1. filtering normal status\n",
    "    if normal_status:\n",
    "        _status_select = [1, 11, 12, 13, 14, 15, 16, 17, 18, 19]\n",
    "        mg_df.drop(mg_df[~mg_df['statusId'].isin(_status_select)].index, inplace=True)\n",
    "    # 2&3. add total laps & total pit stops for each record\n",
    "    _total_laps = mg_df[(mg_df['positionOrder'] == 1) & (mg_df['stop'] == 1)].reset_index(drop=True)[['raceId', 'laps']]\n",
    "    _total_laps.columns = [str(_total_laps.columns[0]), 'total_laps']\n",
    "    _total_stops = mg_df.groupby(by=['raceId', 'driverId'], as_index=False)['stop'].max()\n",
    "    _total_stops.columns = list(_total_stops.columns[:2]) + ['total_stops']\n",
    "    # 4. calculate the proportion of lap when the driver pit for each pit record\n",
    "    mg_df = pd.merge(mg_df, _total_laps, on='raceId')\n",
    "    mg_df = pd.merge(mg_df, _total_stops, on=['raceId', 'driverId'])\n",
    "    # 5. calculate how far the lap proportion deviates from the ideal even distribution for each pit record\n",
    "    mg_df['lap_prop'] = mg_df.apply(lambda x: x['lap'] / x['total_laps'], axis=1)\n",
    "    mg_df['abs_deviation'] = mg_df.apply(lambda x: abs(x['stop'] / (x['total_stops'] + 1) - x['lap_prop']), axis=1)\n",
    "    # 6. deviation mean, grouped by each driver in each race\n",
    "    avg_deviation = pd.DataFrame(mg_df.groupby(['raceId', 'driverId'])['abs_deviation'].mean())\n",
    "    avg_deviation = avg_deviation.add_suffix('_mean').reset_index()\n",
    "    mg_df = pd.merge(mg_df, avg_deviation, on=['raceId', 'driverId'])\n",
    "\n",
    "    return mg_df"
   ],
   "metadata": {
    "collapsed": false,
    "pycharm": {
     "name": "#%%\n"
    }
   }
  },
  {
   "cell_type": "code",
   "execution_count": 126,
   "outputs": [],
   "source": [
    "def pit_stop_group(df: pd.DataFrame) -> dict:\n",
    "    \"\"\"\n",
    "    group the records by the total number of pit stops of each racing record\n",
    "    :param df: the merged and processed dataframe\n",
    "    :return: a dictionary with total pit numbers as keys and dataframe of records as values\n",
    "    \"\"\"\n",
    "    max_num = df['total_stops'].max()\n",
    "    _df_dict = {}\n",
    "    for i in range(1, max_num+1):\n",
    "        _df_dict[i] = df[df['total_stops']==i][['stop','positionOrder','lap_prop']]\n",
    "    return _df_dict\n"
   ],
   "metadata": {
    "collapsed": false,
    "pycharm": {
     "name": "#%%\n"
    }
   }
  },
  {
   "cell_type": "code",
   "execution_count": 127,
   "outputs": [],
   "source": [
    "def pit_stop_group_by_driver(df: pd.DataFrame) -> pd.DataFrame:\n",
    "    pitstop_df = df[[\"raceId\", \"driverId\",'positionOrder', \"total_stops\"]]\n",
    "    pitstop_groupby = pitstop_df.groupby([\"raceId\", \"driverId\",'positionOrder'], as_index=False)[\"total_stops\"].count()\n",
    "    pitstop_groupby.sort_values(by=[\"raceId\", 'driverId'], inplace=True)\n",
    "    print(pitstop_groupby)\n",
    "    return (pitstop_groupby)"
   ],
   "metadata": {
    "collapsed": false,
    "pycharm": {
     "name": "#%%\n"
    }
   }
  },
  {
   "cell_type": "code",
   "execution_count": 128,
   "outputs": [],
   "source": [
    "# Load data\n",
    "pit = pd.read_csv('data/pit_stops.csv')\n",
    "results = pd.read_csv('data/results.csv')\n",
    "status = pd.read_csv('data/status.csv')"
   ],
   "metadata": {
    "collapsed": false,
    "pycharm": {
     "name": "#%%\n"
    }
   }
  },
  {
   "cell_type": "code",
   "execution_count": 129,
   "outputs": [
    {
     "name": "stdout",
     "output_type": "stream",
     "text": [
      "      raceId  driverId  positionOrder  total_stops\n",
      "0        841         1              2            2\n",
      "1        841         2             12            2\n",
      "2        841         4              4            3\n",
      "3        841        10             15            1\n",
      "4        841        13              7            3\n",
      "...      ...       ...            ...          ...\n",
      "3793    1076       848             10            1\n",
      "3794    1076       849             16            2\n",
      "3795    1076       852             15            1\n",
      "3796    1076       854             13            1\n",
      "3797    1076       855             11            1\n",
      "\n",
      "[3798 rows x 4 columns]\n"
     ]
    }
   ],
   "source": [
    "# Process the data files\n",
    "merge_df = merge_data([pit, results, status])\n",
    "merge_df = process_data(merge_df)\n",
    "df_dict = pit_stop_group(merge_df)\n",
    "df_plot = pit_stop_group_by_driver(merge_df)"
   ],
   "metadata": {
    "collapsed": false,
    "pycharm": {
     "name": "#%%\n"
    }
   }
  },
  {
   "cell_type": "code",
   "execution_count": 130,
   "outputs": [],
   "source": [
    "# def pitstop_boxplot(group_dict: dict):\n",
    "#     df_final = pd.DataFrame(columns=['stop','positionOrder'])\n",
    "#     if len(group_dict) % 2 ==0:\n",
    "#         for key in group_dict:\n",
    "#             if key % 2 == 1:\n",
    "#                 continue\n",
    "#             else:\n",
    "#                 df_union = pd.concat([group_dict[key][['stop','positionOrder']],group_dict[key-1][['stop','positionOrder']]])\n",
    "#                 df_final = pd.concat([df_final,df_union])\n",
    "#\n",
    "#     # else:\n",
    "#         df_final['stop'] = df_final['stop'].astype(str).astype(int)\n",
    "#         df_final['positionOrder'] = df_final['positionOrder'].astype(str).astype(int)\n",
    "#         return df_final\n",
    "#         boxplot = df_final.boxplot(by=\"stop\")\n",
    "#         # return boxplot\n",
    "#         boxplot.plot()\n",
    "#         plt.show()"
   ],
   "metadata": {
    "collapsed": false,
    "pycharm": {
     "name": "#%%\n"
    }
   }
  },
  {
   "cell_type": "code",
   "execution_count": 131,
   "outputs": [],
   "source": [
    "def pitstop_boxplot(df: pd.DataFrame)-> plt:\n",
    "    boxplot_base = df[[\"total_stops\", \"positionOrder\"]]\n",
    "    boxplot = boxplot_base.boxplot(by=\"total_stops\")\n",
    "    boxplot.plot()\n",
    "    plt.show()\n"
   ],
   "metadata": {
    "collapsed": false,
    "pycharm": {
     "name": "#%%\n"
    }
   }
  },
  {
   "cell_type": "code",
   "execution_count": 132,
   "outputs": [
    {
     "data": {
      "text/plain": "<Figure size 432x288 with 1 Axes>",
      "image/png": "[encoded data removed]"
     },
     "metadata": {
      "needs_background": "light"
     },
     "output_type": "display_data"
    }
   ],
   "source": [
    "pitstop_boxplot(df_plot)"
   ],
   "metadata": {
    "collapsed": false,
    "pycharm": {
     "name": "#%%\n"
    }
   }
  }
 ],
 "metadata": {
  "kernelspec": {
   "display_name": "Python 3",
   "language": "python",
   "name": "python3"
  },
  "language_info": {
   "codemirror_mode": {
    "name": "ipython",
    "version": 2
   },
   "file_extension": ".py",
   "mimetype": "text/x-python",
   "name": "python",
   "nbconvert_exporter": "python",
   "pygments_lexer": "ipython2",
   "version": "2.7.6"
  }
 },
 "nbformat": 4,
 "nbformat_minor": 0
}
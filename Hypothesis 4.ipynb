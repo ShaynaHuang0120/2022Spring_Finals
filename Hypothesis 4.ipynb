{
 "cells": [
  {
   "cell_type": "code",
   "execution_count": 109,
   "metadata": {
    "collapsed": true
   },
   "outputs": [],
   "source": [
    "import pandas as pd\n",
    "import matplotlib.pyplot as plt"
   ]
  },
  {
   "cell_type": "code",
   "execution_count": 110,
   "outputs": [],
   "source": [
    "def data_process(df:pd.DataFrame,lap_df:pd.DataFrame)-> pd.DataFrame:\n",
    "    # df.rename(columns = {'position':'final position'}, inplace = True)\n",
    "    position_df= df[[\"raceId\", \"driverId\", \"positionOrder\"]]\n",
    "    joined_table = lap.merge(position_df, on = [\"raceId\", \"driverId\"], how = \"left\")\n",
    "    joined_table[\"time\"]= joined_table[\"time\"].str.split(':')\n",
    "    # new df from the column of lists\n",
    "    split_df = pd.DataFrame(joined_table[\"time\"].tolist(), columns=['lap_minutes', 'lap_seconds','none'])\n",
    "    # concat df and split_df\n",
    "    joined_table = pd.concat([joined_table, split_df], axis=1)\n",
    "    joined_table[\"positionOrder\"] = joined_table[\"positionOrder\"] .astype(int)\n",
    "    joined_table[\"lap_minutes\"] = joined_table[\"lap_minutes\"] .astype(int)\n",
    "    joined_table[\"lap_second\"] = joined_table[\"lap_minutes\"] .astype(float)\n",
    "    #since most of the time spend for each lap is below 5 minutes, we assumed that the time spent greater than 5 minutes should be caused by accidents rather than strategy. Thus, we focus on lap with time spend less than 6 minutes.\n",
    "    li=[1,2,3,4,5]\n",
    "    df_filtered = joined_table[joined_table['lap_minutes'].isin(li)]\n",
    "    df_filtered[\"lap_time\"] = \" \"\n",
    "    sec = []\n",
    "    for time_list in df_filtered[\"time\"]:\n",
    "        if time_list[0] == \"1\":\n",
    "            second= 60 + float(time_list[1])\n",
    "            sec.append(second)\n",
    "        elif time_list[0] == \"2\":\n",
    "            second = 120 + float(time_list[1])\n",
    "            sec.append(second)\n",
    "        elif time_list[0] == \"3\":\n",
    "            second = 180 + float(time_list[1])\n",
    "            sec.append(second)\n",
    "        elif time_list[0] == \"4\":\n",
    "            second = 240 + float(time_list[1])\n",
    "            sec.append(second)\n",
    "        elif time_list[0] == \"5\":\n",
    "            second = 300 + float(time_list[1])\n",
    "            sec.append(second)\n",
    "    df_filtered[\"lap_time\"] = sec\n",
    "    # df_group = df_filtered.groupby([\"raceId\",\"driverId\",'positionOrder'], as_index=False)[\"lap_time\"].std()\n",
    "    df_group = df_filtered.groupby(['positionOrder'], as_index=False)[\"lap_time\"].std()\n",
    "    df_group.sort_values(by=['positionOrder'], inplace=True)\n",
    "    df_group.rename(columns = {'lap_time':'lap_time_STD'}, inplace = True)\n",
    "    return df_group"
   ],
   "metadata": {
    "collapsed": false,
    "pycharm": {
     "name": "#%%\n"
    }
   }
  },
  {
   "cell_type": "code",
   "execution_count": 111,
   "outputs": [],
   "source": [
    "def barchart_lapspeed(df: pd.DataFrame)-> plt:\n",
    "    df.plot.bar(x='positionOrder', y='lap_time_STD', fontsize='9')\n",
    "    plt.show()"
   ],
   "metadata": {
    "collapsed": false,
    "pycharm": {
     "name": "#%%\n"
    }
   }
  },
  {
   "cell_type": "code",
   "execution_count": 112,
   "outputs": [],
   "source": [
    "# Load data\n",
    "result = pd.read_csv(\"data/results.csv\")\n",
    "lap = pd.read_csv(\"data/lap_times.csv\")"
   ],
   "metadata": {
    "collapsed": false,
    "pycharm": {
     "name": "#%%\n"
    }
   }
  },
  {
   "cell_type": "code",
   "execution_count": 113,
   "outputs": [
    {
     "name": "stderr",
     "output_type": "stream",
     "text": [
      "<ipython-input-110-74199e8153e3>:16: SettingWithCopyWarning: \n",
      "A value is trying to be set on a copy of a slice from a DataFrame.\n",
      "Try using .loc[row_indexer,col_indexer] = value instead\n",
      "\n",
      "See the caveats in the documentation: https://pandas.pydata.org/pandas-docs/stable/user_guide/indexing.html#returning-a-view-versus-a-copy\n",
      "  df_filtered[\"lap_time\"] = \" \"\n",
      "<ipython-input-110-74199e8153e3>:34: SettingWithCopyWarning: \n",
      "A value is trying to be set on a copy of a slice from a DataFrame.\n",
      "Try using .loc[row_indexer,col_indexer] = value instead\n",
      "\n",
      "See the caveats in the documentation: https://pandas.pydata.org/pandas-docs/stable/user_guide/indexing.html#returning-a-view-versus-a-copy\n",
      "  df_filtered[\"lap_time\"] = sec\n"
     ]
    }
   ],
   "source": [
    "# Process the data files\n",
    "df_group = data_process(result, lap)"
   ],
   "metadata": {
    "collapsed": false,
    "pycharm": {
     "name": "#%%\n"
    }
   }
  },
  {
   "cell_type": "code",
   "execution_count": 114,
   "outputs": [
    {
     "data": {
      "text/plain": "<Figure size 432x288 with 1 Axes>",
      "image/png": "[encoded data removed]"
     },
     "metadata": {
      "needs_background": "light"
     },
     "output_type": "display_data"
    }
   ],
   "source": [
    "barchart_lapspeed(df_group)"
   ],
   "metadata": {
    "collapsed": false,
    "pycharm": {
     "name": "#%%\n"
    }
   }
  },
  {
   "cell_type": "code",
   "execution_count": 114,
   "outputs": [],
   "source": [],
   "metadata": {
    "collapsed": false,
    "pycharm": {
     "name": "#%%\n"
    }
   }
  }
 ],
 "metadata": {
  "kernelspec": {
   "display_name": "Python 3",
   "language": "python",
   "name": "python3"
  },
  "language_info": {
   "codemirror_mode": {
    "name": "ipython",
    "version": 2
   },
   "file_extension": ".py",
   "mimetype": "text/x-python",
   "name": "python",
   "nbconvert_exporter": "python",
   "pygments_lexer": "ipython2",
   "version": "2.7.6"
  }
 },
 "nbformat": 4,
 "nbformat_minor": 0
}
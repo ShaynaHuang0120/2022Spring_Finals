{
 "cells": [
  {
   "cell_type": "code",
   "execution_count": 109,
   "metadata": {
    "collapsed": true
   },
   "outputs": [],
   "source": [
    "import pandas as pd\n",
    "import numpy as np\n",
    "import matplotlib.pyplot as plt\n",
    "from scipy.stats import ttest_ind\n",
    "from sklearn.utils import resample"
   ]
  },
  {
   "cell_type": "code",
   "execution_count": 137,
   "outputs": [],
   "source": [
    "def merge_tables(_pit: pd.DataFrame, _results: pd.DataFrame, _status: pd.DataFrame) -> pd.DataFrame:\n",
    "    \"\"\"\n",
    "    merges the data files\n",
    "    :param _pit:\n",
    "    :param _results:\n",
    "    :param _status:\n",
    "    :return:\n",
    "    \"\"\"\n",
    "    _select_col = ['raceId','driverId','positionOrder', 'laps', 'time','statusId']\n",
    "    mg_df = pd.merge(_pit, _results[_select_col], on=['raceId','driverId'], how = 'left', suffixes=('_pit', '_result'))\n",
    "    mg_df = pd.merge(mg_df, _status, on='statusId', how='left')\n",
    "\n",
    "    _status_select = [1, 11, 12, 13, 14, 15, 16, 17, 18, 19]\n",
    "    mg_df.drop(mg_df[~mg_df['statusId'].isin(_status_select)].index, inplace=True)\n",
    "    return mg_df\n",
    "\n",
    "\n",
    "def process_laps_stops(mg_df: pd.DataFrame) -> pd.DataFrame:\n",
    "    _total_laps = mg_df[(mg_df['positionOrder'] == 1) & (mg_df['stop'] == 1)].reset_index(drop=True)[['raceId', 'laps']]\n",
    "    _total_laps.columns = [str(_total_laps.columns[0]), 'total_laps']\n",
    "    _total_stops = mg_df.groupby(by=['raceId', 'driverId'], as_index=False)['stop'].max()\n",
    "    _total_stops.columns = list(_total_stops.columns[:2]) + ['total_stops']\n",
    "\n",
    "    mg_df = pd.merge(mg_df, _total_laps, on='raceId')\n",
    "    mg_df = pd.merge(mg_df, _total_stops, on=['raceId', 'driverId'])\n",
    "    mg_df['lap_prop'] = mg_df.apply(lambda x: x['lap']/x['total_laps'], axis=1)\n",
    "\n",
    "    return mg_df\n",
    "\n",
    "\n",
    "def group_by_stop_num(df: pd.DataFrame) -> dict:\n",
    "    pit_stop_max = df['total_stops'].max()\n",
    "    _df_dict = {}\n",
    "    for i in range(1, pit_stop_max+1):\n",
    "        _df_dict[i] = df[df['total_stops']==i][['stop','lap_prop']]\n",
    "    return _df_dict\n",
    "\n",
    "\n",
    "def comparison_plot(list_1: [pd.DataFrame], list_2: [pd.DataFrame],\n",
    "                    show_mean=True, show_description=True, save_fig=False):\n",
    "    \"\"\"\n",
    "    d\n",
    "    :param list_1:\n",
    "    :param list_2:\n",
    "    :param save_fig:\n",
    "    :param show_description:\n",
    "    :param show_mean:\n",
    "    :return:\n",
    "    \"\"\"\n",
    "    bins = np.linspace(0,1,50)\n",
    "    color_bin = ['tab:blue', 'tab:orange', 'tab:red']\n",
    "    color_bin2 = ['deepskyblue', 'crimson', 'lavender']\n",
    "\n",
    "    plot_index = [[1,1], [2,1], [2,2], [3,1], [3,2], [3,3]]\n",
    "    plot_num = 6\n",
    "\n",
    "    for _i in range(plot_num):\n",
    "        _total = plot_index[_i][0]  # total pit stops\n",
    "        _pit = plot_index[_i][1]  # pit stop number\n",
    "        df_f = list_1[_i]['lap_prop']  # front\n",
    "        df_b = resample(list_2[_i]['lap_prop'],\n",
    "                        replace=True, n_samples=len(df_f), random_state=123)  # back\n",
    "\n",
    "        plt.figure(figsize=(12,6))\n",
    "        plt.hist(df_b, bins, alpha=0.8, color=color_bin[2])\n",
    "        plt.hist(df_f, bins, alpha=0.8, color=color_bin[0])\n",
    "\n",
    "        df_f_mean = round(df_f.mean(), ndigits=3)\n",
    "        df_b_mean = round(df_b.mean(), ndigits=3)\n",
    "        if show_mean:\n",
    "            plt.axvline(x=df_f_mean, color=color_bin2[0], linewidth=4)\n",
    "            plt.axvline(x=df_b_mean, color=color_bin2[1], linewidth=4)\n",
    "            plt.axvline(x=_pit/(_total+1), color='gold', linewidth=4)\n",
    "\n",
    "        p_value = ttest_ind(df_f, df_b).pvalue\n",
    "        print(f'Total Pits: {_total}, no.{_pit} pit, p value={p_value}')\n",
    "\n",
    "        if save_fig: plt.savefig(f'image/hypo3/distribution_{_total}_{_pit}.png', transparent=False)\n",
    "        plt.show()"
   ],
   "metadata": {
    "collapsed": false,
    "pycharm": {
     "name": "#%%\n"
    }
   }
  },
  {
   "cell_type": "code",
   "execution_count": 132,
   "outputs": [],
   "source": [
    "# Load data\n",
    "pit = pd.read_csv('data/pit_stops.csv')\n",
    "results = pd.read_csv('data/results.csv')\n",
    "status = pd.read_csv('data/status.csv')"
   ],
   "metadata": {
    "collapsed": false,
    "pycharm": {
     "name": "#%%\n"
    }
   }
  },
  {
   "cell_type": "code",
   "execution_count": 133,
   "outputs": [],
   "source": [
    "# Process the data files\n",
    "merge_df = merge_tables(pit, results, status)\n",
    "merge_df = process_laps_stops(merge_df)"
   ],
   "metadata": {
    "collapsed": false,
    "pycharm": {
     "name": "#%%\n"
    }
   }
  },
  {
   "cell_type": "code",
   "execution_count": 134,
   "outputs": [],
   "source": [
    "max_pit = 3\n",
    "top_num = 5\n",
    "df_front = []\n",
    "df_back = []\n",
    "\n",
    "for i in range(1, max_pit+1):\n",
    "    df_tmp = merge_df[merge_df['total_stops']==i]\n",
    "    for j in range(1, i+1):\n",
    "        df_select = df_tmp[df_tmp['stop']==j]\n",
    "        df_front.append(df_select[df_select['positionOrder'] <= top_num][['stop', 'lap_prop']])\n",
    "        df_back.append(df_select[df_select['positionOrder'] > top_num][['stop', 'lap_prop']])"
   ],
   "metadata": {
    "collapsed": false,
    "pycharm": {
     "name": "#%%\n"
    }
   }
  },
  {
   "cell_type": "code",
   "execution_count": 138,
   "outputs": [
    {
     "name": "stdout",
     "output_type": "stream",
     "text": [
      "Total Pits: 1, no.1 pit, p value=0.6120208311353951\n"
     ]
    },
    {
     "data": {
      "text/plain": "<Figure size 864x432 with 1 Axes>",
      "image/png": "[encoded data removed]"
     },
     "metadata": {
      "needs_background": "light"
     },
     "output_type": "display_data"
    },
    {
     "name": "stdout",
     "output_type": "stream",
     "text": [
      "Total Pits: 2, no.1 pit, p value=0.06260995721012505\n"
     ]
    },
    {
     "data": {
      "text/plain": "<Figure size 864x432 with 1 Axes>",
      "image/png": "[encoded data removed]"
     },
     "metadata": {
      "needs_background": "light"
     },
     "output_type": "display_data"
    },
    {
     "name": "stdout",
     "output_type": "stream",
     "text": [
      "Total Pits: 2, no.2 pit, p value=0.2175452218698461\n"
     ]
    },
    {
     "data": {
      "text/plain": "<Figure size 864x432 with 1 Axes>",
      "image/png": "[encoded data removed]"
     },
     "metadata": {
      "needs_background": "light"
     },
     "output_type": "display_data"
    },
    {
     "name": "stdout",
     "output_type": "stream",
     "text": [
      "Total Pits: 3, no.1 pit, p value=0.045088810955493594\n"
     ]
    },
    {
     "data": {
      "text/plain": "<Figure size 864x432 with 1 Axes>",
      "image/png": "[encoded data removed]"
     },
     "metadata": {
      "needs_background": "light"
     },
     "output_type": "display_data"
    },
    {
     "name": "stdout",
     "output_type": "stream",
     "text": [
      "Total Pits: 3, no.2 pit, p value=0.005040876100088418\n"
     ]
    },
    {
     "data": {
      "text/plain": "<Figure size 864x432 with 1 Axes>",
      "image/png": "[encoded data removed]"
     },
     "metadata": {
      "needs_background": "light"
     },
     "output_type": "display_data"
    },
    {
     "name": "stdout",
     "output_type": "stream",
     "text": [
      "Total Pits: 3, no.3 pit, p value=0.0004646569255695769\n"
     ]
    },
    {
     "data": {
      "text/plain": "<Figure size 864x432 with 1 Axes>",
      "image/png": "[encoded data removed]"
     },
     "metadata": {
      "needs_background": "light"
     },
     "output_type": "display_data"
    }
   ],
   "source": [
    "comparison_plot(df_front, df_back, save_fig=True)"
   ],
   "metadata": {
    "collapsed": false,
    "pycharm": {
     "name": "#%%\n"
    }
   }
  },
  {
   "cell_type": "code",
   "execution_count": 114,
   "outputs": [],
   "source": [],
   "metadata": {
    "collapsed": false,
    "pycharm": {
     "name": "#%%\n"
    }
   }
  }
 ],
 "metadata": {
  "kernelspec": {
   "display_name": "Python 3",
   "language": "python",
   "name": "python3"
  },
  "language_info": {
   "codemirror_mode": {
    "name": "ipython",
    "version": 2
   },
   "file_extension": ".py",
   "mimetype": "text/x-python",
   "name": "python",
   "nbconvert_exporter": "python",
   "pygments_lexer": "ipython2",
   "version": "2.7.6"
  }
 },
 "nbformat": 4,
 "nbformat_minor": 0
}
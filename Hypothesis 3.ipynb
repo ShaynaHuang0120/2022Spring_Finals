{
 "cells": [
  {
   "cell_type": "code",
   "execution_count": 23,
   "metadata": {
    "collapsed": true
   },
   "outputs": [],
   "source": [
    "import pandas as pd\n",
    "import numpy as np\n",
    "import re\n",
    "from typing import List\n",
    "import matplotlib.pyplot as plt\n",
    "from scipy.stats import ttest_ind\n",
    "from scipy.stats import kstest\n",
    "from scipy.stats import mannwhitneyu\n",
    "from sklearn.utils import resample"
   ]
  },
  {
   "cell_type": "code",
   "execution_count": 24,
   "outputs": [],
   "source": [
    "def merge_data(_df_list: List[pd.DataFrame]) -> pd.DataFrame:\n",
    "    \"\"\"\n",
    "    merges the dataframes according to their primary/foreign keys\n",
    "    :param _df_list: list of dataframes to be merged\n",
    "    :return: the merged dataframe\n",
    "    \"\"\"\n",
    "    # set up internal parameters\n",
    "    suffixes = ['_1', '_2']\n",
    "    r = re.compile('\\w*Id')\n",
    "\n",
    "    # set up variables based on input\n",
    "    num = len(_df_list)  # length of the list\n",
    "    to_select = list(range(1,num))  # list of indexes of dataframe to be merged\n",
    "    remaining = set(range(1,num))  # set of remaining indexes of dataframes yet to be merged\n",
    "\n",
    "    # get all the '<something>id' columns for each dataframe\n",
    "    id_list = [set(filter(r.match, table)) for table in _df_list]\n",
    "    # set up the merged dataframe, 'mg_df'\n",
    "    mg_df = _df_list[0]\n",
    "    mg_id = id_list[0]  # set the id set of the merged dataframe as the first dataframe's id set\n",
    "\n",
    "    # start merging dataframes\n",
    "    while True:\n",
    "        merge_flag = 0  # flag indicating if a while-true run has merged any new dataframe\n",
    "        for index in to_select:\n",
    "            intersect = mg_id.intersection(id_list[index])\n",
    "            all_col_intersect = set(mg_df.columns).intersection(set(_df_list[index].columns))\n",
    "            # iterate through the remaining dataframe\n",
    "            # and merge those with common id(s)\n",
    "            if (index in remaining) and intersect:\n",
    "                if all_col_intersect == intersect:\n",
    "                    mg_df = pd.merge(mg_df, _df_list[index], on=list(intersect), how='left')\n",
    "                else:\n",
    "                    # if there are other common columns than the ids, set suffixes\n",
    "                    mg_df = pd.merge(mg_df, _df_list[index], on=list(intersect), how='left', suffixes=suffixes)\n",
    "                # add the new ids into the total id set of the merged dataframe\n",
    "                mg_id = mg_id.union(set(id_list[index]))\n",
    "                remaining.remove(index)  # remove the index of the added dataframe\n",
    "                merge_flag = 1\n",
    "        if not remaining:\n",
    "            break  # break if there is no more dataframe to be added\n",
    "        if not merge_flag:  # if no new dataframe was merged in this while-true run\n",
    "            print('Error: no common \"id\" columns found')\n",
    "            break  # breaks\n",
    "    return mg_df\n",
    "\n",
    "\n",
    "def process_laps_stops(mg_df: pd.DataFrame) -> pd.DataFrame:\n",
    "    _total_laps = mg_df[(mg_df['positionOrder'] == 1) & (mg_df['stop'] == 1)].reset_index(drop=True)[['raceId', 'laps']]\n",
    "    _total_laps.columns = [str(_total_laps.columns[0]), 'total_laps']\n",
    "    _total_stops = mg_df.groupby(by=['raceId', 'driverId'], as_index=False)['stop'].max()\n",
    "    _total_stops.columns = list(_total_stops.columns[:2]) + ['total_stops']\n",
    "\n",
    "    mg_df = pd.merge(mg_df, _total_laps, on='raceId')\n",
    "    mg_df = pd.merge(mg_df, _total_stops, on=['raceId', 'driverId'])\n",
    "    mg_df['lap_prop'] = mg_df.apply(lambda x: x['lap']/x['total_laps'], axis=1)\n",
    "    mg_df['abs_err'] = mg_df.apply(lambda x: abs(x['stop']/(x['total_stops']+1) - x['lap_prop']), axis=1)\n",
    "    return mg_df\n",
    "\n",
    "\n",
    "def get_err_mean(mg_df: pd.DataFrame):\n",
    "    avg_err = pd.DataFrame(mg_df.groupby(['raceId', 'driverId'])['abs_err'].mean())\n",
    "    avg_err = avg_err.add_suffix('_mean').reset_index()\n",
    "    select_columns = ['raceId', 'driverId', 'positionOrder', 'abs_err_mean']\n",
    "    test_df = mg_df.merge(avg_err, on=['raceId', 'driverId'])[select_columns]\n",
    "    test_df = test_df.drop_duplicates()\n",
    "    top_number = 5\n",
    "    _df_front = test_df[test_df['positionOrder'] <= top_number]['abs_err_mean']\n",
    "    _df_back = test_df[test_df['positionOrder'] > top_number]['abs_err_mean']\n",
    "    return _df_front, _df_back\n",
    "\n",
    "\n",
    "def group_by_stop_num(df: pd.DataFrame) -> dict:\n",
    "    pit_stop_max = df['total_stops'].max()\n",
    "    _df_dict = {}\n",
    "    for i in range(1, pit_stop_max+1):\n",
    "        _df_dict[i] = df[df['total_stops']==i][['stop','lap_prop']]\n",
    "    return _df_dict\n",
    "\n",
    "\n",
    "def df_to_list(mg_df: pd.DataFrame, select_col='lap_prop', max_pit = 3, top_num = 5):\n",
    "    df_front = []\n",
    "    df_back = []\n",
    "    for i in range(1, max_pit+1):\n",
    "        df_tmp = mg_df[mg_df['total_stops']==i]\n",
    "        for j in range(1, i+1):\n",
    "            df_select = df_tmp[df_tmp['stop']==j]\n",
    "            df_front.append(df_select[df_select['positionOrder'] <= top_num][['stop', select_col]])\n",
    "            df_back.append(df_select[df_select['positionOrder'] > top_num][['stop', select_col]])\n",
    "    return df_front, df_back\n",
    "\n",
    "\n",
    "def comparison_plot(list_1: [pd.DataFrame], list_2: [pd.DataFrame], select_col='lap_prop',\n",
    "                    show_mean=True, show_description=True, divide=True, non_para=False, save_fig=False):\n",
    "    \"\"\"\n",
    "    d\n",
    "    :param non_para:\n",
    "    :param divide:\n",
    "    :param select_col:\n",
    "    :param list_1:\n",
    "    :param list_2:\n",
    "    :param save_fig:\n",
    "    :param show_description:\n",
    "    :param show_mean:\n",
    "    :return:\n",
    "    \"\"\"\n",
    "    bins = np.linspace(0,1,50)\n",
    "    color_bin = ['tab:blue', 'tab:orange', 'tab:red']\n",
    "    color_bin2 = ['deepskyblue', 'crimson', 'lavender']\n",
    "\n",
    "    plot_index = [[1,1], [2,1], [2,2], [3,1], [3,2], [3,3]]\n",
    "    plot_num = 6\n",
    "\n",
    "    for _i in range(plot_num):\n",
    "        _total = plot_index[_i][0]  # total pit stops\n",
    "        _pit = plot_index[_i][1]  # pit stop number\n",
    "        df_f = list_1[_i][select_col]  # front\n",
    "        df_b = resample(list_2[_i][select_col],\n",
    "                        replace=True, n_samples=len(df_f), random_state=123)  # back\n",
    "\n",
    "        plt.figure(figsize=(12,6))\n",
    "        plt.hist(df_b, bins, alpha=0.8, color=color_bin[2])\n",
    "        plt.hist(df_f, bins, alpha=0.8, color=color_bin[0])\n",
    "\n",
    "        df_f_mean = round(df_f.mean(), ndigits=3)\n",
    "        df_b_mean = round(df_b.mean(), ndigits=3)\n",
    "        if show_mean:\n",
    "            plt.axvline(x=df_f_mean, color=color_bin2[0], linewidth=4)\n",
    "            plt.axvline(x=df_b_mean, color=color_bin2[1], linewidth=4)\n",
    "            if divide: plt.axvline(x=_pit/(_total+1), color='gold', linewidth=4)\n",
    "        if show_description:\n",
    "            if not non_para:\n",
    "                p_value = ttest_ind(df_f, df_b).pvalue\n",
    "            else:\n",
    "                p_value = mannwhitneyu(df_f, df_b).pvalue\n",
    "            print(f'Total Pits: {_total}, no.{_pit} pit, p value={p_value}')\n",
    "\n",
    "        if save_fig: plt.savefig(f'image/hypo3/distribution_{_total}_{_pit}.png', transparent=False)\n",
    "        plt.show()\n",
    "\n",
    "\n",
    "def err_mean_plot(_df_front: pd.DataFrame, _df_back: pd.DataFrame, save_fig=False):\n",
    "    df_f = _df_front\n",
    "    df_b = resample(_df_back, replace=True, n_samples=len(df_f), random_state=123)\n",
    "\n",
    "    bins = np.linspace(0,1,50)\n",
    "    color_bin = ['tab:blue', 'tab:orange', 'tab:red']\n",
    "    color_bin2 = ['deepskyblue', 'crimson', 'lavender']\n",
    "\n",
    "    plt.figure(figsize=(12,6))\n",
    "    plt.hist(df_b, bins, alpha=0.8, color=color_bin[2])\n",
    "    plt.hist(df_f, bins, alpha=0.8, color=color_bin[0])\n",
    "\n",
    "    df_f_mean = round(df_f.mean(), ndigits=3)\n",
    "    df_b_mean = round(df_b.mean(), ndigits=3)\n",
    "\n",
    "    plt.axvline(x=df_f_mean, color=color_bin2[0], linewidth=4)\n",
    "    plt.axvline(x=df_b_mean, color=color_bin2[1], linewidth=4)\n",
    "\n",
    "    p_value = mannwhitneyu(df_f, df_b).pvalue\n",
    "    print(f'Mann-Whitney U rank test p value={p_value}')\n",
    "\n",
    "    if save_fig: plt.savefig(f'image/hypo3/err_mean.png', transparent=False)\n",
    "    plt.show()"
   ],
   "metadata": {
    "collapsed": false,
    "pycharm": {
     "name": "#%%\n"
    }
   }
  },
  {
   "cell_type": "code",
   "execution_count": 25,
   "outputs": [],
   "source": [
    "# Load data\n",
    "pit = pd.read_csv('data/pit_stops.csv')\n",
    "results = pd.read_csv('data/results.csv')\n",
    "status = pd.read_csv('data/status.csv')"
   ],
   "metadata": {
    "collapsed": false,
    "pycharm": {
     "name": "#%%\n"
    }
   }
  },
  {
   "cell_type": "code",
   "execution_count": 26,
   "outputs": [],
   "source": [
    "# Process the data files\n",
    "merge_df = merge_data([pit, results, status])\n",
    "merge_df = process_laps_stops(merge_df)"
   ],
   "metadata": {
    "collapsed": false,
    "pycharm": {
     "name": "#%%\n"
    }
   }
  },
  {
   "cell_type": "code",
   "execution_count": 27,
   "outputs": [
    {
     "name": "stdout",
     "output_type": "stream",
     "text": [
      "Total Pits: 1, no.1 pit, p value=0.030645675472496137\n"
     ]
    },
    {
     "data": {
      "text/plain": "<Figure size 864x432 with 1 Axes>",
      "image/png": "[encoded data removed]"
     },
     "metadata": {
      "needs_background": "light"
     },
     "output_type": "display_data"
    },
    {
     "name": "stdout",
     "output_type": "stream",
     "text": [
      "Total Pits: 2, no.1 pit, p value=0.0005814598616683752\n"
     ]
    },
    {
     "data": {
      "text/plain": "<Figure size 864x432 with 1 Axes>",
      "image/png": "[encoded data removed]"
     },
     "metadata": {
      "needs_background": "light"
     },
     "output_type": "display_data"
    },
    {
     "name": "stdout",
     "output_type": "stream",
     "text": [
      "Total Pits: 2, no.2 pit, p value=0.0010307002970602064\n"
     ]
    },
    {
     "data": {
      "text/plain": "<Figure size 864x432 with 1 Axes>",
      "image/png": "[encoded data removed]"
     },
     "metadata": {
      "needs_background": "light"
     },
     "output_type": "display_data"
    },
    {
     "name": "stdout",
     "output_type": "stream",
     "text": [
      "Total Pits: 3, no.1 pit, p value=0.1956243657495232\n"
     ]
    },
    {
     "data": {
      "text/plain": "<Figure size 864x432 with 1 Axes>",
      "image/png": "[encoded data removed]"
     },
     "metadata": {
      "needs_background": "light"
     },
     "output_type": "display_data"
    },
    {
     "name": "stdout",
     "output_type": "stream",
     "text": [
      "Total Pits: 3, no.2 pit, p value=0.005606751461095249\n"
     ]
    },
    {
     "data": {
      "text/plain": "<Figure size 864x432 with 1 Axes>",
      "image/png": "[encoded data removed]"
     },
     "metadata": {
      "needs_background": "light"
     },
     "output_type": "display_data"
    },
    {
     "name": "stdout",
     "output_type": "stream",
     "text": [
      "Total Pits: 3, no.3 pit, p value=0.0013851020042062255\n"
     ]
    },
    {
     "data": {
      "text/plain": "<Figure size 864x432 with 1 Axes>",
      "image/png": "[encoded data removed]"
     },
     "metadata": {
      "needs_background": "light"
     },
     "output_type": "display_data"
    }
   ],
   "source": [
    "# Show Results\n",
    "df_front, df_back = df_to_list(merge_df) # top 5\n",
    "comparison_plot(df_front, df_back, save_fig=True)"
   ],
   "metadata": {
    "collapsed": false,
    "pycharm": {
     "name": "#%%\n"
    }
   }
  },
  {
   "cell_type": "code",
   "execution_count": 28,
   "outputs": [
    {
     "name": "stdout",
     "output_type": "stream",
     "text": [
      "Total Pits: 1, no.1 pit, p value=6.238180473135758e-06\n"
     ]
    },
    {
     "data": {
      "text/plain": "<Figure size 864x432 with 1 Axes>",
      "image/png": "[encoded data removed]"
     },
     "metadata": {
      "needs_background": "light"
     },
     "output_type": "display_data"
    },
    {
     "name": "stdout",
     "output_type": "stream",
     "text": [
      "Total Pits: 2, no.1 pit, p value=3.779041945496054e-05\n"
     ]
    },
    {
     "data": {
      "text/plain": "<Figure size 864x432 with 1 Axes>",
      "image/png": "[encoded data removed]"
     },
     "metadata": {
      "needs_background": "light"
     },
     "output_type": "display_data"
    },
    {
     "name": "stdout",
     "output_type": "stream",
     "text": [
      "Total Pits: 2, no.2 pit, p value=1.6127403046234223e-06\n"
     ]
    },
    {
     "data": {
      "text/plain": "<Figure size 864x432 with 1 Axes>",
      "image/png": "[encoded data removed]"
     },
     "metadata": {
      "needs_background": "light"
     },
     "output_type": "display_data"
    },
    {
     "name": "stdout",
     "output_type": "stream",
     "text": [
      "Total Pits: 3, no.1 pit, p value=0.012617489999057973\n"
     ]
    },
    {
     "data": {
      "text/plain": "<Figure size 864x432 with 1 Axes>",
      "image/png": "[encoded data removed]"
     },
     "metadata": {
      "needs_background": "light"
     },
     "output_type": "display_data"
    },
    {
     "name": "stdout",
     "output_type": "stream",
     "text": [
      "Total Pits: 3, no.2 pit, p value=0.2617396560815619\n"
     ]
    },
    {
     "data": {
      "text/plain": "<Figure size 864x432 with 1 Axes>",
      "image/png": "[encoded data removed]"
     },
     "metadata": {
      "needs_background": "light"
     },
     "output_type": "display_data"
    },
    {
     "name": "stdout",
     "output_type": "stream",
     "text": [
      "Total Pits: 3, no.3 pit, p value=0.1653740228092856\n"
     ]
    },
    {
     "data": {
      "text/plain": "<Figure size 864x432 with 1 Axes>",
      "image/png": "[encoded data removed]"
     },
     "metadata": {
      "needs_background": "light"
     },
     "output_type": "display_data"
    }
   ],
   "source": [
    "df_front, df_back = df_to_list(merge_df, select_col='abs_err')\n",
    "comparison_plot(df_front,df_back, select_col='abs_err', divide=False, non_para=True)"
   ],
   "metadata": {
    "collapsed": false,
    "pycharm": {
     "name": "#%%\n"
    }
   }
  },
  {
   "cell_type": "code",
   "execution_count": 29,
   "outputs": [],
   "source": [
    "df_front, df_back = get_err_mean(merge_df)"
   ],
   "metadata": {
    "collapsed": false,
    "pycharm": {
     "name": "#%%\n"
    }
   }
  },
  {
   "cell_type": "code",
   "execution_count": 30,
   "outputs": [
    {
     "name": "stdout",
     "output_type": "stream",
     "text": [
      "Mann-Whitney U rank test p value=7.145989150204431e-09\n"
     ]
    },
    {
     "data": {
      "text/plain": "<Figure size 864x432 with 1 Axes>",
      "image/png": "[encoded data removed]"
     },
     "metadata": {
      "needs_background": "light"
     },
     "output_type": "display_data"
    }
   ],
   "source": [
    "err_mean_plot(df_front,df_back, save_fig=True)"
   ],
   "metadata": {
    "collapsed": false,
    "pycharm": {
     "name": "#%%\n"
    }
   }
  },
  {
   "cell_type": "code",
   "execution_count": null,
   "outputs": [],
   "source": [],
   "metadata": {
    "collapsed": false,
    "pycharm": {
     "name": "#%%\n"
    }
   }
  }
 ],
 "metadata": {
  "kernelspec": {
   "display_name": "Python 3",
   "language": "python",
   "name": "python3"
  },
  "language_info": {
   "codemirror_mode": {
    "name": "ipython",
    "version": 2
   },
   "file_extension": ".py",
   "mimetype": "text/x-python",
   "name": "python",
   "nbconvert_exporter": "python",
   "pygments_lexer": "ipython2",
   "version": "2.7.6"
  }
 },
 "nbformat": 4,
 "nbformat_minor": 0
}
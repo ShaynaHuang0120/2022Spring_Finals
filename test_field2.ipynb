{
 "cells": [
  {
   "cell_type": "markdown",
   "source": [
    "# Test Field"
   ],
   "metadata": {
    "collapsed": false,
    "pycharm": {
     "name": "#%% md\n"
    }
   }
  },
  {
   "cell_type": "code",
   "execution_count": 1,
   "metadata": {
    "collapsed": true
   },
   "outputs": [],
   "source": [
    "import datetime\n",
    "import re\n",
    "from typing import List\n",
    "\n",
    "import pandas as pd\n",
    "import numpy as np\n",
    "import matplotlib.pyplot as plt\n",
    "\n",
    "from scipy.stats import ttest_ind\n",
    "from scipy.stats import mannwhitneyu\n",
    "from sklearn.utils import resample"
   ]
  },
  {
   "cell_type": "code",
   "execution_count": 2,
   "outputs": [
    {
     "data": {
      "text/plain": "<module 'final_func' from '/Users/andrewmo/Documents/Docs - Jupiter/Projects/Class Individuals/2022Spring_Finals/final_func.py'>"
     },
     "execution_count": 2,
     "metadata": {},
     "output_type": "execute_result"
    }
   ],
   "source": [
    "import final_func as fn\n",
    "import importlib\n",
    "importlib.reload(fn)"
   ],
   "metadata": {
    "collapsed": false,
    "pycharm": {
     "name": "#%%\n"
    }
   }
  },
  {
   "cell_type": "code",
   "execution_count": 3,
   "outputs": [],
   "source": [
    "# Load data\n",
    "pit = pd.read_csv('data/pit_stops.csv')\n",
    "results = pd.read_csv('data/results.csv')\n",
    "status = pd.read_csv('data/status.csv')"
   ],
   "metadata": {
    "collapsed": false,
    "pycharm": {
     "name": "#%%\n"
    }
   }
  },
  {
   "cell_type": "code",
   "execution_count": 4,
   "outputs": [],
   "source": [
    "# Process the data files\n",
    "merge_df = fn.merge_data([pit, results, status])\n",
    "merge_df = fn.process_data(merge_df)\n",
    "df_dict = fn.pit_stop_group(merge_df)"
   ],
   "metadata": {
    "collapsed": false,
    "pycharm": {
     "name": "#%%\n"
    }
   }
  },
  {
   "cell_type": "code",
   "execution_count": 5,
   "outputs": [],
   "source": [
    "def pit_stop_group(df: pd.DataFrame) -> dict:\n",
    "    \"\"\"\n",
    "    group the records by the total number of pit stops of each racing record\n",
    "    :param df: the merged and processed dataframe\n",
    "    :return: a dictionary with total pit numbers as keys and dataframe of records as values\n",
    "    \"\"\"\n",
    "    max_num = df['total_stops'].max()\n",
    "    _df_dict = {}\n",
    "    for i in range(1, max_num + 1):\n",
    "        _df_dict[i] = df[df['total_stops'] == i][['stop', 'positionOrder', 'lap_prop']]\n",
    "    return _df_dict"
   ],
   "metadata": {
    "collapsed": false,
    "pycharm": {
     "name": "#%%\n"
    }
   }
  },
  {
   "cell_type": "code",
   "execution_count": 6,
   "outputs": [
    {
     "data": {
      "text/plain": "      raceId  driverId  stop  lap    time_1 duration  milliseconds_1  \\\n0        841       153     1    1  17:05:23   26.898           26898   \n1        841       153     2   17  17:31:06   24.463           24463   \n2        841       153     3   35  17:59:45   26.348           26348   \n3        841        17     1   11  17:20:48   23.426           23426   \n4        841        17     2   26  17:44:29   22.520           22520   \n...      ...       ...   ...  ...       ...      ...             ...   \n7913    1076       847     1   23  15:38:51   18.479           18479   \n7914    1076         4     1   39  16:05:24   18.796           18796   \n7915    1076         4     2   53  16:25:28   18.394           18394   \n7916    1076       825     1   39  16:05:30   19.111           19111   \n7917    1076       848     1   57  16:30:33   19.845           19845   \n\n      resultId  constructorId number  ...  rank fastestLapTime  \\\n0        20789              5     19  ...    10       1:30.467   \n1        20789              5     19  ...    10       1:30.467   \n2        20789              5     19  ...    10       1:30.467   \n3        20783              9      2  ...     3       1:29.600   \n4        20783              9      2  ...     3       1:29.600   \n...        ...            ...    ...  ...   ...            ...   \n7913     25448            131     63  ...     4       1:21.495   \n7914     25462            214     14  ...     2       1:20.846   \n7915     25462            214     14  ...     2       1:20.846   \n7916     25459            210     20  ...    15       1:23.071   \n7917     25455              3     23  ...    12       1:22.589   \n\n     fastestLapSpeed  statusId    status  total_laps total_stops  lap_prop  \\\n0            211.025        11    +1 Lap          58           3  0.017241   \n1            211.025        11    +1 Lap          58           3  0.293103   \n2            211.025        11    +1 Lap          58           3  0.603448   \n3            213.066         1  Finished          58           3  0.189655   \n4            213.066         1  Finished          58           3  0.448276   \n...              ...       ...       ...         ...         ...       ...   \n7913         233.152         1  Finished          58           1  0.396552   \n7914         235.024        11    +1 Lap          58           2  0.672414   \n7915         235.024        11    +1 Lap          58           2  0.913793   \n7916         228.729        11    +1 Lap          58           1  0.672414   \n7917         230.064         1  Finished          58           1  0.982759   \n\n     abs_deviation abs_deviation_mean  \n0         0.232759           0.195402  \n1         0.206897           0.195402  \n2         0.146552           0.195402  \n3         0.060345           0.051724  \n4         0.051724           0.051724  \n...            ...                ...  \n7913      0.103448           0.103448  \n7914      0.339080           0.293103  \n7915      0.247126           0.293103  \n7916      0.172414           0.172414  \n7917      0.482759           0.482759  \n\n[7918 rows x 29 columns]",
      "text/html": "<div>\n<style scoped>\n    .dataframe tbody tr th:only-of-type {\n        vertical-align: middle;\n    }\n\n    .dataframe tbody tr th {\n        vertical-align: top;\n    }\n\n    .dataframe thead th {\n        text-align: right;\n    }\n</style>\n<table border=\"1\" class=\"dataframe\">\n  <thead>\n    <tr style=\"text-align: right;\">\n      <th></th>\n      <th>raceId</th>\n      <th>driverId</th>\n      <th>stop</th>\n      <th>lap</th>\n      <th>time_1</th>\n      <th>duration</th>\n      <th>milliseconds_1</th>\n      <th>resultId</th>\n      <th>constructorId</th>\n      <th>number</th>\n      <th>...</th>\n      <th>rank</th>\n      <th>fastestLapTime</th>\n      <th>fastestLapSpeed</th>\n      <th>statusId</th>\n      <th>status</th>\n      <th>total_laps</th>\n      <th>total_stops</th>\n      <th>lap_prop</th>\n      <th>abs_deviation</th>\n      <th>abs_deviation_mean</th>\n    </tr>\n  </thead>\n  <tbody>\n    <tr>\n      <th>0</th>\n      <td>841</td>\n      <td>153</td>\n      <td>1</td>\n      <td>1</td>\n      <td>17:05:23</td>\n      <td>26.898</td>\n      <td>26898</td>\n      <td>20789</td>\n      <td>5</td>\n      <td>19</td>\n      <td>...</td>\n      <td>10</td>\n      <td>1:30.467</td>\n      <td>211.025</td>\n      <td>11</td>\n      <td>+1 Lap</td>\n      <td>58</td>\n      <td>3</td>\n      <td>0.017241</td>\n      <td>0.232759</td>\n      <td>0.195402</td>\n    </tr>\n    <tr>\n      <th>1</th>\n      <td>841</td>\n      <td>153</td>\n      <td>2</td>\n      <td>17</td>\n      <td>17:31:06</td>\n      <td>24.463</td>\n      <td>24463</td>\n      <td>20789</td>\n      <td>5</td>\n      <td>19</td>\n      <td>...</td>\n      <td>10</td>\n      <td>1:30.467</td>\n      <td>211.025</td>\n      <td>11</td>\n      <td>+1 Lap</td>\n      <td>58</td>\n      <td>3</td>\n      <td>0.293103</td>\n      <td>0.206897</td>\n      <td>0.195402</td>\n    </tr>\n    <tr>\n      <th>2</th>\n      <td>841</td>\n      <td>153</td>\n      <td>3</td>\n      <td>35</td>\n      <td>17:59:45</td>\n      <td>26.348</td>\n      <td>26348</td>\n      <td>20789</td>\n      <td>5</td>\n      <td>19</td>\n      <td>...</td>\n      <td>10</td>\n      <td>1:30.467</td>\n      <td>211.025</td>\n      <td>11</td>\n      <td>+1 Lap</td>\n      <td>58</td>\n      <td>3</td>\n      <td>0.603448</td>\n      <td>0.146552</td>\n      <td>0.195402</td>\n    </tr>\n    <tr>\n      <th>3</th>\n      <td>841</td>\n      <td>17</td>\n      <td>1</td>\n      <td>11</td>\n      <td>17:20:48</td>\n      <td>23.426</td>\n      <td>23426</td>\n      <td>20783</td>\n      <td>9</td>\n      <td>2</td>\n      <td>...</td>\n      <td>3</td>\n      <td>1:29.600</td>\n      <td>213.066</td>\n      <td>1</td>\n      <td>Finished</td>\n      <td>58</td>\n      <td>3</td>\n      <td>0.189655</td>\n      <td>0.060345</td>\n      <td>0.051724</td>\n    </tr>\n    <tr>\n      <th>4</th>\n      <td>841</td>\n      <td>17</td>\n      <td>2</td>\n      <td>26</td>\n      <td>17:44:29</td>\n      <td>22.520</td>\n      <td>22520</td>\n      <td>20783</td>\n      <td>9</td>\n      <td>2</td>\n      <td>...</td>\n      <td>3</td>\n      <td>1:29.600</td>\n      <td>213.066</td>\n      <td>1</td>\n      <td>Finished</td>\n      <td>58</td>\n      <td>3</td>\n      <td>0.448276</td>\n      <td>0.051724</td>\n      <td>0.051724</td>\n    </tr>\n    <tr>\n      <th>...</th>\n      <td>...</td>\n      <td>...</td>\n      <td>...</td>\n      <td>...</td>\n      <td>...</td>\n      <td>...</td>\n      <td>...</td>\n      <td>...</td>\n      <td>...</td>\n      <td>...</td>\n      <td>...</td>\n      <td>...</td>\n      <td>...</td>\n      <td>...</td>\n      <td>...</td>\n      <td>...</td>\n      <td>...</td>\n      <td>...</td>\n      <td>...</td>\n      <td>...</td>\n      <td>...</td>\n    </tr>\n    <tr>\n      <th>7913</th>\n      <td>1076</td>\n      <td>847</td>\n      <td>1</td>\n      <td>23</td>\n      <td>15:38:51</td>\n      <td>18.479</td>\n      <td>18479</td>\n      <td>25448</td>\n      <td>131</td>\n      <td>63</td>\n      <td>...</td>\n      <td>4</td>\n      <td>1:21.495</td>\n      <td>233.152</td>\n      <td>1</td>\n      <td>Finished</td>\n      <td>58</td>\n      <td>1</td>\n      <td>0.396552</td>\n      <td>0.103448</td>\n      <td>0.103448</td>\n    </tr>\n    <tr>\n      <th>7914</th>\n      <td>1076</td>\n      <td>4</td>\n      <td>1</td>\n      <td>39</td>\n      <td>16:05:24</td>\n      <td>18.796</td>\n      <td>18796</td>\n      <td>25462</td>\n      <td>214</td>\n      <td>14</td>\n      <td>...</td>\n      <td>2</td>\n      <td>1:20.846</td>\n      <td>235.024</td>\n      <td>11</td>\n      <td>+1 Lap</td>\n      <td>58</td>\n      <td>2</td>\n      <td>0.672414</td>\n      <td>0.339080</td>\n      <td>0.293103</td>\n    </tr>\n    <tr>\n      <th>7915</th>\n      <td>1076</td>\n      <td>4</td>\n      <td>2</td>\n      <td>53</td>\n      <td>16:25:28</td>\n      <td>18.394</td>\n      <td>18394</td>\n      <td>25462</td>\n      <td>214</td>\n      <td>14</td>\n      <td>...</td>\n      <td>2</td>\n      <td>1:20.846</td>\n      <td>235.024</td>\n      <td>11</td>\n      <td>+1 Lap</td>\n      <td>58</td>\n      <td>2</td>\n      <td>0.913793</td>\n      <td>0.247126</td>\n      <td>0.293103</td>\n    </tr>\n    <tr>\n      <th>7916</th>\n      <td>1076</td>\n      <td>825</td>\n      <td>1</td>\n      <td>39</td>\n      <td>16:05:30</td>\n      <td>19.111</td>\n      <td>19111</td>\n      <td>25459</td>\n      <td>210</td>\n      <td>20</td>\n      <td>...</td>\n      <td>15</td>\n      <td>1:23.071</td>\n      <td>228.729</td>\n      <td>11</td>\n      <td>+1 Lap</td>\n      <td>58</td>\n      <td>1</td>\n      <td>0.672414</td>\n      <td>0.172414</td>\n      <td>0.172414</td>\n    </tr>\n    <tr>\n      <th>7917</th>\n      <td>1076</td>\n      <td>848</td>\n      <td>1</td>\n      <td>57</td>\n      <td>16:30:33</td>\n      <td>19.845</td>\n      <td>19845</td>\n      <td>25455</td>\n      <td>3</td>\n      <td>23</td>\n      <td>...</td>\n      <td>12</td>\n      <td>1:22.589</td>\n      <td>230.064</td>\n      <td>1</td>\n      <td>Finished</td>\n      <td>58</td>\n      <td>1</td>\n      <td>0.982759</td>\n      <td>0.482759</td>\n      <td>0.482759</td>\n    </tr>\n  </tbody>\n</table>\n<p>7918 rows × 29 columns</p>\n</div>"
     },
     "execution_count": 6,
     "metadata": {},
     "output_type": "execute_result"
    }
   ],
   "source": [
    "merge_df"
   ],
   "metadata": {
    "collapsed": false,
    "pycharm": {
     "name": "#%%\n"
    }
   }
  },
  {
   "cell_type": "code",
   "execution_count": null,
   "outputs": [],
   "source": [],
   "metadata": {
    "collapsed": false,
    "pycharm": {
     "name": "#%%\n"
    }
   }
  }
 ],
 "metadata": {
  "kernelspec": {
   "display_name": "Python 3",
   "language": "python",
   "name": "python3"
  },
  "language_info": {
   "codemirror_mode": {
    "name": "ipython",
    "version": 2
   },
   "file_extension": ".py",
   "mimetype": "text/x-python",
   "name": "python",
   "nbconvert_exporter": "python",
   "pygments_lexer": "ipython2",
   "version": "2.7.6"
  }
 },
 "nbformat": 4,
 "nbformat_minor": 0
}
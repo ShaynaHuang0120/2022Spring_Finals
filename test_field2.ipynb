{
 "cells": [
  {
   "cell_type": "markdown",
   "source": [
    "# Test Field"
   ],
   "metadata": {
    "collapsed": false,
    "pycharm": {
     "name": "#%% md\n"
    }
   }
  },
  {
   "cell_type": "code",
   "execution_count": 27,
   "metadata": {
    "collapsed": true
   },
   "outputs": [],
   "source": [
    "import datetime\n",
    "import re\n",
    "from typing import List\n",
    "\n",
    "import pandas as pd\n",
    "import numpy as np\n",
    "import matplotlib.pyplot as plt\n",
    "\n",
    "from scipy.stats import ttest_ind\n",
    "from scipy.stats import mannwhitneyu\n",
    "from sklearn.utils import resample"
   ]
  },
  {
   "cell_type": "code",
   "execution_count": 28,
   "outputs": [
    {
     "data": {
      "text/plain": "<module 'final_func' from '/Users/andrewmo/Documents/Docs - Jupiter/Projects/Class Individuals/2022Spring_Finals/final_func.py'>"
     },
     "execution_count": 28,
     "metadata": {},
     "output_type": "execute_result"
    }
   ],
   "source": [
    "import final_func as fn\n",
    "import importlib\n",
    "importlib.reload(fn)"
   ],
   "metadata": {
    "collapsed": false,
    "pycharm": {
     "name": "#%%\n"
    }
   }
  },
  {
   "cell_type": "code",
   "execution_count": null,
   "outputs": [],
   "source": [
    "def pit_stop_group(df: pd.DataFrame) -> dict:\n",
    "    \"\"\"\n",
    "    group the records by the total number of pit stops of each racing record\n",
    "    :param df: the merged and processed dataframe\n",
    "    :return: a dictionary with total pit numbers as keys and dataframe of records as values\n",
    "    \"\"\"\n",
    "    max_num = df['total_stops'].max()\n",
    "    _df_dict = {}\n",
    "    for i in range(1, max_num + 1):\n",
    "        _df_dict[i] = df[df['total_stops'] == i][['stop', 'positionOrder', 'lap_prop']]\n",
    "    return _df_dict"
   ],
   "metadata": {
    "collapsed": false,
    "pycharm": {
     "name": "#%%\n"
    }
   }
  },
  {
   "cell_type": "code",
   "execution_count": null,
   "outputs": [],
   "source": [
    "def pit_stop_group_by_driver(df: pd.DataFrame) -> pd.DataFrame:\n",
    "    pitstop_df = df[[\"raceId\", \"driverId\",'positionOrder', \"total_stops\"]]\n",
    "    pitstop_groupby = pitstop_df.groupby([\"raceId\",\"driverId\",'positionOrder'], as_index=False)[\"total_stops\"].count()\n",
    "    pitstop_groupby[\"positionOrder\"] = pitstop_groupby[\"positionOrder\"].astype(int)\n",
    "    pitstop_groupby.sort_values(by=[\"raceId\", 'driverId'], inplace=True)\n",
    "    # print(pitstop_groupby)\n",
    "    return (pitstop_groupby)"
   ],
   "metadata": {
    "collapsed": false,
    "pycharm": {
     "name": "#%%\n"
    }
   }
  },
  {
   "cell_type": "code",
   "execution_count": 30,
   "outputs": [],
   "source": [
    "# Load data\n",
    "pit = pd.read_csv('data/pit_stops.csv')\n",
    "results = pd.read_csv('data/results.csv')\n",
    "status = pd.read_csv('data/status.csv')"
   ],
   "metadata": {
    "collapsed": false,
    "pycharm": {
     "name": "#%%\n"
    }
   }
  },
  {
   "cell_type": "code",
   "execution_count": 31,
   "outputs": [],
   "source": [
    "# Process the data files\n",
    "merge_df = fn.merge_data([pit, results, status])\n",
    "merge_df = fn.process_data(merge_df)\n"
   ],
   "metadata": {
    "collapsed": false,
    "pycharm": {
     "name": "#%%\n"
    }
   }
  },
  {
   "cell_type": "code",
   "execution_count": 31,
   "outputs": [],
   "source": [],
   "metadata": {
    "collapsed": false,
    "pycharm": {
     "name": "#%%\n"
    }
   }
  }
 ],
 "metadata": {
  "kernelspec": {
   "display_name": "Python 3",
   "language": "python",
   "name": "python3"
  },
  "language_info": {
   "codemirror_mode": {
    "name": "ipython",
    "version": 2
   },
   "file_extension": ".py",
   "mimetype": "text/x-python",
   "name": "python",
   "nbconvert_exporter": "python",
   "pygments_lexer": "ipython2",
   "version": "2.7.6"
  }
 },
 "nbformat": 4,
 "nbformat_minor": 0
}
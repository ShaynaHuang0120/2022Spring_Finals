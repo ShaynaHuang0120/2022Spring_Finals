{
 "cells": [
  {
   "cell_type": "markdown",
   "source": [
    "# Test Field"
   ],
   "metadata": {
    "collapsed": false,
    "pycharm": {
     "name": "#%% md\n"
    }
   }
  },
  {
   "cell_type": "code",
   "execution_count": 82,
   "metadata": {
    "collapsed": true
   },
   "outputs": [],
   "source": [
    "import datetime\n",
    "import re\n",
    "from typing import List\n",
    "\n",
    "import pandas as pd\n",
    "import numpy as np\n",
    "import matplotlib.pyplot as plt\n",
    "\n",
    "from scipy.stats import ttest_1samp\n",
    "from scipy.stats import ttest_ind\n",
    "from scipy.stats import mannwhitneyu\n",
    "from scipy.stats import wilcoxon\n",
    "\n",
    "from sklearn.utils import resample\n",
    "\n",
    "import final_func as fn"
   ]
  },
  {
   "cell_type": "code",
   "execution_count": 83,
   "outputs": [
    {
     "data": {
      "text/plain": "<module 'final_func' from '/Users/andrewmo/Documents/Docs - Jupiter/Projects/Class Individuals/2022Spring_Finals/final_func.py'>"
     },
     "execution_count": 83,
     "metadata": {},
     "output_type": "execute_result"
    }
   ],
   "source": [
    "import importlib\n",
    "importlib.reload(fn)"
   ],
   "metadata": {
    "collapsed": false,
    "pycharm": {
     "name": "#%%\n"
    }
   }
  },
  {
   "cell_type": "code",
   "execution_count": 48,
   "outputs": [],
   "source": [
    "%load_ext Cython"
   ],
   "metadata": {
    "collapsed": false,
    "pycharm": {
     "name": "#%%\n"
    }
   }
  },
  {
   "cell_type": "code",
   "execution_count": 49,
   "outputs": [],
   "source": [
    "def process_data(mg_df: pd.DataFrame, normal_status=True, totals=True, deviation=True, cython=True) -> pd.DataFrame:\n",
    "    # 1. filtering normal status\n",
    "    if normal_status:\n",
    "        _status_select = [1, 11, 12, 13, 14, 15, 16, 17, 18, 19]\n",
    "        mg_df.drop(mg_df[~mg_df['statusId'].isin(_status_select)].index, inplace=True)\n",
    "    # 2&3. add total laps & total pit stops for each record\n",
    "    if totals:\n",
    "        _total_laps = mg_df[(mg_df['positionOrder'] == 1) & (mg_df['stop'] == 1)].reset_index(drop=True)[\n",
    "            ['raceId', 'laps']]\n",
    "        _total_laps.columns = [str(_total_laps.columns[0]), 'total_laps']\n",
    "        _total_stops = mg_df.groupby(by=['raceId', 'driverId'], as_index=False)['stop'].max()\n",
    "        _total_stops.columns = list(_total_stops.columns[:2]) + ['total_stops']\n",
    "        mg_df = pd.merge(mg_df, _total_laps, on='raceId')\n",
    "        mg_df = pd.merge(mg_df, _total_stops, on=['raceId', 'driverId'])\n",
    "        # 4. calculate the proportion of lap when the driver pit for each pit record\n",
    "        mg_df['lap_prop'] = mg_df.apply(lambda x: x['lap'] / x['total_laps'], axis=1)\n",
    "        if deviation:\n",
    "            # 5. calculate how far the lap proportion deviates from the ideal even distribution for each pit record\n",
    "            if cython:\n",
    "                mg_df['abs_deviation'] = mg_df.apply(lambda x: abs_deviation_cal(x['stop'], x['total_stops'], x['lap_prop']), axis=1)\n",
    "            else:\n",
    "                mg_df['abs_deviation'] = mg_df.apply(lambda x: abs(x['stop'] / (x['total_stops'] + 1) - x['lap_prop']),\n",
    "                                                 axis=1)\n",
    "            # 6. deviation mean, grouped by each driver in each race\n",
    "            avg_deviation = pd.DataFrame(mg_df.groupby(['raceId', 'driverId'])['abs_deviation'].mean())\n",
    "            avg_deviation = avg_deviation.add_suffix('_mean').reset_index()\n",
    "            mg_df = pd.merge(mg_df, avg_deviation, on=['raceId', 'driverId'])\n",
    "    return mg_df"
   ],
   "metadata": {
    "collapsed": false,
    "pycharm": {
     "name": "#%%\n"
    }
   }
  },
  {
   "cell_type": "code",
   "execution_count": 84,
   "outputs": [],
   "source": [
    "# Load data\n",
    "pit = pd.read_csv('data/pit_stops.csv')\n",
    "results = pd.read_csv('data/results.csv')\n",
    "status = pd.read_csv('data/status.csv')"
   ],
   "metadata": {
    "collapsed": false,
    "pycharm": {
     "name": "#%%\n"
    }
   }
  },
  {
   "cell_type": "code",
   "execution_count": 64,
   "outputs": [],
   "source": [
    "# Process the data files\n",
    "merge_df = fn.merge_data([pit, results, status])"
   ],
   "metadata": {
    "collapsed": false,
    "pycharm": {
     "name": "#%%\n"
    }
   }
  },
  {
   "cell_type": "code",
   "execution_count": 65,
   "outputs": [],
   "source": [
    "%%cython\n",
    "def abs_deviation_cal(_stop, _total, _lap_prop):\n",
    "    cdef\n",
    "    abs_dev = abs(_stop / (_total + 1) - _lap_prop)\n",
    "    return abs_dev"
   ],
   "metadata": {
    "collapsed": false,
    "pycharm": {
     "name": "#%%\n"
    }
   }
  },
  {
   "cell_type": "code",
   "execution_count": 68,
   "outputs": [],
   "source": [
    "def process_data_C(mg_df: pd.DataFrame, normal_status=True, totals=True, deviation=True) -> pd.DataFrame:\n",
    "    # 1. filtering normal status\n",
    "    if normal_status:\n",
    "        _status_select = [1, 11, 12, 13, 14, 15, 16, 17, 18, 19]\n",
    "        mg_df.drop(mg_df[~mg_df['statusId'].isin(_status_select)].index, inplace=True)\n",
    "    # 2&3. add total laps & total pit stops for each record\n",
    "    if totals:\n",
    "        _total_laps = mg_df[(mg_df['positionOrder'] == 1) & (mg_df['stop'] == 1)].reset_index(drop=True)[\n",
    "            ['raceId', 'laps']]\n",
    "        _total_laps.columns = [str(_total_laps.columns[0]), 'total_laps']\n",
    "        _total_stops = mg_df.groupby(by=['raceId', 'driverId'], as_index=False)['stop'].max()\n",
    "        _total_stops.columns = list(_total_stops.columns[:2]) + ['total_stops']\n",
    "        mg_df = pd.merge(mg_df, _total_laps, on='raceId')\n",
    "        mg_df = pd.merge(mg_df, _total_stops, on=['raceId', 'driverId'])\n",
    "        # 4. calculate the proportion of lap when the driver pit for each pit record\n",
    "        mg_df['lap_prop'] = mg_df.apply(lambda x: x['lap'] / x['total_laps'], axis=1)\n",
    "        if deviation:\n",
    "            # 5. calculate how far the lap proportion deviates from the ideal even distribution for each pit record\n",
    "            mg_df['abs_deviation'] = mg_df.apply(lambda x: abs_deviation_cal(x['stop'], x['total_stops'], x['lap_prop']), axis=1)\n",
    "            # 6. deviation mean, grouped by each driver in each race\n",
    "            avg_deviation = pd.DataFrame(mg_df.groupby(['raceId', 'driverId'])['abs_deviation'].mean())\n",
    "            avg_deviation = avg_deviation.add_suffix('_mean').reset_index()\n",
    "            mg_df = pd.merge(mg_df, avg_deviation, on=['raceId', 'driverId'])\n",
    "    return mg_df"
   ],
   "metadata": {
    "collapsed": false,
    "pycharm": {
     "name": "#%%\n"
    }
   }
  },
  {
   "cell_type": "code",
   "execution_count": 79,
   "outputs": [
    {
     "name": "stdout",
     "output_type": "stream",
     "text": [
      "202 ms ± 9.83 ms per loop (mean ± std. dev. of 50 runs, 20 loops each)\n"
     ]
    }
   ],
   "source": [
    "%timeit -r 50 -n 20 process_data(merge_df)"
   ],
   "metadata": {
    "collapsed": false,
    "pycharm": {
     "name": "#%%\n"
    }
   }
  },
  {
   "cell_type": "code",
   "execution_count": 80,
   "outputs": [
    {
     "name": "stdout",
     "output_type": "stream",
     "text": [
      "199 ms ± 15.5 ms per loop (mean ± std. dev. of 50 runs, 20 loops each)\n"
     ]
    }
   ],
   "source": [
    "%timeit -r 50 -n 20 process_data_C(merge_df)"
   ],
   "metadata": {
    "collapsed": false,
    "pycharm": {
     "name": "#%%\n"
    }
   }
  },
  {
   "cell_type": "code",
   "execution_count": 85,
   "outputs": [],
   "source": [
    "# Process the data files\n",
    "merge_df = fn.merge_data([pit, results, status])\n",
    "merge_df = fn.process_data(merge_df)\n",
    "df_dict = fn.pit_stop_group(merge_df)"
   ],
   "metadata": {
    "collapsed": false,
    "pycharm": {
     "name": "#%%\n"
    }
   }
  },
  {
   "cell_type": "code",
   "execution_count": 89,
   "outputs": [
    {
     "name": "stdout",
     "output_type": "stream",
     "text": [
      "Total Pit Stops:  1\n",
      "No.  1  pit stop:  mean =  0.416  std =  0.147\n",
      "    66.9% within mean ± 1 std\n",
      "    95.7% within mean ± 2 std\n",
      "     One sample Test, mu=0.5\n",
      "WilcoxonResult(statistic=138257.0, pvalue=3.796253145662607e-68)\n",
      "Total Pit Stops:  2\n",
      "No.  1  pit stop:  mean =  0.252  std =  0.118\n",
      "    71.7% within mean ± 1 std\n",
      "    95.8% within mean ± 2 std\n",
      "     One sample Test, mu=0.333\n",
      "WilcoxonResult(statistic=173128.5, pvalue=3.861338109743407e-119)\n",
      "No.  2  pit stop:  mean =  0.62  std =  0.134\n",
      "    72.9% within mean ± 1 std\n",
      "    93.1% within mean ± 2 std\n",
      "     One sample Test, mu=0.667\n",
      "WilcoxonResult(statistic=336365.0, pvalue=1.8738849390663688e-42)\n",
      "Total Pit Stops:  3\n",
      "No.  1  pit stop:  mean =  0.174  std =  0.098\n",
      "    66.6% within mean ± 1 std\n",
      "    97.5% within mean ± 2 std\n",
      "     One sample Test, mu=0.25\n",
      "WilcoxonResult(statistic=39831.5, pvalue=2.942177141115048e-72)\n",
      "No.  2  pit stop:  mean =  0.427  std =  0.155\n",
      "    74.4% within mean ± 1 std\n",
      "    92.6% within mean ± 2 std\n",
      "     One sample Test, mu=0.5\n",
      "WilcoxonResult(statistic=66534.5, pvalue=2.0307704627117922e-41)\n",
      "No.  3  pit stop:  mean =  0.698  std =  0.13\n",
      "    74.9% within mean ± 1 std\n",
      "    93.9% within mean ± 2 std\n",
      "     One sample Test, mu=0.75\n",
      "WilcoxonResult(statistic=86218.0, pvalue=2.5034219262255067e-27)\n"
     ]
    }
   ],
   "source": [
    "_df_dict =df_dict\n",
    "\n",
    "max_num_of_stops = 3  # consider only total pit stops = 1,2,3\n",
    "for ps_num in range(1, max_num_of_stops + 1):\n",
    "    _df_tmp = _df_dict[ps_num]  # get dataframe of total pit stop = ps_num\n",
    "    # _df_list: [<df: no.1 pit stop out of ps_num>, <df: no.2 pit stop out of ps_num>, ...]\n",
    "    _df_list = [_df_tmp[_df_tmp['stop'] == i]['lap_prop'] for i in range(1, ps_num + 1)]\n",
    "\n",
    "    print('Total Pit Stops: ', ps_num)\n",
    "    plot_count = 0\n",
    "\n",
    "    for df in _df_list:\n",
    "        # mean, std calculation\n",
    "        df_mean = round(df.mean(), ndigits=3)\n",
    "        df_std = round(df.std(), ndigits=3)\n",
    "        # show mean line (x = mean)\n",
    "        # even dividing point:\n",
    "        even_divide = (plot_count + 1) / (ps_num + 1)\n",
    "        plot_count += 1\n",
    "        # show distribution description\n",
    "        if True:\n",
    "            print('No. ', plot_count, ' pit stop: ', 'mean = ', df_mean, ' std = ', df_std)\n",
    "            perc_1 = len(df[(df <= df_mean + df_std) & (df >= df_mean - df_std)]) / len(df)\n",
    "            perc_2 = len(df[(df <= df_mean + 2 * df_std) & (df >= df_mean - 2 * df_std)]) / len(df)\n",
    "            perc_1 = round(100 * perc_1, ndigits=1)\n",
    "            perc_2 = round(100 * perc_2, ndigits=1)\n",
    "            print(f'    {perc_1}% within mean ± 1 std')\n",
    "            print(f'    {perc_2}% within mean ± 2 std')\n",
    "            t_test = wilcoxon(df-even_divide)\n",
    "            print(f'     One sample Test, mu={round(even_divide, ndigits=3)}')\n",
    "            print(t_test)"
   ],
   "metadata": {
    "collapsed": false,
    "pycharm": {
     "name": "#%%\n"
    }
   }
  },
  {
   "cell_type": "code",
   "execution_count": null,
   "outputs": [],
   "source": [],
   "metadata": {
    "collapsed": false,
    "pycharm": {
     "name": "#%%\n"
    }
   }
  }
 ],
 "metadata": {
  "kernelspec": {
   "display_name": "Python 3",
   "language": "python",
   "name": "python3"
  },
  "language_info": {
   "codemirror_mode": {
    "name": "ipython",
    "version": 2
   },
   "file_extension": ".py",
   "mimetype": "text/x-python",
   "name": "python",
   "nbconvert_exporter": "python",
   "pygments_lexer": "ipython2",
   "version": "2.7.6"
  }
 },
 "nbformat": 4,
 "nbformat_minor": 0
}
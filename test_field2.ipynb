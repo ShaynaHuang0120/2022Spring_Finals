{
 "cells": [
  {
   "cell_type": "markdown",
   "source": [
    "# Test Field"
   ],
   "metadata": {
    "collapsed": false,
    "pycharm": {
     "name": "#%% md\n"
    }
   }
  },
  {
   "cell_type": "code",
   "execution_count": 1,
   "metadata": {
    "collapsed": true
   },
   "outputs": [],
   "source": [
    "import re\n",
    "from typing import List\n",
    "\n",
    "import pandas as pd\n",
    "import numpy as np\n",
    "import matplotlib.pyplot as plt\n",
    "\n",
    "from scipy.stats import ttest_1samp\n",
    "from scipy.stats import ttest_ind\n",
    "from scipy.stats import wilcoxon\n",
    "from scipy.stats import mannwhitneyu\n",
    "from sklearn.utils import resample\n",
    "\n",
    "from sklearn.utils import resample\n",
    "\n",
    "import final_func as fn"
   ]
  },
  {
   "cell_type": "code",
   "execution_count": 10,
   "outputs": [],
   "source": [
    "from efficiency.py_efficiency import abs_deviation_cal"
   ],
   "metadata": {
    "collapsed": false,
    "pycharm": {
     "name": "#%%\n"
    }
   }
  },
  {
   "cell_type": "code",
   "execution_count": 11,
   "outputs": [
    {
     "data": {
      "text/plain": "<module 'final_func' from '/Users/andrewmo/Documents/Docs - Jupiter/Projects/Class Individuals/2022Spring_Finals/final_func.py'>"
     },
     "execution_count": 11,
     "metadata": {},
     "output_type": "execute_result"
    }
   ],
   "source": [
    "import importlib\n",
    "importlib.reload(fn)"
   ],
   "metadata": {
    "collapsed": false,
    "pycharm": {
     "name": "#%%\n"
    }
   }
  },
  {
   "cell_type": "code",
   "execution_count": 12,
   "outputs": [],
   "source": [
    "%load_ext Cython"
   ],
   "metadata": {
    "collapsed": false,
    "pycharm": {
     "name": "#%%\n"
    }
   }
  },
  {
   "cell_type": "code",
   "execution_count": 13,
   "outputs": [],
   "source": [
    "def process_data(mg_df: pd.DataFrame, normal_status=True, totals=True, deviation=True) -> pd.DataFrame:\n",
    "    # 1. filtering normal status\n",
    "    if normal_status:\n",
    "        _status_select = [1, 11, 12, 13, 14, 15, 16, 17, 18, 19]\n",
    "        mg_df.drop(mg_df[~mg_df['statusId'].isin(_status_select)].index, inplace=True)\n",
    "    # 2&3. add total laps & total pit stops for each record\n",
    "    if totals:\n",
    "        _total_laps = mg_df[(mg_df['positionOrder'] == 1) & (mg_df['stop'] == 1)].reset_index(drop=True)[\n",
    "            ['raceId', 'laps']]\n",
    "        _total_laps.columns = [str(_total_laps.columns[0]), 'total_laps']\n",
    "        _total_stops = mg_df.groupby(by=['raceId', 'driverId'], as_index=False)['stop'].max()\n",
    "        _total_stops.columns = list(_total_stops.columns[:2]) + ['total_stops']\n",
    "        mg_df = pd.merge(mg_df, _total_laps, on='raceId')\n",
    "        mg_df = pd.merge(mg_df, _total_stops, on=['raceId', 'driverId'])\n",
    "        # 4. calculate the proportion of lap when the driver pit for each pit record\n",
    "        mg_df['lap_prop'] = mg_df.apply(lambda x: x['lap'] / x['total_laps'], axis=1)\n",
    "        if deviation:\n",
    "            # 5. calculate how far the lap proportion deviates from the ideal even distribution for each pit record\n",
    "            mg_df['abs_deviation'] = mg_df.apply(lambda x: abs(x['stop'] / (x['total_stops'] + 1) - x['lap_prop']),\n",
    "                                                 axis=1)\n",
    "            # 6. deviation mean, grouped by each driver in each race\n",
    "            avg_deviation = pd.DataFrame(mg_df.groupby(['raceId', 'driverId'])['abs_deviation'].mean())\n",
    "            avg_deviation = avg_deviation.add_suffix('_mean').reset_index()\n",
    "            mg_df = pd.merge(mg_df, avg_deviation, on=['raceId', 'driverId'])\n",
    "    return mg_df"
   ],
   "metadata": {
    "collapsed": false,
    "pycharm": {
     "name": "#%%\n"
    }
   }
  },
  {
   "cell_type": "code",
   "execution_count": 14,
   "outputs": [],
   "source": [
    "# Load data\n",
    "pit = pd.read_csv('data/pit_stops.csv')\n",
    "results = pd.read_csv('data/results.csv')\n",
    "status = pd.read_csv('data/status.csv')"
   ],
   "metadata": {
    "collapsed": false,
    "pycharm": {
     "name": "#%%\n"
    }
   }
  },
  {
   "cell_type": "code",
   "execution_count": 15,
   "outputs": [],
   "source": [
    "# Process the data files\n",
    "merge_df = fn.merge_data([pit, results, status])"
   ],
   "metadata": {
    "collapsed": false,
    "pycharm": {
     "name": "#%%\n"
    }
   }
  },
  {
   "cell_type": "code",
   "execution_count": 16,
   "outputs": [],
   "source": [
    "def process_data_C(mg_df: pd.DataFrame, normal_status=True, totals=True, deviation=True) -> pd.DataFrame:\n",
    "    # 1. filtering normal status\n",
    "    if normal_status:\n",
    "        _status_select = [1, 11, 12, 13, 14, 15, 16, 17, 18, 19]\n",
    "        mg_df.drop(mg_df[~mg_df['statusId'].isin(_status_select)].index, inplace=True)\n",
    "    # 2&3. add total laps & total pit stops for each record\n",
    "    if totals:\n",
    "        _total_laps = mg_df[(mg_df['positionOrder'] == 1) & (mg_df['stop'] == 1)].reset_index(drop=True)[\n",
    "            ['raceId', 'laps']]\n",
    "        _total_laps.columns = [str(_total_laps.columns[0]), 'total_laps']\n",
    "        _total_stops = mg_df.groupby(by=['raceId', 'driverId'], as_index=False)['stop'].max()\n",
    "        _total_stops.columns = list(_total_stops.columns[:2]) + ['total_stops']\n",
    "        mg_df = pd.merge(mg_df, _total_laps, on='raceId')\n",
    "        mg_df = pd.merge(mg_df, _total_stops, on=['raceId', 'driverId'])\n",
    "        # 4. calculate the proportion of lap when the driver pit for each pit record\n",
    "        mg_df['lap_prop'] = mg_df.apply(lambda x: x['lap'] / x['total_laps'], axis=1)\n",
    "        if deviation:\n",
    "            # 5. calculate how far the lap proportion deviates from the ideal even distribution for each pit record\n",
    "            mg_df['abs_deviation'] = mg_df.apply(lambda x: abs_deviation_cal(x['stop'], x['total_stops'], x['lap_prop']), axis=1)\n",
    "            # 6. deviation mean, grouped by each driver in each race\n",
    "            avg_deviation = pd.DataFrame(mg_df.groupby(['raceId', 'driverId'])['abs_deviation'].mean())\n",
    "            avg_deviation = avg_deviation.add_suffix('_mean').reset_index()\n",
    "            mg_df = pd.merge(mg_df, avg_deviation, on=['raceId', 'driverId'])\n",
    "    return mg_df"
   ],
   "metadata": {
    "collapsed": false,
    "pycharm": {
     "name": "#%%\n"
    }
   }
  },
  {
   "cell_type": "code",
   "execution_count": 23,
   "outputs": [
    {
     "name": "stdout",
     "output_type": "stream",
     "text": [
      "186 ms ± 16.9 ms per loop (mean ± std. dev. of 1000 runs, 1 loop each)\n"
     ]
    }
   ],
   "source": [
    "%timeit -r 100 -n 1 process_data(merge_df)"
   ],
   "metadata": {
    "collapsed": false,
    "pycharm": {
     "name": "#%%\n"
    }
   }
  },
  {
   "cell_type": "code",
   "execution_count": 24,
   "outputs": [
    {
     "name": "stdout",
     "output_type": "stream",
     "text": [
      "185 ms ± 24.6 ms per loop (mean ± std. dev. of 1000 runs, 1 loop each)\n"
     ]
    }
   ],
   "source": [
    "%timeit -r 1000 -n 1 process_data_C(merge_df)"
   ],
   "metadata": {
    "collapsed": false,
    "pycharm": {
     "name": "#%%\n"
    }
   }
  },
  {
   "cell_type": "code",
   "execution_count": null,
   "outputs": [],
   "source": [],
   "metadata": {
    "collapsed": false,
    "pycharm": {
     "name": "#%%\n"
    }
   }
  }
 ],
 "metadata": {
  "kernelspec": {
   "display_name": "Python 3",
   "language": "python",
   "name": "python3"
  },
  "language_info": {
   "codemirror_mode": {
    "name": "ipython",
    "version": 2
   },
   "file_extension": ".py",
   "mimetype": "text/x-python",
   "name": "python",
   "nbconvert_exporter": "python",
   "pygments_lexer": "ipython2",
   "version": "2.7.6"
  }
 },
 "nbformat": 4,
 "nbformat_minor": 0
}
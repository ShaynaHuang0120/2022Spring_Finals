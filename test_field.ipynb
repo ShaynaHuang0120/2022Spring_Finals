{
 "cells": [
  {
   "cell_type": "markdown",
   "source": [
    "# Test Field"
   ],
   "metadata": {
    "collapsed": false,
    "pycharm": {
     "name": "#%% md\n"
    }
   }
  },
  {
   "cell_type": "code",
   "execution_count": 24,
   "metadata": {
    "collapsed": true
   },
   "outputs": [],
   "source": [
    "import datetime\n",
    "import re\n",
    "from typing import List\n",
    "\n",
    "import pandas as pd\n",
    "import numpy as np\n",
    "import matplotlib.pyplot as plt\n",
    "\n",
    "from scipy.stats import ttest_ind\n",
    "from scipy.stats import mannwhitneyu\n",
    "from sklearn.utils import resample"
   ]
  },
  {
   "cell_type": "code",
   "execution_count": 25,
   "outputs": [
    {
     "data": {
      "text/plain": "<module 'final_func' from '/Users/andrewmo/Documents/Docs - Jupiter/Projects/Class Individuals/2022Spring_Finals/final_func.py'>"
     },
     "execution_count": 25,
     "metadata": {},
     "output_type": "execute_result"
    }
   ],
   "source": [
    "import final_func as fn\n",
    "import importlib\n",
    "importlib.reload(fn)"
   ],
   "metadata": {
    "collapsed": false,
    "pycharm": {
     "name": "#%%\n"
    }
   }
  },
  {
   "cell_type": "code",
   "execution_count": 26,
   "outputs": [],
   "source": [
    "# Load data\n",
    "pit = pd.read_csv('data/pit_stops.csv')\n",
    "results = pd.read_csv('data/results.csv')\n",
    "status = pd.read_csv('data/status.csv')\n",
    "lap = pd.read_csv(\"data/lap_times.csv\")"
   ],
   "metadata": {
    "collapsed": false,
    "pycharm": {
     "name": "#%%\n"
    }
   }
  },
  {
   "cell_type": "code",
   "execution_count": 27,
   "outputs": [],
   "source": [
    "# Process the data files\n",
    "merge_df = fn.merge_data([pit, results, status])\n",
    "merge_df = fn.process_data(merge_df)\n",
    "df_dict = fn.pit_stop_group(merge_df)"
   ],
   "metadata": {
    "collapsed": false,
    "pycharm": {
     "name": "#%%\n"
    }
   }
  },
  {
   "cell_type": "code",
   "execution_count": 28,
   "outputs": [],
   "source": [
    "df_front, df_back = fn.front_back_division(merge_df, top_num=5)"
   ],
   "metadata": {
    "collapsed": false,
    "pycharm": {
     "name": "#%%\n"
    }
   }
  },
  {
   "cell_type": "code",
   "execution_count": 31,
   "outputs": [],
   "source": [
    "def comparison_plot(list_1: [pd.DataFrame], list_2: [pd.DataFrame], select_col='lap_prop',\n",
    "                    show_mean=True, show_description=True, show_divide=True, non_para=False, save_fig=False):\n",
    "\n",
    "    bins = np.linspace(0, 1, 50)\n",
    "    color_bin = ['tab:blue', 'tab:orange', 'tab:red']\n",
    "    color_bin2 = ['deepskyblue', 'crimson', 'lavender']\n",
    "\n",
    "    plot_index = [[1, 1], [2, 1], [2, 2], [3, 1], [3, 2], [3, 3]]\n",
    "    plot_num = 6\n",
    "\n",
    "    for _i in range(plot_num):\n",
    "        _total = plot_index[_i][0]  # total pit stops\n",
    "        _pit = plot_index[_i][1]  # pit stop number\n",
    "        df_f = list_1[_i][select_col]  # front\n",
    "        df_b = resample(list_2[_i][select_col],\n",
    "                        replace=True, n_samples=len(df_f), random_state=123)  # back\n",
    "        # print('-' * 88)\n",
    "\n",
    "        df_f_mean = round(df_f.mean(), ndigits=3)\n",
    "        df_b_mean = round(df_b.mean(), ndigits=3)\n",
    "        if show_description:\n",
    "            if not non_para:\n",
    "                p_value = ttest_ind(df_f, df_b).pvalue\n",
    "            else:\n",
    "                p_value = mannwhitneyu(df_f, df_b).pvalue\n",
    "            print(f'Total Pits: {_total}, no.{_pit} pit, p value={p_value}')"
   ],
   "metadata": {
    "collapsed": false,
    "pycharm": {
     "name": "#%%\n"
    }
   }
  },
  {
   "cell_type": "code",
   "execution_count": 32,
   "outputs": [
    {
     "name": "stdout",
     "output_type": "stream",
     "text": [
      "Total Pits: 1, no.1 pit, p value=0.6120208311353951\n",
      "Total Pits: 2, no.1 pit, p value=0.06260995721012505\n",
      "Total Pits: 2, no.2 pit, p value=0.2175452218698461\n",
      "Total Pits: 3, no.1 pit, p value=0.045088810955493594\n",
      "Total Pits: 3, no.2 pit, p value=0.005040876100088418\n",
      "Total Pits: 3, no.3 pit, p value=0.0004646569255695769\n"
     ]
    }
   ],
   "source": [
    "comparison_plot(df_front,df_back)"
   ],
   "metadata": {
    "collapsed": false,
    "pycharm": {
     "name": "#%%\n"
    }
   }
  },
  {
   "cell_type": "code",
   "execution_count": 42,
   "outputs": [],
   "source": [
    "def avg_deviation_plot(list_1: [pd.DataFrame], list_2: [pd.DataFrame], save_fig=False):\n",
    "\n",
    "    bins = np.linspace(0, 1, 50)\n",
    "    color_bin = ['tab:blue', 'tab:orange', 'tab:red']\n",
    "    color_bin2 = ['deepskyblue', 'crimson', 'lavender']\n",
    "\n",
    "    num = len(list_1)\n",
    "    for i in range(num):\n",
    "        _df_front = list_1[i]['abs_deviation_mean']\n",
    "        _df_back = list_2[i]['abs_deviation_mean']\n",
    "\n",
    "        _df_back = resample(_df_back, replace=True, n_samples=len(_df_front), random_state=123)\n",
    "\n",
    "\n",
    "        _df_front_mean = round(_df_front.mean(), ndigits=3)\n",
    "        _df_back_mean = round(_df_back.mean(), ndigits=3)\n",
    "\n",
    "        sig_level = 0.05\n",
    "        p_value = mannwhitneyu(_df_front, _df_back).pvalue\n",
    "        print(f'Total Pit Stops = {i + 1}')\n",
    "        print(f'     Mann-Whitney U rank test p value={p_value}')\n",
    "\n",
    "        if p_value < sig_level:\n",
    "            print('     Means of Average Deviation - ')\n",
    "            print(f'        Higher Ranking: {_df_front_mean}, Lower Ranking: {_df_back_mean}')"
   ],
   "metadata": {
    "collapsed": false,
    "pycharm": {
     "name": "#%%\n"
    }
   }
  },
  {
   "cell_type": "code",
   "execution_count": 43,
   "outputs": [],
   "source": [
    "df_front, df_back = fn.front_back_division(merge_df, select_col='abs_deviation_mean', top_num=5)"
   ],
   "metadata": {
    "collapsed": false,
    "pycharm": {
     "name": "#%%\n"
    }
   }
  },
  {
   "cell_type": "code",
   "execution_count": 44,
   "outputs": [
    {
     "name": "stdout",
     "output_type": "stream",
     "text": [
      "Total Pit Stops = 1\n",
      "     Mann-Whitney U rank test p value=0.0026914155012888615\n",
      "     Means of Average Deviation - \n",
      "        Higher Ranking: 0.122, Lower Ranking: 0.147\n",
      "Total Pit Stops = 2\n",
      "     Mann-Whitney U rank test p value=0.006222420075629702\n",
      "     Means of Average Deviation - \n",
      "        Higher Ranking: 0.103, Lower Ranking: 0.118\n",
      "Total Pit Stops = 3\n",
      "     Mann-Whitney U rank test p value=0.02260220339545907\n",
      "     Means of Average Deviation - \n",
      "        Higher Ranking: 0.101, Lower Ranking: 0.121\n"
     ]
    }
   ],
   "source": [
    "avg_deviation_plot(df_front, df_back)"
   ],
   "metadata": {
    "collapsed": false,
    "pycharm": {
     "name": "#%%\n"
    }
   }
  },
  {
   "cell_type": "code",
   "execution_count": null,
   "outputs": [],
   "source": [],
   "metadata": {
    "collapsed": false,
    "pycharm": {
     "name": "#%%\n"
    }
   }
  }
 ],
 "metadata": {
  "kernelspec": {
   "display_name": "Python 3",
   "language": "python",
   "name": "python3"
  },
  "language_info": {
   "codemirror_mode": {
    "name": "ipython",
    "version": 2
   },
   "file_extension": ".py",
   "mimetype": "text/x-python",
   "name": "python",
   "nbconvert_exporter": "python",
   "pygments_lexer": "ipython2",
   "version": "2.7.6"
  }
 },
 "nbformat": 4,
 "nbformat_minor": 0
}
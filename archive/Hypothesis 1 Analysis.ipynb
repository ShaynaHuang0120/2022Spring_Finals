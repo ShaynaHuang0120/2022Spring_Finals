{
 "cells": [
  {
   "cell_type": "code",
   "execution_count": 58,
   "outputs": [],
   "source": [
    "import pandas as pd\n",
    "import numpy as np\n",
    "import re\n",
    "from typing import List\n",
    "import matplotlib.pyplot as plt\n",
    "from scipy.stats import ttest_ind\n",
    "from scipy.stats import mannwhitneyu\n",
    "from sklearn.utils import resample"
   ],
   "metadata": {
    "collapsed": false,
    "pycharm": {
     "name": "#%%\n"
    }
   }
  },
  {
   "cell_type": "code",
   "execution_count": 59,
   "outputs": [],
   "source": [
    "def merge_data(_df_list: List[pd.DataFrame]) -> pd.DataFrame:\n",
    "    \"\"\"\n",
    "    merges the dataframes according to their primary/foreign keys\n",
    "    :param _df_list: list of dataframes to be merged\n",
    "    :return: the merged dataframe\n",
    "    \"\"\"\n",
    "    # set up internal parameters\n",
    "    suffixes = ['_1', '_2']\n",
    "    r = re.compile('\\w*Id')\n",
    "\n",
    "    # set up variables based on input\n",
    "    num = len(_df_list)  # length of the list\n",
    "    to_select = list(range(1,num))  # list of indexes of dataframe to be merged\n",
    "    remaining = set(range(1,num))  # set of remaining indexes of dataframes yet to be merged\n",
    "\n",
    "    # get all the '<something>id' columns for each dataframe\n",
    "    id_list = [set(filter(r.match, table)) for table in _df_list]\n",
    "    # set up the merged dataframe, 'mg_df'\n",
    "    mg_df = _df_list[0]\n",
    "    mg_id = id_list[0]  # set the id set of the merged dataframe as the first dataframe's id set\n",
    "\n",
    "    # start merging dataframes\n",
    "    while True:\n",
    "        merge_flag = 0  # flag indicating if a while-true run has merged any new dataframe\n",
    "        for index in to_select:\n",
    "            intersect = mg_id.intersection(id_list[index])\n",
    "            all_col_intersect = set(mg_df.columns).intersection(set(_df_list[index].columns))\n",
    "            # iterate through the remaining dataframe\n",
    "            # and merge those with common id(s)\n",
    "            if (index in remaining) and intersect:\n",
    "                if all_col_intersect == intersect:\n",
    "                    mg_df = pd.merge(mg_df, _df_list[index], on=list(intersect), how='left')\n",
    "                else:\n",
    "                    # if there are other common columns than the ids, set suffixes\n",
    "                    mg_df = pd.merge(mg_df, _df_list[index], on=list(intersect), how='left', suffixes=suffixes)\n",
    "                # add the new ids into the total id set of the merged dataframe\n",
    "                mg_id = mg_id.union(set(id_list[index]))\n",
    "                remaining.remove(index)  # remove the index of the added dataframe\n",
    "                merge_flag = 1\n",
    "        if not remaining:\n",
    "            break  # break if there is no more dataframe to be added\n",
    "        if not merge_flag:  # if no new dataframe was merged in this while-true run\n",
    "            print('Error: no common \"id\" columns found')\n",
    "            break  # breaks\n",
    "    return mg_df\n",
    "\n",
    "\n",
    "def process_data(mg_df: pd.DataFrame, normal_status=True) -> pd.DataFrame:\n",
    "    \"\"\"\n",
    "    process the data for analysis:\n",
    "    1. filter normal status\n",
    "    2. add total laps for each record\n",
    "    3. add total pit stops for each record\n",
    "    4. calculate the proportion of lap when the driver pit for each pit record\n",
    "    5. calculate how far the lap proportion deviates from the ideal even distribution for each pit record\n",
    "    :param mg_df: the merged dataframe\n",
    "    :param normal_status: if filter the dataframe with records that are finished or +? laps away from the finished\n",
    "    :return: the processed dataframe\n",
    "    \"\"\"\n",
    "    # 1. filtering normal status\n",
    "    if normal_status:\n",
    "        _status_select = [1, 11, 12, 13, 14, 15, 16, 17, 18, 19]\n",
    "        mg_df.drop(mg_df[~mg_df['statusId'].isin(_status_select)].index, inplace=True)\n",
    "    # 2&3. add total laps & total pit stops for each record\n",
    "    _total_laps = mg_df[(mg_df['positionOrder'] == 1) & (mg_df['stop'] == 1)].reset_index(drop=True)[['raceId', 'laps']]\n",
    "    _total_laps.columns = [str(_total_laps.columns[0]), 'total_laps']\n",
    "    _total_stops = mg_df.groupby(by=['raceId', 'driverId'], as_index=False)['stop'].max()\n",
    "    _total_stops.columns = list(_total_stops.columns[:2]) + ['total_stops']\n",
    "    # 4. calculate the proportion of lap when the driver pit for each pit record\n",
    "    mg_df = pd.merge(mg_df, _total_laps, on='raceId')\n",
    "    mg_df = pd.merge(mg_df, _total_stops, on=['raceId', 'driverId'])\n",
    "    # 5. calculate how far the lap proportion deviates from the ideal even distribution for each pit record\n",
    "    mg_df['lap_prop'] = mg_df.apply(lambda x: x['lap']/x['total_laps'], axis=1)\n",
    "    mg_df['abs_err'] = mg_df.apply(lambda x: abs(x['stop']/(x['total_stops']+1) - x['lap_prop']), axis=1)\n",
    "    return mg_df\n",
    "\n",
    "\n",
    "def get_err_mean(mg_df: pd.DataFrame):\n",
    "    avg_err = pd.DataFrame(mg_df.groupby(['raceId', 'driverId'])['abs_err'].mean())\n",
    "    avg_err = avg_err.add_suffix('_mean').reset_index()\n",
    "    select_columns = ['raceId', 'driverId', 'positionOrder', 'abs_err_mean']\n",
    "    test_df = mg_df.merge(avg_err, on=['raceId', 'driverId'])[select_columns]\n",
    "    test_df = test_df.drop_duplicates()\n",
    "    top_number = 5\n",
    "    _df_front = test_df[test_df['positionOrder'] <= top_number]['abs_err_mean']\n",
    "    _df_back = test_df[test_df['positionOrder'] > top_number]['abs_err_mean']\n",
    "    return _df_front, _df_back\n",
    "\n",
    "\n",
    "def pit_stop_group(df: pd.DataFrame) -> dict:\n",
    "    \"\"\"\n",
    "    group the records by the total number of pit stops of each racing record\n",
    "    :param df: the merged and processed dataframe\n",
    "    :return: a dictionary with total pit numbers as keys and dataframe of records as values\n",
    "    \"\"\"\n",
    "    max_num = df['total_stops'].max()\n",
    "    _df_dict = {}\n",
    "    for i in range(1, max_num+1):\n",
    "        _df_dict[i] = df[df['total_stops']==i][['stop','positionOrder','lap_prop']]\n",
    "    return _df_dict\n",
    "\n",
    "\n",
    "def df_to_list(mg_df: pd.DataFrame, select_col='lap_prop', max_pit = 3, top_num = 5):\n",
    "    df_front = []\n",
    "    df_back = []\n",
    "    for i in range(1, max_pit+1):\n",
    "        df_tmp = mg_df[mg_df['total_stops']==i]\n",
    "        for j in range(1, i+1):\n",
    "            df_select = df_tmp[df_tmp['stop']==j]\n",
    "            df_front.append(df_select[df_select['positionOrder'] <= top_num][['stop', select_col]])\n",
    "            df_back.append(df_select[df_select['positionOrder'] > top_num][['stop', select_col]])\n",
    "    return df_front, df_back\n",
    "\n",
    "\n",
    "def comparison_plot(list_1: [pd.DataFrame], list_2: [pd.DataFrame], select_col='lap_prop',\n",
    "                    show_mean=True, show_description=True, divide=True, non_para=False, save_fig=False):\n",
    "    \"\"\"\n",
    "    d\n",
    "    :param non_para:\n",
    "    :param divide:\n",
    "    :param select_col:\n",
    "    :param list_1:\n",
    "    :param list_2:\n",
    "    :param save_fig:\n",
    "    :param show_description:\n",
    "    :param show_mean:\n",
    "    :return:\n",
    "    \"\"\"\n",
    "    bins = np.linspace(0,1,50)\n",
    "    color_bin = ['tab:blue', 'tab:orange', 'tab:red']\n",
    "    color_bin2 = ['deepskyblue', 'crimson', 'lavender']\n",
    "\n",
    "    plot_index = [[1,1], [2,1], [2,2], [3,1], [3,2], [3,3]]\n",
    "    plot_num = 6\n",
    "\n",
    "    for _i in range(plot_num):\n",
    "        _total = plot_index[_i][0]  # total pit stops\n",
    "        _pit = plot_index[_i][1]  # pit stop number\n",
    "        df_f = list_1[_i][select_col]  # front\n",
    "        df_b = resample(list_2[_i][select_col],\n",
    "                        replace=True, n_samples=len(df_f), random_state=123)  # back\n",
    "\n",
    "        plt.figure(figsize=(12,6))\n",
    "        plt.hist(df_b, bins, alpha=0.8, color=color_bin[2])\n",
    "        plt.hist(df_f, bins, alpha=0.8, color=color_bin[0])\n",
    "\n",
    "        df_f_mean = round(df_f.mean(), ndigits=3)\n",
    "        df_b_mean = round(df_b.mean(), ndigits=3)\n",
    "        if show_mean:\n",
    "            plt.axvline(x=df_f_mean, color=color_bin2[0], linewidth=4)\n",
    "            plt.axvline(x=df_b_mean, color=color_bin2[1], linewidth=4)\n",
    "            if divide: plt.axvline(x=_pit/(_total+1), color='gold', linewidth=4)\n",
    "        if show_description:\n",
    "            if not non_para:\n",
    "                p_value = ttest_ind(df_f, df_b).pvalue\n",
    "            else:\n",
    "                p_value = mannwhitneyu(df_f, df_b).pvalue\n",
    "            print(f'Total Pits: {_total}, no.{_pit} pit, p value={p_value}')\n",
    "\n",
    "        if save_fig: plt.savefig(f'image/hypo3/distribution_{_total}_{_pit}.png', transparent=False)\n",
    "        plt.show()\n",
    "\n",
    "\n",
    "def err_mean_plot(_df_front: pd.DataFrame, _df_back: pd.DataFrame, save_fig=False):\n",
    "    df_f = _df_front\n",
    "    df_b = resample(_df_back, replace=True, n_samples=len(df_f), random_state=123)\n",
    "\n",
    "    bins = np.linspace(0,1,50)\n",
    "    color_bin = ['tab:blue', 'tab:orange', 'tab:red']\n",
    "    color_bin2 = ['deepskyblue', 'crimson', 'lavender']\n",
    "\n",
    "    plt.figure(figsize=(12,6))\n",
    "    plt.hist(df_b, bins, alpha=0.8, color=color_bin[2])\n",
    "    plt.hist(df_f, bins, alpha=0.8, color=color_bin[0])\n",
    "\n",
    "    df_f_mean = round(df_f.mean(), ndigits=3)\n",
    "    df_b_mean = round(df_b.mean(), ndigits=3)\n",
    "\n",
    "    plt.axvline(x=df_f_mean, color=color_bin2[0], linewidth=4)\n",
    "    plt.axvline(x=df_b_mean, color=color_bin2[1], linewidth=4)\n",
    "\n",
    "    p_value = mannwhitneyu(df_f, df_b).pvalue\n",
    "    print(f'Mann-Whitney U rank test p value={p_value}')\n",
    "\n",
    "    if save_fig: plt.savefig(f'image/hypo3/err_mean.png', transparent=False)\n",
    "    plt.show()"
   ],
   "metadata": {
    "collapsed": false,
    "pycharm": {
     "name": "#%%\n"
    }
   }
  },
  {
   "cell_type": "code",
   "execution_count": 60,
   "outputs": [],
   "source": [
    "# Load data\n",
    "pit = pd.read_csv('data/pit_stops.csv')\n",
    "results = pd.read_csv('data/results.csv')\n",
    "status = pd.read_csv('data/status.csv')"
   ],
   "metadata": {
    "collapsed": false,
    "pycharm": {
     "name": "#%%\n"
    }
   }
  },
  {
   "cell_type": "code",
   "execution_count": 61,
   "outputs": [],
   "source": [
    "# Process the data files\n",
    "merge_df = merge_data([pit, results, status])\n",
    "merge_df = process_data(merge_df)\n",
    "df_dict = pit_stop_group(merge_df)"
   ],
   "metadata": {
    "collapsed": false,
    "pycharm": {
     "name": "#%%\n"
    }
   }
  },
  {
   "cell_type": "code",
   "execution_count": 62,
   "outputs": [],
   "source": [
    "rank_list = [df_dict[i]['positionOrder'] for i in range(1,4)]"
   ],
   "metadata": {
    "collapsed": false,
    "pycharm": {
     "name": "#%%\n"
    }
   }
  },
  {
   "cell_type": "code",
   "execution_count": 63,
   "outputs": [
    {
     "data": {
      "text/plain": "MannwhitneyuResult(statistic=1629878.5, pvalue=7.2111508478847934e-06)"
     },
     "execution_count": 63,
     "metadata": {},
     "output_type": "execute_result"
    }
   ],
   "source": [
    "mannwhitneyu(rank_list[0], rank_list[1])"
   ],
   "metadata": {
    "collapsed": false,
    "pycharm": {
     "name": "#%%\n"
    }
   }
  },
  {
   "cell_type": "code",
   "execution_count": 64,
   "outputs": [
    {
     "data": {
      "text/plain": "MannwhitneyuResult(statistic=1157671.5, pvalue=4.758075330042359e-19)"
     },
     "execution_count": 64,
     "metadata": {},
     "output_type": "execute_result"
    }
   ],
   "source": [
    "mannwhitneyu(rank_list[0], rank_list[2])"
   ],
   "metadata": {
    "collapsed": false,
    "pycharm": {
     "name": "#%%\n"
    }
   }
  },
  {
   "cell_type": "code",
   "execution_count": 65,
   "outputs": [
    {
     "data": {
      "text/plain": "MannwhitneyuResult(statistic=3285969.5, pvalue=1.3113144352403548e-09)"
     },
     "execution_count": 65,
     "metadata": {},
     "output_type": "execute_result"
    }
   ],
   "source": [
    "mannwhitneyu(rank_list[1], rank_list[2])"
   ],
   "metadata": {
    "collapsed": false,
    "pycharm": {
     "name": "#%%\n"
    }
   }
  },
  {
   "cell_type": "code",
   "execution_count": 66,
   "outputs": [
    {
     "data": {
      "text/plain": "8.521591871295513"
     },
     "execution_count": 66,
     "metadata": {},
     "output_type": "execute_result"
    }
   ],
   "source": [
    "rank_list[0].mean()"
   ],
   "metadata": {
    "collapsed": false,
    "pycharm": {
     "name": "#%%\n"
    }
   }
  },
  {
   "cell_type": "code",
   "execution_count": 67,
   "outputs": [
    {
     "data": {
      "text/plain": "9.334433806536811"
     },
     "execution_count": 67,
     "metadata": {},
     "output_type": "execute_result"
    }
   ],
   "source": [
    "rank_list[1].mean()"
   ],
   "metadata": {
    "collapsed": false,
    "pycharm": {
     "name": "#%%\n"
    }
   }
  },
  {
   "cell_type": "code",
   "execution_count": 68,
   "outputs": [
    {
     "data": {
      "text/plain": "10.248853689037098"
     },
     "execution_count": 68,
     "metadata": {},
     "output_type": "execute_result"
    }
   ],
   "source": [
    "rank_list[2].mean()"
   ],
   "metadata": {
    "collapsed": false,
    "pycharm": {
     "name": "#%%\n"
    }
   }
  }
 ],
 "metadata": {
  "kernelspec": {
   "display_name": "Python 3",
   "language": "python",
   "name": "python3"
  },
  "language_info": {
   "codemirror_mode": {
    "name": "ipython",
    "version": 2
   },
   "file_extension": ".py",
   "mimetype": "text/x-python",
   "name": "python",
   "nbconvert_exporter": "python",
   "pygments_lexer": "ipython2",
   "version": "2.7.6"
  }
 },
 "nbformat": 4,
 "nbformat_minor": 0
}
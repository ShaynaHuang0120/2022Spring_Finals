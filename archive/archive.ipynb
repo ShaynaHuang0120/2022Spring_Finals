{
 "cells": [
  {
   "cell_type": "code",
   "execution_count": null,
   "outputs": [],
   "source": [
    "import pandas as pd\n",
    "import numpy as np\n",
    "import re\n",
    "from typing import List"
   ],
   "metadata": {
    "collapsed": false,
    "pycharm": {
     "name": "#%%\n"
    }
   }
  },
  {
   "cell_type": "code",
   "execution_count": null,
   "metadata": {
    "collapsed": true
   },
   "outputs": [],
   "source": [
    "def merge_tables(_pit: pd.DataFrame, _results: pd.DataFrame, _status: pd.DataFrame) -> pd.DataFrame:\n",
    "    \"\"\"\n",
    "    merges the data files\n",
    "    :param _pit:\n",
    "    :param _results:\n",
    "    :param _status:\n",
    "    :return:\n",
    "    \"\"\"\n",
    "    _select_col = ['raceId','driverId','positionOrder', 'laps', 'time','statusId']\n",
    "    mg_df = pd.merge(_pit, _results[_select_col], on=['raceId','driverId'], how = 'left', suffixes=('_pit', '_result'))\n",
    "    mg_df = pd.merge(mg_df, _status, on='statusId', how='left')\n",
    "\n",
    "    _status_select = [1, 11, 12, 13, 14, 15, 16, 17, 18, 19]\n",
    "    mg_df.drop(mg_df[~mg_df['statusId'].isin(_status_select)].index, inplace=True)\n",
    "    return mg_df"
   ]
  },
  {
   "cell_type": "code",
   "execution_count": null,
   "outputs": [],
   "source": [
    "def process_laps_stops(mg_df: pd.DataFrame) -> pd.DataFrame:\n",
    "    _total_laps = mg_df[(mg_df['positionOrder'] == 1) & (mg_df['stop'] == 1)].reset_index(drop=True)[['raceId', 'laps']]\n",
    "    _total_laps.columns = [str(_total_laps.columns[0]), 'total_laps']\n",
    "    _total_stops = mg_df.groupby(by=['raceId', 'driverId'], as_index=False)['stop'].max()\n",
    "    _total_stops.columns = list(_total_stops.columns[:2]) + ['total_stops']\n",
    "\n",
    "    mg_df = pd.merge(mg_df, _total_laps, on='raceId')\n",
    "    mg_df = pd.merge(mg_df, _total_stops, on=['raceId', 'driverId'])\n",
    "    mg_df['lap_prop'] = mg_df.apply(lambda x: x['lap']/x['total_laps'], axis=1)\n",
    "    mg_df['abs_err'] = mg_df.apply(lambda x: abs(x['stop']/(x['total_stops']+1) - x['lap_prop']), axis=1)\n",
    "    return mg_df"
   ],
   "metadata": {
    "collapsed": false,
    "pycharm": {
     "name": "#%%\n"
    }
   }
  },
  {
   "cell_type": "code",
   "execution_count": null,
   "outputs": [],
   "source": [
    "def group_by_stop_num(df: pd.DataFrame) -> dict:\n",
    "    pit_stop_max = df['total_stops'].max()\n",
    "    _df_dict = {}\n",
    "    for i in range(1, pit_stop_max+1):\n",
    "        _df_dict[i] = df[df['total_stops']==i][['stop','positionOrder','lap_prop']]\n",
    "    return _df_dict"
   ],
   "metadata": {
    "collapsed": false,
    "pycharm": {
     "name": "#%%\n"
    }
   }
  }
 ],
 "metadata": {
  "kernelspec": {
   "display_name": "Python 3",
   "language": "python",
   "name": "python3"
  },
  "language_info": {
   "codemirror_mode": {
    "name": "ipython",
    "version": 2
   },
   "file_extension": ".py",
   "mimetype": "text/x-python",
   "name": "python",
   "nbconvert_exporter": "python",
   "pygments_lexer": "ipython2",
   "version": "2.7.6"
  }
 },
 "nbformat": 4,
 "nbformat_minor": 0
}
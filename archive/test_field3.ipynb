{
 "cells": [
  {
   "cell_type": "markdown",
   "source": [
    "# Test Field"
   ],
   "metadata": {
    "collapsed": false,
    "pycharm": {
     "name": "#%% md\n"
    }
   }
  },
  {
   "cell_type": "code",
   "execution_count": 1,
   "metadata": {
    "collapsed": true
   },
   "outputs": [],
   "source": [
    "import datetime\n",
    "import re\n",
    "from typing import List\n",
    "\n",
    "import pandas as pd\n",
    "import numpy as np\n",
    "import matplotlib.pyplot as plt\n",
    "\n",
    "from scipy.stats import ttest_ind\n",
    "from scipy.stats import mannwhitneyu\n",
    "from sklearn.utils import resample"
   ]
  },
  {
   "cell_type": "code",
   "execution_count": 2,
   "outputs": [
    {
     "data": {
      "text/plain": "<module 'final_func' from '/Users/andrewmo/Documents/Docs - Jupiter/Projects/Class Individuals/2022Spring_Finals/final_func.py'>"
     },
     "execution_count": 2,
     "metadata": {},
     "output_type": "execute_result"
    }
   ],
   "source": [
    "import final_func as fn\n",
    "import importlib\n",
    "importlib.reload(fn)"
   ],
   "metadata": {
    "collapsed": false,
    "pycharm": {
     "name": "#%%\n"
    }
   }
  },
  {
   "cell_type": "code",
   "execution_count": 3,
   "outputs": [],
   "source": [
    "# Load data\n",
    "pit = pd.read_csv('data/pit_stops.csv')\n",
    "results = pd.read_csv('data/results.csv')\n",
    "status = pd.read_csv('data/status.csv')\n",
    "lap = pd.read_csv(\"data/lap_times.csv\")"
   ],
   "metadata": {
    "collapsed": false,
    "pycharm": {
     "name": "#%%\n"
    }
   }
  },
  {
   "cell_type": "code",
   "execution_count": 4,
   "outputs": [],
   "source": [
    "# Process the data files\n",
    "merge_df = fn.merge_data([pit, results, status])\n",
    "merge_df = fn.process_data(merge_df)\n",
    "df_dict = fn.pit_stop_group(merge_df)"
   ],
   "metadata": {
    "collapsed": false,
    "pycharm": {
     "name": "#%%\n"
    }
   }
  },
  {
   "cell_type": "code",
   "execution_count": 5,
   "outputs": [],
   "source": [
    "lap_df =fn.lap_data_process(results, lap)"
   ],
   "metadata": {
    "collapsed": false,
    "pycharm": {
     "name": "#%%\n"
    }
   }
  },
  {
   "cell_type": "code",
   "execution_count": 6,
   "outputs": [
    {
     "data": {
      "text/plain": "        raceId  driverId  lap  position      time  milliseconds\n0          841        20    1         1  1:38.109         98109\n1          841        20    2         1  1:33.006         93006\n2          841        20    3         1  1:32.713         92713\n3          841        20    4         1  1:32.803         92803\n4          841        20    5         1  1:32.342         92342\n...        ...       ...  ...       ...       ...           ...\n517568    1076       848   54         7  1:22.589         82589\n517569    1076       848   55         7  1:22.758         82758\n517570    1076       848   56         7  1:22.658         82658\n517571    1076       848   57         9  1:38.438         98438\n517572    1076       848   58        10  1:27.465         87465\n\n[517573 rows x 6 columns]",
      "text/html": "<div>\n<style scoped>\n    .dataframe tbody tr th:only-of-type {\n        vertical-align: middle;\n    }\n\n    .dataframe tbody tr th {\n        vertical-align: top;\n    }\n\n    .dataframe thead th {\n        text-align: right;\n    }\n</style>\n<table border=\"1\" class=\"dataframe\">\n  <thead>\n    <tr style=\"text-align: right;\">\n      <th></th>\n      <th>raceId</th>\n      <th>driverId</th>\n      <th>lap</th>\n      <th>position</th>\n      <th>time</th>\n      <th>milliseconds</th>\n    </tr>\n  </thead>\n  <tbody>\n    <tr>\n      <th>0</th>\n      <td>841</td>\n      <td>20</td>\n      <td>1</td>\n      <td>1</td>\n      <td>1:38.109</td>\n      <td>98109</td>\n    </tr>\n    <tr>\n      <th>1</th>\n      <td>841</td>\n      <td>20</td>\n      <td>2</td>\n      <td>1</td>\n      <td>1:33.006</td>\n      <td>93006</td>\n    </tr>\n    <tr>\n      <th>2</th>\n      <td>841</td>\n      <td>20</td>\n      <td>3</td>\n      <td>1</td>\n      <td>1:32.713</td>\n      <td>92713</td>\n    </tr>\n    <tr>\n      <th>3</th>\n      <td>841</td>\n      <td>20</td>\n      <td>4</td>\n      <td>1</td>\n      <td>1:32.803</td>\n      <td>92803</td>\n    </tr>\n    <tr>\n      <th>4</th>\n      <td>841</td>\n      <td>20</td>\n      <td>5</td>\n      <td>1</td>\n      <td>1:32.342</td>\n      <td>92342</td>\n    </tr>\n    <tr>\n      <th>...</th>\n      <td>...</td>\n      <td>...</td>\n      <td>...</td>\n      <td>...</td>\n      <td>...</td>\n      <td>...</td>\n    </tr>\n    <tr>\n      <th>517568</th>\n      <td>1076</td>\n      <td>848</td>\n      <td>54</td>\n      <td>7</td>\n      <td>1:22.589</td>\n      <td>82589</td>\n    </tr>\n    <tr>\n      <th>517569</th>\n      <td>1076</td>\n      <td>848</td>\n      <td>55</td>\n      <td>7</td>\n      <td>1:22.758</td>\n      <td>82758</td>\n    </tr>\n    <tr>\n      <th>517570</th>\n      <td>1076</td>\n      <td>848</td>\n      <td>56</td>\n      <td>7</td>\n      <td>1:22.658</td>\n      <td>82658</td>\n    </tr>\n    <tr>\n      <th>517571</th>\n      <td>1076</td>\n      <td>848</td>\n      <td>57</td>\n      <td>9</td>\n      <td>1:38.438</td>\n      <td>98438</td>\n    </tr>\n    <tr>\n      <th>517572</th>\n      <td>1076</td>\n      <td>848</td>\n      <td>58</td>\n      <td>10</td>\n      <td>1:27.465</td>\n      <td>87465</td>\n    </tr>\n  </tbody>\n</table>\n<p>517573 rows × 6 columns</p>\n</div>"
     },
     "execution_count": 6,
     "metadata": {},
     "output_type": "execute_result"
    }
   ],
   "source": [
    "lap"
   ],
   "metadata": {
    "collapsed": false,
    "pycharm": {
     "name": "#%%\n"
    }
   }
  },
  {
   "cell_type": "code",
   "execution_count": null,
   "outputs": [],
   "source": [],
   "metadata": {
    "collapsed": false,
    "pycharm": {
     "name": "#%%\n"
    }
   }
  }
 ],
 "metadata": {
  "kernelspec": {
   "display_name": "Python 3",
   "language": "python",
   "name": "python3"
  },
  "language_info": {
   "codemirror_mode": {
    "name": "ipython",
    "version": 2
   },
   "file_extension": ".py",
   "mimetype": "text/x-python",
   "name": "python",
   "nbconvert_exporter": "python",
   "pygments_lexer": "ipython2",
   "version": "2.7.6"
  }
 },
 "nbformat": 4,
 "nbformat_minor": 0
}